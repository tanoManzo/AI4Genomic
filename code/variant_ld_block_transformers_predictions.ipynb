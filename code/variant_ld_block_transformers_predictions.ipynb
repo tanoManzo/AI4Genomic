{
  "cells": [
    {
      "cell_type": "markdown",
      "metadata": {
        "id": "ETro9oX0g4kH"
      },
      "source": [
        "#### Installation"
      ]
    },
    {
      "cell_type": "code",
      "execution_count": 1,
      "metadata": {},
      "outputs": [],
      "source": [
        "#!pip install git+https://www.github.com/huggingface/transformers\n",
        "#!pip install git+https://github.com/huggingface/accelerate\n",
        "#!pip install bitsandbytes\n",
        "#!pip install einops\n",
        "#!pip install --upgrade torch torchvision\n",
        "#!pip install scikit-learn\n",
        "#!pip install matplotlib\n",
        "#!pip install datasets\n",
        "#!pip install Bio\n",
        "#!pip install pybedtools\n",
        "#!pip install tabulate\n"
      ]
    },
    {
      "cell_type": "markdown",
      "metadata": {
        "id": "I320YzvVg4kF"
      },
      "source": [
        "### Libraries (some in utility_fuction.py)"
      ]
    },
    {
      "cell_type": "code",
      "execution_count": 2,
      "metadata": {
        "id": "7jNiPHkIg4kI"
      },
      "outputs": [
        {
          "name": "stderr",
          "output_type": "stream",
          "text": [
            "2025-01-06 06:02:01.215893: E external/local_xla/xla/stream_executor/cuda/cuda_dnn.cc:9261] Unable to register cuDNN factory: Attempting to register factory for plugin cuDNN when one has already been registered\n",
            "2025-01-06 06:02:01.215970: E external/local_xla/xla/stream_executor/cuda/cuda_fft.cc:607] Unable to register cuFFT factory: Attempting to register factory for plugin cuFFT when one has already been registered\n",
            "2025-01-06 06:02:01.347385: E external/local_xla/xla/stream_executor/cuda/cuda_blas.cc:1515] Unable to register cuBLAS factory: Attempting to register factory for plugin cuBLAS when one has already been registered\n",
            "2025-01-06 06:02:01.642304: I tensorflow/core/platform/cpu_feature_guard.cc:182] This TensorFlow binary is optimized to use available CPU instructions in performance-critical operations.\n",
            "To enable the following instructions: AVX2 FMA, in other operations, rebuild TensorFlow with the appropriate compiler flags.\n",
            "2025-01-06 06:02:06.005274: W tensorflow/compiler/tf2tensorrt/utils/py_utils.cc:38] TF-TRT Warning: Could not find TensorRT\n"
          ]
        }
      ],
      "source": [
        "# Hugging Face Datasets library\n",
        "from datasets import load_dataset, Dataset\n",
        "\n",
        "# Scikit-learn for evaluation and data splitting\n",
        "from sklearn import metrics\n",
        "from sklearn.model_selection import train_test_split\n",
        "\n",
        "# Biopython for sequence processing\n",
        "from Bio import SeqIO\n",
        "\n",
        "# PyBedTools for genomic interval manipulation\n",
        "from pybedtools import BedTool\n",
        "\n",
        "# Data analysis and scientific computation\n",
        "import pandas as pd\n",
        "import numpy as np\n",
        "import scipy.stats as stats\n",
        "\n",
        "# PyTorch for deep learning\n",
        "import torch\n",
        "from torch import nn\n",
        "\n",
        "# Visualization libraries\n",
        "import matplotlib.pyplot as plt\n",
        "import seaborn as sns\n",
        "\n",
        "# Utilities and external libraries\n",
        "import os\n",
        "import pickle\n",
        "import genopyc\n",
        "import utility_functions as uf # Custom utility functions for loading models/tokenizers, datasets from the experiments\n",
        "\n",
        "from concurrent.futures import ThreadPoolExecutor\n",
        "import time\n",
        "\n",
        "# Configure Seaborn for better plotting aesthetics\n",
        "sns.set()"
      ]
    },
    {
      "cell_type": "markdown",
      "metadata": {},
      "source": [
        "### Parameters (load models for prediction)"
      ]
    },
    {
      "cell_type": "code",
      "execution_count": 3,
      "metadata": {},
      "outputs": [],
      "source": [
        "# model name from huggingface.co/model name_id:model_name\n",
        "models_names = [\n",
        " 'dnabert2',\n",
        " 'nucleotide-transformer-v2-50m-multi-species',\n",
        " 'nucleotide-transformer-v2-100m-multi-species',\n",
        " 'nucleotide-transformer-v2-250m-multi-species',\n",
        " 'nucleotide-transformer-v2-500m-multi-species',\n",
        " 'nucleotide-transformer-500m-1000g',\n",
        " 'nucleotide-transformer-500m-human-ref',\n",
        " 'nucleotide-transformer-2.5b-1000g',\n",
        " 'nucleotide-transformer-2.5b-multi-species',\n",
        " 'Geneformer',\n",
        " 'gena-lm-bert-base-t2t',\n",
        " 'gena-lm-bert-large-t2t',\n",
        " 'gena-lm-bert-base-t2t-multi',\n",
        " 'gena-lm-bigbird-base-t2t',\n",
        " 'hyenadna-small-32k-seqlen-hf',\n",
        " 'hyenadna-medium-160k-seqlen-hf',\n",
        " 'hyenadna-medium-450k-seqlen-hf',\n",
        " 'hyenadna-large-1m-seqlen-hf'\n",
        " ]\n",
        "\n",
        "# type of fine-tuned\n",
        "ft_model_type = '1kbpHG19_DHSs_H3K27AC'\n",
        "\n",
        "# samples for fine-tuning\n",
        "#'BioS2'=Hela, 'BioS45'=neural progenitor cell, 'BioS73'=hepg2, 'BioS74'=k562\n",
        "bios_ids = ['BioS2', 'BioS45', 'BioS73', 'BioS74']\n",
        "\n",
        "# load chrom2seq hg38 and hg19\n",
        "with open(f'/data/Dcode/gaetano/repos/AI4Genomic/data/chrom2seqHG38.pkl', \"rb\") as pickle_file:\n",
        "    chrom2seqHG38 = pickle.load(pickle_file)    \n",
        "\n",
        "with open(f'/data/Dcode/gaetano/repos/AI4Genomic/data/chrom2seqHG19.pkl', \"rb\") as pickle_file:\n",
        "    chrom2seqHG19 = pickle.load(pickle_file)"
      ]
    },
    {
      "cell_type": "markdown",
      "metadata": {},
      "source": [
        "## Main"
      ]
    },
    {
      "cell_type": "markdown",
      "metadata": {},
      "source": [
        "#### Load experiment dataset"
      ]
    },
    {
      "cell_type": "code",
      "execution_count": 4,
      "metadata": {},
      "outputs": [
        {
          "data": {
            "text/html": [
              "<div>\n",
              "<style scoped>\n",
              "    .dataframe tbody tr th:only-of-type {\n",
              "        vertical-align: middle;\n",
              "    }\n",
              "\n",
              "    .dataframe tbody tr th {\n",
              "        vertical-align: top;\n",
              "    }\n",
              "\n",
              "    .dataframe thead th {\n",
              "        text-align: right;\n",
              "    }\n",
              "</style>\n",
              "<table border=\"1\" class=\"dataframe\">\n",
              "  <thead>\n",
              "    <tr style=\"text-align: right;\">\n",
              "      <th></th>\n",
              "      <th>name</th>\n",
              "      <th>path</th>\n",
              "      <th>hg type</th>\n",
              "      <th>#samples</th>\n",
              "      <th>cell line</th>\n",
              "      <th>study</th>\n",
              "      <th>resource</th>\n",
              "      <th>BioS</th>\n",
              "      <th>type_data</th>\n",
              "    </tr>\n",
              "  </thead>\n",
              "  <tbody>\n",
              "    <tr>\n",
              "      <th>0</th>\n",
              "      <td>k562.sign.id.LP190708.txt</td>\n",
              "      <td>/data/Dcode/gaetano/repos/AI4Genomic/data/raQT...</td>\n",
              "      <td>hg19</td>\n",
              "      <td>19237</td>\n",
              "      <td>k562</td>\n",
              "      <td>PMID: 31253979</td>\n",
              "      <td>https://osf.io/6y9td/</td>\n",
              "      <td>BioS74</td>\n",
              "      <td>raQTL</td>\n",
              "    </tr>\n",
              "    <tr>\n",
              "      <th>1</th>\n",
              "      <td>hepg2.sign.id.LP190708.txt</td>\n",
              "      <td>/data/Dcode/gaetano/repos/AI4Genomic/data/raQT...</td>\n",
              "      <td>hg19</td>\n",
              "      <td>14183</td>\n",
              "      <td>hepg2</td>\n",
              "      <td>PMID: 31253979</td>\n",
              "      <td>https://osf.io/6y9td/</td>\n",
              "      <td>BioS73</td>\n",
              "      <td>raQTL</td>\n",
              "    </tr>\n",
              "    <tr>\n",
              "      <th>2</th>\n",
              "      <td>SORT1.csv</td>\n",
              "      <td>/data/Dcode/gaetano/repos/AI4Genomic/data/mpra...</td>\n",
              "      <td>hg38</td>\n",
              "      <td>1789</td>\n",
              "      <td>hepg2</td>\n",
              "      <td>PMID: 31395865</td>\n",
              "      <td>https://pavlopoulos-lab.org/shinyapps/app/mpra...</td>\n",
              "      <td>BioS73</td>\n",
              "      <td>mpra</td>\n",
              "    </tr>\n",
              "    <tr>\n",
              "      <th>3</th>\n",
              "      <td>GSE87711.csv</td>\n",
              "      <td>/data/Dcode/gaetano/repos/AI4Genomic/data/mpra...</td>\n",
              "      <td>hg19</td>\n",
              "      <td>84</td>\n",
              "      <td>k562</td>\n",
              "      <td>PMID: 27259154</td>\n",
              "      <td>paper Sup. Mat.</td>\n",
              "      <td>BioS74</td>\n",
              "      <td>mpra</td>\n",
              "    </tr>\n",
              "    <tr>\n",
              "      <th>4</th>\n",
              "      <td>GSE68331_SNP.csv</td>\n",
              "      <td>/data/Dcode/gaetano/repos/AI4Genomic/data/mpra...</td>\n",
              "      <td>hg19</td>\n",
              "      <td>283</td>\n",
              "      <td>hepg2</td>\n",
              "      <td>PMID: 26084464</td>\n",
              "      <td>paper Sup. Mat.</td>\n",
              "      <td>BioS73</td>\n",
              "      <td>mpra</td>\n",
              "    </tr>\n",
              "    <tr>\n",
              "      <th>5</th>\n",
              "      <td>NPC_SNP.csv</td>\n",
              "      <td>/data/Dcode/gaetano/repos/AI4Genomic/data/mpra...</td>\n",
              "      <td>hg19</td>\n",
              "      <td>14042</td>\n",
              "      <td>NPC</td>\n",
              "      <td>PMID: 33885362</td>\n",
              "      <td>paper Sup. Mat.</td>\n",
              "      <td>BioS45</td>\n",
              "      <td>mpra</td>\n",
              "    </tr>\n",
              "    <tr>\n",
              "      <th>6</th>\n",
              "      <td>Hela_TRAF3IP2.csv</td>\n",
              "      <td>/data/Dcode/gaetano/repos/AI4Genomic/data/mpra...</td>\n",
              "      <td>hg19</td>\n",
              "      <td>1962</td>\n",
              "      <td>Hela</td>\n",
              "      <td>PMID: 25340400</td>\n",
              "      <td>paper Sup. Mat.</td>\n",
              "      <td>BioS2</td>\n",
              "      <td>mpra</td>\n",
              "    </tr>\n",
              "    <tr>\n",
              "      <th>7</th>\n",
              "      <td>Hela_PPARG.csv</td>\n",
              "      <td>/data/Dcode/gaetano/repos/AI4Genomic/data/mpra...</td>\n",
              "      <td>hg19</td>\n",
              "      <td>1614</td>\n",
              "      <td>Hela</td>\n",
              "      <td>PMID: 25340400</td>\n",
              "      <td>paper Sup. Mat.</td>\n",
              "      <td>BioS2</td>\n",
              "      <td>mpra</td>\n",
              "    </tr>\n",
              "    <tr>\n",
              "      <th>8</th>\n",
              "      <td>Hela_SORL1.csv</td>\n",
              "      <td>/data/Dcode/gaetano/repos/AI4Genomic/data/mpra...</td>\n",
              "      <td>hg19</td>\n",
              "      <td>1665</td>\n",
              "      <td>Hela</td>\n",
              "      <td>PMID: 25340400</td>\n",
              "      <td>paper Sup. Mat.</td>\n",
              "      <td>BioS2</td>\n",
              "      <td>mpra</td>\n",
              "    </tr>\n",
              "  </tbody>\n",
              "</table>\n",
              "</div>"
            ],
            "text/plain": [
              "                         name  \\\n",
              "0   k562.sign.id.LP190708.txt   \n",
              "1  hepg2.sign.id.LP190708.txt   \n",
              "2                   SORT1.csv   \n",
              "3                GSE87711.csv   \n",
              "4            GSE68331_SNP.csv   \n",
              "5                 NPC_SNP.csv   \n",
              "6           Hela_TRAF3IP2.csv   \n",
              "7              Hela_PPARG.csv   \n",
              "8              Hela_SORL1.csv   \n",
              "\n",
              "                                                path hg type  #samples  \\\n",
              "0  /data/Dcode/gaetano/repos/AI4Genomic/data/raQT...    hg19     19237   \n",
              "1  /data/Dcode/gaetano/repos/AI4Genomic/data/raQT...    hg19     14183   \n",
              "2  /data/Dcode/gaetano/repos/AI4Genomic/data/mpra...    hg38      1789   \n",
              "3  /data/Dcode/gaetano/repos/AI4Genomic/data/mpra...    hg19        84   \n",
              "4  /data/Dcode/gaetano/repos/AI4Genomic/data/mpra...    hg19       283   \n",
              "5  /data/Dcode/gaetano/repos/AI4Genomic/data/mpra...    hg19     14042   \n",
              "6  /data/Dcode/gaetano/repos/AI4Genomic/data/mpra...    hg19      1962   \n",
              "7  /data/Dcode/gaetano/repos/AI4Genomic/data/mpra...    hg19      1614   \n",
              "8  /data/Dcode/gaetano/repos/AI4Genomic/data/mpra...    hg19      1665   \n",
              "\n",
              "  cell line           study  \\\n",
              "0      k562  PMID: 31253979   \n",
              "1     hepg2  PMID: 31253979   \n",
              "2     hepg2  PMID: 31395865   \n",
              "3      k562  PMID: 27259154   \n",
              "4     hepg2  PMID: 26084464   \n",
              "5       NPC  PMID: 33885362   \n",
              "6      Hela  PMID: 25340400   \n",
              "7      Hela  PMID: 25340400   \n",
              "8      Hela  PMID: 25340400   \n",
              "\n",
              "                                            resource    BioS type_data  \n",
              "0                              https://osf.io/6y9td/  BioS74     raQTL  \n",
              "1                              https://osf.io/6y9td/  BioS73     raQTL  \n",
              "2  https://pavlopoulos-lab.org/shinyapps/app/mpra...  BioS73      mpra  \n",
              "3                                    paper Sup. Mat.  BioS74      mpra  \n",
              "4                                    paper Sup. Mat.  BioS73      mpra  \n",
              "5                                    paper Sup. Mat.  BioS45      mpra  \n",
              "6                                    paper Sup. Mat.   BioS2      mpra  \n",
              "7                                    paper Sup. Mat.   BioS2      mpra  \n",
              "8                                    paper Sup. Mat.   BioS2      mpra  "
            ]
          },
          "execution_count": 4,
          "metadata": {},
          "output_type": "execute_result"
        }
      ],
      "source": [
        "data_to_source = pd.read_csv('/data/Dcode/gaetano/repos/AI4Genomic/data/data_mutagenesis_curated.csv')\n",
        "data_to_source"
      ]
    },
    {
      "cell_type": "markdown",
      "metadata": {},
      "source": [
        "### preprocess experimental dataset"
      ]
    },
    {
      "cell_type": "code",
      "execution_count": 5,
      "metadata": {},
      "outputs": [
        {
          "name": "stdout",
          "output_type": "stream",
          "text": [
            "raQTL k562.sign.id.LP190708.txt\n"
          ]
        },
        {
          "data": {
            "text/html": [
              "<div>\n",
              "<style scoped>\n",
              "    .dataframe tbody tr th:only-of-type {\n",
              "        vertical-align: middle;\n",
              "    }\n",
              "\n",
              "    .dataframe tbody tr th {\n",
              "        vertical-align: top;\n",
              "    }\n",
              "\n",
              "    .dataframe thead th {\n",
              "        text-align: right;\n",
              "    }\n",
              "</style>\n",
              "<table border=\"1\" class=\"dataframe\">\n",
              "  <thead>\n",
              "    <tr style=\"text-align: right;\">\n",
              "      <th></th>\n",
              "      <th>Chromosome</th>\n",
              "      <th>Position</th>\n",
              "      <th>Reference</th>\n",
              "      <th>Alternative</th>\n",
              "      <th>SNP_id</th>\n",
              "      <th>Value_Ratio</th>\n",
              "      <th>Value_Diff</th>\n",
              "      <th>Value_Pvalue_signed</th>\n",
              "      <th>P_value</th>\n",
              "    </tr>\n",
              "  </thead>\n",
              "  <tbody>\n",
              "    <tr>\n",
              "      <th>0</th>\n",
              "      <td>chr5</td>\n",
              "      <td>1559341</td>\n",
              "      <td>T</td>\n",
              "      <td>C</td>\n",
              "      <td>rs10056572</td>\n",
              "      <td>22.284285</td>\n",
              "      <td>10.881131</td>\n",
              "      <td>32.692414</td>\n",
              "      <td>2.030421e-33</td>\n",
              "    </tr>\n",
              "    <tr>\n",
              "      <th>1</th>\n",
              "      <td>chr18</td>\n",
              "      <td>68919785</td>\n",
              "      <td>C</td>\n",
              "      <td>G</td>\n",
              "      <td>rs991512</td>\n",
              "      <td>0.052253</td>\n",
              "      <td>-56.034510</td>\n",
              "      <td>-32.141415</td>\n",
              "      <td>7.220797e-33</td>\n",
              "    </tr>\n",
              "    <tr>\n",
              "      <th>2</th>\n",
              "      <td>chr14</td>\n",
              "      <td>89393045</td>\n",
              "      <td>G</td>\n",
              "      <td>A</td>\n",
              "      <td>rs7156067</td>\n",
              "      <td>0.112420</td>\n",
              "      <td>-7.943033</td>\n",
              "      <td>-30.536830</td>\n",
              "      <td>2.905157e-31</td>\n",
              "    </tr>\n",
              "    <tr>\n",
              "      <th>3</th>\n",
              "      <td>chr4</td>\n",
              "      <td>59436721</td>\n",
              "      <td>T</td>\n",
              "      <td>C</td>\n",
              "      <td>rs1605769</td>\n",
              "      <td>15.647984</td>\n",
              "      <td>14.122534</td>\n",
              "      <td>30.526140</td>\n",
              "      <td>2.977554e-31</td>\n",
              "    </tr>\n",
              "    <tr>\n",
              "      <th>4</th>\n",
              "      <td>chr14</td>\n",
              "      <td>72218104</td>\n",
              "      <td>A</td>\n",
              "      <td>G</td>\n",
              "      <td>rs1204985</td>\n",
              "      <td>0.059336</td>\n",
              "      <td>-22.123020</td>\n",
              "      <td>-28.740874</td>\n",
              "      <td>1.816043e-29</td>\n",
              "    </tr>\n",
              "    <tr>\n",
              "      <th>...</th>\n",
              "      <td>...</td>\n",
              "      <td>...</td>\n",
              "      <td>...</td>\n",
              "      <td>...</td>\n",
              "      <td>...</td>\n",
              "      <td>...</td>\n",
              "      <td>...</td>\n",
              "      <td>...</td>\n",
              "      <td>...</td>\n",
              "    </tr>\n",
              "    <tr>\n",
              "      <th>19232</th>\n",
              "      <td>chr6</td>\n",
              "      <td>141445279</td>\n",
              "      <td>G</td>\n",
              "      <td>C</td>\n",
              "      <td>rs1488530</td>\n",
              "      <td>0.729299</td>\n",
              "      <td>-1.963231</td>\n",
              "      <td>-2.208381</td>\n",
              "      <td>6.188983e-03</td>\n",
              "    </tr>\n",
              "    <tr>\n",
              "      <th>19233</th>\n",
              "      <td>chr6</td>\n",
              "      <td>164613457</td>\n",
              "      <td>C</td>\n",
              "      <td>T</td>\n",
              "      <td>rs1034447</td>\n",
              "      <td>0.509704</td>\n",
              "      <td>-3.379048</td>\n",
              "      <td>-2.208293</td>\n",
              "      <td>6.190229e-03</td>\n",
              "    </tr>\n",
              "    <tr>\n",
              "      <th>19234</th>\n",
              "      <td>chr8</td>\n",
              "      <td>39801184</td>\n",
              "      <td>G</td>\n",
              "      <td>A</td>\n",
              "      <td>rs6983467</td>\n",
              "      <td>2.539078</td>\n",
              "      <td>9.126143</td>\n",
              "      <td>2.208282</td>\n",
              "      <td>6.190392e-03</td>\n",
              "    </tr>\n",
              "    <tr>\n",
              "      <th>19235</th>\n",
              "      <td>chr1</td>\n",
              "      <td>81050437</td>\n",
              "      <td>C</td>\n",
              "      <td>A</td>\n",
              "      <td>rs7535894</td>\n",
              "      <td>1.563135</td>\n",
              "      <td>1.754667</td>\n",
              "      <td>2.208235</td>\n",
              "      <td>6.191056e-03</td>\n",
              "    </tr>\n",
              "    <tr>\n",
              "      <th>19236</th>\n",
              "      <td>chr4</td>\n",
              "      <td>68132467</td>\n",
              "      <td>G</td>\n",
              "      <td>T</td>\n",
              "      <td>rs1371857</td>\n",
              "      <td>3.699671</td>\n",
              "      <td>4.259509</td>\n",
              "      <td>2.208119</td>\n",
              "      <td>6.192715e-03</td>\n",
              "    </tr>\n",
              "  </tbody>\n",
              "</table>\n",
              "<p>19237 rows × 9 columns</p>\n",
              "</div>"
            ],
            "text/plain": [
              "      Chromosome   Position Reference Alternative      SNP_id  Value_Ratio  \\\n",
              "0           chr5    1559341         T           C  rs10056572    22.284285   \n",
              "1          chr18   68919785         C           G    rs991512     0.052253   \n",
              "2          chr14   89393045         G           A   rs7156067     0.112420   \n",
              "3           chr4   59436721         T           C   rs1605769    15.647984   \n",
              "4          chr14   72218104         A           G   rs1204985     0.059336   \n",
              "...          ...        ...       ...         ...         ...          ...   \n",
              "19232       chr6  141445279         G           C   rs1488530     0.729299   \n",
              "19233       chr6  164613457         C           T   rs1034447     0.509704   \n",
              "19234       chr8   39801184         G           A   rs6983467     2.539078   \n",
              "19235       chr1   81050437         C           A   rs7535894     1.563135   \n",
              "19236       chr4   68132467         G           T   rs1371857     3.699671   \n",
              "\n",
              "       Value_Diff  Value_Pvalue_signed       P_value  \n",
              "0       10.881131            32.692414  2.030421e-33  \n",
              "1      -56.034510           -32.141415  7.220797e-33  \n",
              "2       -7.943033           -30.536830  2.905157e-31  \n",
              "3       14.122534            30.526140  2.977554e-31  \n",
              "4      -22.123020           -28.740874  1.816043e-29  \n",
              "...           ...                  ...           ...  \n",
              "19232   -1.963231            -2.208381  6.188983e-03  \n",
              "19233   -3.379048            -2.208293  6.190229e-03  \n",
              "19234    9.126143             2.208282  6.190392e-03  \n",
              "19235    1.754667             2.208235  6.191056e-03  \n",
              "19236    4.259509             2.208119  6.192715e-03  \n",
              "\n",
              "[19237 rows x 9 columns]"
            ]
          },
          "execution_count": 5,
          "metadata": {},
          "output_type": "execute_result"
        }
      ],
      "source": [
        "idx = 0\n",
        "data_ = data_to_source.iloc[idx]\n",
        "\n",
        "# extract from dataset\n",
        "dataset_df = uf.data_preprocessing_experimental_result(data_['type_data'], data_['name'], data_['path'])\n",
        "print(data_['type_data'], data_['name'])\n",
        "dataset_df"
      ]
    },
    {
      "cell_type": "markdown",
      "metadata": {},
      "source": [
        "### get LD block for each SNP (R>0.8)"
      ]
    },
    {
      "cell_type": "code",
      "execution_count": 6,
      "metadata": {},
      "outputs": [
        {
          "name": "stdout",
          "output_type": "stream",
          "text": [
            "ERROR: Bad Request:\n",
            "{\"error\":\"Could not fetch variation object for id: ss1388066072.\"}\n",
            "ERROR: Bad Request:\n",
            "{\"error\":\"Could not fetch variation object for id: ss1388066073.\"}\n",
            "ERROR: Bad Request:\n",
            "{\"error\":\"Could not fetch variation object for id: ss1388102049.\"}\n",
            "ERROR: Bad Request:\n",
            "{\"error\":\"Could not fetch variation object for id: ss1388038198.\"}\n",
            "ERROR: Bad Request:\n",
            "{\"error\":\"Could not fetch variation object for id: ss1388078240.\"}\n",
            "ERROR: Bad Request:\n",
            "{\"error\":\"Could not fetch variation object for id: ss1388056631.\"}\n",
            "ERROR: Bad Request:\n",
            "{\"error\":\"Could not fetch variation object for id: ss1388074547.\"}\n",
            "ERROR: Bad Request:\n",
            "{\"error\":\"Could not fetch variation object for id: ss1388078237.\"}\n",
            "ERROR: Bad Request:\n",
            "{\"error\":\"Could not fetch variation object for id: rs4073650.\"}\n",
            "ERROR: Bad Request:\n",
            "{\"error\":\"Could not fetch variation object for id: ss1388046876.\"}\n",
            "ERROR: Bad Request:\n",
            "{\"error\":\"Could not fetch variation object for id: ss1388073770.\"}\n",
            "ERROR: Bad Request:\n",
            "{\"error\":\"Could not fetch variation object for id: rs587741971.\"}\n",
            "ERROR: Bad Request:\n",
            "{\"error\":\"Could not fetch variation object for id: ss1388078242.\"}\n",
            "ERROR: Bad Request:\n",
            "{\"error\":\"Could not fetch variation object for id: ss1388046880.\"}\n",
            "ERROR: Bad Request:\n",
            "{\"error\":\"Could not fetch variation object for id: ss1388078234.\"}\n",
            "ERROR: Bad Request:\n",
            "{\"error\":\"Could not fetch variation object for id: ss1388111415.\"}\n",
            "ERROR: Bad Request:\n",
            "{\"error\":\"Could not fetch variation object for id: ss1388036333.\"}\n",
            "ERROR: Bad Request:\n",
            "{\"error\":\"Could not fetch variation object for id: ss1388088331.\"}\n",
            "ERROR: Bad Request:\n",
            "{\"error\":\"Could not fetch variation object for id: rs78764484.\"}\n",
            "ERROR: Bad Request:\n",
            "{\"error\":\"Could not fetch variation object for id: ss1388102036.\"}\n",
            "ERROR: Bad Request:\n",
            "{\"error\":\"Could not fetch variation object for id: ss1388060212.\"}\n",
            "ERROR: Bad Request:\n",
            "{\"error\":\"Could not fetch variation object for id: rs28661771.\"}\n",
            "ERROR: Bad Request:\n",
            "{\"error\":\"Could not fetch variation object for id: ss1388066035.\"}\n",
            "ERROR: Bad Request:\n",
            "{\"error\":\"Could not fetch variation object for id: ss1388030263.\"}\n",
            "ERROR: Bad Request:\n",
            "{\"error\":\"Could not retrieve a variation feature.\"}\n",
            "ERROR: Bad Request:\n",
            "{\"error\":\"Could not fetch variation object for id: rs112618588.\"}\n",
            "ERROR: Bad Request:\n",
            "{\"error\":\"Could not fetch variation object for id: ss1388053595.\"}\n",
            "ERROR: Bad Request:\n",
            "{\"error\":\"Could not fetch variation object for id: ss1388030262.\"}\n",
            "ERROR: Bad Request:\n",
            "{\"error\":\"Could not fetch variation object for id: rs112730878.\"}\n",
            "ERROR: Bad Request:\n",
            "{\"error\":\"Could not fetch variation object for id: rs28757674.\"}\n",
            "Error: HTTPSConnectionPool(host='rest.ensembl.org', port=443): Max retries exceeded with url: /ld/human/rs7763726/1000GENOMES:phase_3:EUR?r2=0.8 (Caused by ProxyError('Unable to connect to proxy', OSError('Tunnel connection failed: 503 Service Unavailable')))\n",
            "ERROR: Bad Request:\n",
            "{\"error\":\"Could not fetch variation object for id: ss1388114064.\"}\n",
            "ERROR: Bad Request:\n",
            "{\"error\":\"Could not fetch variation object for id: ss1388045798.\"}\n",
            "ERROR: Bad Request:\n",
            "{\"error\":\"Could not fetch variation object for id: ss1388078230.\"}\n",
            "ERROR: Bad Request:\n",
            "{\"error\":\"Could not fetch variation object for id: rs13259792.\"}\n",
            "ERROR: Bad Request:\n",
            "{\"error\":\"Could not fetch variation object for id: ss1388066871.\"}\n",
            "ERROR: Bad Request:\n",
            "{\"error\":\"Could not fetch variation object for id: ss1388025494.\"}\n",
            "ERROR: Bad Request:\n",
            "{\"error\":\"Could not fetch variation object for id: ss1388028815.\"}\n",
            "ERROR: Bad Request:\n",
            "{\"error\":\"Could not fetch variation object for id: ss1388036295.\"}\n",
            "ERROR: Bad Request:\n",
            "{\"error\":\"Could not fetch variation object for id: ss1388078978.\"}\n",
            "ERROR: Bad Request:\n",
            "{\"error\":\"Could not fetch variation object for id: ss1388027630.\"}\n",
            "ERROR: Bad Request:\n",
            "{\"error\":\"Could not fetch variation object for id: rs67844603.\"}\n",
            "ERROR: Bad Request:\n",
            "{\"error\":\"Could not fetch variation object for id: rs587622770.\"}\n",
            "ERROR: Bad Request:\n",
            "{\"error\":\"Could not fetch variation object for id: ss1388062337.\"}\n",
            "ERROR: Bad Request:\n",
            "{\"error\":\"Could not fetch variation object for id: ss1388071393.\"}\n",
            "ERROR: Bad Request:\n",
            "{\"error\":\"Could not fetch variation object for id: ss1388114063.\"}\n",
            "ERROR: Bad Request:\n",
            "{\"error\":\"Could not fetch variation object for id: ss1388056980.\"}\n",
            "ERROR: Bad Request:\n",
            "{\"error\":\"Could not fetch variation object for id: ss1388070084.\"}\n",
            "ERROR: Bad Request:\n",
            "{\"error\":\"Could not fetch variation object for id: ss1388025489.\"}\n",
            "ERROR: Bad Request:\n",
            "{\"error\":\"Could not fetch variation object for id: ss1388057125.\"}\n",
            "ERROR: Bad Request:\n",
            "{\"error\":\"Could not fetch variation object for id: ss1388052763.\"}\n",
            "ERROR: Bad Request:\n",
            "{\"error\":\"Could not fetch variation object for id: ss1388030261.\"}\n",
            "Error: HTTPSConnectionPool(host='rest.ensembl.org', port=443): Max retries exceeded with url: /ld/human/rs4621877/1000GENOMES:phase_3:EUR?r2=0.8 (Caused by ProxyError('Unable to connect to proxy', OSError('Tunnel connection failed: 503 Service Unavailable')))\n",
            "ERROR: Bad Request:\n",
            "{\"error\":\"Could not fetch variation object for id: ss1388111091.\"}\n",
            "ERROR: Bad Request:\n",
            "{\"error\":\"Could not fetch variation object for id: ss1388025487.\"}\n",
            "ERROR: Bad Request:\n",
            "{\"error\":\"Could not fetch variation object for id: ss1388071405.\"}\n",
            "ERROR: Bad Request:\n",
            "{\"error\":\"Could not fetch variation object for id: rs112049306.\"}\n",
            "ERROR: Bad Request:\n",
            "{\"error\":\"Could not fetch variation object for id: ss1388099796.\"}\n",
            "ERROR: Bad Request:\n",
            "{\"error\":\"Could not fetch variation object for id: ss1388078977.\"}\n",
            "ERROR: Bad Request:\n",
            "{\"error\":\"Could not fetch variation object for id: ss1388101546.\"}\n",
            "Error: HTTPSConnectionPool(host='rest.ensembl.org', port=443): Max retries exceeded with url: /ld/human/rs55665637/1000GENOMES:phase_3:EUR?r2=0.8 (Caused by ProxyError('Unable to connect to proxy', OSError('Tunnel connection failed: 503 Service Unavailable')))\n",
            "ERROR: Bad Request:\n",
            "{\"error\":\"Could not fetch variation object for id: ss1388066854.\"}\n"
          ]
        },
        {
          "data": {
            "text/plain": [
              "dict_keys(['rs10056572', 'rs991512', 'rs7156067', 'rs1605769', 'rs1204985', 'rs117788163', 'rs5758951', 'rs7495131', 'rs12302520', 'rs8017153', 'rs1957777', 'rs73551757', 'rs1858929', 'rs6732307', 'rs332669', 'rs12463108', 'rs11737139', 'rs1639945', 'rs148668002', 'rs182822', 'rs1916027', 'rs59759655', 'rs7784142', 'rs565902955', 'rs4814799', 'rs4923818', 'rs73653456', 'rs78995987', 'rs12899345', 'rs443623', 'rs60146234', 'rs2349075', 'rs1377374', 'rs16912908', 'rs1399241', 'rs28550024', 'rs12925824', 'rs73551756', 'rs2330578', 'rs12827804', 'rs1851307', 'rs150080959', 'rs7872857', 'rs10409076', 'rs10415333', 'rs12632163', 'rs10938319', 'rs2153531', 'rs3852061', 'rs62466605', 'rs73073006', 'rs1475740', 'rs10773052', 'rs880033', 'rs7329291', 'rs12939076', 'rs400824', 'rs1781800', 'rs7115896', 'rs6657320', 'rs7303735', 'rs12662316', 'rs17235982', 'rs2263342', 'rs2793674', 'rs10904052', 'rs62451633', 'rs636494', 'rs3748136', 'rs7116006', 'rs1841941', 'rs3864109', 'rs6830311', 'rs2032312', 'rs62416572', 'rs6713869', 'rs1854306', 'rs6564554', 'rs6751743', 'rs2395807', 'rs6589089', 'rs1016666', 'rs312676', 'rs72864501', 'rs2967126', 'rs7073544', 'rs11851620', 'rs10180537', 'rs1834289', 'rs62416570', 'rs11738792', 'rs12947653', 'rs2338882', 'rs4726501', 'rs57214277', 'rs8101703', 'rs11811518', 'rs6905636', 'rs72833932', 'rs4852921', 'rs7237217', 'rs4402502', 'rs62416571', 'rs6912155', 'rs12677840', 'rs2467943', 'rs7166587', 'rs3777615', 'rs12445045', 'rs9933260', 'rs4456869', 'rs1554330', 'rs10850585', 'rs59218613', 'rs56884030', 'rs1036493', 'rs10269258', 'rs6832065', 'rs4777715', 'rs1728637', 'rs73603692', 'rs6127649', 'rs7603198', 'rs11705864', 'rs6739165', 'rs13098408', 'rs5749793', 'rs10817411', 'rs12265701', 'rs11237579', 'rs6761287', 'rs34880730', 'rs2266159', 'rs71510603', 'rs7167538', 'rs30249', 'rs12204240', 'rs6702947', 'rs2316024', 'rs8092372', 'rs1641207', 'rs1786743', 'rs7231203', 'rs638405', 'rs60383444', 'rs726596', 'rs10789897', 'rs4366858', 'rs12684356', 'rs2092635', 'rs6789600', 'rs4974372', 'rs1824370', 'rs4292955', 'rs11882781', 'rs9896353', 'rs6843274', 'rs1985372', 'rs12587583', 'rs1445122', 'rs12684378', 'rs2298590', 'rs7251644', 'rs62366648', 'rs10122521', 'rs518471', 'rs6103292', 'rs868521', 'rs1004571', 'rs12956633', 'rs1321276', 'rs174386', 'rs4875337', 'rs12692571', 'rs10427000', 'rs34301357', 'rs10133795', 'rs174385', 'rs4810922', 'rs1608803', 'rs3755363', 'rs3124329', 'rs12033699', 'rs436839', 'rs12303540', 'rs2521692', 'rs9868618', 'rs4800677', 'rs4706004', 'rs4331885', 'rs6456224', 'rs6013158', 'rs174384', 'rs1113577', 'rs55852990', 'rs6141639', 'rs1526180', 'rs12253712', 'rs2792781', 'rs2608069', 'rs139883129', 'rs112344154', 'rs2216198', 'rs10836035', 'rs28368508', 'rs58591737', 'rs308353', 'rs6569072', 'rs196798', 'rs649129', 'rs2822520', 'rs7086244', 'rs10806398', 'rs4074590', 'rs12470409', 'rs77444518', 'rs324370', 'rs1318787', 'rs761906', 'rs4904165', 'rs9548197', 'rs6778170', 'rs7791840', 'rs13235450', 'rs2689146', 'rs12902452', 'rs13215066', 'rs72962599', 'rs58293302', 'rs186306', 'rs10951668', 'rs11075613', 'rs13007333', 'rs4275446', 'rs10124022', 'rs4344738', 'rs2092636', 'rs5766946', 'rs6911975', 'rs7182263', 'rs292750', 'rs2419833', 'rs9313674', 'rs117568876', 'rs4332427', 'rs10787365', 'rs6862856', 'rs551162642', 'rs13023666', 'rs10758481', 'rs625025', 'rs28736481', 'rs533605444', 'rs1012409', 'rs5753191', 'rs225400', 'rs16905916', 'rs551775028', 'rs2113509', 'rs35376225', 'rs7164093', 'rs12681832', 'rs9609676', 'rs1805040', 'rs609722', 'rs113414967', 'rs11979976', 'rs2419832', 'rs34844235', 'rs9896587', 'rs243559', 'rs1466990', 'rs2394838', 'rs200944', 'rs17433481', 'rs6103293', 'rs11222213', 'rs146887196', 'rs140036947', 'rs11118844', 'rs2595437', 'rs567684', 'rs57072935', 'rs73337598', 'rs569374785', 'rs4324127', 'rs9276815', 'rs4923314', 'rs4244816', 'rs77277929', 'rs900519', 'rs12903151', 'rs61960056', 'rs12990594', 'rs10964182', 'rs10208831', 'rs7603080', 'rs4818910', 'rs338358', 'rs11908807', 'rs2741803', 'rs8043088', 'rs113590591', 'rs1034919', 'rs11120927', 'rs34075942', 'rs9483919', 'rs1904782', 'rs7679856', 'rs11126435', 'rs36003603', 'rs275233', 'rs6897263', 'rs1473601', 'rs7562146', 'rs55852676', 'rs2013382', 'rs12192765', 'rs75472359', 'rs4771784', 'rs929285', 'rs2242496', 'rs3846908', 'rs2882987', 'rs10183437', 'rs6950079', 'rs10850584', 'rs10074938', 'rs3132614', 'rs228097', 'rs60645999', 'rs1480699', 'rs73022038', 'rs59869617', 'rs11759456', 'rs6108255', 'rs4603962', 'rs12206120', 'rs13184426', 'rs4794299', 'rs62377054', 'rs7603066', 'rs9342671', 'rs35913057', 'rs34824230', 'rs5961857', 'rs12990170', 'rs7079620', 'rs2840075', 'rs11059755', 'rs13078360', 'rs1788443', 'rs4548086', 'rs6807986', 'rs143783940', 'rs6736070', 'rs16919508', 'rs2501453', 'rs2407658', 'rs4773465', 'rs10865594', 'rs4805583', 'rs12303484', 'rs57037476', 'rs61329403', 'rs2289279', 'rs11788787', 'rs73501194', 'rs56258464', 'rs6589088', 'rs7855405', 'rs11953364', 'rs6501166', 'rs4686309', 'rs12476938', 'rs8031876', 'rs16834127', 'rs378487', 'rs12589205', 'rs7069703', 'rs1928113', 'rs62377053', 'rs12449169', 'rs7039093', 'rs1133878', 'rs2246356', 'rs8141684', 'rs7879087', 'rs2276418', 'rs1595901', 'rs1466991', 'rs728075', 'rs7092481', 'rs13419763', 'rs1639948', 'rs1293740', 'rs56066414', 'rs936928', 'rs2166631', 'rs6767340', 'rs4865286', 'rs2716954', 'rs275232', 'rs10937302', 'rs4764238', 'rs7080579', 'rs6451461', 'rs4832769', 'rs7680613', 'rs2350114', 'rs362645', 'rs6064714', 'rs6665796', 'rs56133500', 'rs1641206', 'rs11944566', 'rs79991765', 'rs2897727', 'rs11984985', 'rs10829035', 'rs4918835', 'rs1854400', 'rs73221410', 'rs73214277', 'rs34449737', 'rs356641', 'rs62184673', 'rs62541884', 'rs3747323', 'rs9848150', 'rs3859916', 'rs2940693', 'rs7029950', 'rs73438031', 'rs9620702', 'rs2127494', 'rs10997820', 'rs28734871', 'rs7998122', 'rs640369', 'rs1108521', 'rs149056810', 'rs76214230', 'rs279880', 'rs7122286', 'rs72789210', 'rs5962112', 'rs12662329', 'rs112553958', 'rs4619932', 'rs79599700', 'rs11741663', 'rs880140', 'rs7636385', 'rs6035719', 'rs13382420', 'rs34554019', 'rs654106', 'rs2130728', 'rs1506744', 'rs7456147', 'rs7807816', 'rs4924338', 'rs12655598', 'rs12046411', 'rs301807', 'rs2178785', 'rs2775196', 'rs75712827', 'rs12500887', 'rs1809933', 'rs10886442', 'rs75841915', 'rs7807159', 'rs4942313', 'rs113089853', 'rs4701853', 'rs7841171', 'rs117131535', 'rs948027', 'rs3740120', 'rs4903139', 'rs2911023', 'rs6574686', 'rs1945647', 'rs913047', 'rs10956754', 'rs118182858', 'rs1241917', 'rs8032153', 'rs7946742', 'rs8039593', 'rs77157393', 'rs5769347', 'rs4577818', 'rs58625590', 'rs112837675', 'rs10095977', 'rs10494166', 'rs5961681', 'rs5961682', 'rs1108522', 'rs2904270', 'rs17516498', 'rs7034471', 'rs7231208', 'rs9516053', 'rs4684613', 'rs1018439', 'rs4878130', 'rs11260964', 'rs61783850', 'rs6027532', 'rs11855127', 'rs74188115', 'rs145027477', 'rs11016138', 'rs213281', 'rs2352546', 'rs4275447', 'rs4706783', 'rs4941494', 'rs11863594', 'rs113361156', 'rs2395805', 'rs6007981', 'rs10990743', 'rs72986485', 'rs424001', 'rs79485588', 'rs6712946', 'rs336043', 'rs75906039', 'rs6419067', 'rs12489987', 'rs2834453', 'rs2430634', 'rs418740', 'rs79943430', 'rs73402437', 'rs35727', 'rs4903138', 'rs11679829', 'rs718850', 'rs2275868', 'rs7898263', 'rs7915761', 'rs9613349', 'rs4133338', 'rs11648233', 'rs56206830', 'rs4910983', 'rs5754366', 'rs7846760', 'rs146521031', 'rs11969765', 'rs12237222', 'rs1641205', 'rs16880624', 'rs727048', 'rs149675', 'rs34106026', 'rs2973819', 'rs1843728', 'rs12296399', 'rs4666569', 'rs7207327', 'rs4566347', 'rs11603124', 'rs12985827', 'rs10792783', 'rs3118754', 'rs28582201', 'rs885997', 'rs7498509', 'rs509041', 'rs12546606', 'rs6530772', 'rs1256592', 'rs4264604', 'rs482317', 'rs2105426', 'rs7581102', 'rs948028', 'rs1506117', 'rs6108845', 'rs10488581', 'rs885368', 'rs2075964', 'rs60986604', 'rs2465209', 'rs2993201', 'rs12416583', 'rs117309434', 'rs11673591', 'rs8076740', 'rs9532865', 'rs17883887', 'rs111796407', 'rs10434448', 'rs2250343', 'rs28636686', 'rs12554574', 'rs28649280', 'rs1016110', 'rs145819550', 'rs6597216', 'rs1854398', 'rs12704317', 'rs7302734', 'rs885998', 'rs8064076', 'rs79557438', 'rs4779050', 'rs28624879', 'rs137907270', 'rs2476768', 'rs17772527', 'rs12788208', 'rs113096354', 'rs12678229', 'rs72663776', 'rs79961184', 'rs12590764', 'rs34053371', 'rs799796', 'rs2890808', 'rs13141670', 'rs6523433', 'rs28603129', 'rs57102294', 'rs7976591', 'rs554546310', 'rs2270845', 'rs11829392', 'rs8067369', 'rs10862063', 'rs7785143', 'rs9289069', 'rs12429081', 'rs11741621', 'rs34015387', 'rs11766656', 'rs17033540', 'rs9833170', 'rs581999', 'rs1248880', 'rs6042362', 'rs10862062', 'rs11674772', 'rs1407990', 'rs1877714', 'rs11242436', 'rs2029564', 'rs2947361', 'rs7790932', 'rs9895370', 'rs11805439', 'rs8074195', 'rs141116823', 'rs10862064', 'rs58516558', 'rs8035900', 'rs12439947', 'rs727982', 'rs1689558', 'rs4352676', 'rs4246558', 'rs10434710', 'rs4506100', 'rs10979341', 'rs275234', 'rs1506116', 'rs10798500', 'rs4245080', 'rs786278', 'rs13010804', 'rs4810923', 'rs7963759', 'rs9935310', 'rs10502673', 'rs10014615', 'rs11714177', 'rs748145', 'rs113361590', 'rs7334047', 'rs3181227', 'rs12550405', 'rs7042441', 'rs6969705', 'rs398206', 'rs17231843', 'rs77956269', 'rs12692346', 'rs2039092', 'rs7097650', 'rs1414564', 'rs8126856', 'rs734542', 'rs7019210', 'rs2897726', 'rs77178642', 'rs13243542', 'rs449285', 'rs6504285', 'rs10817410', 'rs11575221', 'rs3771278', 'rs2437897', 'rs115257136', 'rs7236214', 'rs12751747', 'rs56115816', 'rs292010', 'rs4795331', 'rs1520332', 'rs6833368', 'rs2792780', 'rs1854399', 'rs79507659', 'rs7258627', 'rs3894652', 'rs861051', 'rs12859161', 'rs11244662', 'rs667897', 'rs4953262', 'rs2094871', 'rs40169', 'rs338359', 'rs28657835', 'rs2911884', 'rs9930946', 'rs10951456', 'rs4314794', 'rs618699', 'rs73692453', 'rs4493263', 'rs4913299', 'rs17673576', 'rs873458', 'rs11168981', 'rs11244663', 'rs2032313', 'rs1114839', 'rs112543699', 'rs4237069', 'rs111350061', 'rs369074316', 'rs1642688', 'rs6673360', 'rs12439181', 'rs12539584', 'rs2832312', 'rs4796982', 'rs250137', 'rs2977126', 'rs35682399', 'rs9909699', 'rs454027', 'rs17813864', 'rs2271355', 'rs1427084', 'rs1293525', 'rs9365339', 'rs1597555', 'rs3104149', 'rs1909335', 'rs149451178', 'rs1353115', 'rs6123281', 'rs8064086', 'rs5915703', 'rs9966275', 'rs2422699', 'rs6713521', 'rs111241924', 'rs12228365', 'rs78477236', 'rs1294405', 'rs7020287', 'rs61055299', 'rs28505692', 'rs3771280', 'rs1738265', 'rs480', 'rs3863195', 'rs13263522', 'rs12882712', 'rs570874', 'rs12150256', 'rs3128776', 'rs61081847', 'rs12518514', 'rs1982784', 'rs508360', 'rs6538501', 'rs9613350', 'rs17348910', 'rs61968996', 'rs2012406', 'rs10938146', 'rs10270122', 'rs6721141', 'rs661545', 'rs2280922', 'rs1625020', 'rs7790529', 'rs56186551', 'rs12671115', 'rs2855754', 'rs10779918', 'rs34628617', 'rs1319029', 'rs4364707', 'rs35742506', 'rs10040197', 'rs12500824', 'rs2095889', 'rs3926389', 'rs4126475', 'rs6875729', 'rs2036133', 'rs62132497', 'rs10862061', 'rs4865285', 'rs74553637', 'rs6805175', 'rs8073346', 'rs162761', 'rs10197158', 'rs2914926', 'rs6936581', 'rs12550620', 'rs75870431', 'rs12621862', 'rs7513257', 'rs154865', 'rs28624784', 'rs4748071', 'rs7601269', 'rs12228364', 'rs4282138', 'rs2652787', 'rs2303225', 'rs10750181', 'rs62041688', 'rs7078699', 'rs2865796', 'rs76015023', 'rs16830673', 'rs75830085', 'rs10796266', 'rs1889540', 'rs11656122', 'rs7994209', 'rs12711595', 'rs1874321', 'rs12261323', 'rs6008327', 'rs9933238', 'rs12489909', 'rs1766176', 'rs12150252', 'rs7514622', 'rs12612312', 'rs1520331', 'rs13276970', 'rs11592712', 'rs7559150', 'rs6103291', 'rs28693647', 'rs1322228', 'rs78404763', 'rs4911271', 'rs116930637', 'rs2729819', 'rs4075927', 'rs721120', 'rs10050372', 'rs2794860', 'rs12968953', 'rs4794798', 'rs1356334', 'rs1989284', 'rs1334590', 'rs2780869', 'rs4932284', 'rs2364552', 'rs60991889', 'rs58158625', 'rs3863196', 'rs35590214', 'rs2278410', 'rs2102176', 'rs1333610', 'rs6747398', 'rs146591016', 'rs4920579', 'rs12266384', 'rs34175211', 'rs798389', 'rs12958375', 'rs4234065', 'rs4147517', 'rs10870596', 'rs4592213', 'rs7276106', 'rs76902009', 'rs693164', 'rs56391253', 'rs73370497', 'rs11940535', 'rs10951598', 'rs147844300', 'rs337019', 'rs6938497', 'rs4905988', 'rs2716190', 'rs6745759', 'rs1738264', 'rs9638804', 'rs6449930', 'rs7342740', 'rs1387261', 'rs139253211', 'rs9992779', 'rs1338472', 'rs4310544', 'rs12735239', 'rs7127720', 'rs212854', 'rs35428087', 'rs61340601', 'rs10163829', 'rs4919463', 'rs599270', 'rs4336098', 'rs73186289', 'rs78153535', 'rs7966700', 'rs62253963', 'rs4739500', 'rs2782918', 'rs2342837', 'rs7608996', 'rs959247', 'rs7663287', 'rs8115822', 'rs1541061', 'rs11982', 'rs12956340', 'rs4880136', 'rs11558800', 'rs11892051', 'rs5962114', 'rs1834430', 'rs57499521', 'rs76731791', 'rs4704098', 'rs6413419', 'rs4787312', 'rs3731854', 'rs10005641', 'rs13201167', 'rs3888908', 'rs115778573', 'rs59072591', 'rs7517044', 'rs8049448', 'rs131101', 'rs884367', 'rs7899604', 'rs2069229', 'rs12947830', 'rs35014209', 'rs3746820', 'rs75551677', 'rs4965464', 'rs10876394', 'rs28636066', 'rs3923955', 'rs4569819', 'rs9909701', 'rs62254296', 'rs12490507', 'rs78884266', 'rs2096061', 'rs73260125', 'rs10026166', 'rs2042058', 'rs12638009', 'rs3018522', 'rs6091531', 'rs57740853', 'rs28637892', 'rs6709734', 'rs955117', 'rs196652', 'rs2169918', 'rs11676393', 'rs12214063', 'rs6467995', 'rs11860382', 'rs11131128', 'rs4920580', 'rs34943122', 'rs2240424', 'rs58043003', 'rs7670351', 'rs60828240', 'rs7659094', 'rs13164510', 'rs74079240', 'rs142048896', 'rs6132654', 'rs4929830', 'rs11166910', 'rs298043', 'rs78492779', 'rs138285210', 'rs300811', 'rs114296573', 'rs2211836', 'rs5009021', 'rs9358956', 'rs1967308', 'rs7992475', 'rs1356320', 'rs1971184', 'rs34653170', 'rs1828654', 'rs2889120', 'rs2073329', 'rs928169', 'rs56922219', 'rs56012501', 'rs10760207', 'rs6064800', 'rs155580', 'rs75145666', 'rs1854966', 'rs2871574', 'rs6051809', 'rs3905107', 'rs12195633', 'rs1431770', 'rs4492461', 'rs1904781', 'rs4547587', 'rs73166569', 'rs4664396', 'rs28403907', 'rs12672767', 'rs28847749', 'rs67484540', 'rs10949220', 'rs11057601', 'rs9348724', 'rs2695951', 'rs140815059', 'rs13091348', 'rs6574687', 'rs5962111', 'rs4523151', 'rs6791198', 'rs821646', 'rs4140783', 'rs17433501', 'rs72850803', 'rs4110893', 'rs10047091', 'rs1041846', 'rs1851812', 'rs10170774', 'rs9347566', 'rs12708213', 'rs4506692', 'rs77249224', 'rs11139680', 'rs4785366', 'rs76531162', 'rs231196', 'rs57056068', 'rs2700421', 'rs364825', 'rs5026184', 'rs6766659', 'rs6917101', 'rs61968997', 'rs2814778', 'rs8112951', 'rs28881311', 'rs56051831', 'rs6949978', 'rs322435', 'rs12885582', 'rs2063972', 'rs315322', 'rs17031337', 'rs11993776', 'rs4608509', 'rs76733984', 'rs12993700', 'rs7876783', 'rs2093638', 'rs6496095', 'rs10867234', 'rs13123216', 'rs4548559', 'rs7189117', 'rs58297067', 'rs6911024', 'rs6497682', 'rs6484183', 'rs11675574', 'rs55914019', 'rs10012919', 'rs60078861', 'rs7791889', 'rs6677372', 'rs117939109', 'rs117320357', 'rs11069041', 'rs7833092', 'rs4748072', 'rs4799272', 'rs200832416', 'rs10861243', 'rs1073378', 'rs3861507', 'rs10074252', 'rs72857229', 'rs2029563', 'rs2718128', 'rs57867473', 'rs6134357', 'rs72708781', 'rs5926124', 'rs76538514', 'rs4980244', 'rs9573011', 'rs7671720', 'rs135', 'rs12995005', 'rs7678919', 'rs7654108', 'rs4243795', 'rs250367', 'rs7617198', 'rs9591316', 'rs6754238', 'rs78866832', 'rs4328368', 'rs304264', 'rs2959350', 'rs377481564', 'rs8031815', 'rs2145663', 'rs10832938', 'rs10772624', 'rs10928354', 'rs11745397', 'rs2348585', 'rs76313330', 'rs12670761', 'rs76306598', 'rs75464514', 'rs3824088', 'rs10846694', 'rs112725802', 'rs273740', 'rs117216368', 'rs7455369', 'rs78264615', 'rs1039033', 'rs9615684', 'rs2276285', 'rs1926185', 'rs12703133', 'rs62111566', 'rs4572196', 'rs1818612', 'rs537816', 'rs719039', 'rs12449391', 'rs17006170', 'rs72716213', 'rs2103263', 'rs2029561', 'rs10194354', 'rs12105046', 'rs7992656', 'rs7568003', 'rs9365353', 'rs13065314', 'rs7644102', 'rs17596659', 'rs12426699', 'rs7000505', 'rs7077299', 'rs6561297', 'rs2880537', 'rs77618457', 'rs870522', 'rs2326736', 'rs7143560', 'rs5975794', 'rs10189498', 'rs7908565', 'rs10130341', 'rs73950827', 'rs10901153', 'rs6532810', 'rs9455792', 'rs5960814', 'rs1954562', 'rs2237457', 'rs1780143', 'rs7771108', 'rs76205503', 'rs6665699', 'rs17366616', 'rs11889885', 'rs12514330', 'rs78893093', 'rs12945249', 'rs6665695', 'rs10250848', 'rs2969057', 'rs11676474', 'rs35560901', 'rs28844598', 'rs58797235', 'rs831628', 'rs4146328', 'rs6576017', 'rs575094392', 'rs61835060', 'rs10822104', 'rs7698504', 'rs902838', 'rs1983233', 'rs73076363', 'rs6909984', 'rs9973474', 'rs2232992', 'rs778594', 'rs34601138', 'rs4979278', 'rs78822600', 'rs2806444', 'rs4903137', 'rs209741', 'rs162410', 'rs6509294', 'rs73711644', 'rs6593440', 'rs3014798', 'rs12645224', 'rs599331', 'rs115734042', 'rs6968643', 'rs55868868', 'rs62180205', 'rs11140903', 'rs1548387', 'rs34906112', 'rs9953472', 'rs59962311', 'rs3812831', 'rs7705124', 'rs186847', 'rs4961178', 'rs144591848', 'rs7192685', 'rs7199727', 'rs508303', 'rs10119693', 'rs943049', 'rs2275867', 'rs6973986', 'rs6493549', 'rs17143152', 'rs7865796', 'rs144882085', 'rs16967742', 'rs13028756', 'rs75202266', 'rs3856104', 'rs6081184', 'rs7482739', 'rs440279', 'rs113671931', 'rs8078195', 'rs1191874', 'rs35783733', 'rs1644500', 'rs7220464', 'rs1394724', 'rs4936272', 'rs1365978', 'rs77093663', 'rs112616003', 'rs12425548', 'rs2830443', 'rs111630155', 'rs4316833', 'rs73051731', 'rs6650651', 'rs9784517', 'rs148108853', 'rs10183344', 'rs6951943', 'rs6917227', 'rs2149754', 'rs11619008', 'rs2173879', 'rs4386468', 'rs77765120', 'rs36091789', 'rs12615724', 'rs453237', 'rs3018523', 'rs6566553', 'rs73221742', 'rs656129', 'rs890488', 'rs113055656', 'rs10869136', 'rs1715811', 'rs35666481', 'rs7427089', 'rs1501312', 'rs1501313', 'rs11860979', 'rs35389927', 'rs2662010', 'rs56026096', 'rs10205410', 'rs61497118', 'rs10857765', 'rs13383368', 'rs112189131', 'rs231197', 'rs11118834', 'rs2514482', 'rs7146976', 'rs113292935', 'rs28435122', 'rs10877098', 'rs10059874', 'rs73186290', 'rs56747110', 'rs34242988', 'rs6980908', 'rs35628716', 'rs117850529', 'rs7215275', 'rs10927221', 'rs7771109', 'rs13430766', 'rs4802560', 'rs820468', 'rs5961856', 'rs28692473', 'rs2574938', 'rs4542196', 'rs117768186', 'rs150094203', 'rs9902624', 'rs1026388', 'rs73498610', 'rs61535431', 'rs12968795', 'rs76683084', 'rs78054107', 'rs6499042', 'rs72888200', 'rs3818401', 'rs11062253', 'rs60262778', 'rs2953122', 'rs507655', 'rs4297319', 'rs77591689', 'rs9525462', 'rs111971197', 'rs7958194', 'rs79674874', 'rs396626', 'rs79268597', 'rs58552307', 'rs8191463', 'rs2094612', 'rs9384151', 'rs454773', 'rs12677812', 'rs3948102', 'rs6573086', 'rs62242259', 'rs10515955', 'rs226203', 'rs10951667', 'rs1502755', 'rs3767812', 'rs117047858', 'rs10758522', 'rs11722602', 'rs10488809', 'rs28551115', 'rs13127127', 'rs12572134', 'rs12278958', 'rs7603685', 'rs13191433', 'rs10173669', 'rs1923516', 'rs668438', 'rs79736698', 'rs55973182', 'rs10763726', 'rs73582405', 'rs9321006', 'rs156229', 'rs62577303', 'rs80091929', 'rs71380169', 'rs759066', 'rs9300938', 'rs7993166', 'rs3947755', 'rs66795627', 'rs10459060', 'rs11985980', 'rs9937068', 'rs1544619', 'rs154448', 'rs11923216', 'rs2276417', 'rs9914127', 'rs56123618', 'rs73985841', 'rs192633123', 'rs9725444', 'rs17106039', 'rs34990593', 'rs10954333', 'rs55846016', 'rs12326714', 'rs60881272', 'rs4486203', 'rs116028728', 'rs829465', 'rs5915702', 'rs6951808', 'rs4585646', 'rs10867084', 'rs27820', 'rs13144384', 'rs6849621', 'rs4669191', 'rs10883444', 'rs11233081', 'rs6831335', 'rs5987267', 'rs12481717', 'rs17555056', 'rs3813020', 'rs4703456', 'rs3763667', 'rs6664057', 'rs315323', 'rs7102291', 'rs6911485', 'rs142239503', 'rs61160235', 'rs6651117', 'rs1388511', 'rs12261793', 'rs2543050', 'rs7201601', 'rs9359147', 'rs59997015', 'rs2390214', 'rs5756069', 'rs28716336', 'rs371598772', 'rs7431047', 'rs12694128', 'rs2937599', 'rs8110158', 'rs79783420', 'rs6105612', 'rs11196490', 'rs6088736', 'rs72983909', 'rs12600558', 'rs72898084', 'rs4408295', 'rs75860310', 'rs11734013', 'rs28455789', 'rs542284', 'rs11117419', 'rs56309633', 'rs7698785', 'rs12038667', 'rs1479559', 'rs9535812', 'rs11027888', 'rs6757159', 'rs2035428', 'rs6584076', 'rs11205008', 'rs10814648', 'rs112720127', 'rs6555621', 'rs73582410', 'rs713875', 'rs6689382', 'rs4765686', 'rs6593544', 'rs666481', 'rs428255', 'rs13089906', 'rs9860489', 'rs2682924', 'rs7355888', 'rs11241987', 'rs12255147', 'rs73711645', 'rs12465603', 'rs62119307', 'rs6695784', 'rs1205033', 'rs5009020', 'rs10906694', 'rs12614755', 'rs4319601', 'rs7717235', 'rs1652927', 'rs34724589', 'rs2181494', 'rs62032983', 'rs12359825', 'rs2645651', 'rs11196491', 'rs7637478', 'rs12101238', 'rs34573921', 'rs17212276', 'rs73572985', 'rs113096045', 'rs349566', 'rs6771507', 'rs11921468', 'rs3180589', 'rs2325044', 'rs10205182', 'rs10861242', 'rs4911272', 'rs1092985', 'rs874880', 'rs1428862', 'rs74230465', 'rs5752329', 'rs61965113', 'rs6869298', 'rs76262730', 'rs12812747', 'rs1419086', 'rs6596669', 'rs2039335', 'rs12291986', 'rs77145299', 'rs34505094', 'rs13277375', 'rs4674951', 'rs1294558', 'rs77992315', 'rs11578143', 'rs10130410', 'rs180968947', 'rs12432905', 'rs6796367', 'rs4892128', 'rs7000594', 'rs12598329', 'rs11741975', 'rs73639132', 'rs1864836', 'rs1933452', 'rs2079662', 'rs4975760', 'rs960117', 'rs2223100', 'rs1513807', 'rs4903363', 'rs190598616', 'rs141031913', 'rs436295', 'rs73183639', 'rs4697974', 'rs6498325', 'rs10035891', 'rs8068937', 'rs1449844', 'rs72687177', 'rs2295683', 'rs2980268', 'rs1397685', 'rs148052470', 'rs10901152', 'rs730997', 'rs9568419', 'rs2068596', 'rs2877809', 'rs173740', 'rs9397294', 'rs6436991', 'rs6014461', 'rs6122781', 'rs13414010', 'rs1939751', 'rs77573556', 'rs62474309', 'rs7976498', 'rs5925691', 'rs16924260', 'rs4096394', 'rs139350789', 'rs77463948', 'rs9383090', 'rs11220141', 'rs11924087', 'rs10143559', 'rs117856131', 'rs1955421', 'rs6041610', 'rs1506118', 'rs10954334', 'rs6426532', 'rs6592244', 'rs4748070', 'rs7113435', 'rs804604', 'rs13015851', 'rs6961504', 'rs11729696', 'rs76259718', 'rs13127313', 'rs150511', 'rs73256222', 'rs9476351', 'rs1360213', 'rs7707803', 'rs853836', 'rs11196489', 'rs113646375', 'rs4786384', 'rs12692370', 'rs28404173', 'rs9510192', 'rs6081183', 'rs34305077', 'rs28504540', 'rs6060633', 'rs12602522', 'rs2785154', 'rs73525616', 'rs11127267', 'rs4488567', 'rs113047626', 'rs11795283', 'rs4308486', 'rs11875233', 'rs72845327', 'rs2092634', 'rs12710562', 'rs2723160', 'rs10000232', 'rs35555590', 'rs11865189', 'rs75119815', 'rs9888117', 'rs5971858', 'rs13235590', 'rs75178034', 'rs7206390', 'rs58523490', 'rs76214416', 'rs2650921', 'rs966738', 'rs76643022', 'rs10838661', 'rs55779655', 'rs3752847', 'rs12533101', 'rs2010487', 'rs56061551', 'rs6485214', 'rs140795880', 'rs10504066', 'rs17840832', 'rs1740466', 'rs5925692', 'rs73639133', 'rs446946', 'rs8185064', 'rs268610', 'rs117227094', 'rs264318', 'rs4678634', 'rs11500758', 'rs7760912', 'rs4849255', 'rs35247690', 'rs28880045', 'rs34214428', 'rs26835', 'rs13379346', 'rs7792779', 'rs111271388', 'rs11701072', 'rs2972106', 'rs59741751', 'rs74134850', 'rs1373015', 'rs59067393', 'rs8091006', 'rs4919462', 'rs6879867', 'rs7647957', 'rs73414518', 'rs184267799', 'rs5953210', 'rs705561', 'rs6531725', 'rs78800274', 'rs6980822', 'rs28489609', 'rs7724083', 'rs11877363', 'rs6075409', 'rs6565177', 'rs9867910', 'rs11151289', 'rs116220403', 'rs2541546', 'rs56228147', 'rs7628048', 'rs7177434', 'rs8003524', 'rs6507586', 'rs703773', 'rs11027887', 'rs28709398', 'rs28532671', 'rs2967132', 'rs1544620', 'rs11130602', 'rs4755868', 'rs12899196', 'rs9821195', 'rs6831432', 'rs10105519', 'rs4512170', 'rs10975745', 'rs77505090', 'rs2709245', 'rs1264949', 'rs1205034', 'rs7838131', 'rs965192', 'rs73919855', 'rs76804950', 'rs7781271', 'rs61150800', 'rs2695789', 'rs4845295', 'rs1509398', 'rs259146', 'rs6676901', 'rs11558795', 'rs296716', 'rs10148938', 'rs2052876', 'rs4813546', 'rs7516247', 'rs201979762', 'rs4082828', 'rs13421869', 'rs6921015', 'rs66501855', 'rs9800752', 'rs1374193', 'rs323038', 'rs112804208', 'rs9951867', 'rs35612692', 'rs8079566', 'rs115380254', 'rs11627546', 'rs889132', 'rs912144', 'rs7994236', 'rs7639021', 'rs12029349', 'rs55853834', 'rs9379839', 'rs7166620', 'rs616924', 'rs6077997', 'rs73484664', 'rs12295206', 'rs11765826', 'rs661974', 'rs72825834', 'rs5905200', 'rs1840104', 'rs2014411', 'rs1923515', 'rs35327306', 'rs68001052', 'rs1337046', 'rs1925371', 'rs2748776', 'rs138564649', 'rs7965634', 'rs17864701', 'rs8020929', 'rs1097906', 'rs117248646', 'rs61881061', 'rs73051717', 'rs112838778', 'rs10418156', 'rs6852732', 'rs115300157', 'rs1374192', 'rs12662112', 'rs11996277', 'rs12575683', 'rs11854164', 'rs9520736', 'rs2831751', 'rs12463673', 'rs1488379', 'rs1839101', 'rs10074558', 'rs6041862', 'rs8056544', 'rs11696889', 'rs9315580', 'rs35755749', 'rs1370498', 'rs973099', 'rs2361240', 'rs2853253', 'rs560323', 'rs542591', 'rs8108942', 'rs4408949', 'rs113739341', 'rs4237470', 'rs10199384', 'rs2259250', 'rs143750923', 'rs4502989', 'rs72851752', 'rs28519437', 'rs12774668', 'rs11727558', 'rs1925370', 'rs61127045', 'rs6650652', 'rs73927741', 'rs4787275', 'rs1714342', 'rs79443262', 'rs3809346', 'rs73572982', 'rs12370602', 'rs57981536', 'rs73901116', 'rs2463825', 'rs73501208', 'rs3008054', 'rs1388512', 'rs3747502', 'rs9925050', 'rs2461969', 'rs10773100', 'rs62087195', 'rs1929685', 'rs17135100', 'rs77053901', 'rs1921434', 'rs148699285', 'rs7848263', 'rs2207046', 'rs28372508', 'rs77649360', 'rs9844022', 'rs3766636', 'rs2110348', 'rs11935408', 'rs12088742', 'rs6597648', 'rs2108124', 'rs73548810', 'rs1095374', 'rs72681797', 'rs6131738', 'rs2022945', 'rs2692099', 'rs4333922', 'rs76373015', 'rs58565727', 'rs797182', 'rs11118735', 'rs255132', 'rs810531', 'rs76183056', 'rs9714940', 'rs200618933', 'rs7188171', 'rs62285613', 'rs496577', 'rs7133295', 'rs1368614', 'rs2566283', 'rs1552617', 'rs9532985', 'rs75308046', 'rs41298545', 'rs12042786', 'rs113910641', 'rs1408807', 'rs138633425', 'rs2938629', 'rs4972523', 'rs12612238', 'rs6689569', 'rs11863705', 'rs28719585', 'rs59659950', 'rs78556882', 'rs9537840', 'rs6790726', 'rs28673349', 'rs6592245', 'rs11614364', 'rs56903072', 'rs12702621', 'rs7295455', 'rs7636740', 'rs112208138', 'rs11192863', 'rs17092711', 'rs61881060', 'rs10908449', 'rs73592008', 'rs143590290', 'rs9372164', 'rs6103289', 'rs114833122', 'rs7536793', 'rs4953397', 'rs2331585', 'rs4882395', 'rs4694435', 'rs2096467', 'rs60457637', 'rs35912105', 'rs4666459', 'rs59303322', 'rs2622002', 'rs35473070', 'rs6863316', 'rs7494074', 'rs2453862', 'rs116503863', 'rs13423107', 'rs61793236', 'rs8583', 'rs3101747', 'rs12266740', 'rs7091698', 'rs11764861', 'rs2785153', 'rs147014818', 'rs7717217', 'rs7790957', 'rs149880', 'rs111406953', 'rs12407806', 'rs28783374', 'rs13273281', 'rs73864356', 'rs4316832', 'rs111634163', 'rs7720958', 'rs17165189', 'rs1857443', 'rs6883664', 'rs456520', 'rs1979892', 'rs630648', 'rs28490261', 'rs28589939', 'rs3101746', 'rs7119787', 'rs660868', 'rs13192406', 'rs73318240', 'rs60888988', 'rs7313664', 'rs111403766', 'rs10256134', 'rs4838901', 'rs1107835', 'rs112325484', 'rs6578343', 'rs811912', 'rs3102519', 'rs838493', 'rs8099839', 'rs8066087', 'rs2382551', 'rs5992450', 'rs17126934', 'rs61861221', 'rs946667', 'rs6852774', 'rs7336174', 'rs11669584', 'rs12712212', 'rs12598604', 'rs11144421', 'rs762995', 'rs6497284', 'rs6576743', 'rs524902', 'rs13084348', 'rs80317718', 'rs62410133', 'rs10955813', 'rs2615609', 'rs9879766', 'rs4504486', 'rs12934194', 'rs10495525', 'rs2295214', 'rs10098447', 'rs9349322', 'rs4787311', 'rs10783134', 'rs114068201', 'rs1488378', 'rs8063817', 'rs7524570', 'rs114452435', 'rs157256', 'rs2399391', 'rs56297424', 'rs568817', 'rs67789667', 'rs78074510', 'rs4266505', 'rs660354', 'rs7087795', 'rs4938882', 'rs1574133', 'rs10205331', 'rs2984615', 'rs7638958', 'rs12411968', 'rs2595425', 'rs117156391', 'rs2818310', 'rs2156045', 'rs147194064', 'rs1453769', 'rs7936730', 'rs290620', 'rs11909784', 'rs11505535', 'rs3826539', 'rs6578342', 'rs2348902', 'rs7144638', 'rs6804626', 'rs13150722', 'rs56869893', 'rs2436348', 'rs35440613', 'rs2554920', 'rs57425825', 'rs6952348', 'rs1960622', 'rs142421619', 'rs6746175', 'rs5758949', 'rs4857406', 'rs139129527', 'rs9541354', 'rs7750185', 'rs26086', 'rs12064881', 'rs593245', 'rs67389634', 'rs779369', 'rs55967223', 'rs2124308', 'rs6843737', 'rs77272935', 'rs7232427', 'rs4969036', 'rs2762501', 'rs4243624', 'rs16899921', 'rs11198176', 'rs4246644', 'rs2049109', 'rs2194919', 'rs145946243', 'rs11646610', 'rs2762502', 'rs58682976', 'rs142677566', 'rs2995957', 'rs2733361', 'rs74070490', 'rs4802561', 'rs1007261', 'rs75250683', 'rs1733780', 'rs892114', 'rs74882440', 'rs1463667', 'rs73864355', 'rs4782462', 'rs10803941', 'rs4525701', 'rs6829317', 'rs4562927', 'rs1790060', 'rs11077865', 'rs4740715', 'rs7559338', 'rs2290776', 'rs77840636', 'rs11061393', 'rs73579152', 'rs9899295', 'rs782087', 'rs6809026', 'rs9458039', 'rs5983035', 'rs7573022', 'rs17092073', 'rs4492888', 'rs10963704', 'rs11016282', 'rs116861873', 'rs10038560', 'rs34491487', 'rs943634', 'rs7626974', 'rs192672760', 'rs62311025', 'rs778228', 'rs8104434', 'rs377410967', 'rs10095968', 'rs9956292', 'rs4483651', 'rs2534572', 'rs6425274', 'rs7755854', 'rs3763644', 'rs11151606', 'rs192843', 'rs58865771', 'rs7759990', 'rs7679782', 'rs5020821', 'rs9803666', 'rs80184609', 'rs34133636', 'rs187826', 'rs4002855', 'rs4693827', 'rs872462', 'rs113044063', 'rs7866546', 'rs372741', 'rs10879850', 'rs463032', 'rs72990317', 'rs7033465', 'rs2458778', 'rs12100851', 'rs10838406', 'rs515287', 'rs2922943', 'rs35756527', 'rs789949', 'rs785847', 'rs7296769', 'rs62184674', 'rs72741208', 'rs12605557', 'rs16996304', 'rs7295462', 'rs781914', 'rs6974341', 'rs9744220', 'rs12435890', 'rs2989435', 'rs880963', 'rs7341297', 'rs62275055', 'rs7700476', 'rs7897661', 'rs9471172', 'rs28807971', 'rs11527234', 'rs11675752', 'rs3813708', 'rs7196127', 'rs6795223', 'rs9507774', 'rs2882165', 'rs28383053', 'rs9861554', 'rs16910644', 'rs8061633', 'rs905201', 'rs7779030', 'rs11993807', 'rs701197', 'rs2420783', 'rs2072612', 'rs12222713', 'rs12557828', 'rs9821619', 'rs368467964', 'rs10894258', 'rs3822282', 'rs7183075', 'rs13212239', 'rs12681417', 'rs11827664', 'rs60914082', 'rs62260085', 'rs10279011', 'rs4344683', 'rs752867', 'rs5955750', 'rs75569232', 'rs3017033', 'rs1886729', 'rs143269274', 'rs7987685', 'rs2004626', 'rs2050591', 'rs72924312', 'rs6442048', 'rs12544976', 'rs34814736', 'rs117241151', 'rs11103693', 'rs4441010', 'rs56091865', 'rs34076541', 'rs9904960', 'rs10806681', 'rs56040909', 'rs2979653', 'rs3098012', 'rs1453555', 'rs4693828', 'rs6476581', 'rs4687323', 'rs880034', 'rs73343119', 'rs6014307', 'rs2718371', 'rs74108684', 'rs7446944', 'rs6672789', 'rs4836618', 'rs8057835', 'rs1467714', 'rs28372931', 'rs60007820', 'rs62345786', 'rs57066356', 'rs4799647', 'rs1416002', 'rs9676236', 'rs5935833', 'rs824514', 'rs2233011', 'rs71306694', 'rs7141696', 'rs971173', 'rs7755157', 'rs10795121', 'rs111458715', 'rs2088370', 'rs1072980', 'rs10938963', 'rs11852405', 'rs12419943', 'rs58295092', 'rs932745', 'rs441346', 'rs13033853', 'rs10847914', 'rs2347024', 'rs10102360', 'rs268488', 'rs13419064', 'rs242455', 'rs7798211', 'rs181799363', 'rs11820985', 'rs10502221', 'rs55672024', 'rs62176560', 'rs12898838', 'rs2216805', 'rs1248881', 'rs7687608', 'rs115987045', 'rs3753790', 'rs12415730', 'rs34834200', 'rs11665831', 'rs72934463', 'rs302475', 'rs406393', 'rs10852623', 'rs112272388', 'rs1014346', 'rs111999393', 'rs4379467', 'rs61527611', 'rs34596329', 'rs9508194', 'rs10221055', 'rs9467652', 'rs931406', 'rs1532485', 'rs8055854', 'rs362148', 'rs6484182', 'rs4492095', 'rs144513371', 'rs77871688', 'rs2767166', 'rs7631126', 'rs11108955', 'rs6028472', 'rs77193282', 'rs8058648', 'rs6957044', 'rs11057451', 'rs72625745', 'rs56248612', 'rs2770048', 'rs2288650', 'rs114892166', 'rs11149350', 'rs59562634', 'rs2937650', 'rs73490611', 'rs13419069', 'rs118073517', 'rs703204', 'rs9633514', 'rs2719758', 'rs10166997', 'rs9525835', 'rs17438571', 'rs11078408', 'rs1685748', 'rs62430439', 'rs113647718', 'rs6500656', 'rs60625458', 'rs12551808', 'rs893793', 'rs116095628', 'rs6095018', 'rs12639367', 'rs9469481', 'rs7247811', 'rs1174977', 'rs7555664', 'rs7147301', 'rs1977445', 'rs9538868', 'rs12890434', 'rs73291558', 'rs7916143', 'rs17177226', 'rs8005083', 'rs112872746', 'rs2857161', 'rs10756441', 'rs2768652', 'rs1153949', 'rs117398904', 'rs1559155', 'rs10889322', 'rs948316', 'rs12667398', 'rs11029031', 'rs9373960', 'rs7410537', 'rs9919386', 'rs3822281', 'rs6903141', 'rs10748561', 'rs4357115', 'rs2962025', 'rs9383804', 'rs12596230', 'rs12574699', 'rs7958238', 'rs11241263', 'rs75476059', 'rs2316023', 'rs2622710', 'rs73016810', 'rs73025055', 'rs7683461', 'rs11904396', 'rs12727605', 'rs2042552', 'rs435666', 'rs10074660', 'rs13071145', 'rs10878055', 'rs255495', 'rs73971223', 'rs1041462', 'rs500650', 'rs10781364', 'rs10123745', 'rs6994012', 'rs6498326', 'rs2422700', 'rs5944380', 'rs3744652', 'rs2383877', 'rs4147051', 'rs77440044', 'rs2401408', 'rs150528725', 'rs3812008', 'rs13066902', 'rs3747669', 'rs9659656', 'rs4800257', 'rs55724477', 'rs8096740', 'rs527496834', 'rs206845', 'rs7119660', 'rs912145', 'rs1552819', 'rs10960889', 'rs142724430', 'rs10088678', 'rs8077121', 'rs75591324', 'rs2882986', 'rs6702462', 'rs784459', 'rs7090007', 'rs8096382', 'rs141897244', 'rs7524204', 'rs6895312', 'rs60742889', 'rs73438034', 'rs2690743', 'rs1997412', 'rs10748562', 'rs113415708', 'rs11229587', 'rs654682', 'rs17682132', 'rs62409367', 'rs2853254', 'rs11068366', 'rs7251145', 'rs74330080', 'rs75055555', 'rs6499041', 'rs11097219', 'rs10973928', 'rs61861222', 'rs4078099', 'rs2573711', 'rs2237116', 'rs6660458', 'rs59592649', 'rs4795355', 'rs758174', 'rs7317226', 'rs28733071', 'rs10414535', 'rs189576', 'rs1023325', 'rs74973870', 'rs1627126', 'rs9342670', 'rs1336070', 'rs3826524', 'rs12625248', 'rs1958580', 'rs11846227', 'rs2282063', 'rs748762', 'rs3783442', 'rs12577881', 'rs6015121', 'rs2836922', 'rs17332620', 'rs4699223', 'rs36177450', 'rs11196488', 'rs235420', 'rs5923500', 'rs12165816', 'rs2694484', 'rs28503781', 'rs6902798', 'rs38455', 'rs11258653', 'rs10992653', 'rs73604362', 'rs1845066', 'rs58524156', 'rs364699', 'rs6764694', 'rs2852611', 'rs1455916', 'rs10756442', 'rs4701109', 'rs1414442', 'rs2492873', 'rs9381311', 'rs60137849', 'rs7581918', 'rs7222487', 'rs1404406', 'rs7159276', 'rs72689865', 'rs3110897', 'rs35131811', 'rs12512159', 'rs12045847', 'rs143761504', 'rs12598751', 'rs57513002', 'rs623510', 'rs9937968', 'rs34686705', 'rs1191875', 'rs12296291', 'rs77491024', 'rs11029514', 'rs6497544', 'rs72722125', 'rs2497908', 'rs28463008', 'rs61353460', 'rs10104337', 'rs2748317', 'rs7654689', 'rs384941', 'rs1868287', 'rs542531921', 'rs544992463', 'rs559907025', 'rs561280298', 'rs572039878', 'rs116620651', 'rs6000916', 'rs2493200', 'rs489056', 'rs73032246', 'rs11500775', 'rs61385491', 'rs854187', 'rs4907303', 'rs7190938', 'rs2813296', 'rs2073809', 'rs28733657', 'rs12340499', 'rs57729253', 'rs34051517', 'rs58593591', 'rs4663764', 'rs4816246', 'rs11651082', 'rs11076799', 'rs4948109', 'rs626509', 'rs150769887', 'rs56369311', 'rs6831298', 'rs1025319', 'rs6584956', 'rs217329', 'rs7410612', 'rs61230886', 'rs12847475', 'rs7933323', 'rs74639642', 'rs6892008', 'rs8050462', 'rs7544768', 'rs286391', 'rs957858', 'rs5748218', 'rs2237403', 'rs12213495', 'rs4562423', 'rs113531503', 'rs6024335', 'rs2159359', 'rs6878798', 'rs7954181', 'rs10040609', 'rs159145', 'rs6502531', 'rs1860006', 'rs182950062', 'rs68152801', 'rs60978660', 'rs202101462', 'rs9556468', 'rs12101262', 'rs57416870', 'rs9789707', 'rs16823344', 'rs6660530', 'rs10889321', 'rs5962115', 'rs9807303', 'rs2174613', 'rs2290655', 'rs1319447', 'rs61232790', 'rs1939750', 'rs2956111', 'rs9318047', 'rs7723953', 'rs11050978', 'rs7890020', 'rs7097795', 'rs4497666', 'rs9531093', 'rs236347', 'rs11800273', 'rs9806748', 'rs35906118', 'rs2593298', 'rs1922934', 'rs1119693', 'rs11108959', 'rs17226011', 'rs6013464', 'rs34222188', 'rs4934498', 'rs17357834', 'rs4682428', 'rs162330', 'rs9905637', 'rs5753273', 'rs897200', 'rs4334954', 'rs9478814', 'rs9835368', 'rs7613717', 'rs7093997', 'rs13139999', 'rs35954619', 'rs60296375', 'rs28362342', 'rs4459683', 'rs201779329', 'rs12463901', 'rs1041461', 'rs72986146', 'rs11180258', 'rs72990195', 'rs74005406', 'rs57000741', 'rs7096866', 'rs73931650', 'rs72648835', 'rs2986301', 'rs2236869', 'rs376993806', 'rs1148851', 'rs73632152', 'rs6685737', 'rs2459096', 'rs9429183', 'rs4625382', 'rs2226349', 'rs80290791', 'rs2629676', 'rs1639040', 'rs6623048', 'rs1050676', 'rs114895445', 'rs4534403', 'rs2983530', 'rs10067153', 'rs13041557', 'rs13152268', 'rs113519312', 'rs6013542', 'rs34902592', 'rs7602864', 'rs13037331', 'rs471824', 'rs62510064', 'rs12462188', 'rs55862101', 'rs57326441', 'rs2095649', 'rs2849782', 'rs7244965', 'rs28824770', 'rs7097583', 'rs66597108', 'rs10263729', 'rs6045843', 'rs57155368', 'rs4889132', 'rs10252133', 'rs2682090', 'rs5952295', 'rs460089', 'rs1561876', 'rs148423642', 'rs7297161', 'rs9330513', 'rs7578033', 'rs13107322', 'rs1377373', 'rs74131415', 'rs7010998', 'rs946669', 'rs2298620', 'rs2179245', 'rs10893274', 'rs2986302', 'rs1585225', 'rs2621383', 'rs9555705', 'rs6582410', 'rs1506743', 'rs4584807', 'rs355894', 'rs35787586', 'rs59076468', 'rs6678380', 'rs7185991', 'rs12731548', 'rs55842946', 'rs118071998', 'rs255035', 'rs7225298', 'rs2325497', 'rs1853703', 'rs879142', 'rs7578791', 'rs6530377', 'rs34390663', 'rs228821', 'rs12485749', 'rs1117404', 'rs9257150', 'rs10915368', 'rs144652721', 'rs9636912', 'rs2204043', 'rs185409137', 'rs6109706', 'rs73661494', 'rs480017', 'rs1521106', 'rs1107307', 'rs11995955', 'rs4974831', 'rs12233436', 'rs10742221', 'rs11527930', 'rs11027685', 'rs9897606', 'rs7644184', 'rs57611848', 'rs1106745', 'rs9747676', 'rs12667116', 'rs143605347', 'rs7142246', 'rs1647221', 'rs112565289', 'rs1807336', 'rs10202129', 'rs2272661', 'rs1471782', 'rs71504507', 'rs112184921', 'rs115544138', 'rs6617475', 'rs3003574', 'rs6556405', 'rs4096395', 'rs1865904', 'rs527294494', 'rs7624400', 'rs6007484', 'rs34377531', 'rs254760', 'rs1622932', 'rs8083259', 'rs78819718', 'rs113743763', 'rs72624011', 'rs164138', 'rs6745032', 'rs16969382', 'rs1970076', 'rs10913769', 'rs60813126', 'rs57089285', 'rs75124190', 'rs1521105', 'rs5995511', 'rs185484672', 'rs57147451', 'rs9324511', 'rs9798240', 'rs4807087', 'rs13418868', 'rs6111354', 'rs58784361', 'rs10193858', 'rs8086235', 'rs17149708', 'rs4445874', 'rs73667960', 'rs1563308', 'rs9949977', 'rs9923095', 'rs6081357', 'rs6068187', 'rs12674485', 'rs60089052', 'rs60645447', 'rs11214535', 'rs61063961', 'rs2584624', 'rs114467199', 'rs9357035', 'rs7255255', 'rs6074520', 'rs6950007', 'rs73418252', 'rs114020235', 'rs79752628', 'rs62043522', 'rs8018872', 'rs12295815', 'rs79076187', 'rs1709852', 'rs75036383', 'rs751731', 'rs11226400', 'rs13402399', 'rs7084436', 'rs74635590', 'rs61690430', 'rs6786316', 'rs17035155', 'rs10942903', 'rs35270348', 'rs4757770', 'rs17034142', 'rs6578899', 'rs58662440', 'rs852091', 'rs35371429', 'rs111831006', 'rs75999929', 'rs72756010', 'rs734094', 'rs34137533', 'rs12097272', 'rs59808275', 'rs2339621', 'rs913466', 'rs73358236', 'rs113073242', 'rs16904924', 'rs13379103', 'rs11013718', 'rs4930443', 'rs657259', 'rs1038157', 'rs145856712', 'rs10504389', 'rs35570', 'rs57071728', 'rs1810502', 'rs10046491', 'rs739518', 'rs1786171', 'rs34060943', 'rs9867508', 'rs9955143', 'rs6102728', 'rs113014061', 'rs6823173', 'rs3785001', 'rs13391635', 'rs3750864', 'rs182366', 'rs113119295', 'rs12782126', 'rs4773036', 'rs16883928', 'rs3111090', 'rs74801515', 'rs2377012', 'rs28679497', 'rs4731694', 'rs7998901', 'rs6485148', 'rs371644605', 'rs114280726', 'rs8176952', 'rs13245169', 'rs10276919', 'rs533980', 'rs16945724', 'rs2914508', 'rs12994932', 'rs2466124', 'rs1991720', 'rs72711703', 'rs2918187', 'rs72717336', 'rs57283040', 'rs12898234', 'rs113754751', 'rs4237469', 'rs61850977', 'rs6838316', 'rs2203244', 'rs72736770', 'rs1792893', 'rs151345', 'rs12523239', 'rs737563', 'rs57672569', 'rs7006741', 'rs80207740', 'rs6574615', 'rs1413966', 'rs1464821', 'rs732344', 'rs10446082', 'rs59117762', 'rs12272616', 'rs74511324', 'rs9315767', 'rs71486287', 'rs61092423', 'rs114131225', 'rs192189751', 'rs11589828', 'rs12645690', 'rs1528039', 'rs10790419', 'rs114383863', 'rs76788977', 'rs9503492', 'rs76312947', 'rs1325625', 'rs17658686', 'rs1881158', 'rs17588767', 'rs75893216', 'rs1568764', 'rs1824014', 'rs62256194', 'rs138146692', 'rs12054161', 'rs112101114', 'rs749215', 'rs1408664', 'rs67854865', 'rs2348901', 'rs11258654', 'rs755029', 'rs6837830', 'rs6028460', 'rs60524162', 'rs2008966', 'rs10235460', 'rs4709889', 'rs4673681', 'rs62443789', 'rs73176311', 'rs457759', 'rs7447485', 'rs372186861', 'rs3006526', 'rs7507492', 'rs1354517', 'rs11068367', 'rs115186803', 'rs77709774', 'rs1839862', 'rs6977395', 'rs7706122', 'rs623371', 'rs8039580', 'rs200598769', 'rs7731314', 'rs112769260', 'rs144937088', 'rs323037', 'rs28473353', 'rs2336384', 'rs6125920', 'rs1575526', 'rs254761', 'rs2247927', 'rs7224133', 'rs12306743', 'rs11240331', 'rs3780679', 'rs1860352', 'rs78053649', 'rs1946254', 'rs7589905', 'rs6805188', 'rs1425745', 'rs9523609', 'rs4782463', 'rs114747524', 'rs13102260', 'rs11753338', 'rs28368772', 'rs1929686', 'rs9500884', 'rs35307656', 'rs183869', 'rs17056993', 'rs17516272', 'rs16865569', 'rs6007486', 'rs2091653', 'rs7730915', 'rs79402055', 'rs12580705', 'rs1587797', 'rs6984300', 'rs11257912', 'rs574318', 'rs4497300', 'rs7068130', 'rs9898914', 'rs12810302', 'rs115597141', 'rs112244043', 'rs9443213', 'rs7480418', 'rs184174836', 'rs4490057', 'rs10187060', 'rs13117180', 'rs10747992', 'rs113161097', 'rs5983036', 'rs73728620', 'rs8087533', 'rs74065411', 'rs2460944', 'rs1021631', 'rs2909833', 'rs10445727', 'rs2830444', 'rs78040476', 'rs734306', 'rs10023320', 'rs2319101', 'rs1018563', 'rs11084425', 'rs7206606', 'rs3006525', 'rs64493', 'rs9511763', 'rs1372819', 'rs1294557', 'rs4837253', 'rs9840019', 'rs55714927', 'rs10133387', 'rs606904', 'rs990707', 'rs35672228', 'rs61905084', 'rs227950', 'rs4731695', 'rs12236963', 'rs4940905', 'rs1861544', 'rs35218076', 'rs4147592', 'rs71435466', 'rs7206671', 'rs112833590', 'rs4329346', 'rs554591', 'rs7844774', 'rs547458', 'rs55766729', 'rs34765785', 'rs16861950', 'rs11077155', 'rs7600823', 'rs1021630', 'rs10038033', 'rs12078391', 'rs118060747', 'rs11646115', 'rs73634409', 'rs12541503', 'rs56213756', 'rs10793337', 'rs2092793', 'rs2167460', 'rs6123606', 'rs708273', 'rs7238415', 'rs7341311', 'rs1858708', 'rs75688150', 'rs7963651', 'rs8062731', 'rs12811372', 'rs816544', 'rs9403916', 'rs4846068', 'rs2256507', 'rs7582065', 'rs72683341', 'rs6425755', 'rs10063937', 'rs71434205', 'rs7751643', 'rs10066210', 'rs4686942', 'rs55791249', 'rs978248', 'rs61753115', 'rs17226026', 'rs56090668', 'rs12757198', 'rs1543927', 'rs35457417', 'rs9532968', 'rs55827099', 'rs189973071', 'rs7105540', 'rs9496207', 'rs6091666', 'rs817142', 'rs2292679', 'rs10829821', 'rs111350745', 'rs4806555', 'rs374869654', 'rs10073245', 'rs4844540', 'rs77495350', 'rs73348966', 'rs12164218', 'rs11690094', 'rs62273343', 'rs77724180', 'rs7373140', 'rs3893200', 'rs12027970', 'rs6721840', 'rs283830', 'rs9314323', 'rs78776139', 'rs62296100', 'rs197371', 'rs406056', 'rs1852455', 'rs7390690', 'rs12631733', 'rs62218200', 'rs72616894', 'rs74114696', 'rs229118', 'rs2496695', 'rs11640600', 'rs72894755', 'rs9868802', 'rs28420800', 'rs4457674', 'rs6789110', 'rs4417952', 'rs7991077', 'rs73133633', 'rs35293825', 'rs11100235', 'rs2319517', 'rs2239184', 'rs7190342', 'rs55999509', 'rs2040986', 'rs6016084', 'rs66804479', 'rs3806712', 'rs1095533', 'rs74955436', 'rs9264923', 'rs7224283', 'rs6706965', 'rs59515492', 'rs4765687', 'rs7825985', 'rs114328585', 'rs2593365', 'rs7205424', 'rs28675289', 'rs2542145', 'rs10414066', 'rs1715812', 'rs71362284', 'rs80161758', 'rs17553284', 'rs1786150', 'rs1777448', 'rs7256260', 'rs171140', 'rs2013711', 'rs76283818', 'rs605542', 'rs6049858', 'rs282430', 'rs2440161', 'rs13215445', 'rs7828910', 'rs4882637', 'rs146965468', 'rs116046848', 'rs4711493', 'rs7456039', 'rs9866215', 'rs571316', 'rs953323', 'rs2898305', 'rs62422269', 'rs6753855', 'rs554930', 'rs28612852', 'rs2948654', 'rs35121580', 'rs62433082', 'rs2074743', 'rs9904979', 'rs2434695', 'rs1615752', 'rs4599476', 'rs12426394', 'rs2076296', 'rs1970075', 'rs827241', 'rs12470189', 'rs150946326', 'rs2247926', 'rs10452153', 'rs1810501', 'rs13277080', 'rs7076782', 'rs61383594', 'rs2729459', 'rs804932', 'rs1887604', 'rs901886', 'rs966739', 'rs7607897', 'rs5957922', 'rs59980321', 'rs7045451', 'rs114000233', 'rs6078591', 'rs28368545', 'rs9602656', 'rs6884001', 'rs28696258', 'rs59293393', 'rs11559007', 'rs6746706', 'rs75237045', 'rs12657125', 'rs56145060', 'rs7009973', 'rs1970077', 'rs17141874', 'rs62116931', 'rs2070150', 'rs4910118', 'rs73202377', 'rs1467140', 'rs4933392', 'rs61339348', 'rs58098888', 'rs12718806', 'rs1865347', 'rs6824678', 'rs143089116', 'rs6737531', 'rs76426347', 'rs6512627', 'rs1571216', 'rs62471665', 'rs12811360', 'rs4688351', 'rs116211263', 'rs13172186', 'rs77515475', 'rs61805497', 'rs10773692', 'rs9633706', 'rs7976027', 'rs4560023', 'rs11782829', 'rs1914728', 'rs501238', 'rs77409296', 'rs73661503', 'rs61343418', 'rs331384', 'rs1979891', 'rs1567067', 'rs73775954', 'rs72686905', 'rs72707293', 'rs11939709', 'rs7102434', 'rs12340134', 'rs866921', 'rs73564477', 'rs4242574', 'rs4121607', 'rs5755316', 'rs9831921', 'rs62116932', 'rs969668', 'rs142226096', 'rs73064717', 'rs72714781', 'rs114856407', 'rs10963328', 'rs4339258', 'rs180844764', 'rs142507170', 'rs2461040', 'rs623853', 'rs590894', 'rs3733942', 'rs4594210', 'rs4895011', 'rs17003427', 'rs375729913', 'rs10958978', 'rs10782562', 'rs2567478', 'rs639493', 'rs66604554', 'rs79490728', 'rs2564906', 'rs73865841', 'rs1423088', 'rs9936255', 'rs1078739', 'rs61965957', 'rs12344375', 'rs4901713', 'rs12575738', 'rs9364527', 'rs7349576', 'rs10857002', 'rs12202556', 'rs58010055', 'rs35203362', 'rs2303745', 'rs7905156', 'rs2732910', 'rs12980660', 'rs140092', 'rs6438487', 'rs4834346', 'rs114196109', 'rs1800321', 'rs1240246', 'rs2989492', 'rs73579153', 'rs9549889', 'rs597929', 'rs73711643', 'rs75906375', 'rs174422', 'rs6834817', 'rs4787274', 'rs2742624', 'rs11005259', 'rs1663322', 'rs1499678', 'rs10980075', 'rs7969689', 'rs11766986', 'rs6588536', 'rs373029776', 'rs9528770', 'rs2207218', 'rs6844077', 'rs12848561', 'rs12623015', 'rs6465962', 'rs4357553', 'rs9599065', 'rs76228542', 'rs3018525', 'rs140181317', 'rs7723450', 'rs62317870', 'rs11584748', 'rs698003', 'rs73009568', 'rs144712975', 'rs4797269', 'rs8074698', 'rs2765948', 'rs6957231', 'rs7164251', 'rs58789980', 'rs10493056', 'rs7227956', 'rs111328207', 'rs35922260', 'rs554796', 'rs9939480', 'rs11845652', 'rs2595532', 'rs9599539', 'rs482624', 'rs2857693', 'rs6881225', 'rs56312842', 'rs6969283', 'rs7536197', 'rs11216515', 'rs2873579', 'rs329043', 'rs10752868', 'rs6001178', 'rs7006971', 'rs115126671', 'rs35733637', 'rs73028871', 'rs259942', 'rs9957577', 'rs443263', 'rs1339307', 'rs7879245', 'rs2016837', 'rs7427233', 'rs722495', 'rs75087301', 'rs12570772', 'rs4075869', 'rs7207009', 'rs35008975', 'rs67874954', 'rs9320458', 'rs11233744', 'rs1977072', 'rs543933545', 'rs9381908', 'rs12655303', 'rs9643384', 'rs1219933', 'rs17015010', 'rs2431232', 'rs4146186', 'rs6690440', 'rs7685071', 'rs3108440', 'rs10975744', 'rs73667861', 'rs447178', 'rs60543714', 'rs1575636', 'rs12827765', 'rs1361248', 'rs7222097', 'rs2940694', 'rs2492610', 'rs9888026', 'rs434102', 'rs1660619', 'rs2986189', 'rs72894280', 'rs11196487', 'rs115760470', 'rs111283115', 'rs61220101', 'rs72986143', 'rs1463666', 'rs76634927', 'rs199772274', 'rs6797948', 'rs9715143', 'rs4877727', 'rs4993385', 'rs7852364', 'rs425846', 'rs56323738', 'rs6909991', 'rs6867848', 'rs2280689', 'rs1205019', 'rs41288550', 'rs1048245', 'rs4961355', 'rs633233', 'rs7139823', 'rs10828405', 'rs77384147', 'rs1134282', 'rs2768636', 'rs10153033', 'rs11160833', 'rs28377268', 'rs2354634', 'rs71611460', 'rs6591197', 'rs685452', 'rs35746346', 'rs4781135', 'rs16833397', 'rs113888397', 'rs6058794', 'rs11171834', 'rs182442436', 'rs12075055', 'rs116373592', 'rs12114264', 'rs142134705', 'rs9356112', 'rs8044624', 'rs2083463', 'rs2971746', 'rs1863536', 'rs1733781', 'rs116896975', 'rs4657096', 'rs7601174', 'rs1922509', 'rs57478549', 'rs56337538', 'rs1701503', 'rs3787041', 'rs28517792', 'rs6867961', 'rs1552818', 'rs543818', 'rs9552079', 'rs7144401', 'rs10135849', 'rs55678639', 'rs72610725', 'rs78434021', 'rs147955163', 'rs2248154', 'rs143465014', 'rs1001545', 'rs28665840', 'rs112614057', 'rs169046', 'rs13118856', 'rs7907452', 'rs56905042', 'rs35326655', 'rs35539011', 'rs16987472', 'rs740143', 'rs111856737', 'rs9443212', 'rs4235225', 'rs11948256', 'rs6984421', 'rs55850302', 'rs3732401', 'rs6568592', 'rs7095368', 'rs1041460', 'rs6563968', 'rs7495053', 'rs58005475', 'rs8086387', 'rs60300452', 'rs13179672', 'rs7907898', 'rs144817924', 'rs115476019', 'rs577367140', 'rs2939687', 'rs6132819', 'rs1930786', 'rs7598328', 'rs11223350', 'rs138650786', 'rs2790372', 'rs6559104', 'rs73728621', 'rs13212903', 'rs41563537', 'rs66793139', 'rs6827413', 'rs12711525', 'rs6095020', 'rs10065405', 'rs12926355', 'rs1474323', 'rs57955338', 'rs2298621', 'rs2621384', 'rs11035528', 'rs9373961', 'rs12366265', 'rs721061', 'rs6817657', 'rs7787384', 'rs1985341', 'rs7017775', 'rs6942607', 'rs1571802', 'rs56073562', 'rs4303259', 'rs6550443', 'rs111978852', 'rs11652590', 'rs9257149', 'rs2473351', 'rs2075519', 'rs7255307', 'rs869243', 'rs114232894', 'rs942463', 'rs552520482', 'rs10840615', 'rs3814739', 'rs707988', 'rs571015', 'rs17162391', 'rs34868797', 'rs7226407', 'rs137116', 'rs72627233', 'rs61125832', 'rs4504573', 'rs34002426', 'rs78558010', 'rs4848618', 'rs2085209', 'rs6731967', 'rs7946453', 'rs12725114', 'rs2631367', 'rs13254109', 'rs1065177', 'rs12525536', 'rs35924948', 'rs6562972', 'rs11265040', 'rs11151605', 'rs62443797', 'rs10235725', 'rs59957068', 'rs379048', 'rs34924761', 'rs148259562', 'rs4240420', 'rs10989206', 'rs76257300', 'rs67811221', 'rs1816146', 'rs4592886', 'rs1439619', 'rs11492862', 'rs1018562', 'rs113984382', 'rs4987611', 'rs58703070', 'rs11025969', 'rs12233304', 'rs71502329', 'rs62313396', 'rs9874524', 'rs1109729', 'rs2278929', 'rs1852454', 'rs2540702', 'rs2661543', 'rs2676072', 'rs4781566', 'rs78297831', 'rs59596441', 'rs10950778', 'rs11171269', 'rs4264922', 'rs4913396', 'rs59829975', 'rs60388651', 'rs7296385', 'rs12495073', 'rs72707292', 'rs148311780', 'rs9844780', 'rs418373', 'rs60339019', 'rs16976129', 'rs2065051', 'rs7087399', 'rs6049861', 'rs2758948', 'rs4353174', 'rs10901761', 'rs1638438', 'rs7002522', 'rs7625743', 'rs6915719', 'rs6487401', 'rs7681869', 'rs10092931', 'rs10039149', 'rs1003704', 'rs9373938', 'rs1052887', 'rs10952365', 'rs6094515', 'rs3738689', 'rs35823108', 'rs7869563', 'rs5015958', 'rs200546764', 'rs4391422', 'rs6997357', 'rs1546854', 'rs1512731', 'rs157483', 'rs73141608', 'rs3849019', 'rs11626278', 'rs1052823', 'rs8088480', 'rs9650372', 'rs9863410', 'rs12751074', 'rs10941992', 'rs12138458', 'rs2354636', 'rs57115773', 'rs10931653', 'rs7762587', 'rs12420071', 'rs399889', 'rs7139872', 'rs62443790', 'rs7250641', 'rs145243253', 'rs78027819', 'rs449570', 'rs62221662', 'rs73630958', 'rs10437661', 'rs728479', 'rs7154825', 'rs6479228', 'rs5754377', 'rs60784003', 'rs34911462', 'rs79804764', 'rs1274494', 'rs4785505', 'rs28711174', 'rs60743604', 'rs10832326', 'rs139939195', 'rs292507', 'rs7200988', 'rs13284428', 'rs10878194', 'rs6427806', 'rs3781127', 'rs147926887', 'rs6857515', 'rs115261661', 'rs77449466', 'rs34259763', 'rs114581382', 'rs2853251', 'rs10140610', 'rs6950726', 'rs4774616', 'rs151336', 'rs4561220', 'rs62500669', 'rs6738326', 'rs56084132', 'rs292602', 'rs317845', 'rs2977998', 'rs4965402', 'rs196378', 'rs78986931', 'rs6045577', 'rs62278697', 'rs9456245', 'rs10080927', 'rs1995863', 'rs4333548', 'rs376190632', 'rs73270884', 'rs61241225', 'rs16928468', 'rs7856329', 'rs142515361', 'rs77473067', 'rs7225880', 'rs978249', 'rs1730895', 'rs75048455', 'rs5935834', 'rs17426359', 'rs2125456', 'rs7759601', 'rs45452496', 'rs57151294', 'rs9649434', 'rs7052284', 'rs58315603', 'rs115233614', 'rs8044057', 'rs114425358', 'rs10443963', 'rs2543049', 'rs33158', 'rs734844', 'rs11100801', 'rs468917', 'rs6980856', 'rs2689145', 'rs3822547', 'rs7228231', 'rs57286718', 'rs10504609', 'rs9739320', 'rs113939524', 'rs9320526', 'rs73662316', 'rs145434202', 'rs17151565', 'rs1859090', 'rs77338916', 'rs1109086', 'rs144901907', 'rs6138046', 'rs2174012', 'rs4683930', 'rs7925399', 'rs4416523', 'rs113285245', 'rs7076646', 'rs1172378', 'rs12641115', 'rs9678110', 'rs34021301', 'rs4815716', 'rs79048431', 'rs5957921', 'rs62256517', 'rs6846635', 'rs3738169', 'rs3763191', 'rs61707145', 'rs9560020', 'rs4721927', 'rs72817653', 'rs145051751', 'rs75552873', 'rs9526839', 'rs139704456', 'rs7479282', 'rs7829544', 'rs80018435', 'rs34906768', 'rs1895336', 'rs7994111', 'rs7606181', 'rs114444199', 'rs67949567', 'rs10990551', 'rs6049859', 'rs1980532', 'rs12041762', 'rs2587972', 'rs11195910', 'rs474597', 'rs9405987', 'rs9445709', 'rs12076052', 'rs476756', 'rs115698743', 'rs12551209', 'rs2395344', 'rs60117866', 'rs2277458', 'rs4349573', 'rs486902', 'rs181372', 'rs17021307', 'rs4550288', 'rs7713229', 'rs12911402', 'rs182943587', 'rs1620933', 'rs2292191', 'rs217486', 'rs11643628', 'rs9398014', 'rs11257913', 'rs4289641', 'rs34260568', 'rs910598', 'rs7995715', 'rs885996', 'rs7715608', 'rs73068358', 'rs469581', 'rs9931643', 'rs10423436', 'rs8055743', 'rs131749', 'rs11826216', 'rs139471268', 'rs6049860', 'rs1473890', 'rs112892561', 'rs73995109', 'rs560637013', 'rs532343272', 'rs7529387', 'rs7071768', 'rs12537518', 'rs4795402', 'rs62381795', 'rs143002802', 'rs2139478', 'rs2395804', 'rs2167602', 'rs17701824', 'rs1148702', 'rs9825118', 'rs4318804', 'rs11651195', 'rs2306257', 'rs504850', 'rs640501', 'rs281727', 'rs6701868', 'rs67618179', 'rs1640566', 'rs12204856', 'rs34957786', 'rs1153551', 'rs7509857', 'rs3115922', 'rs61833129', 'rs76228256', 'rs6878742', 'rs13014434', 'rs899761', 'rs62447605', 'rs138816131', 'rs1610319', 'rs2255258', 'rs3852764', 'rs4826034', 'rs72686906', 'rs1840105', 'rs362269', 'rs7913830', 'rs6982539', 'rs16866330', 'rs55746811', 'rs11585145', 'rs79897243', 'rs13112599', 'rs28820681', 'rs56187939', 'rs16947455', 'rs7769906', 'rs2198509', 'rs73727307', 'rs10905496', 'rs13411363', 'rs4655365', 'rs112245872', 'rs1326136', 'rs4915722', 'rs60419096', 'rs11137836', 'rs66484704', 'rs2354633', 'rs2597805', 'rs13258455', 'rs9736653', 'rs7496006', 'rs7943316', 'rs12130868', 'rs56122620', 'rs61952220', 'rs117311407', 'rs11245655', 'rs11870', 'rs56898053', 'rs9353949', 'rs6493164', 'rs1351163', 'rs6754597', 'rs11032152', 'rs10932930', 'rs72925119', 'rs73212461', 'rs59347518', 'rs7860255', 'rs221303', 'rs146127134', 'rs4553454', 'rs12777173', 'rs11173947', 'rs376170777', 'rs11263591', 'rs4321514', 'rs6612778', 'rs72822602', 'rs4548554', 'rs2995802', 'rs9361508', 'rs805948', 'rs72801958', 'rs9616408', 'rs61984756', 'rs183169490', 'rs6810108', 'rs2616146', 'rs11927147', 'rs112896101', 'rs2850957', 'rs6766793', 'rs60670283', 'rs12081850', 'rs116174510', 'rs2536582', 'rs77875963', 'rs2286470', 'rs639527', 'rs72784479', 'rs4843592', 'rs10826857', 'rs4324349', 'rs6095019', 'rs58637048', 'rs62229264', 'rs17516133', 'rs7675380', 'rs1105076', 'rs7934379', 'rs2284680', 'rs5926949', 'rs4782346', 'rs2079997', 'rs35036213', 'rs2181495', 'rs10957029', 'rs7924326', 'rs3027878', 'rs6794986', 'rs73626487', 'rs6768196', 'rs3019368', 'rs4073840', 'rs9511216', 'rs12459932', 'rs9532191', 'rs61707670', 'rs142180358', 'rs915750', 'rs7801817', 'rs12031612', 'rs9300393', 'rs376240', 'rs2025189', 'rs62182115', 'rs4805203', 'rs11874761', 'rs4856101', 'rs28475415', 'rs5024631', 'rs370180181', 'rs56118615', 'rs2081356', 'rs9396674', 'rs1919692', 'rs7156914', 'rs13154338', 'rs9525364', 'rs12800438', 'rs12085792', 'rs11793942', 'rs7743191', 'rs34987556', 'rs13324965', 'rs2358603', 'rs3912236', 'rs3823764', 'rs13298905', 'rs62024848', 'rs6950224', 'rs34581135', 'rs9410296', 'rs58853553', 'rs73144886', 'rs112957822', 'rs10180298', 'rs4292499', 'rs7987353', 'rs2635514', 'rs73396018', 'rs6612762', 'rs4610627', 'rs9895439', 'rs6063162', 'rs239647', 'rs55858150', 'rs7446039', 'rs4669983', 'rs6669871', 'rs1519138', 'rs7668501', 'rs313673', 'rs6042268', 'rs60091140', 'rs62385931', 'rs7818106', 'rs2112930', 'rs10240449', 'rs34173458', 'rs191976923', 'rs11102809', 'rs4988776', 'rs76339943', 'rs8066189', 'rs60135481', 'rs12451489', 'rs3748493', 'rs531126', 'rs6991964', 'rs13200468', 'rs116785812', 'rs12033619', 'rs6957831', 'rs734307', 'rs4099838', 'rs10130238', 'rs6894419', 'rs9300458', 'rs68007081', 'rs34100764', 'rs2208243', 'rs5024630', 'rs9363006', 'rs7193632', 'rs1298182', 'rs332804', 'rs3743267', 'rs115994047', 'rs9260759', 'rs1961462', 'rs6050824', 'rs4682206', 'rs844219', 'rs80309103', 'rs2775197', 'rs13062778', 'rs2198510', 'rs11816508', 'rs4284174', 'rs61863428', 'rs62278590', 'rs59751455', 'rs7656191', 'rs6574613', 'rs3738505', 'rs9261465', 'rs9521309', 'rs2310998', 'rs7323051', 'rs2103760', 'rs745456', 'rs6665698', 'rs79694891', 'rs4882601', 'rs7281105', 'rs7841739', 'rs6709708', 'rs2637260', 'rs12703134', 'rs10440150', 'rs10783232', 'rs9858757', 'rs142082236', 'rs80275618', 'rs4882017', 'rs11977626', 'rs6840723', 'rs7564630', 'rs1973845', 'rs11263456', 'rs10950776', 'rs617309', 'rs26152', 'rs6665636', 'rs2231318', 'rs28671264', 'rs6597144', 'rs62576976', 'rs7926053', 'rs2459217', 'rs1927246', 'rs2641406', 'rs9637829', 'rs7496326', 'rs74390814', 'rs28667821', 'rs12904988', 'rs8077265', 'rs58324269', 'rs1609746', 'rs12547475', 'rs61849764', 'rs56328358', 'rs4856103', 'rs846222', 'rs28522034', 'rs13439237', 'rs62024787', 'rs6820038', 'rs6971908', 'rs77864647', 'rs12934551', 'rs2129866', 'rs4327926', 'rs73347086', 'rs78205973', 'rs80283923', 'rs16894010', 'rs2541511', 'rs115971854', 'rs2296744', 'rs10227256', 'rs1866710', 'rs11900638', 'rs72786118', 'rs79602670', 'rs56272992', 'rs9566704', 'rs60216570', 'rs72860091', 'rs12644195', 'rs13179675', 'rs2461041', 'rs9835593', 'rs2609308', 'rs4745311', 'rs28693921', 'rs4683404', 'rs11120219', 'rs71371018', 'rs4934157', 'rs13383256', 'rs10496196', 'rs62296099', 'rs73174420', 'rs73165962', 'rs61937641', 'rs1926186', 'rs12489459', 'rs55699792', 'rs7978547', 'rs28646230', 'rs8109223', 'rs12495992', 'rs6717323', 'rs1377330', 'rs6124314', 'rs10413680', 'rs10403516', 'rs1791371', 'rs5020820', 'rs62436305', 'rs66860792', 'rs36084087', 'rs681747', 'rs4908742', 'rs79453617', 'rs9516038', 'rs61083230', 'rs77759915', 'rs34219338', 'rs113469594', 'rs2002320', 'rs9569927', 'rs6935039', 'rs11889659', 'rs930604', 'rs432854', 'rs11136093', 'rs7410601', 'rs11111809', 'rs11742946', 'rs11224243', 'rs4517095', 'rs116383332', 'rs13103844', 'rs9940005', 'rs2710274', 'rs2183579', 'rs58499833', 'rs77883850', 'rs11909093', 'rs2279657', 'rs6487037', 'rs13075824', 'rs1899283', 'rs9488', 'rs6459354', 'rs114373608', 'rs1106298', 'rs34408786', 'rs111908963', 'rs7905147', 'rs35726542', 'rs2607082', 'rs6621362', 'rs2203025', 'rs9687099', 'rs5914718', 'rs797553', 'rs10081696', 'rs1193336', 'rs9541251', 'rs10023721', 'rs12880866', 'rs2084233', 'rs3733151', 'rs71508098', 'rs12578228', 'rs824674', 'rs111409314', 'rs61785091', 'rs138157852', 'rs12564837', 'rs3773744', 'rs116753584', 'rs79010750', 'rs10883368', 'rs11613743', 'rs2183148', 'rs17142630', 'rs10429904', 'rs113383994', 'rs77780367', 'rs825094', 'rs2694941', 'rs11001266', 'rs7081922', 'rs67188507', 'rs9634168', 'rs9764447', 'rs58489684', 'rs75626240', 'rs192826057', 'rs7095599', 'rs17133647', 'rs10886847', 'rs11154734', 'rs111631473', 'rs3750622', 'rs3818496', 'rs116282937', 'rs4430151', 'rs9915667', 'rs117065057', 'rs11890517', 'rs115403866', 'rs332702', 'rs62513401', 'rs1967705', 'rs6024336', 'rs79514325', 'rs9815796', 'rs11021319', 'rs7073568', 'rs6669194', 'rs56150222', 'rs116747330', 'rs4838552', 'rs147588867', 'rs2092794', 'rs1510662', 'rs11664365', 'rs5015957', 'rs146130425', 'rs13117119', 'rs2790533', 'rs2281762', 'rs6531987', 'rs1073123', 'rs59341613', 'rs1533750', 'rs371087', 'rs7319296', 'rs12549973', 'rs6140595', 'rs2497770', 'rs113816824', 'rs3995545', 'rs494609', 'rs115316334', 'rs434692', 'rs4399891', 'rs575575892', 'rs12457004', 'rs150483918', 'rs62488537', 'rs10143401', 'rs6891637', 'rs8051507', 'rs11203205', 'rs73561851', 'rs58550177', 'rs10056373', 'rs61944563', 'rs1123339', 'rs28458326', 'rs2803471', 'rs28493303', 'rs144832806', 'rs6796089', 'rs61368357', 'rs11852252', 'rs685403', 'rs10979340', 'rs255037', 'rs9410966', 'rs9523610', 'rs4782678', 'rs4534464', 'rs10165324', 'rs2309948', 'rs6672955', 'rs4817609', 'rs115779761', 'rs4498446', 'rs11222416', 'rs150577796', 'rs7166822', 'rs35746990', 'rs2738798', 'rs28362529', 'rs6498653', 'rs2237339', 'rs3758159', 'rs7750534', 'rs116815954', 'rs558327', 'rs75686397', 'rs115811634', 'rs9416017', 'rs5922944', 'rs4777879', 'rs75230795', 'rs17311303', 'rs6836682', 'rs11111903', 'rs4312346', 'rs9944069', 'rs4351994', 'rs176654', 'rs11800598', 'rs1549796', 'rs2593140', 'rs9354044', 'rs11103694', 'rs7936752', 'rs61740019', 'rs72753428', 'rs9819770', 'rs3813488', 'rs1898435', 'rs12211764', 'rs229119', 'rs583745', 'rs4717478', 'rs4020331', 'rs7897698', 'rs8049306', 'rs4610733', 'rs201756413', 'rs28911496', 'rs1391442', 'rs140661206', 'rs12766648', 'rs12784437', 'rs12806006', 'rs146098127', 'rs677231', 'rs185804384', 'rs3820908', 'rs186568730', 'rs61614496', 'rs12962182', 'rs28410896', 'rs41464748', 'rs10828406', 'rs7196911', 'rs10886605', 'rs9569158', 'rs494705', 'rs2731983', 'rs61203418', 'rs73055503', 'rs969667', 'rs7106224', 'rs12256617', 'rs2713879', 'rs78568092', 'rs547811089', 'rs144897524', 'rs2202512', 'rs35459813', 'rs10784071', 'rs716779', 'rs78822157', 'rs12230486', 'rs7481769', 'rs1883200', 'rs7743168', 'rs9976956', 'rs4564552', 'rs4480785', 'rs9642671', 'rs76132363', 'rs5929487', 'rs78410641', 'rs3743953', 'rs4252668', 'rs2724156', 'rs361524', 'rs542551', 'rs11858997', 'rs77703905', 'rs2282171', 'rs1000262', 'rs7621258', 'rs2010902', 'rs114754639', 'rs28756258', 'rs4440236', 'rs2858505', 'rs55697723', 'rs745361', 'rs112938523', 'rs7160213', 'rs61952219', 'rs4531035', 'rs1582057', 'rs17842571', 'rs7642541', 'rs1143688', 'rs28665090', 'rs10736569', 'rs9646954', 'rs2162806', 'rs2808066', 'rs55684823', 'rs1704663', 'rs969669', 'rs4998333', 'rs12365548', 'rs7971399', 'rs56286428', 'rs2688322', 'rs9481356', 'rs3806732', 'rs7256037', 'rs7943593', 'rs7128399', 'rs10183506', 'rs6018983', 'rs111401571', 'rs2511516', 'rs4687322', 'rs35021733', 'rs433645', 'rs12922159', 'rs73165963', 'rs34597799', 'rs375540', 'rs16857276', 'rs2303284', 'rs7120139', 'rs35657689', 'rs9532192', 'rs17112911', 'rs7308323', 'rs7994930', 'rs56866777', 'rs6703459', 'rs72936593', 'rs1818094', 'rs2116466', 'rs17108731', 'rs606973', 'rs7718676', 'rs11529459', 'rs75996519', 'rs3766744', 'rs116822958', 'rs12441854', 'rs2540699', 'rs2691439', 'rs133987', 'rs112793955', 'rs687405', 'rs2979953', 'rs145428168', 'rs10808204', 'rs2932590', 'rs55746802', 'rs11675210', 'rs4631050', 'rs510803', 'rs8095722', 'rs34676488', 'rs199838993', 'rs4843336', 'rs1966962', 'rs57813117', 'rs335353', 'rs7224160', 'rs10170646', 'rs2739544', 'rs75294195', 'rs745303', 'rs6509020', 'rs4899806', 'rs11609890', 'rs11691940', 'rs543722374', 'rs10836123', 'rs1106385', 'rs2582771', 'rs10738185', 'rs3825025', 'rs1779423', 'rs179059', 'rs78348541', 'rs185590', 'rs182665395', 'rs200420280', 'rs3813769', 'rs111314256', 'rs12895062', 'rs17712090', 'rs7239959', 'rs143425985', 'rs2315263', 'rs2995034', 'rs13120356', 'rs62024788', 'rs28712767', 'rs16843412', 'rs4419796', 'rs72491392', 'rs1772372', 'rs11641732', 'rs80253933', 'rs113683119', 'rs577232493', 'rs2236386', 'rs7322890', 'rs2278930', 'rs1820439', 'rs8061962', 'rs752101', 'rs58755072', 'rs2283348', 'rs11186911', 'rs115448517', 'rs12575552', 'rs2816253', 'rs1874896', 'rs9392642', 'rs8189050', 'rs7260534', 'rs2745218', 'rs3923849', 'rs7846632', 'rs113467400', 'rs6970695', 'rs4880763', 'rs6879458', 'rs13248652', 'rs9625477', 'rs4776495', 'rs189921298', 'rs4856102', 'rs61869233', 'rs1395319', 'rs13194470', 'rs6043727', 'rs6962927', 'rs4922176', 'rs7361893', 'rs186640191', 'rs6665062', 'rs4531717', 'rs58224828', 'rs12856562', 'rs147362141', 'rs73592006', 'rs565142800', 'rs9687843', 'rs4329084', 'rs1986549', 'rs13051797', 'rs2297843', 'rs16899189', 'rs3739610', 'rs4582349', 'rs6735334', 'rs13027600', 'rs113508371', 'rs55657524', 'rs74668671', 'rs13067088', 'rs141739387', 'rs13061279', 'rs4781134', 'rs73151874', 'rs61428390', 'rs71378259', 'rs8049301', 'rs1854143', 'rs9374593', 'rs2061543', 'rs147032778', 'rs12623363', 'rs7720542', 'rs111820388', 'rs10596', 'rs73225323', 'rs148550825', 'rs13082452', 'rs198817', 'rs192133670', 'rs6792590', 'rs11129573', 'rs536916', 'rs61792375', 'rs111586715', 'rs7094877', 'rs344838', 'rs2605273', 'rs5925972', 'rs3787184', 'rs73350362', 'rs55892810', 'rs6447971', 'rs149947836', 'rs111309235', 'rs11856903', 'rs2582474', 'rs12253362', 'rs1152879', 'rs13110603', 'rs9532190', 'rs1622459', 'rs357923', 'rs6566602', 'rs11136255', 'rs7044392', 'rs2977125', 'rs6045578', 'rs7836833', 'rs9390997', 'rs10835846', 'rs7089292', 'rs62007998', 'rs9750187', 'rs4987768', 'rs3001790', 'rs113204580', 'rs10215854', 'rs2685841', 'rs2283623', 'rs11622830', 'rs12012182', 'rs827969', 'rs8042873', 'rs6540697', 'rs201531630', 'rs2885706', 'rs6814108', 'rs1929473', 'rs10417381', 'rs4851264', 'rs11660814', 'rs35811793', 'rs7935142', 'rs35087190', 'rs6772436', 'rs6744634', 'rs77399690', 'rs11714565', 'rs76517226', 'rs1400830', 'rs11784544', 'rs10149476', 'rs584941', 'rs786119', 'rs77689085', 'rs4836200', 'rs1542487', 'rs2276819', 'rs10233850', 'rs41398848', 'rs34780867', 'rs7908613', 'rs79974052', 'rs61408173', 'rs10851845', 'rs11016283', 'rs7189551', 'rs2503683', 'rs28395880', 'rs11102164', 'rs5945055', 'rs8098008', 'rs7210038', 'rs41274346', 'rs10130252', 'rs4240421', 'rs3733540', 'rs12610099', 'rs11726439', 'rs556062431', 'rs11685747', 'rs4077583', 'rs75826267', 'rs6680324', 'rs1789522', 'rs11987148', 'rs9519', 'rs13155345', 'rs2243834', 'rs7251295', 'rs12908135', 'rs1192276', 'rs1404169', 'rs157750', 'rs4806179', 'rs150159382', 'rs6595963', 'rs3746988', 'rs7160029', 'rs550015', 'rs2763260', 'rs2145069', 'rs7937198', 'rs56115042', 'rs11673726', 'rs4806668', 'rs10876030', 'rs9923061', 'rs61825796', 'rs11013745', 'rs7838815', 'rs2726951', 'rs370885423', 'rs1987164', 'rs9907354', 'rs7127942', 'rs11765421', 'rs41294762', 'rs115215648', 'rs4514478', 'rs66721546', 'rs73861006', 'rs195710', 'rs11844867', 'rs12673851', 'rs6728933', 'rs76775325', 'rs28668106', 'rs5996713', 'rs67759625', 'rs77571693', 'rs6867320', 'rs10483099', 'rs7771837', 'rs73946206', 'rs73311713', 'rs163128', 'rs59402571', 'rs58742237', 'rs71638273', 'rs73107793', 'rs75682007', 'rs1119692', 'rs4791401', 'rs17835441', 'rs10895749', 'rs740643', 'rs59746973', 'rs112471020', 'rs77945235', 'rs112144830', 'rs4848619', 'rs918434', 'rs8005719', 'rs12474913', 'rs4413319', 'rs72777603', 'rs7984291', 'rs34912726', 'rs151201488', 'rs2274743', 'rs61063081', 'rs1813204', 'rs6610998', 'rs1895934', 'rs62024786', 'rs6426610', 'rs2249081', 'rs1348898', 'rs75419538', 'rs4875743', 'rs7078773', 'rs11038313', 'rs73202376', 'rs34514276', 'rs8076592', 'rs3752091', 'rs28895291', 'rs4865521', 'rs2097388', 'rs2185491', 'rs113571245', 'rs79097930', 'rs7192012', 'rs3749147', 'rs11597154', 'rs10088805', 'rs12850205', 'rs2445727', 'rs816390', 'rs117997391', 'rs660981', 'rs76982507', 'rs1665698', 'rs2073489', 'rs189279557', 'rs370948552', 'rs4581337', 'rs10139302', 'rs1864349', 'rs6437119', 'rs4252086', 'rs11155034', 'rs2240268', 'rs10196940', 'rs2172250', 'rs74056830', 'rs35876363', 'rs6888782', 'rs7861200', 'rs2731710', 'rs13014417', 'rs661021', 'rs2559643', 'rs6114046', 'rs2183479', 'rs77093739', 'rs13117133', 'rs1029092', 'rs6835394', 'rs62506879', 'rs10418038', 'rs6424245', 'rs56997085', 'rs10902090', 'rs73290832', 'rs115242427', 'rs3779819', 'rs6930002', 'rs111688264', 'rs55865401', 'rs4692897', 'rs114471982', 'rs58349305', 'rs148445891', 'rs34886902', 'rs6807759', 'rs66953015', 'rs4129489', 'rs10840484', 'rs78443181', 'rs2233169', 'rs545807432', 'rs113429430', 'rs4403123', 'rs13402282', 'rs1341211', 'rs34258580', 'rs4682427', 'rs7911112', 'rs7977575', 'rs10963010', 'rs12842459', 'rs67696414', 'rs11630318', 'rs6086138', 'rs2291462', 'rs9995178', 'rs55872603', 'rs114762874', 'rs1693658', 'rs73458179', 'rs12388290', 'rs9429661', 'rs9872642', 'rs292023', 'rs12532885', 'rs1334692', 'rs13163739', 'rs9451826', 'rs12458778', 'rs78205965', 'rs28535256', 'rs79743953', 'rs9317169', 'rs79634753', 'rs12665893', 'rs7851366', 'rs184011507', 'rs55920192', 'rs78697562', 'rs1503213', 'rs2366340', 'rs2286708', 'rs7139857', 'rs61991588', 'rs2034763', 'rs7729529', 'rs62514343', 'rs6886030', 'rs183686155', 'rs59858864', 'rs632313', 'rs12648134', 'rs1973618', 'rs13051102', 'rs190603895', 'rs8016395', 'rs16929647', 'rs16912994', 'rs62322514', 'rs35807186', 'rs58270016', 'rs75762009', 'rs9451136', 'rs7073190', 'rs625695', 'rs3774963', 'rs73495752', 'rs12782689', 'rs56048190', 'rs6546543', 'rs406308', 'rs6487036', 'rs200154914', 'rs4682899', 'rs11060115', 'rs1324349', 'rs368417629', 'rs664147', 'rs2724945', 'rs1992994', 'rs6916374', 'rs202657', 'rs34983312', 'rs34026567', 'rs2104431', 'rs6573768', 'rs7386775', 'rs77018082', 'rs36086393', 'rs7211942', 'rs4836839', 'rs6844525', 'rs6507196', 'rs6933635', 'rs62047136', 'rs3784709', 'rs140178798', 'rs2534788', 'rs9435780', 'rs1264309', 'rs13302299', 'rs7194635', 'rs6675347', 'rs4919752', 'rs215522', 'rs11611269', 'rs148512030', 'rs10035719', 'rs558820627', 'rs76522853', 'rs10900157', 'rs2257233', 'rs2798356', 'rs7082131', 'rs7036679', 'rs7879794', 'rs12996707', 'rs1378782', 'rs13028869', 'rs4786452', 'rs681721', 'rs2032938', 'rs78936094', 'rs258682', 'rs9925137', 'rs13132684', 'rs4564664', 'rs7206550', 'rs4330994', 'rs10107729', 'rs11884930', 'rs10793068', 'rs4766081', 'rs11013542', 'rs10828404', 'rs175057', 'rs4972719', 'rs36094163', 'rs2941887', 'rs12533882', 'rs1693489', 'rs11251247', 'rs2340014', 'rs689390', 'rs142391828', 'rs2135318', 'rs7678222', 'rs6098782', 'rs4897096', 'rs191331241', 'rs7727540', 'rs60816831', 'rs4147925', 'rs1355525', 'rs35684868', 'rs202025110', 'rs35933147', 'rs1053386', 'rs143756107', 'rs9952181', 'rs7680133', 'rs62513400', 'rs139570452', 'rs79834540', 'rs7006682', 'rs6482665', 'rs7310453', 'rs139052613', 'rs2230594', 'rs2488119', 'rs7985903', 'rs17721118', 'rs572622111', 'rs6966237', 'rs28791926', 'rs146158444', 'rs7108672', 'rs10738717', 'rs66509161', 'rs12466652', 'rs10280638', 'rs75107224', 'rs62237054', 'rs662001', 'rs12039330', 'rs57285172', 'rs9997210', 'rs11669599', 'rs28095', 'rs296167', 'rs12892075', 'rs6950061', 'rs118084729', 'rs574063', 'rs4668661', 'rs1448526', 'rs7150601', 'rs769372', 'rs7603326', 'rs9318905', 'rs112612812', 'rs9940338', 'rs371260138', 'rs62033251', 'rs73765688', 'rs7788145', 'rs113485869', 'rs61974560', 'rs7296672', 'rs7665360', 'rs12462315', 'rs7573714', 'rs500293', 'rs6504238', 'rs11702666', 'rs10470431', 'rs9950179', 'rs9799110', 'rs72870711', 'rs73607425', 'rs73252142', 'rs4984708', 'rs6429526', 'rs72868157', 'rs6974882', 'rs145378707', 'rs4787874', 'rs2102115', 'rs910597', 'rs9496559', 'rs1860353', 'rs594202', 'rs2273313', 'rs726760', 'rs7921826', 'rs12794405', 'rs2666128', 'rs7064458', 'rs1842732', 'rs2153029', 'rs1244430', 'rs7097349', 'rs753478', 'rs77973130', 'rs76898377', 'rs111883196', 'rs145712990', 'rs59580852', 'rs34567997', 'rs10738718', 'rs77550403', 'rs4882855', 'rs191554209', 'rs6541933', 'rs71573449', 'rs1255721', 'rs4607311', 'rs9887994', 'rs2302153', 'rs57815556', 'rs1587516', 'rs9357065', 'rs12446127', 'rs268873', 'rs4076428', 'rs12249574', 'rs28466892', 'rs13042234', 'rs9525836', 'rs10814377', 'rs3750524', 'rs6914751', 'rs10234189', 'rs140229584', 'rs145402060', 'rs60749183', 'rs9429524', 'rs2302254', 'rs10950777', 'rs10771421', 'rs6741298', 'rs55658365', 'rs8104284', 'rs13292513', 'rs3210967', 'rs112633680', 'rs10899154', 'rs1824564', 'rs8036733', 'rs1969269', 'rs10923545', 'rs7313243', 'rs10135753', 'rs34569761', 'rs9652047', 'rs200926592', 'rs12033333', 'rs73351227', 'rs798601', 'rs2091210', 'rs16962858', 'rs13040032', 'rs35660919', 'rs34121009', 'rs2270846', 'rs1794444', 'rs10425175', 'rs11823891', 'rs6623455', 'rs2113183', 'rs8047090', 'rs7321500', 'rs17025863', 'rs56139189', 'rs7443586', 'rs5962110', 'rs62493966', 'rs2280406', 'rs2052241', 'rs116183700', 'rs12209931', 'rs9832284', 'rs1482866', 'rs10458921', 'rs4680681', 'rs436025', 'rs7302196', 'rs7311033', 'rs10500489', 'rs12933120', 'rs9468213', 'rs4905675', 'rs7002155', 'rs4801136', 'rs11228279', 'rs11810097', 'rs2367771', 'rs11236115', 'rs13255268', 'rs2010777', 'rs73509363', 'rs113224226', 'rs143338717', 'rs7013209', 'rs264869', 'rs13331556', 'rs6752908', 'rs11918795', 'rs7748205', 'rs9298900', 'rs10901554', 'rs1946255', 'rs10741951', 'rs10412340', 'rs2071225', 'rs60733669', 'rs59288215', 'rs17447211', 'rs79080661', 'rs2869675', 'rs476843', 'rs61991589', 'rs6905093', 'rs7159496', 'rs2647421', 'rs12537454', 'rs11968947', 'rs11664787', 'rs79616908', 'rs2685840', 'rs11559314', 'rs9589882', 'rs9998119', 'rs187520341', 'rs113852132', 'rs11113890', 'rs8002036', 'rs568953718', 'rs17081260', 'rs377512282', 'rs11009099', 'rs7174285', 'rs114692321', 'rs10793361', 'rs9389317', 'rs61999951', 'rs6465743', 'rs34751241', 'rs961339', 'rs11569301', 'rs12935709', 'rs144724124', 'rs113729792', 'rs62592229', 'rs12030741', 'rs16834090', 'rs598505', 'rs637458', 'rs58502467', 'rs9642759', 'rs73091841', 'rs10912897', 'rs7964223', 'rs1783381', 'rs9584469', 'rs2976744', 'rs378060', 'rs2545374', 'rs111626747', 'rs11985647', 'rs56301405', 'rs7785833', 'rs196588', 'rs360820', 'rs12148414', 'rs8040674', 'rs9864169', 'rs7677885', 'rs9539569', 'rs58835721', 'rs4984682', 'rs139626876', 'rs73305597', 'rs7246544', 'rs56072391', 'rs376047039', 'rs7155867', 'rs11586701', 'rs62090603', 'rs75007603', 'rs1433478', 'rs417270', 'rs55760662', 'rs1112183', 'rs9601827', 'rs3825395', 'rs2370672', 'rs6878602', 'rs28746168', 'rs681550', 'rs7281252', 'rs6753569', 'rs72989289', 'rs34647', 'rs10832962', 'rs1070073', 'rs1747727', 'rs2459095', 'rs2079996', 'rs74738354', 'rs55686736', 'rs1108301', 'rs11136218', 'rs56044934', 'rs10978594', 'rs7316434', 'rs34550122', 'rs34207813', 'rs58322344', 'rs7451008', 'rs10461619', 'rs75313963', 'rs11140019', 'rs7099707', 'rs79364263', 'rs7742216', 'rs3734479', 'rs4534404', 'rs71628494', 'rs1433793', 'rs146376492', 'rs2386621', 'rs482740', 'rs554356143', 'rs7240923', 'rs73893246', 'rs3927482', 'rs17106042', 'rs10113923', 'rs55695162', 'rs562826941', 'rs11597338', 'rs4818787', 'rs1276272', 'rs28706592', 'rs111570083', 'rs66752757', 'rs60603521', 'rs282383', 'rs10416297', 'rs60268003', 'rs13015446', 'rs76591977', 'rs76051695', 'rs113372027', 'rs16863397', 'rs79119940', 'rs4608552', 'rs2644189', 'rs6938904', 'rs72819081', 'rs72505540', 'rs11696692', 'rs12962879', 'rs7256400', 'rs61788348', 'rs2063971', 'rs189808373', 'rs111425817', 'rs574255061', 'rs10147124', 'rs10861987', 'rs112839612', 'rs77181488', 'rs35713971', 'rs9326921', 'rs11059356', 'rs116803054', 'rs113962600', 'rs10510350', 'rs141658716', 'rs2364752', 'rs8083363', 'rs13145138', 'rs13239622', 'rs9505301', 'rs80046260', 'rs41300395', 'rs60416250', 'rs7390710', 'rs59615742', 'rs456396', 'rs2201712', 'rs8120065', 'rs640179', 'rs61442100', 'rs7296597', 'rs7768893', 'rs73612454', 'rs1014290', 'rs2645429', 'rs73426565', 'rs4456788', 'rs9610646', 'rs7935249', 'rs1847922', 'rs216907', 'rs5992955', 'rs5028941', 'rs6467823', 'rs144013453', 'rs193290661', 'rs73310398', 'rs2424683', 'rs11058261', 'rs3781424', 'rs73206341', 'rs154319', 'rs2522817', 'rs11686960', 'rs11024531', 'rs1994779', 'rs112970840', 'rs11110965', 'rs7188498', 'rs7773074', 'rs11990734', 'rs4963461', 'rs9544525', 'rs28766311', 'rs77472930', 'rs7537948', 'rs6668143', 'rs58399329', 'rs9366146', 'rs8067835', 'rs3804749', 'rs7760243', 'rs13113741', 'rs35238496', 'rs555861', 'rs9559023', 'rs145480368', 'rs10957566', 'rs1974430', 'rs10160648', 'rs799100', 'rs7591981', 'rs6824076', 'rs1133882', 'rs12049614', 'rs6541059', 'rs759356', 'rs61837215', 'rs6576632', 'rs111335406', 'rs60809376', 'rs113752547', 'rs352311', 'rs631116', 'rs7002421', 'rs116062427', 'rs62599440', 'rs62382255', 'rs72808166', 'rs149279238', 'rs607792', 'rs1513800', 'rs11256898', 'rs61188696', 'rs362750', 'rs13434843', 'rs61699523', 'rs2134709', 'rs17117611', 'rs113091113', 'rs7821727', 'rs8453', 'rs7252649', 'rs7061199', 'rs11659208', 'rs149019491', 'rs4778382', 'rs10201832', 'rs4078252', 'rs6473610', 'rs1008210', 'rs1563645', 'rs73265201', 'rs72621626', 'rs9962296', 'rs7141912', 'rs16988790', 'rs111465842', 'rs72925132', 'rs7753899', 'rs114450721', 'rs12378833', 'rs201827705', 'rs1915786', 'rs2070178', 'rs58685485', 'rs10143212', 'rs2217075', 'rs1718454', 'rs8048885', 'rs4926460', 'rs12965619', 'rs13263909', 'rs7580912', 'rs111672975', 'rs77514214', 'rs11742995', 'rs73351228', 'rs10860989', 'rs11258655', 'rs1150625', 'rs9899243', 'rs12777240', 'rs9555184', 'rs55794132', 'rs1912719', 'rs2076957', 'rs1152057', 'rs11165163', 'rs114683688', 'rs2931829', 'rs936181', 'rs2275081', 'rs4822773', 'rs7170630', 'rs6424817', 'rs3736641', 'rs7750841', 'rs4713340', 'rs4491126', 'rs58721636', 'rs193048796', 'rs13383405', 'rs6914748', 'rs28914830', 'rs13362320', 'rs12605890', 'rs7645759', 'rs12462312', 'rs59489997', 'rs692612', 'rs2855753', 'rs16908770', 'rs2720263', 'rs9578783', 'rs111811639', 'rs56153521', 'rs114156560', 'rs1265268', 'rs2072349', 'rs258683', 'rs6966921', 'rs3740344', 'rs55673009', 'rs7260533', 'rs56148156', 'rs113337278', 'rs12049173', 'rs2873309', 'rs10792858', 'rs34503834', 'rs2241462', 'rs3113081', 'rs73226508', 'rs225401', 'rs11643450', 'rs3750525', 'rs10884997', 'rs7260736', 'rs72936596', 'rs12080209', 'rs8047465', 'rs2807835', 'rs428438', 'rs55666112', 'rs693802', 'rs55840773', 'rs202234133', 'rs7066805', 'rs7337876', 'rs3807227', 'rs1469166', 'rs1939752', 'rs111423520', 'rs34861151', 'rs12538584', 'rs1210081', 'rs200698882', 'rs4982710', 'rs74682426', 'rs7579559', 'rs6818566', 'rs2184298', 'rs7703730', 'rs10193848', 'rs9767512', 'rs6923166', 'rs6837906', 'rs2928211', 'rs9849379', 'rs10283129', 'rs6098239', 'rs11243505', 'rs7997189', 'rs1398329', 'rs1370602', 'rs201009466', 'rs2596163', 'rs748070', 'rs2632631', 'rs148152366', 'rs7335249', 'rs59301856', 'rs7015022', 'rs28653125', 'rs12630884', 'rs72503823', 'rs170985', 'rs7602827', 'rs9362087', 'rs7696061', 'rs72702116', 'rs78679072', 'rs58046590', 'rs117916615', 'rs147223916', 'rs141276130', 'rs17010277', 'rs10797024', 'rs145672020', 'rs7309392', 'rs10471461', 'rs147177945', 'rs113940568', 'rs2682762', 'rs239646', 'rs58863499', 'rs114208005', 'rs11542015', 'rs72775902', 'rs5992451', 'rs199789240', 'rs5966454', 'rs62190435', 'rs9643317', 'rs75351856', 'rs7203808', 'rs115810162', 'rs13001570', 'rs7196942', 'rs73885250', 'rs151915', 'rs62609678', 'rs6920284', 'rs6440855', 'rs12424060', 'rs2303401', 'rs76507605', 'rs9284268', 'rs6566552', 'rs35555014', 'rs1866711', 'rs11163977', 'rs3759344', 'rs4977555', 'rs2510446', 'rs4473241', 'rs35224314', 'rs9907871', 'rs73358382', 'rs12349952', 'rs11614702', 'rs34306200', 'rs859326', 'rs1866524', 'rs72729452', 'rs7678253', 'rs28494609', 'rs401913', 'rs1609053', 'rs113303282', 'rs2143104', 'rs199665553', 'rs2497771', 'rs73839928', 'rs171240', 'rs77665116', 'rs527206', 'rs12259496', 'rs10096918', 'rs61225515', 'rs2173880', 'rs6438871', 'rs510288', 'rs964343', 'rs10924014', 'rs7625068', 'rs4240378', 'rs10010677', 'rs1331597', 'rs150219457', 'rs2013158', 'rs78292392', 'rs2578250', 'rs7076776', 'rs56246515', 'rs4621903', 'rs6008361', 'rs1563646', 'rs9758066', 'rs373441805', 'rs1981507', 'rs60167601', 'rs13198081', 'rs79250154', 'rs9990632', 'rs113284347', 'rs12811934', 'rs4074059', 'rs304256', 'rs11666419', 'rs290843', 'rs10185835', 'rs10813184', 'rs4949421', 'rs1122913', 'rs3793143', 'rs9824745', 'rs114557691', 'rs1860691', 'rs547191', 'rs200330', 'rs7158155', 'rs4823096', 'rs78175408', 'rs11070560', 'rs9962300', 'rs28546466', 'rs6464388', 'rs2706027', 'rs2072964', 'rs2265211', 'rs11996008', 'rs1326305', 'rs9610371', 'rs2890817', 'rs185796713', 'rs138572405', 'rs10064473', 'rs150796733', 'rs191184389', 'rs11973996', 'rs822770', 'rs13037184', 'rs141359756', 'rs10418205', 'rs6101110', 'rs3006729', 'rs62274958', 'rs13182147', 'rs643776', 'rs1537725', 'rs61649613', 'rs9343488', 'rs59227696', 'rs7233203', 'rs111870573', 'rs75493996', 'rs60685370', 'rs34083791', 'rs74064842', 'rs4428434', 'rs62391785', 'rs8014043', 'rs140092379', 'rs9321089', 'rs1217755', 'rs10978401', 'rs10113773', 'rs1807895', 'rs10733587', 'rs6742339', 'rs56995385', 'rs62098012', 'rs72735596', 'rs2698196', 'rs8070154', 'rs56212929', 'rs11693746', 'rs6732547', 'rs3095447', 'rs116441302', 'rs76433310', 'rs57192410', 'rs5028944', 'rs8131103', 'rs10752211', 'rs61172961', 'rs1788455', 'rs6642142', 'rs4329482', 'rs116081068', 'rs142118483', 'rs3019369', 'rs2847571', 'rs11890112', 'rs2728613', 'rs2270282', 'rs4697067', 'rs34092437', 'rs7099025', 'rs6949538', 'rs10840263', 'rs35756807', 'rs6139941', 'rs12432882', 'rs58026852', 'rs10906383', 'rs6935491', 'rs112244038', 'rs58689209', 'rs512128', 'rs6950237', 'rs2280742', 'rs6969879', 'rs186903062', 'rs60809509', 'rs10126210', 'rs4237547', 'rs7919381', 'rs1885878', 'rs4952799', 'rs74637212', 'rs11656903', 'rs3750621', 'rs1837538', 'rs55771207', 'rs2298673', 'rs71440841', 'rs7177660', 'rs1214909', 'rs587714', 'rs28639580', 'rs2116468', 'rs7917078', 'rs150719379', 'rs34045808', 'rs6908795', 'rs2009070', 'rs4308625', 'rs12357206', 'rs12439310', 'rs74672184', 'rs7459616', 'rs74407745', 'rs7175288', 'rs2480192', 'rs12654468', 'rs562942622', 'rs11764225', 'rs9550090', 'rs11988911', 'rs2994326', 'rs12303478', 'rs4608527', 'rs4821831', 'rs438272', 'rs4092293', 'rs73459955', 'rs4965445', 'rs340836', 'rs150625136', 'rs4761273', 'rs8085155', 'rs5917621', 'rs2669603', 'rs34693849', 'rs34206580', 'rs2287862', 'rs33917740', 'rs28810707', 'rs8068159', 'rs17401671', 'rs149461870', 'rs76681189', 'rs13289444', 'rs9953006', 'rs11919708', 'rs4306038', 'rs111613658', 'rs1273797', 'rs2154312', 'rs200734280', 'rs6720866', 'rs41271491', 'rs4522017', 'rs557810638', 'rs2949751', 'rs1395715', 'rs41454544', 'rs1722300', 'rs12439384', 'rs188979329', 'rs6023603', 'rs3097701', 'rs12457534', 'rs80132035', 'rs16904189', 'rs1018089', 'rs139324898', 'rs7869354', 'rs546810274', 'rs4807872', 'rs62599439', 'rs12971544', 'rs2377037', 'rs925524', 'rs10197693', 'rs7558847', 'rs2618165', 'rs27106', 'rs1951119', 'rs197178', 'rs10809179', 'rs7318876', 'rs4717958', 'rs4726173', 'rs1453554', 'rs9846096', 'rs74843733', 'rs493209', 'rs9975113', 'rs61179794', 'rs75324551', 'rs61739366', 'rs7573491', 'rs9520209', 'rs59602792', 'rs62116913', 'rs12028836', 'rs7503397', 'rs72899798', 'rs4955937', 'rs2274725', 'rs142386913', 'rs10108277', 'rs10184529', 'rs118022281', 'rs939457', 'rs11606688', 'rs9962254', 'rs2244324', 'rs4846767', 'rs111831654', 'rs28595430', 'rs7117857', 'rs2683993', 'rs1904947', 'rs9370194', 'rs35544251', 'rs111714645', 'rs7528916', 'rs7821716', 'rs583182', 'rs1737612', 'rs10900937', 'rs33901', 'rs694316', 'rs76255472', 'rs2019562', 'rs12983897', 'rs10744553', 'rs17195116', 'rs61102333', 'rs4674596', 'rs115179992', 'rs77709308', 'rs114613008', 'rs55952321', 'rs61983291', 'rs77036152', 'rs1046657', 'rs13010963', 'rs4147926', 'rs10916725', 'rs1134281', 'rs964216', 'rs579459', 'rs66524260', 'rs9257404', 'rs73118468', 'rs4431982', 'rs4879682', 'rs261868', 'rs11781630', 'rs4410545', 'rs10159636', 'rs2149761', 'rs10757865', 'rs9650371', 'rs2901620', 'rs451054', 'rs4765972', 'rs7148213', 'rs9401679', 'rs1609606', 'rs72490775', 'rs199778116', 'rs260381', 'rs1784559', 'rs1464158', 'rs9809213', 'rs2546392', 'rs10989244', 'rs13217022', 'rs1837425', 'rs55785724', 'rs11660029', 'rs56933952', 'rs845580', 'rs7944859', 'rs4727620', 'rs10099448', 'rs570699268', 'rs55703354', 'rs11239767', 'rs1320578', 'rs13432448', 'rs676143', 'rs9965193', 'rs7152847', 'rs75546038', 'rs17121181', 'rs9561321', 'rs10245775', 'rs9516851', 'rs7696808', 'rs6415542', 'rs9923269', 'rs61983514', 'rs12087745', 'rs56936161', 'rs9511784', 'rs12533401', 'rs2000302', 'rs143672299', 'rs12415435', 'rs3803170', 'rs75260416', 'rs479563', 'rs10845152', 'rs6925188', 'rs12194273', 'rs11948767', 'rs847351', 'rs55660989', 'rs2899893', 'rs1056103', 'rs7690014', 'rs57842924', 'rs41286558', 'rs4305509', 'rs113981686', 'rs61746467', 'rs7549604', 'rs3956754', 'rs58328275', 'rs1605203', 'rs13180287', 'rs7198835', 'rs9642139', 'rs145262909', 'rs11732150', 'rs4794799', 'rs157168', 'rs9376814', 'rs116858512', 'rs7842344', 'rs2273314', 'rs34192225', 'rs6441957', 'rs35933313', 'rs11844863', 'rs7130416', 'rs13077141', 'rs6907704', 'rs7239147', 'rs1426403', 'rs1657470', 'rs1455204', 'rs4940611', 'rs910759', 'rs2192680', 'rs7250208', 'rs56380554', 'rs200016840', 'rs10143382', 'rs539584', 'rs285295', 'rs117400415', 'rs7589769', 'rs10948128', 'rs67884709', 'rs17189763', 'rs58918906', 'rs2460270', 'rs1975824', 'rs4973641', 'rs75232661', 'rs203283', 'rs4244811', 'rs10817046', 'rs61253361', 'rs9552843', 'rs3734361', 'rs1160014', 'rs6657638', 'rs9791270', 'rs6909752', 'rs59509160', 'rs58209209', 'rs4703486', 'rs2143220', 'rs73362744', 'rs6677987', 'rs79697126', 'rs2292370', 'rs2110349', 'rs874337', 'rs191143966', 'rs75838206', 'rs2709246', 'rs437651', 'rs73326368', 'rs4234088', 'rs12800521', 'rs10147550', 'rs822547', 'rs307024', 'rs7906818', 'rs6776057', 'rs6966866', 'rs1906496', 'rs13148345', 'rs2081056', 'rs116409593', 'rs6945501', 'rs9770159', 'rs114419915', 'rs2071476', 'rs2282580', 'rs113259280', 'rs7828067', 'rs74496031', 'rs75629414', 'rs3737182', 'rs7196949', 'rs4348217', 'rs6567676', 'rs12233562', 'rs146816975', 'rs4670504', 'rs58167910', 'rs11180159', 'rs4968721', 'rs11625347', 'rs892452', 'rs57323380', 'rs241310', 'rs57228259', 'rs6051524', 'rs11236116', 'rs3806930', 'rs2146428', 'rs1004558', 'rs4072736', 'rs74540313', 'rs6060297', 'rs7124571', 'rs34820026', 'rs10847643', 'rs10753783', 'rs199252', 'rs10876469', 'rs7707210', 'rs1367973', 'rs9268521', 'rs7201853', 'rs827961', 'rs8071761', 'rs1547169', 'rs57580920', 'rs1109568', 'rs13101688', 'rs1451983', 'rs3807193', 'rs74124132', 'rs9718970', 'rs2823858', 'rs2277698', 'rs76803284', 'rs1895933', 'rs28460305', 'rs151115589', 'rs79462204', 'rs16905068', 'rs12928678', 'rs8075276', 'rs75643704', 'rs11642116', 'rs34176120', 'rs6565547', 'rs113818326', 'rs35701632', 'rs371455293', 'rs9401945', 'rs9352204', 'rs78679187', 'rs7899802', 'rs6857049', 'rs7190261', 'rs2352481', 'rs9818066', 'rs61886090', 'rs4352840', 'rs6000052', 'rs372320286', 'rs262433', 'rs12696448', 'rs61819572', 'rs143648437', 'rs55782340', 'rs4403718', 'rs1497236', 'rs544858872', 'rs9329123', 'rs4919311', 'rs12477455', 'rs563433', 'rs73486996', 'rs2358330', 'rs1889755', 'rs113064344', 'rs7321895', 'rs28762443', 'rs10840282', 'rs9939103', 'rs2269797', 'rs180790402', 'rs2516719', 'rs13011488', 'rs138626352', 'rs611003', 'rs1104902', 'rs644260', 'rs12448089', 'rs9984673', 'rs1824425', 'rs1512120', 'rs9304759', 'rs62560444', 'rs7032561', 'rs71543522', 'rs13167389', 'rs8054499', 'rs9636053', 'rs8068823', 'rs4675911', 'rs4806034', 'rs111276245', 'rs9657154', 'rs12515380', 'rs138888724', 'rs144495215', 'rs2800267', 'rs17523373', 'rs377262674', 'rs1355735', 'rs2281041', 'rs68101185', 'rs172224', 'rs76874771', 'rs371424835', 'rs4943324', 'rs4288889', 'rs79768015', 'rs78867824', 'rs1490384', 'rs9638291', 'rs10907930', 'rs11236073', 'rs117840031', 'rs62191013', 'rs13213477', 'rs429740', 'rs113279183', 'rs565372893', 'rs16970169', 'rs1745800', 'rs10772335', 'rs13286129', 'rs553888601', 'rs4402665', 'rs1565405', 'rs3212846', 'rs17130107', 'rs7175794', 'rs2145268', 'rs6563394', 'rs11062055', 'rs10827953', 'rs4813547', 'rs968689', 'rs12998909', 'rs113182271', 'rs9836096', 'rs72837510', 'rs35145420', 'rs7079520', 'rs57684257', 'rs73324987', 'rs59312515', 'rs2665102', 'rs34636773', 'rs12621257', 'rs567450831', 'rs72921458', 'rs73277263', 'rs113838713', 'rs3951216', 'rs79398649', 'rs147517681', 'rs78766358', 'rs7055949', 'rs12713756', 'rs4903231', 'rs6848536', 'rs28419457', 'rs7076116', 'rs12943535', 'rs59410597', 'rs73355839', 'rs142914985', 'rs2001078', 'rs6745887', 'rs6031298', 'rs2535923', 'rs26537', 'rs11101794', 'rs3801676', 'rs72684309', 'rs13127906', 'rs3829077', 'rs7109588', 'rs9804094', 'rs4701258', 'rs12570924', 'rs4905676', 'rs17788691', 'rs4779494', 'rs28602702', 'rs185482554', 'rs10089428', 'rs79599851', 'rs85278', 'rs2990245', 'rs12913650', 'rs72821504', 'rs239742', 'rs75754715', 'rs16847448', 'rs76777444', 'rs12676034', 'rs113045909', 'rs72830064', 'rs79837317', 'rs1965245', 'rs6597818', 'rs4855850', 'rs10095456', 'rs4809082', 'rs73088401', 'rs708966', 'rs62469189', 'rs3138488', 'rs1535669', 'rs1279734', 'rs113605812', 'rs7604796', 'rs58792515', 'rs4908540', 'rs62064680', 'rs5760782', 'rs113828572', 'rs28540380', 'rs6085019', 'rs59570355', 'rs111614781', 'rs73394027', 'rs11104866', 'rs11164871', 'rs539723', 'rs28531670', 'rs6883204', 'rs7004175', 'rs7036552', 'rs28885476', 'rs6595516', 'rs13248775', 'rs1220395', 'rs75897461', 'rs4780716', 'rs16832945', 'rs7300444', 'rs1872093', 'rs12332280', 'rs112841719', 'rs4347833', 'rs68037443', 'rs2406852', 'rs425768', 'rs2156044', 'rs11909545', 'rs7587614', 'rs1294032', 'rs9784461', 'rs28421229', 'rs6768791', 'rs1423099', 'rs2077443', 'rs3806235', 'rs1008917', 'rs34091385', 'rs13033373', 'rs7378858', 'rs79191261', 'rs542810363', 'rs561523329', 'rs199769557', 'rs62325302', 'rs55752464', 'rs9379829', 'rs12445489', 'rs74849031', 'rs9729358', 'rs6708365', 'rs116323998', 'rs7776706', 'rs12228868', 'rs12679658', 'rs10432479', 'rs6688381', 'rs1430779', 'rs79952553', 'rs66526527', 'rs4304393', 'rs7449956', 'rs61100408', 'rs147169942', 'rs10016456', 'rs670220', 'rs55701661', 'rs1465387', 'rs4901822', 'rs57272584', 'rs17173', 'rs13013779', 'rs4266302', 'rs10119586', 'rs9397454', 'rs79828494', 'rs12536561', 'rs34741137', 'rs2461983', 'rs28513488', 'rs4634634', 'rs713492', 'rs6063106', 'rs4889476', 'rs1269641', 'rs6925415', 'rs7534828', 'rs28671308', 'rs11010048', 'rs1902896', 'rs56360131', 'rs7388455', 'rs9803533', 'rs1482416', 'rs9356302', 'rs78993420', 'rs229120', 'rs10145016', 'rs12394662', 'rs9268832', 'rs74453364', 'rs7600370', 'rs145669320', 'rs2288544', 'rs1936905', 'rs73385849', 'rs1535581', 'rs1276184', 'rs1321275', 'rs2045737', 'rs4947807', 'rs374938140', 'rs340451', 'rs6819003', 'rs546437', 'rs61655672', 'rs55987373', 'rs74404687', 'rs1848530', 'rs11071378', 'rs2980810', 'rs278037', 'rs5927233', 'rs2001079', 'rs9942346', 'rs12603164', 'rs7304904', 'rs31058', 'rs1578543', 'rs2236433', 'rs1991963', 'rs2939552', 'rs7511755', 'rs6495860', 'rs28817578', 'rs7740083', 'rs111425517', 'rs117246646', 'rs10456484', 'rs7576573', 'rs58669842', 'rs7977606', 'rs196924', 'rs8111536', 'rs4882016', 'rs12918213', 'rs28701032', 'rs12486440', 'rs12407795', 'rs58693636', 'rs11035529', 'rs11785636', 'rs75653138', 'rs3772573', 'rs62233785', 'rs12420711', 'rs9857971', 'rs11806773', 'rs485265', 'rs11210577', 'rs200786980', 'rs111834998', 'rs60011038', 'rs7245624', 'rs5017200', 'rs2075427', 'rs75987815', 'rs28560269', 'rs12257551', 'rs7441250', 'rs10150848', 'rs68053269', 'rs73928559', 'rs35071239', 'rs11077990', 'rs11007393', 'rs13421616', 'rs3008651', 'rs2359748', 'rs633140', 'rs4369746', 'rs7820626', 'rs73374031', 'rs130347', 'rs72967387', 'rs2139194', 'rs11095602', 'rs10892173', 'rs8095466', 'rs9597544', 'rs7071228', 'rs1766179', 'rs9661973', 'rs187316229', 'rs75616587', 'rs28750837', 'rs1909691', 'rs500197', 'rs2196569', 'rs58441428', 'rs12601990', 'rs2080783', 'rs4275347', 'rs181964424', 'rs146628745', 'rs3798122', 'rs61192976', 'rs6037212', 'rs12578383', 'rs2780295', 'rs4460540', 'rs79420792', 'rs11246314', 'rs113651402', 'rs13059347', 'rs7862585', 'rs111640223', 'rs112338184', 'rs80190368', 'rs62508293', 'rs75864196', 'rs2441093', 'rs7664750', 'rs2459815', 'rs11988053', 'rs357605', 'rs6935590', 'rs56105585', 'rs59183076', 'rs113382749', 'rs9347107', 'rs6038072', 'rs11530025', 'rs12269192', 'rs116346528', 'rs277325', 'rs66780336', 'rs74007662', 'rs12426544', 'rs7146304', 'rs62547564', 'rs10426048', 'rs4547457', 'rs1074501', 'rs78376050', 'rs2650685', 'rs6961699', 'rs75529394', 'rs11059757', 'rs28840073', 'rs7857927', 'rs17106752', 'rs2583391', 'rs2545373', 'rs2168354', 'rs649126', 'rs6970798', 'rs4662293', 'rs74323899', 'rs5994293', 'rs145593655', 'rs73508061', 'rs78547673', 'rs12647801', 'rs150128871', 'rs12801585', 'rs11766621', 'rs193908', 'rs190607719', 'rs113453708', 'rs28874694', 'rs2498775', 'rs201294352', 'rs113419493', 'rs2298058', 'rs79748138', 'rs11981162', 'rs34447473', 'rs74131448', 'rs11042537', 'rs2437926', 'rs11065212', 'rs77353220', 'rs11924963', 'rs9897767', 'rs201936579', 'rs2857694', 'rs4798306', 'rs998771', 'rs9811568', 'rs7841016', 'rs7584587', 'rs55765518', 'rs67061065', 'rs34335039', 'rs11705639', 'rs58928438', 'rs2533878', 'rs12411603', 'rs7194400', 'rs12693579', 'rs114516080', 'rs56848748', 'rs943811', 'rs2325914', 'rs4921152', 'rs13086448', 'rs4976972', 'rs59919278', 'rs4746525', 'rs77285646', 'rs2058886', 'rs36005254', 'rs172009', 'rs76963846', 'rs1264899', 'rs6776215', 'rs12501580', 'rs11104769', 'rs74738737', 'rs9324249', 'rs12610141', 'rs4833439', 'rs914831', 'rs79812935', 'rs6820624', 'rs12035178', 'rs17642660', 'rs4979567', 'rs602990', 'rs77492033', 'rs12123485', 'rs12498717', 'rs145544632', 'rs4238545', 'rs9503493', 'rs114590043', 'rs13118941', 'rs80302701', 'rs706790', 'rs11593675', 'rs10733402', 'rs34568117', 'rs113550367', 'rs17545054', 'rs9630985', 'rs7999793', 'rs1991229', 'rs9960209', 'rs2069062', 'rs2799698', 'rs6864675', 'rs6864791', 'rs57668933', 'rs61272954', 'rs1852407', 'rs8107304', 'rs4716613', 'rs897172', 'rs6864114', 'rs33918', 'rs12010417', 'rs77843896', 'rs61565660', 'rs12967916', 'rs113133074', 'rs9429523', 'rs116043737', 'rs56017186', 'rs4003440', 'rs577828167', 'rs17150566', 'rs980014', 'rs113879395', 'rs11915209', 'rs7621062', 'rs116502604', 'rs6758675', 'rs2204628', 'rs4759281', 'rs147288131', 'rs8054', 'rs116746050', 'rs13112285', 'rs2267394', 'rs2700923', 'rs6455659', 'rs112020474', 'rs2622526', 'rs10822766', 'rs896509', 'rs2763259', 'rs16973395', 'rs12884809', 'rs1052912', 'rs56162960', 'rs6620602', 'rs2403059', 'rs60062125', 'rs58077827', 'rs11979130', 'rs34125693', 'rs3741054', 'rs1650928', 'rs10839183', 'rs564484', 'rs11643941', 'rs11933368', 'rs67798133', 'rs12531636', 'rs1008014', 'rs34146669', 'rs7095129', 'rs71654331', 'rs7001347', 'rs2023454', 'rs12464177', 'rs910976', 'rs7567023', 'rs3815343', 'rs7464893', 'rs72816265', 'rs2083100', 'rs7664427', 'rs12626426', 'rs112820220', 'rs79705321', 'rs4905677', 'rs139677986', 'rs73339660', 'rs9897034', 'rs2816031', 'rs62106204', 'rs6984376', 'rs146738118', 'rs3819500', 'rs13030560', 'rs11133924', 'rs73323314', 'rs7115241', 'rs16885577', 'rs79393529', 'rs7608378', 'rs10774644', 'rs1441042', 'rs59603019', 'rs116023836', 'rs9398704', 'rs1990394', 'rs11781375', 'rs328105', 'rs1130821', 'rs4150584', 'rs1000222', 'rs60200539', 'rs12473420', 'rs7548805', 'rs9758756', 'rs149969839', 'rs6816603', 'rs9352639', 'rs56350931', 'rs12832495', 'rs3218610', 'rs7455920', 'rs28477236', 'rs72979110', 'rs1788418', 'rs10463901', 'rs9879794', 'rs13026747', 'rs73381549', 'rs62330464', 'rs7830182', 'rs7060704', 'rs6910826', 'rs1213159', 'rs10212773', 'rs116856464', 'rs78529903', 'rs3801964', 'rs72852756', 'rs59758962', 'rs11082662', 'rs61957257', 'rs9261466', 'rs7781769', 'rs77372008', 'rs11134902', 'rs10741619', 'rs12449156', 'rs11689140', 'rs148422767', 'rs56673496', 'rs2122237', 'rs10483269', 'rs10010835', 'rs1787867', 'rs72721820', 'rs113161922', 'rs1055752', 'rs73909698', 'rs7774717', 'rs10933389', 'rs9909871', 'rs28619042', 'rs1732069', 'rs2268567', 'rs1223472', 'rs10061592', 'rs28862912', 'rs2297207', 'rs34402903', 'rs2611720', 'rs9384413', 'rs6876622', 'rs10060138', 'rs12850197', 'rs524796', 'rs188895336', 'rs7143714', 'rs2913775', 'rs10889685', 'rs9889806', 'rs28370014', 'rs74757588', 'rs10144782', 'rs10884386', 'rs9449096', 'rs9451135', 'rs141746742', 'rs62372816', 'rs977676', 'rs6780667', 'rs8036736', 'rs76885502', 'rs34244389', 'rs9698221', 'rs2281546', 'rs72659663', 'rs9398091', 'rs115066186', 'rs6624441', 'rs4484282', 'rs594067', 'rs11632120', 'rs373670', 'rs9476352', 'rs2198189', 'rs12929379', 'rs4395977', 'rs3779598', 'rs2534573', 'rs714762', 'rs1608080', 'rs847336', 'rs4816174', 'rs4799788', 'rs6804147', 'rs7376093', 'rs4534102', 'rs193087134', 'rs58035148', 'rs57927115', 'rs13226450', 'rs56260244', 'rs72892222', 'rs7862829', 'rs2940060', 'rs115034019', 'rs10797920', 'rs6663168', 'rs80297983', 'rs149830936', 'rs66947071', 'rs6975129', 'rs58715493', 'rs149638514', 'rs3957803', 'rs5743476', 'rs4877728', 'rs113413713', 'rs4263773', 'rs10403114', 'rs7063765', 'rs7195566', 'rs1535948', 'rs10473195', 'rs8066889', 'rs9636751', 'rs7281803', 'rs73845514', 'rs12198650', 'rs10773827', 'rs73036688', 'rs2552099', 'rs3113944', 'rs4736477', 'rs60318746', 'rs11019891', 'rs112818447', 'rs12544994', 'rs9268831', 'rs2005394', 'rs10260977', 'rs7188540', 'rs369367743', 'rs9698295', 'rs4375901', 'rs11768637', 'rs2993505', 'rs1421971', 'rs6555009', 'rs118049072', 'rs4766082', 'rs5020783', 'rs992454', 'rs7953883', 'rs937291', 'rs4257541', 'rs62588941', 'rs12549702', 'rs12713202', 'rs11743009', 'rs6118838', 'rs73592026', 'rs1147090', 'rs4674993', 'rs12287587', 'rs13217667', 'rs55917660', 'rs62045845', 'rs9448919', 'rs4806554', 'rs11806865', 'rs10010191', 'rs6836584', 'rs7441108', 'rs11084982', 'rs12487342', 'rs3811199', 'rs7413056', 'rs13179883', 'rs12632511', 'rs2532920', 'rs7637441', 'rs4487933', 'rs79258585', 'rs78323499', 'rs34181295', 'rs4743241', 'rs2275054', 'rs7234457', 'rs11876080', 'rs10858556', 'rs3784400', 'rs8078653', 'rs2373320', 'rs11607014', 'rs5967477', 'rs617338', 'rs7671278', 'rs41287492', 'rs4518285', 'rs3738504', 'rs75291973', 'rs9261278', 'rs11050333', 'rs55780401', 'rs4311656', 'rs72992365', 'rs73247981', 'rs77229357', 'rs4630727', 'rs12693501', 'rs10231738', 'rs13035513', 'rs2233834', 'rs56264247', 'rs113212218', 'rs10426930', 'rs11737323', 'rs35904072', 'rs12224701', 'rs1572780', 'rs8139187', 'rs11997730', 'rs73865526', 'rs12905010', 'rs73164392', 'rs7653445', 'rs1319253', 'rs12673619', 'rs41264', 'rs1136293', 'rs59226274', 'rs2618820', 'rs2002', 'rs6535569', 'rs10011337', 'rs6758764', 'rs988694', 'rs12205140', 'rs982156', 'rs2315379', 'rs1875857', 'rs73020509', 'rs7735108', 'rs967886', 'rs9627707', 'rs13007028', 'rs68086688', 'rs2789527', 'rs4867433', 'rs193113396', 'rs60268307', 'rs73617917', 'rs7275975', 'rs9557214', 'rs73167165', 'rs9389386', 'rs11231216', 'rs1378781', 'rs7437490', 'rs62082684', 'rs2467738', 'rs6937322', 'rs1491231', 'rs117246314', 'rs7302102', 'rs34822593', 'rs4901120', 'rs202223290', 'rs490780', 'rs4451042', 'rs77559545', 'rs943812', 'rs66808450', 'rs142715342', 'rs12226882', 'rs11669032', 'rs7859807', 'rs4737010', 'rs7314831', 'rs7125585', 'rs147436395', 'rs2964564', 'rs78605509', 'rs112262635', 'rs7289865', 'rs16886666', 'rs2888524', 'rs2272393', 'rs6831864', 'rs60444527', 'rs62578055', 'rs9993917', 'rs12314193', 'rs139208513', 'rs112561671', 'rs6560920', 'rs200252298', 'rs1355089', 'rs3829076', 'rs9354350', 'rs9301704', 'rs9841137', 'rs79536554', 'rs1900', 'rs145049492', 'rs56388618', 'rs9635108', 'rs3824874', 'rs10798922', 'rs550597', 'rs56708449', 'rs2399770', 'rs59846679', 'rs7969566', 'rs6961746', 'rs146855828', 'rs10920141', 'rs11071623', 'rs59279969', 'rs2439214', 'rs2910366', 'rs56016541', 'rs6743931', 'rs72968693', 'rs10124391', 'rs1863946', 'rs2312237', 'rs75317969', 'rs968666', 'rs34232841', 'rs34450864', 'rs10151846', 'rs1538971', 'rs28854810', 'rs6517548', 'rs11236460', 'rs12306277', 'rs2470864', 'rs2733621', 'rs148205558', 'rs1664262', 'rs61272163', 'rs2298688', 'rs4952360', 'rs57242128', 'rs10088730', 'rs1673086', 'rs1568826', 'rs6136465', 'rs897984', 'rs115529621', 'rs1450270', 'rs2331584', 'rs7155395', 'rs3828960', 'rs6702035', 'rs7649552', 'rs10439298', 'rs10818670', 'rs375041', 'rs4832983', 'rs80143325', 'rs59993878', 'rs62281074', 'rs6087646', 'rs2037586', 'rs4650090', 'rs3818089', 'rs2754775', 'rs11766371', 'rs376458153', 'rs11672791', 'rs9418739', 'rs2019040', 'rs613910', 'rs7029647', 'rs1095475', 'rs16853248', 'rs1316365', 'rs4882638', 'rs59704017', 'rs61131766', 'rs6893320', 'rs6430915', 'rs4907302', 'rs73663816', 'rs524915', 'rs28396702', 'rs8129858', 'rs56047443', 'rs116270250', 'rs1536828', 'rs1331051', 'rs4702895', 'rs4353555', 'rs3121279', 'rs79828927', 'rs4274938', 'rs11585538', 'rs4386654', 'rs533296827', 'rs17036579', 'rs9388427', 'rs349774', 'rs78461511', 'rs2289477', 'rs2135595', 'rs12963525', 'rs28362581', 'rs2735475', 'rs12574374', 'rs11260682', 'rs1389834', 'rs1590465', 'rs7098194', 'rs12708869', 'rs6674541', 'rs4615993', 'rs200769897', 'rs10985795', 'rs8056000', 'rs7800026', 'rs62023754', 'rs371572', 'rs10403073', 'rs7803297', 'rs139865845', 'rs9854196', 'rs2276759', 'rs4128192', 'rs3824133', 'rs11604726', 'rs2030729', 'rs13289248', 'rs61826220', 'rs45458697', 'rs11034664', 'rs9356258', 'rs62164989', 'rs78213973', 'rs9345834', 'rs73295226', 'rs12696876', 'rs183324254', 'rs79901380', 'rs7097190', 'rs80131437', 'rs2866171', 'rs58634946', 'rs7802073', 'rs202124493', 'rs2044265', 'rs8095553', 'rs10755234', 'rs78316036', 'rs60785155', 'rs10496620', 'rs7306035', 'rs9822016', 'rs192841382', 'rs1845410', 'rs4474100', 'rs1786126', 'rs539114', 'rs3770229', 'rs7589445', 'rs77463832', 'rs55814932', 'rs8035521', 'rs148289037', 'rs28503352', 'rs140646269', 'rs3752132', 'rs9147', 'rs11018133', 'rs10744889', 'rs16851031', 'rs76432871', 'rs834576', 'rs552483676', 'rs13266957', 'rs1107479', 'rs9687558', 'rs72817863', 'rs114653492', 'rs3796207', 'rs12587742', 'rs55689153', 'rs1471898', 'rs57531411', 'rs113068041', 'rs6453081', 'rs9429662', 'rs9684564', 'rs17876092', 'rs4134809', 'rs2459097', 'rs114005461', 'rs11663065', 'rs6875676', 'rs6935576', 'rs181225199', 'rs11047862', 'rs10279418', 'rs28461979', 'rs11057450', 'rs2303327', 'rs5024165', 'rs377219439', 'rs4415651', 'rs2842882', 'rs4275952', 'rs6921523', 'rs2710356', 'rs10747761', 'rs3809797', 'rs9518889', 'rs74854546', 'rs6816343', 'rs2748483', 'rs897538', 'rs2186089', 'rs28372568', 'rs1623810', 'rs449554', 'rs3286', 'rs28571675', 'rs1109895', 'rs12551668', 'rs1661716', 'rs1111033', 'rs1863969', 'rs10127876', 'rs1519484', 'rs28372607', 'rs1833686', 'rs147014533', 'rs11855188', 'rs2561664', 'rs2277459', 'rs4411314', 'rs7471538', 'rs61999100', 'rs833802', 'rs217950', 'rs551378557', 'rs73819075', 'rs7005510', 'rs4148970', 'rs2242661', 'rs111352324', 'rs1624087', 'rs8188217', 'rs12531101', 'rs9577275', 'rs1889724', 'rs2652546', 'rs62461408', 'rs17632034', 'rs111827785', 'rs28738670', 'rs12673318', 'rs10071300', 'rs1788567', 'rs4583364', 'rs72728275', 'rs17190940', 'rs4557669', 'rs11100800', 'rs3007416', 'rs4833060', 'rs2165673', 'rs116747162', 'rs5962189', 'rs10007289', 'rs9925615', 'rs1643487', 'rs55914199', 'rs61748343', 'rs4701075', 'rs11711247', 'rs59423465', 'rs7567824', 'rs9555707', 'rs2393859', 'rs4976691', 'rs58213169', 'rs4886992', 'rs1472838', 'rs111765179', 'rs55710164', 'rs777017', 'rs2976967', 'rs6913838', 'rs11618099', 'rs11887876', 'rs35680343', 'rs55792845', 'rs1411996', 'rs8022072', 'rs3768886', 'rs13025057', 'rs10882804', 'rs748350', 'rs2816474', 'rs9453624', 'rs12549739', 'rs137874526', 'rs16995039', 'rs2348707', 'rs7743471', 'rs6448502', 'rs2393860', 'rs7706512', 'rs72764441', 'rs8074316', 'rs6637277', 'rs76535039', 'rs913990', 'rs9784870', 'rs6922842', 'rs331545', 'rs10959710', 'rs1049306', 'rs11117243', 'rs4868516', 'rs6557319', 'rs260379', 'rs7219005', 'rs6421049', 'rs28645521', 'rs430444', 'rs536213245', 'rs2659096', 'rs3853423', 'rs6499203', 'rs12957462', 'rs12974139', 'rs7108890', 'rs9628652', 'rs544065', 'rs12903586', 'rs62443788', 'rs200140443', 'rs4732283', 'rs2274578', 'rs7690035', 'rs71300711', 'rs535344', 'rs1368550', 'rs7186800', 'rs55758172', 'rs731826', 'rs4391785', 'rs872465', 'rs7796627', 'rs4520629', 'rs77165564', 'rs1245009', 'rs4240230', 'rs10904773', 'rs2291588', 'rs7441376', 'rs1231361', 'rs2059138', 'rs57863391', 'rs12051968', 'rs11202121', 'rs181863609', 'rs3213729', 'rs59770952', 'rs6800689', 'rs2194918', 'rs35566096', 'rs7995032', 'rs13147904', 'rs72911331', 'rs6546403', 'rs4487280', 'rs62160883', 'rs12763884', 'rs425535', 'rs3734911', 'rs8103081', 'rs77810523', 'rs11920954', 'rs7946640', 'rs2236357', 'rs11084460', 'rs864234', 'rs9659674', 'rs4318803', 'rs1746035', 'rs922471', 'rs9865083', 'rs2887488', 'rs112391006', 'rs12673670', 'rs6546227', 'rs11633750', 'rs3843600', 'rs112830672', 'rs4341995', 'rs6754505', 'rs2437925', 'rs2614652', 'rs34413502', 'rs12289135', 'rs9808326', 'rs77050045', 'rs58302983', 'rs2234711', 'rs3740502', 'rs72619772', 'rs374596233', 'rs62112590', 'rs116193521', 'rs10790421', 'rs13085954', 'rs9472599', 'rs12184652', 'rs1298243', 'rs11153953', 'rs11720799', 'rs1652216', 'rs148506022', 'rs34228856', 'rs377492603', 'rs6947892', 'rs146316611', 'rs977671', 'rs17094157', 'rs12946513', 'rs2245977', 'rs12913536', 'rs6448414', 'rs6963930', 'rs57351528', 'rs9565281', 'rs9491583', 'rs629426', 'rs529995363', 'rs2842175', 'rs10117548', 'rs3817028', 'rs76944559', 'rs2304575', 'rs1213279', 'rs73288660', 'rs1290067', 'rs10816904', 'rs6660749', 'rs113807967', 'rs10032398', 'rs55937838', 'rs4535686', 'rs10004524', 'rs181787859', 'rs8130087', 'rs4843397', 'rs9387302', 'rs57327535', 'rs9568462', 'rs6477877', 'rs35844270', 'rs12147234', 'rs78432282', 'rs9322733', 'rs10470803', 'rs139430542', 'rs2231917', 'rs11070708', 'rs16110', 'rs754463', 'rs111836098', 'rs5914611', 'rs3773263', 'rs144313993', 'rs117766335', 'rs6106772', 'rs7088154', 'rs502749', 'rs4494823', 'rs978247', 'rs4906452', 'rs28411231', 'rs10257700', 'rs10434014', 'rs36192347', 'rs9881242', 'rs60426666', 'rs422070', 'rs1780252', 'rs56373261', 'rs62358260', 'rs6854718', 'rs17034241', 'rs60358112', 'rs76834240', 'rs11821546', 'rs1197066', 'rs1835006', 'rs1326658', 'rs861147', 'rs632996', 'rs9748669', 'rs4963460', 'rs4387437', 'rs2032240', 'rs3739927', 'rs16515', 'rs16851537', 'rs985376', 'rs61881063', 'rs143419155', 'rs78723630', 'rs5756208', 'rs1368952', 'rs28579572', 'rs2512782', 'rs62287707', 'rs7424292', 'rs1961614', 'rs2620666', 'rs114993554', 'rs8115423', 'rs10556', 'rs77907819', 'rs1132803', 'rs73879275', 'rs2426452', 'rs7648715', 'rs6961243', 'rs12985091', 'rs61372950', 'rs10795090', 'rs17172525', 'rs39714', 'rs446351', 'rs9636752', 'rs80053366', 'rs2784054', 'rs7975153', 'rs9677758', 'rs2173488', 'rs94376', 'rs78164003', 'rs56354107', 'rs12703682', 'rs80355600', 'rs9349852', 'rs2275055', 'rs10043414', 'rs186775330', 'rs11074446', 'rs4904510', 'rs113657612', 'rs3993395', 'rs12296106', 'rs2855655', 'rs311358', 'rs56195202', 'rs10908517', 'rs2668555', 'rs7783672', 'rs60308539', 'rs72635183', 'rs10838866', 'rs7829922', 'rs7125908', 'rs12498368', 'rs2748661', 'rs71520499', 'rs8009022', 'rs4141892', 'rs28411392', 'rs465480', 'rs36063247', 'rs16916500', 'rs11919123', 'rs67370911', 'rs117735633', 'rs990728', 'rs1217382', 'rs4697464', 'rs61331418', 'rs4234086', 'rs6873666', 'rs6715691', 'rs73597820', 'rs41266947', 'rs201020910', 'rs2180561', 'rs441591', 'rs605849', 'rs4355721', 'rs34840341', 'rs9869133', 'rs79324037', 'rs731457', 'rs10464387', 'rs10993118', 'rs173141', 'rs34096998', 'rs10220917', 'rs6544938', 'rs112824477', 'rs4832984', 'rs183892419', 'rs35785699', 'rs390700', 'rs12412595', 'rs56659624', 'rs1040862', 'rs28520238', 'rs10759870', 'rs9953590', 'rs4328036', 'rs6839833', 'rs78329490', 'rs115529615', 'rs9517981', 'rs11735302', 'rs28580', 'rs28403572', 'rs187426706', 'rs9454014', 'rs1466066', 'rs9468935', 'rs113939543', 'rs1056879', 'rs7563731', 'rs61735317', 'rs10757864', 'rs10271045', 'rs2646109', 'rs12529984', 'rs6442551', 'rs6937769', 'rs9958213', 'rs34648', 'rs10169344', 'rs9542903', 'rs7690932', 'rs2531896', 'rs1871108', 'rs7127584', 'rs7313471', 'rs149047583', 'rs12451467', 'rs6997420', 'rs12631514', 'rs7310479', 'rs34925290', 'rs16974413', 'rs2526230', 'rs17081286', 'rs6922553', 'rs17552879', 'rs3094738', 'rs11835227', 'rs338089', 'rs11021318', 'rs75382553', 'rs74938500', 'rs4280689', 'rs6544099', 'rs4829483', 'rs7796230', 'rs11157359', 'rs13180532', 'rs116972088', 'rs56289870', 'rs7123094', 'rs71637369', 'rs1176884', 'rs10005163', 'rs787666', 'rs8029037', 'rs2218806', 'rs11013597', 'rs12627625', 'rs11761960', 'rs111859500', 'rs6481268', 'rs7439046', 'rs9942443', 'rs138737491', 'rs28544952', 'rs1985013', 'rs10105720', 'rs9346546', 'rs2126800', 'rs59561019', 'rs77169291', 'rs6989549', 'rs8076538', 'rs116590509', 'rs9966286', 'rs371534008', 'rs60895247', 'rs1560044', 'rs184328887', 'rs71308193', 'rs2142939', 'rs28460769', 'rs6961953', 'rs4906794', 'rs34778340', 'rs35632108', 'rs140836342', 'rs13170300', 'rs4837913', 'rs35142609', 'rs12788296', 'rs2940249', 'rs12899835', 'rs1120960', 'rs861599', 'rs12440067', 'rs75760403', 'rs12905855', 'rs7650211', 'rs11007392', 'rs76261572', 'rs10482083', 'rs1526645', 'rs62357407', 'rs548868046', 'rs6711681', 'rs4992344', 'rs10434013', 'rs6430669', 'rs77949872', 'rs28885986', 'rs1632346', 'rs1807764', 'rs10905419', 'rs2277617', 'rs34454395', 'rs7591210', 'rs4940492', 'rs7755638', 'rs844874', 'rs11039698', 'rs36102336', 'rs1237368', 'rs11132173', 'rs200329', 'rs9910089', 'rs72754732', 'rs7631869', 'rs2859226', 'rs7260744', 'rs13131876', 'rs35178639', 'rs55818555', 'rs12214388', 'rs1661931', 'rs6138457', 'rs147850584', 'rs4731119', 'rs11759475', 'rs13376134', 'rs56118975', 'rs55977977', 'rs16940950', 'rs1403310', 'rs12549971', 'rs254521', 'rs7617936', 'rs4819274', 'rs28473748', 'rs4766083', 'rs6880209', 'rs6437333', 'rs7196736', 'rs1349756', 'rs4289695', 'rs55715186', 'rs1527177', 'rs60642419', 'rs2959652', 'rs2626529', 'rs8025449', 'rs825093', 'rs12247471', 'rs1570093', 'rs7816579', 'rs2173225', 'rs547550', 'rs2477346', 'rs10100334', 'rs7584533', 'rs17245346', 'rs9878038', 'rs55733712', 'rs4796768', 'rs658533', 'rs6421572', 'rs191412248', 'rs1728013', 'rs12594926', 'rs1731853', 'rs73705648', 'rs12972990', 'rs1651154', 'rs2993307', 'rs56289457', 'rs2722350', 'rs1890041', 'rs75510769', 'rs11027684', 'rs764073', 'rs57213065', 'rs8114146', 'rs60050769', 'rs72770803', 'rs113865995', 'rs10975902', 'rs139093133', 'rs73663168', 'rs73009569', 'rs432418', 'rs62325041', 'rs12028082', 'rs12975647', 'rs34725089', 'rs150897689', 'rs7604684', 'rs898817', 'rs12502747', 'rs3017044', 'rs72964143', 'rs1149252', 'rs6828313', 'rs6886176', 'rs6948448', 'rs80208125', 'rs143163975', 'rs2298222', 'rs13436255', 'rs28713674', 'rs74705472', 'rs10224199', 'rs9469982', 'rs11037376', 'rs112069808', 'rs76781560', 'rs57942056', 'rs743024', 'rs6811625', 'rs460271', 'rs4669516', 'rs9685877', 'rs67827752', 'rs9457003', 'rs6831095', 'rs2298881', 'rs55813436', 'rs17702', 'rs4457550', 'rs142301400', 'rs12424309', 'rs13265237', 'rs2303756', 'rs3859439', 'rs7691960', 'rs10494876', 'rs57978975', 'rs1608598', 'rs1960152', 'rs558986', 'rs67146575', 'rs10934907', 'rs61913710', 'rs181074541', 'rs1109896', 'rs754642', 'rs143663145', 'rs9316489', 'rs10181378', 'rs73092464', 'rs4831775', 'rs10749621', 'rs149247405', 'rs7263262', 'rs76840568', 'rs1859808', 'rs62145378', 'rs111293924', 'rs11921682', 'rs35030473', 'rs11700736', 'rs10908737', 'rs7774140', 'rs683010', 'rs807524', 'rs115835792', 'rs2864143', 'rs5981831', 'rs1499281', 'rs56209636', 'rs4788809', 'rs57292735', 'rs4457792', 'rs7631246', 'rs1328628', 'rs10227565', 'rs2799551', 'rs9993962', 'rs17497903', 'rs932513', 'rs7468147', 'rs79388463', 'rs61020310', 'rs11831786', 'rs734113', 'rs12187200', 'rs34883539', 'rs6595016', 'rs1841297', 'rs9448877', 'rs7821552', 'rs4806920', 'rs12526263', 'rs7962894', 'rs1935707', 'rs12645969', 'rs11792418', 'rs2003523', 'rs1284778', 'rs10980840', 'rs9614378', 'rs17523471', 'rs7483449', 'rs11831672', 'rs2730923', 'rs11238520', 'rs6859882', 'rs7802491', 'rs2488769', 'rs8095461', 'rs1000232', 'rs28731405', 'rs28543969', 'rs6719948', 'rs2601006', 'rs4406390', 'rs62577304', 'rs150671568', 'rs62007492', 'rs59195633', 'rs149927961', 'rs4884984', 'rs143068807', 'rs113525472', 'rs58532236', 'rs200675561', 'rs55989856', 'rs28894082', 'rs6487400', 'rs6955148', 'rs8062353', 'rs11084896', 'rs10262141', 'rs6020563', 'rs9976962', 'rs59496049', 'rs13270008', 'rs376766623', 'rs4146715', 'rs2488591', 'rs116446760', 'rs113559231', 'rs55941639', 'rs4911163', 'rs4657900', 'rs358994', 'rs6489745', 'rs10861241', 'rs60953940', 'rs1108869', 'rs72632597', 'rs8007763', 'rs2439338', 'rs244468', 'rs12679995', 'rs10910431', 'rs2685842', 'rs12717335', 'rs7668110', 'rs2272745', 'rs4776302', 'rs36179730', 'rs6059983', 'rs11819238', 'rs12909072', 'rs7825440', 'rs2168039', 'rs2758670', 'rs191279615', 'rs79911636', 'rs73286829', 'rs73269379', 'rs1684902', 'rs869481', 'rs146779158', 'rs2986274', 'rs28768210', 'rs72778747', 'rs62094041', 'rs749351', 'rs55945367', 'rs13141969', 'rs315321', 'rs7227057', 'rs62590022', 'rs9940479', 'rs183637705', 'rs34151699', 'rs10774643', 'rs73490796', 'rs272204', 'rs7135191', 'rs2229873', 'rs35549884', 'rs345973', 'rs805304', 'rs34166187', 'rs114807441', 'rs146165397', 'rs73402305', 'rs112083835', 'rs79041076', 'rs10471022', 'rs3985153', 'rs12952892', 'rs10029258', 'rs10203162', 'rs116152806', 'rs446927', 'rs4936225', 'rs17635974', 'rs7290502', 'rs145574976', 'rs3886197', 'rs141078173', 'rs13302212', 'rs558340', 'rs187959207', 'rs113465107', 'rs62455970', 'rs2964273', 'rs28501300', 'rs12447338', 'rs9672551', 'rs3923808', 'rs1460473', 'rs10756017', 'rs8026680', 'rs112027388', 'rs1817656', 'rs7582736', 'rs3112401', 'rs36026522', 'rs4644000', 'rs9997686', 'rs6115639', 'rs10908290', 'rs114521514', 'rs41311505', 'rs200925656', 'rs6567342', 'rs73318837', 'rs13311524', 'rs112990885', 'rs79785116', 'rs398098', 'rs4912372', 'rs13261954', 'rs34125937', 'rs142529802', 'rs139020938', 'rs2863395', 'rs538705302', 'rs139156085', 'rs4894124', 'rs2460501', 'rs10973066', 'rs28369040', 'rs1021134', 'rs59697097', 'rs12703681', 'rs10934576', 'rs692691', 'rs10146921', 'rs4818751', 'rs7668144', 'rs4238838', 'rs9951444', 'rs13167994', 'rs10160650', 'rs11113891', 'rs78094281', 'rs12448088', 'rs140536608', 'rs57362568', 'rs17074553', 'rs11888820', 'rs946668', 'rs10508467', 'rs16937997', 'rs376776493', 'rs377298941', 'rs139004176', 'rs9384817', 'rs2191063', 'rs9312959', 'rs146425001', 'rs184065563', 'rs61450570', 'rs79873245', 'rs60814981', 'rs4129653', 'rs74356890', 'rs12681131', 'rs1935940', 'rs35071030', 'rs6792205', 'rs56764378', 'rs28510185', 'rs28541410', 'rs6770466', 'rs6822591', 'rs2825579', 'rs7220104', 'rs11666033', 'rs629178', 'rs9825374', 'rs12578231', 'rs7537341', 'rs4718286', 'rs55945376', 'rs61185480', 'rs6063182', 'rs1126501', 'rs28613656', 'rs60652983', 'rs72814564', 'rs12098288', 'rs10061590', 'rs3843747', 'rs10769072', 'rs536008950', 'rs13081543', 'rs3729838', 'rs10821310', 'rs2377011', 'rs4331243', 'rs56201221', 'rs12964243', 'rs540930832', 'rs17122294', 'rs112809173', 'rs10786689', 'rs6436992', 'rs465151', 'rs7274104', 'rs3767202', 'rs483722', 'rs17513662', 'rs147022117', 'rs2696398', 'rs2084267', 'rs28759406', 'rs11730091', 'rs13069895', 'rs10749394', 'rs144562055', 'rs75432828', 'rs4884138', 'rs76089142', 'rs7552884', 'rs2991268', 'rs6089229', 'rs7799818', 'rs11229762', 'rs3789423', 'rs3861782', 'rs111281523', 'rs11500759', 'rs72625837', 'rs2338110', 'rs200742862', 'rs9602594', 'rs6780346', 'rs1841068', 'rs2769254', 'rs60016568', 'rs6489312', 'rs2811578', 'rs9843533', 'rs58602836', 'rs2722889', 'rs10059614', 'rs8065037', 'rs61981102', 'rs2198786', 'rs4847093', 'rs1433479', 'rs7329776', 'rs28805356', 'rs62376370', 'rs4891799', 'rs13407484', 'rs187199347', 'rs150534455', 'rs7765648', 'rs192674564', 'rs34164492', 'rs74976409', 'rs10042891', 'rs2790631', 'rs533756', 'rs137992261', 'rs555870828', 'rs2601007', 'rs10191051', 'rs670150', 'rs2562336', 'rs61521238', 'rs12521978', 'rs139108376', 'rs530279392', 'rs116290861', 'rs62141147', 'rs11918240', 'rs10090203', 'rs16981939', 'rs12415507', 'rs112389788', 'rs10248692', 'rs6473956', 'rs115605081', 'rs2270847', 'rs58137222', 'rs61961508', 'rs4837823', 'rs7377578', 'rs78498099', 'rs7995889', 'rs11089197', 'rs1701847', 'rs72609922', 'rs12473669', 'rs74503021', 'rs201189218', 'rs4280907', 'rs2480047', 'rs5977260', 'rs1172820', 'rs9550921', 'rs4103781', 'rs12637011', 'rs1570800', 'rs17523802', 'rs403448', 'rs17100983', 'rs6530197', 'rs36033261', 'rs76214160', 'rs10228203', 'rs1476636', 'rs28462354', 'rs10263851', 'rs2274748', 'rs1627626', 'rs11678500', 'rs322959', 'rs75083227', 'rs1822646', 'rs4626596', 'rs10215022', 'rs1437150', 'rs223936', 'rs2647301', 'rs1663112', 'rs28453802', 'rs7079567', 'rs116708261', 'rs73040398', 'rs61172630', 'rs12333881', 'rs2198507', 'rs28606568', 'rs114304312', 'rs11053235', 'rs112893611', 'rs12211418', 'rs13118428', 'rs6746790', 'rs149328560', 'rs143995047', 'rs78242621', 'rs57956059', 'rs7615507', 'rs28787648', 'rs12067751', 'rs10880052', 'rs113629387', 'rs12791474', 'rs2494248', 'rs79213924', 'rs75570822', 'rs10863766', 'rs34683777', 'rs234324', 'rs9996877', 'rs5941217', 'rs12334104', 'rs3121506', 'rs418682', 'rs532080093', 'rs4784515', 'rs2072931', 'rs16930333', 'rs12918928', 'rs2296308', 'rs11846601', 'rs4702303', 'rs6884633', 'rs4400740', 'rs7104272', 'rs200843639', 'rs79116350', 'rs8075924', 'rs13208932', 'rs11983345', 'rs28365946', 'rs770460', 'rs11972275', 'rs9866809', 'rs4443787', 'rs76351844', 'rs12966968', 'rs10973065', 'rs12068381', 'rs111970261', 'rs696352', 'rs34793519', 'rs77760339', 'rs17197540', 'rs12740004', 'rs8057041', 'rs1825936', 'rs11019943', 'rs135718', 'rs2074102', 'rs56323648', 'rs9613336', 'rs17658970', 'rs12534113', 'rs282098', 'rs6536187', 'rs4500583', 'rs4991944', 'rs150942960', 'rs7500853', 'rs34356611', 'rs6807738', 'rs12519455', 'rs56159347', 'rs892139', 'rs9542485', 'rs10944259', 'rs11012334', 'rs3001161', 'rs655208', 'rs4147933', 'rs56744545', 'rs139338541', 'rs146255329', 'rs7182446', 'rs4849885', 'rs10813859', 'rs354958', 'rs35583024', 'rs1419291', 'rs56749387', 'rs3733256', 'rs10865791', 'rs17753104', 'rs7993900', 'rs4954485', 'rs9450837', 'rs13276909', 'rs10110528', 'rs10050791', 'rs11062460', 'rs2232775', 'rs71519214', 'rs2100554', 'rs1506511', 'rs11206638', 'rs75257733', 'rs73829535', 'rs10478843', 'rs2198508', 'rs1842227', 'rs7500846', 'rs1584597', 'rs710676', 'rs200145503', 'rs200849', 'rs2295441', 'rs73167121', 'rs1072903', 'rs79508803', 'rs6501165', 'rs113323138', 'rs10122376', 'rs28771690', 'rs2966186', 'rs62134679', 'rs3021528', 'rs9964406', 'rs4710874', 'rs71493031', 'rs113446487', 'rs146690443', 'rs55738252', 'rs245111', 'rs12435196', 'rs2074868', 'rs16842207', 'rs1903406', 'rs11546290', 'rs11218446', 'rs114985489', 'rs12537950', 'rs73359031', 'rs59176853', 'rs13107383', 'rs433465', 'rs148100062', 'rs151280561', 'rs542981', 'rs11022356', 'rs1632169', 'rs62001268', 'rs7909761', 'rs12773142', 'rs35410524', 'rs61068714', 'rs1974432', 'rs116513184', 'rs2806785', 'rs10488561', 'rs2153432', 'rs112326279', 'rs7741158', 'rs7910099', 'rs16948566', 'rs35723833', 'rs192129962', 'rs60298685', 'rs28439432', 'rs12532348', 'rs1438704', 'rs34544747', 'rs75902572', 'rs62361341', 'rs111908321', 'rs277326', 'rs2430227', 'rs6820331', 'rs9299262', 'rs2563335', 'rs10780446', 'rs228219', 'rs72688233', 'rs2228707', 'rs552343228', 'rs2292590', 'rs636712', 'rs35746610', 'rs13243678', 'rs79572806', 'rs28565505', 'rs8033642', 'rs4377130', 'rs1564239', 'rs4815498', 'rs11537285', 'rs17109237', 'rs5961582', 'rs3864862', 'rs62439782', 'rs2467857', 'rs6925266', 'rs9291105', 'rs58394161', 'rs7135188', 'rs12237712', 'rs113672837', 'rs2291662', 'rs7336571', 'rs7941976', 'rs112209662', 'rs74069329', 'rs3750122', 'rs9422758', 'rs7433849', 'rs800453', 'rs2588961', 'rs12974515', 'rs80343672', 'rs2320190', 'rs1919471', 'rs7319509', 'rs17777642', 'rs7908165', 'rs60129681', 'rs4798478', 'rs58483837', 'rs3800577', 'rs6978344', 'rs12406108', 'rs1974431', 'rs742888', 'rs72731820', 'rs11006477', 'rs144240425', 'rs799084', 'rs72998492', 'rs4677656', 'rs16893362', 'rs3918149', 'rs1932627', 'rs9423485', 'rs2062010', 'rs2499507', 'rs10453198', 'rs13326870', 'rs59564381', 'rs12956085', 'rs12350892', 'rs9567846', 'rs9477548', 'rs199616176', 'rs77343549', 'rs34272267', 'rs9400130', 'rs11646980', 'rs602581', 'rs12612912', 'rs4703072', 'rs10158417', 'rs60594673', 'rs6770640', 'rs72731691', 'rs538820828', 'rs6438008', 'rs61957326', 'rs73224955', 'rs11037375', 'rs2774099', 'rs62154278', 'rs1800734', 'rs3782554', 'rs2292800', 'rs6121462', 'rs1216384', 'rs11687006', 'rs7987630', 'rs7568151', 'rs111257659', 'rs9647239', 'rs34906477', 'rs11648923', 'rs4553805', 'rs8088619', 'rs12033230', 'rs11077416', 'rs55751941', 'rs17171533', 'rs13128941', 'rs6481710', 'rs9510893', 'rs221485', 'rs1124869', 'rs9526943', 'rs12601264', 'rs11230313', 'rs73459372', 'rs2766602', 'rs1827986', 'rs12815469', 'rs4587977', 'rs13333257', 'rs75151247', 'rs62192778', 'rs143512814', 'rs189954468', 'rs2516834', 'rs6895946', 'rs1369312', 'rs62082683', 'rs7720793', 'rs9931627', 'rs3742971', 'rs12316537', 'rs1263099', 'rs3020207', 'rs7470933', 'rs1465896', 'rs7912810', 'rs10500377', 'rs6703295', 'rs2452247', 'rs28736584', 'rs7783087', 'rs191291703', 'rs10935398', 'rs55848985', 'rs12098292', 'rs1135289', 'rs12291823', 'rs10820599', 'rs9779767', 'rs150898617', 'rs7606889', 'rs329891', 'rs11669557', 'rs3099042', 'rs12460323', 'rs142193197', 'rs2494153', 'rs6563548', 'rs60632610', 'rs4766084', 'rs765509', 'rs17039652', 'rs2032937', 'rs10773847', 'rs2000301', 'rs212853', 'rs4865466', 'rs11968704', 'rs55946986', 'rs4895662', 'rs3738961', 'rs4677105', 'rs11592729', 'rs7682447', 'rs2110688', 'rs59695669', 'rs12460848', 'rs61882556', 'rs150097302', 'rs10799816', 'rs6071490', 'rs73173675', 'rs2305451', 'rs139428144', 'rs324206', 'rs11228553', 'rs4973112', 'rs7306644', 'rs7087736', 'rs7411511', 'rs56335028', 'rs7208447', 'rs2241701', 'rs10177696', 'rs73976130', 'rs9795878', 'rs2636013', 'rs7559767', 'rs140002123', 'rs10261153', 'rs112834473', 'rs146726492', 'rs11488680', 'rs61846563', 'rs353638', 'rs10457234', 'rs76405423', 'rs7294257', 'rs7238993', 'rs10889893', 'rs7490337', 'rs147452636', 'rs9536234', 'rs17534048', 'rs34408730', 'rs116147285', 'rs17272700', 'rs34294471', 'rs115624555', 'rs1895712', 'rs1899415', 'rs12101726', 'rs2030013', 'rs28704646', 'rs7971781', 'rs295518', 'rs3809965', 'rs62155389', 'rs6440086', 'rs2239185', 'rs4449198', 'rs4692750', 'rs662929', 'rs11672918', 'rs372786838', 'rs55989938', 'rs6814379', 'rs61771973', 'rs6908871', 'rs1272661', 'rs34732322', 'rs9421808', 'rs2173355', 'rs7432441', 'rs7923066', 'rs8007012', 'rs4900486', 'rs5758907', 'rs201584123', 'rs1015941', 'rs6544873', 'rs4233747', 'rs8018520', 'rs965791', 'rs8057408', 'rs11086068', 'rs116306226', 'rs2575823', 'rs61807670', 'rs9547651', 'rs3749034', 'rs4824', 'rs199541923', 'rs7371403', 'rs74636215', 'rs57860034', 'rs73711642', 'rs7540321', 'rs266764', 'rs73777751', 'rs55699806', 'rs6642143', 'rs62516351', 'rs2272360', 'rs12410357', 'rs2851117', 'rs4259849', 'rs2562848', 'rs4965290', 'rs7240447', 'rs28971325', 'rs111954098', 'rs1971271', 'rs114483165', 'rs7315709', 'rs112614389', 'rs12402417', 'rs3024622', 'rs3806157', 'rs147493127', 'rs4776300', 'rs72761015', 'rs1543257', 'rs410934', 'rs2276130', 'rs8050388', 'rs4474325', 'rs2009323', 'rs74711307', 'rs2231992', 'rs113603780', 'rs7640388', 'rs6088264', 'rs4398869', 'rs28662117', 'rs62154279', 'rs11574760', 'rs862636', 'rs61982253', 'rs115039597', 'rs12045621', 'rs172078', 'rs10151627', 'rs1370465', 'rs7643361', 'rs243915', 'rs58522314', 'rs12391853', 'rs59204964', 'rs10875403', 'rs157755', 'rs13013794', 'rs66673012', 'rs10068803', 'rs113264876', 'rs6546210', 'rs222400', 'rs10445728', 'rs689384', 'rs7323397', 'rs2290536', 'rs2632260', 'rs6568419', 'rs2863207', 'rs7867530', 'rs6425756', 'rs10919830', 'rs7520911', 'rs76325022', 'rs9592311', 'rs56186406', 'rs294624', 'rs369120700', 'rs10912117', 'rs997237', 'rs6021608', 'rs112604948', 'rs13338993', 'rs116670419', 'rs1651155', 'rs643027', 'rs10942887', 'rs4478013', 'rs6878565', 'rs6479522', 'rs55948324', 'rs734654', 'rs12818148', 'rs6971913', 'rs6884708', 'rs13390076', 'rs1591238', 'rs1893388', 'rs7068670', 'rs3005159', 'rs12193008', 'rs73138123', 'rs10160381', 'rs2265210', 'rs367770420', 'rs4629148', 'rs370793683', 'rs72725876', 'rs111625064', 'rs575050', 'rs73241904', 'rs10970779', 'rs78280402', 'rs7778612', 'rs35754984', 'rs4399178', 'rs4284371', 'rs1222140', 'rs8070877', 'rs5942370', 'rs62029946', 'rs12832940', 'rs2485659', 'rs71334703', 'rs3849252', 'rs139350750', 'rs2013250', 'rs7743107', 'rs12914697', 'rs3128792', 'rs61616831', 'rs11213471', 'rs59633491', 'rs28562014', 'rs373557567', 'rs74335103', 'rs7668263', 'rs4302728', 'rs142618805', 'rs627337', 'rs1888115', 'rs76302215', 'rs2368941', 'rs56119723', 'rs141355025', 'rs12048648', 'rs6734348', 'rs114916274', 'rs74920539', 'rs4480361', 'rs2689283', 'rs139336281', 'rs9294215', 'rs4367113', 'rs73136537', 'rs72687038', 'rs79865899', 'rs12332856', 'rs34032696', 'rs278523', 'rs847859', 'rs62156078', 'rs7799622', 'rs1468297', 'rs5769348', 'rs199982824', 'rs142261769', 'rs57773981', 'rs2832899', 'rs62124727', 'rs2091410', 'rs10455580', 'rs9955466', 'rs1973460', 'rs9984337', 'rs7606047', 'rs337017', 'rs694039', 'rs28782329', 'rs7671229', 'rs28378323', 'rs9932749', 'rs34891657', 'rs6933918', 'rs11040116', 'rs12554415', 'rs13337911', 'rs79173491', 'rs9999918', 'rs56347153', 'rs555523973', 'rs12745600', 'rs8033564', 'rs10123342', 'rs9839388', 'rs72691263', 'rs6964836', 'rs58709307', 'rs143181015', 'rs115090849', 'rs12310078', 'rs2526876', 'rs28750156', 'rs6927231', 'rs76432934', 'rs112219604', 'rs7443645', 'rs2196783', 'rs60549465', 'rs8079253', 'rs9295645', 'rs4370158', 'rs203538', 'rs4521842', 'rs12982256', 'rs113959762', 'rs72773327', 'rs12541146', 'rs1726746', 'rs9455716', 'rs11763025', 'rs13048531', 'rs6953877', 'rs12668915', 'rs2891135', 'rs111485680', 'rs7554278', 'rs568733648', 'rs2289130', 'rs73440726', 'rs4403031', 'rs11228520', 'rs73185803', 'rs113901360', 'rs8192010', 'rs6060596', 'rs3118727', 'rs2667758', 'rs1526272', 'rs3759505', 'rs74736666', 'rs921375', 'rs1440146', 'rs35441379', 'rs9788252', 'rs9375259', 'rs3116723', 'rs7211234', 'rs11195912', 'rs6777299', 'rs533859', 'rs7598839', 'rs6874877', 'rs10858106', 'rs10989207', 'rs2174156', 'rs12495432', 'rs115218575', 'rs2149211', 'rs35482649', 'rs116375522', 'rs150315456', 'rs3924855', 'rs139745384', 'rs114968952', 'rs7139405', 'rs606458', 'rs16895245', 'rs58393141', 'rs6052766', 'rs571201884', 'rs4261443', 'rs452888', 'rs1002636', 'rs5942951', 'rs147173328', 'rs34944538', 'rs4611929', 'rs6050834', 'rs2763538', 'rs203208', 'rs2951491', 'rs13289251', 'rs13263225', 'rs7576574', 'rs11142275', 'rs55827603', 'rs375319436', 'rs59714893', 'rs12080501', 'rs73060708', 'rs6812560', 'rs10006686', 'rs2223411', 'rs75728641', 'rs10951434', 'rs12694316', 'rs287824', 'rs12733290', 'rs9970530', 'rs78373861', 'rs7290028', 'rs2385904', 'rs10770831', 'rs6474603', 'rs12549009', 'rs567700935', 'rs66946368', 'rs2566393', 'rs79876276', 'rs7531668', 'rs73002323', 'rs17384294', 'rs10884385', 'rs2879109', 'rs16908805', 'rs867617', 'rs4791169', 'rs77190079', 'rs10454777', 'rs4665077', 'rs888627', 'rs10407385', 'rs12990062', 'rs2178669', 'rs7328465', 'rs2302762', 'rs73351103', 'rs568964', 'rs12341052', 'rs9347728', 'rs7740907', 'rs7529354', 'rs7733151', 'rs3108438', 'rs2358580', 'rs10421933', 'rs28670302', 'rs1108870', 'rs1605557', 'rs2364753', 'rs35789317', 'rs6565532', 'rs10744904', 'rs73205456', 'rs10831582', 'rs72500160', 'rs61936682', 'rs117146599', 'rs201966814', 'rs4508436', 'rs11718240', 'rs1422732', 'rs13036731', 'rs2623059', 'rs9687559', 'rs607731', 'rs11816616', 'rs10831519', 'rs9864437', 'rs6898792', 'rs71517828', 'rs16930551', 'rs1106299', 'rs11032151', 'rs7319527', 'rs2149762', 'rs2345606', 'rs892451', 'rs978220', 'rs570837983', 'rs73350013', 'rs28674877', 'rs62509919', 'rs114557659', 'rs11107177', 'rs12265511', 'rs1558404', 'rs112417635', 'rs10170648', 'rs60372865', 'rs1358717', 'rs1737326', 'rs708784', 'rs422584', 'rs6491192', 'rs71312076', 'rs1791230', 'rs4131563', 'rs6471521', 'rs4865465', 'rs190177437', 'rs2868505', 'rs4787166', 'rs73180497', 'rs1817658', 'rs4688635', 'rs9599332', 'rs735784', 'rs34868458', 'rs4260876', 'rs117960717', 'rs35304929', 'rs4472411', 'rs7288401', 'rs11106378', 'rs4702375', 'rs8090338', 'rs9557377', 'rs5905946', 'rs9520735', 'rs34995301', 'rs28799105', 'rs4677896', 'rs6857026', 'rs8097637', 'rs7144602', 'rs12778125', 'rs9499748', 'rs11596243', 'rs6456632', 'rs9977118', 'rs114933557', 'rs61225037', 'rs12125811', 'rs1883352', 'rs2512259', 'rs1320127', 'rs62014166', 'rs10229029', 'rs74180751', 'rs2226834', 'rs35487279', 'rs1858369', 'rs6052529', 'rs538580422', 'rs117287600', 'rs17525042', 'rs66976409', 'rs11075653', 'rs74092741', 'rs11179568', 'rs12944902', 'rs192600485', 'rs74662097', 'rs62185741', 'rs563427365', 'rs11708820', 'rs62442643', 'rs10452593', 'rs12572289', 'rs10896656', 'rs4351587', 'rs112681379', 'rs12202484', 'rs2584149', 'rs6949755', 'rs9914487', 'rs1654413', 'rs141287271', 'rs12032899', 'rs10047868', 'rs73417579', 'rs4720341', 'rs9679123', 'rs112118692', 'rs75995186', 'rs10978101', 'rs4533162', 'rs2040997', 'rs72819342', 'rs13425248', 'rs2164956', 'rs16839974', 'rs59422102', 'rs4958110', 'rs61888600', 'rs28495996', 'rs56346710', 'rs189899', 'rs68029384', 'rs11657297', 'rs150611998', 'rs6870795', 'rs7958933', 'rs527930789', 'rs115098971', 'rs7890723', 'rs16962855', 'rs6994108', 'rs9851117', 'rs11955701', 'rs4738914', 'rs558473124', 'rs6025068', 'rs7999878', 'rs9348328', 'rs77545698', 'rs12877440', 'rs184441690', 'rs16849707', 'rs10955851', 'rs999639', 'rs13155441', 'rs4000785', 'rs7598823', 'rs201025798', 'rs11545881', 'rs11682818', 'rs45437302', 'rs143880380', 'rs34150788', 'rs72980264', 'rs4455576', 'rs58952135', 'rs72896012', 'rs9455793', 'rs67344754', 'rs12595249', 'rs200371116', 'rs55907858', 'rs6974518', 'rs713491', 'rs2588052', 'rs111674878', 'rs13112903', 'rs7893896', 'rs2272797', 'rs7741003', 'rs28720355', 'rs6676054', 'rs2171125', 'rs7815408', 'rs2230681', 'rs11990972', 'rs10099301', 'rs34387971', 'rs142673846', 'rs62355932', 'rs7591163', 'rs797205', 'rs2148625', 'rs145395950', 'rs9558517', 'rs35725005', 'rs451579', 'rs1692515', 'rs6584398', 'rs35633770', 'rs17812084', 'rs144911734', 'rs7251199', 'rs9860555', 'rs2189154', 'rs149809465', 'rs61640683', 'rs112258653', 'rs7591535', 'rs2364126', 'rs28363730', 'rs6759950', 'rs7829291', 'rs62394078', 'rs11597933', 'rs61003547', 'rs7170815', 'rs7297585', 'rs10467001', 'rs56941661', 'rs3749351', 'rs10761726', 'rs34650528', 'rs79867492', 'rs17139985', 'rs2512515', 'rs10158029', 'rs4835795', 'rs113442478', 'rs56288879', 'rs7080594', 'rs17172730', 'rs8045979', 'rs9309655', 'rs112800494', 'rs112625892', 'rs1916053', 'rs9481357', 'rs10421398', 'rs12643626', 'rs9512297', 'rs7821357', 'rs8110393', 'rs1089605', 'rs12818183', 'rs9908583', 'rs115880176', 'rs181347027', 'rs56142644', 'rs7131732', 'rs112570694', 'rs8050728', 'rs55645612', 'rs11883651', 'rs10184138', 'rs2090496', 'rs16920184', 'rs34474378', 'rs68004576', 'rs4499887', 'rs10961252', 'rs10280418', 'rs113030297', 'rs374250672', 'rs34951667', 'rs59694067', 'rs3736575', 'rs57075442', 'rs4517633', 'rs10823532', 'rs73220428', 'rs28625759', 'rs2024886', 'rs4234087', 'rs2712727', 'rs7048770', 'rs7648830', 'rs4761681', 'rs9455584', 'rs453939', 'rs140624420', 'rs9419174', 'rs28416562', 'rs373275300', 'rs73347542', 'rs9671608', 'rs4628885', 'rs3108439', 'rs6983330', 'rs35600810', 'rs915941', 'rs10802352', 'rs6495141', 'rs321478', 'rs61964862', 'rs79538453', 'rs12639318', 'rs6563581', 'rs10738052', 'rs71367108', 'rs7075939', 'rs4515379', 'rs2712240', 'rs34710691', 'rs62459533', 'rs11015851', 'rs3792112', 'rs9368699', 'rs9306472', 'rs4926507', 'rs9405543', 'rs6975029', 'rs2290708', 'rs7853633', 'rs2956113', 'rs11585751', 'rs145628333', 'rs7552543', 'rs17580142', 'rs6686088', 'rs1048899', 'rs1124143', 'rs2294335', 'rs12666549', 'rs12684417', 'rs5927289', 'rs206509', 'rs3998306', 'rs3753163', 'rs2500548', 'rs180560', 'rs10160075', 'rs12895827', 'rs4923122', 'rs12599212', 'rs9578603', 'rs12592839', 'rs16950319', 'rs2306007', 'rs28583612', 'rs9429742', 'rs28831836', 'rs11774474', 'rs112541809', 'rs4302169', 'rs2106955', 'rs4501587', 'rs4420169', 'rs111885018', 'rs6876314', 'rs77759750', 'rs2730569', 'rs4295128', 'rs9862227', 'rs1644584', 'rs116769111', 'rs113056178', 'rs76617098', 'rs4962639', 'rs7855090', 'rs4943911', 'rs12790427', 'rs4887495', 'rs2669138', 'rs10168790', 'rs7852420', 'rs13196360', 'rs75601573', 'rs10898261', 'rs4734997', 'rs4424267', 'rs10761321', 'rs62077514', 'rs2726260', 'rs10155016', 'rs11815071', 'rs28695581', 'rs75572535', 'rs2051500', 'rs187811129', 'rs2807159', 'rs2489919', 'rs7954371', 'rs9848469', 'rs6815523', 'rs589870', 'rs57520738', 'rs11217124', 'rs7594476', 'rs10812374', 'rs1017784', 'rs6569877', 'rs7201185', 'rs137933100', 'rs217966', 'rs149822468', 'rs1146634', 'rs76908653', 'rs7758579', 'rs74017640', 'rs1061924', 'rs57764988', 'rs534518140', 'rs1351113', 'rs4446190', 'rs55901884', 'rs501415', 'rs6024726', 'rs4592156', 'rs9373962', 'rs2818839', 'rs28460545', 'rs7499744', 'rs4760946', 'rs12786881', 'rs11013593', 'rs9550692', 'rs111277130', 'rs2362818', 'rs12013470', 'rs1418585', 'rs1133883', 'rs4810014', 'rs922701', 'rs10101539', 'rs112792361', 'rs76569377', 'rs142766712', 'rs10222086', 'rs73105118', 'rs4432772', 'rs1876580', 'rs61912795', 'rs11665142', 'rs13019589', 'rs75630961', 'rs140448970', 'rs2183842', 'rs7913439', 'rs7328784', 'rs146604595', 'rs114746204', 'rs1061554', 'rs1854001', 'rs7319404', 'rs9878538', 'rs4952459', 'rs55800473', 'rs9549790', 'rs28369681', 'rs114307789', 'rs35082616', 'rs2721057', 'rs2267393', 'rs9504371', 'rs562893300', 'rs12519316', 'rs72780437', 'rs9551968', 'rs76014632', 'rs73607406', 'rs4611541', 'rs78665560', 'rs60938521', 'rs60065411', 'rs9295337', 'rs3796208', 'rs17077941', 'rs7928825', 'rs73767991', 'rs11158954', 'rs11876394', 'rs629145', 'rs117423930', 'rs10025292', 'rs7843385', 'rs56150947', 'rs10429475', 'rs176963', 'rs138835318', 'rs146685156', 'rs2256102', 'rs9305636', 'rs199777532', 'rs7543120', 'rs78728226', 'rs6065751', 'rs2928141', 'rs61696008', 'rs13191012', 'rs13177015', 'rs72919056', 'rs374287', 'rs2527366', 'rs9289555', 'rs11931372', 'rs12149967', 'rs7777966', 'rs62244129', 'rs248945', 'rs1014344', 'rs6854265', 'rs2040405', 'rs2735593', 'rs3133928', 'rs6470612', 'rs10779788', 'rs12674411', 'rs116256806', 'rs150564644', 'rs368626875', 'rs361460', 'rs6660775', 'rs79766650', 'rs35190140', 'rs370516', 'rs843703', 'rs4865637', 'rs35779394', 'rs73409812', 'rs2135459', 'rs142855427', 'rs11891108', 'rs28482034', 'rs13017511', 'rs7898962', 'rs12159609', 'rs61803005', 'rs6703365', 'rs10466746', 'rs45521834', 'rs6844773', 'rs1467468', 'rs457414', 'rs6984903', 'rs6673195', 'rs288484', 'rs142371527', 'rs8012089', 'rs73672928', 'rs143989472', 'rs17752496', 'rs12189271', 'rs10777725', 'rs2338375', 'rs5982654', 'rs75120859', 'rs7643383', 'rs111442579', 'rs7143059', 'rs79764580', 'rs7376505', 'rs1593754', 'rs2428673', 'rs13405694', 'rs1432838', 'rs61744199', 'rs2810919', 'rs11585173', 'rs1907260', 'rs410715', 'rs10140107', 'rs4395735', 'rs9552952', 'rs299809', 'rs6811627', 'rs1544487', 'rs17062293', 'rs10878054', 'rs116564153', 'rs2090829', 'rs2297609', 'rs11889247', 'rs79522772', 'rs113470029', 'rs71317499', 'rs6768300', 'rs12944035', 'rs1989941', 'rs2744062', 'rs2679745', 'rs146474901', 'rs4432296', 'rs4862469', 'rs11077488', 'rs13112008', 'rs111705447', 'rs12411216', 'rs9639261', 'rs737701', 'rs525678', 'rs9636032', 'rs4782306', 'rs1731852', 'rs1660558', 'rs131804', 'rs3733249', 'rs28372775', 'rs12616815', 'rs61169160', 'rs12515688', 'rs11134432', 'rs369889559', 'rs60984070', 'rs12756209', 'rs138073652', 'rs2517579', 'rs9880115', 'rs12167621', 'rs825477', 'rs35052245', 'rs9383171', 'rs11683878', 'rs7966934', 'rs6705031', 'rs1847024', 'rs1888612', 'rs8114021', 'rs1606524', 'rs7286136', 'rs35456353', 'rs1674268', 'rs1631346', 'rs4888723', 'rs9263880', 'rs1379724', 'rs58026476', 'rs34865506', 'rs6759175', 'rs61968990', 'rs139790257', 'rs7356801', 'rs12261332', 'rs1289205', 'rs57365808', 'rs804395', 'rs17120687', 'rs10439276', 'rs2304256', 'rs1667707', 'rs17756657', 'rs4808621', 'rs58142657', 'rs117567808', 'rs71419535', 'rs116839237', 'rs1909372', 'rs3746569', 'rs551698759', 'rs74845403', 'rs10490866', 'rs4924165', 'rs723105', 'rs2298307', 'rs2148626', 'rs61076638', 'rs1543427', 'rs7079849', 'rs10131053', 'rs1576157', 'rs10263712', 'rs3902923', 'rs12663940', 'rs7960225', 'rs3010334', 'rs529833745', 'rs7927272', 'rs530699862', 'rs4832257', 'rs79104790', 'rs11530819', 'rs308026', 'rs10979265', 'rs7652346', 'rs9677386', 'rs4988173', 'rs143932078', 'rs2753443', 'rs77899976', 'rs36142382', 'rs2094863', 'rs4704210', 'rs2391672', 'rs59806639', 'rs61818721', 'rs2477928', 'rs183812540', 'rs506996', 'rs7732192', 'rs7753052', 'rs12630368', 'rs73421975', 'rs11595456', 'rs6960676', 'rs9873349', 'rs200695936', 'rs113979210', 'rs6660570', 'rs6965757', 'rs115504873', 'rs534427', 'rs61620792', 'rs55668560', 'rs4280640', 'rs6451660', 'rs142020675', 'rs3750580', 'rs116853516', 'rs1665880', 'rs10816639', 'rs71271245', 'rs72835169', 'rs2404566', 'rs79261875', 'rs9493968', 'rs10986466', 'rs7190435', 'rs28405320', 'rs7737707', 'rs3866543', 'rs1468285', 'rs75465220', 'rs4877819', 'rs9878617', 'rs72603871', 'rs114313630', 'rs79700527', 'rs11089468', 'rs12419359', 'rs6745670', 'rs6734184', 'rs55693485', 'rs141395291', 'rs3735528', 'rs7084334', 'rs112186669', 'rs1560393', 'rs1727139', 'rs9621111', 'rs9496197', 'rs72908697', 'rs116693644', 'rs751732', 'rs7932862', 'rs61891388', 'rs6618673', 'rs112934589', 'rs55693308', 'rs111419172', 'rs1537438', 'rs13180478', 'rs286398', 'rs1821100', 'rs77125591', 'rs67878791', 'rs6996547', 'rs10984910', 'rs12149795', 'rs9443499', 'rs148594219', 'rs72682228', 'rs7137436', 'rs76563131', 'rs73045138', 'rs78924331', 'rs28759130', 'rs4550465', 'rs2118497', 'rs5749579', 'rs57293668', 'rs11990778', 'rs4501054', 'rs145655910', 'rs2588010', 'rs6021826', 'rs1195240', 'rs10170652', 'rs12192123', 'rs34893598', 'rs150439535', 'rs73592535', 'rs4606258', 'rs113936219', 'rs9840668', 'rs9363891', 'rs61301040', 'rs71506350', 'rs78733792', 'rs7724857', 'rs114176595', 'rs4316097', 'rs2374348', 'rs7796690', 'rs6876451', 'rs77257802', 'rs1614218', 'rs10820600', 'rs11873651', 'rs144087765', 'rs28477462', 'rs146823559', 'rs4257763', 'rs13104915', 'rs72687365', 'rs199725588', 'rs8180099', 'rs10095072', 'rs10880961', 'rs71361970', 'rs111494274', 'rs425775', 'rs76684283', 'rs6873580', 'rs12349028', 'rs7848066', 'rs11217125', 'rs28572296', 'rs2072441', 'rs693162', 'rs1202020', 'rs1106013', 'rs149204675', 'rs12621827', 'rs13123418', 'rs2658993', 'rs9416096', 'rs10824306', 'rs9789799', 'rs28756365', 'rs10038669', 'rs17051454', 'rs113462700', 'rs1327501', 'rs141123781', 'rs17365209', 'rs113570655', 'rs58016799', 'rs10521095', 'rs1619397', 'rs28706999', 'rs8043191', 'rs7097354', 'rs10770829', 'rs4654656', 'rs113473699', 'rs693227', 'rs143384306', 'rs72673800', 'rs61305707', 'rs12425212', 'rs4519787', 'rs7998265', 'rs9689337', 'rs2209156', 'rs12256103', 'rs7241196', 'rs150947302', 'rs704874', 'rs2664591', 'rs1534997', 'rs147097053', 'rs10518712', 'rs34406251', 'rs3799282', 'rs78422442', 'rs12061647', 'rs9509875', 'rs853043', 'rs12082941', 'rs1392039', 'rs55869720', 'rs112265751', 'rs4330888', 'rs2159387', 'rs73577063', 'rs16950303', 'rs9315569', 'rs1688087', 'rs6717666', 'rs4393576', 'rs3795004', 'rs58575768', 'rs9319248', 'rs4236061', 'rs73265944', 'rs7331871', 'rs11776555', 'rs11161358', 'rs4790397', 'rs3739674', 'rs6950370', 'rs111523655', 'rs949443', 'rs138069018', 'rs74971175', 'rs68154769', 'rs3126285', 'rs3910310', 'rs10209779', 'rs9992669', 'rs10271989', 'rs1639439', 'rs58854583', 'rs75170208', 'rs9646712', 'rs112794162', 'rs28409364', 'rs2030495', 'rs4909127', 'rs34431655', 'rs11096548', 'rs1842818', 'rs505717', 'rs11790613', 'rs11990092', 'rs113791645', 'rs8051873', 'rs5936530', 'rs4570081', 'rs143968335', 'rs6534067', 'rs12995654', 'rs202034166', 'rs3826366', 'rs7180050', 'rs12323807', 'rs74161727', 'rs112864293', 'rs4556388', 'rs17101179', 'rs6658305', 'rs59197939', 'rs62243474', 'rs7926312', 'rs59332477', 'rs6495131', 'rs112323748', 'rs4927900', 'rs8026140', 'rs2673896', 'rs10751710', 'rs2247325', 'rs4742903', 'rs13338728', 'rs61953933', 'rs7831028', 'rs4861547', 'rs2271952', 'rs75075806', 'rs222726', 'rs603659', 'rs74576596', 'rs10414987', 'rs1902593', 'rs530514059', 'rs13138715', 'rs4584156', 'rs3851497', 'rs7958995', 'rs10269021', 'rs376342415', 'rs17767910', 'rs12964619', 'rs2121914', 'rs9841550', 'rs12711524', 'rs41279936', 'rs67610028', 'rs1110016', 'rs6079872', 'rs10010970', 'rs11105797', 'rs17031944', 'rs10819932', 'rs3745690', 'rs863640', 'rs4975985', 'rs17066722', 'rs72851973', 'rs12933352', 'rs11625216', 'rs9502219', 'rs7359370', 'rs12267244', 'rs115338871', 'rs2252070', 'rs10847241', 'rs189721395', 'rs74073740', 'rs10034399', 'rs9352638', 'rs56911526', 'rs1817657', 'rs114642658', 'rs11634357', 'rs58751227', 'rs7967257', 'rs6511291', 'rs72813954', 'rs583713', 'rs112870375', 'rs200194620', 'rs2360696', 'rs62312586', 'rs1088672', 'rs11928012', 'rs36170958', 'rs139183519', 'rs75279618', 'rs8180428', 'rs35039215', 'rs2706026', 'rs11981580', 'rs74512700', 'rs11805736', 'rs202022903', 'rs113592982', 'rs115759677', 'rs181221734', 'rs7556579', 'rs372602285', 'rs116935306', 'rs75081055', 'rs28444842', 'rs11970371', 'rs4595921', 'rs6705670', 'rs2483712', 'rs12282981', 'rs35433488', 'rs6838126', 'rs9560956', 'rs12846496', 'rs3938016', 'rs3853383', 'rs1346266', 'rs4975936', 'rs1909423', 'rs4626357', 'rs10788601', 'rs747622', 'rs1326068', 'rs79062740', 'rs28523324', 'rs2467147', 'rs2428672', 'rs68019248', 'rs7311972', 'rs2721058', 'rs5023161', 'rs12676059', 'rs55942887', 'rs4835416', 'rs9378700', 'rs182201290', 'rs11802588', 'rs6751132', 'rs4473103', 'rs190165672', 'rs6062953', 'rs116318931', 'rs10039331', 'rs8189631', 'rs7156431', 'rs12435641', 'rs80256208', 'rs6687543', 'rs13411165', 'rs7857777', 'rs4671748', 'rs7921094', 'rs72680561', 'rs16889458', 'rs12218774', 'rs113481348', 'rs7728140', 'rs9991680', 'rs149128479', 'rs10172757', 'rs138747488', 'rs12532746', 'rs4755038', 'rs2727271', 'rs31414', 'rs10878591', 'rs813115', 'rs7207754', 'rs28680438', 'rs10492269', 'rs10063731', 'rs4726106', 'rs1551655', 'rs78002704', 'rs9907313', 'rs12496281', 'rs10458593', 'rs8057049', 'rs62023758', 'rs4727319', 'rs28732159', 'rs73625090', 'rs1560955', 'rs582921', 'rs4849886', 'rs4945203', 'rs11177375', 'rs4948134', 'rs118158134', 'rs4072920', 'rs2294942', 'rs7831194', 'rs4627280', 'rs11173736', 'rs75096440', 'rs12947821', 'rs4767278', 'rs59345679', 'rs2412975', 'rs1363150', 'rs62197227', 'rs75475627', 'rs57058233', 'rs7966019', 'rs181836743', 'rs10183151', 'rs2321686', 'rs7618405', 'rs16516', 'rs73165200', 'rs7678256', 'rs79008179', 'rs11969890', 'rs2616653', 'rs6648504', 'rs10914186', 'rs7186799', 'rs4867510', 'rs4123534', 'rs117909372', 'rs77104147', 'rs9987128', 'rs4845655', 'rs7966348', 'rs73833615', 'rs7563483', 'rs71626590', 'rs485161', 'rs4276607', 'rs62170817', 'rs34455076', 'rs7698509', 'rs7837160', 'rs12563057', 'rs143194839', 'rs13170064', 'rs9520094', 'rs3857155', 'rs7304978', 'rs583795', 'rs6769992', 'rs572745', 'rs2024561', 'rs569928195', 'rs10969814', 'rs10982327', 'rs428844', 'rs7971634', 'rs13267486', 'rs184842126', 'rs6512483', 'rs2652548', 'rs10951103', 'rs3104192', 'rs113641335', 'rs476635', 'rs6848543', 'rs147804394', 'rs1362161', 'rs571665', 'rs11246313', 'rs2426277', 'rs13212100', 'rs4847092', 'rs6925178', 'rs2526311', 'rs2082803', 'rs138937562', 'rs74138763', 'rs12329114', 'rs4917619', 'rs36077515', 'rs78491307', 'rs12462721', 'rs2678370', 'rs334558', 'rs910902', 'rs10208229', 'rs1701376', 'rs4422848', 'rs74322376', 'rs9304792', 'rs6062456', 'rs57398992', 'rs12658519', 'rs10146592', 'rs6140537', 'rs6675614', 'rs56394343', 'rs9904165', 'rs75724886', 'rs7107285', 'rs34206504', 'rs55688773', 'rs56104275', 'rs367568278', 'rs73612161', 'rs2466369', 'rs56155097', 'rs58032708', 'rs62147083', 'rs282385', 'rs1085419', 'rs7745118', 'rs2280670', 'rs7537291', 'rs7655799', 'rs234323', 'rs2474207', 'rs4830637', 'rs10943583', 'rs4693351', 'rs1606587', 'rs2422298', 'rs7132117', 'rs4235023', 'rs55999811', 'rs4724506', 'rs156277', 'rs41281251', 'rs7924613', 'rs2079995', 'rs1858707', 'rs1413391', 'rs62355934', 'rs12535808', 'rs7316145', 'rs9948287', 'rs2931819', 'rs59156225', 'rs5765829', 'rs72933355', 'rs10838906', 'rs114506493', 'rs692633', 'rs1478117', 'rs72808616', 'rs255471', 'rs3928822', 'rs7003103', 'rs8104237', 'rs141067324', 'rs326600', 'rs72755816', 'rs140821953', 'rs4526665', 'rs13388909', 'rs34347433', 'rs5949711', 'rs450400', 'rs62475041', 'rs16909648', 'rs7941700', 'rs11732354', 'rs143189331', 'rs7581811', 'rs150214436', 'rs58561802', 'rs78348784', 'rs282384', 'rs10184139', 'rs3218806', 'rs111553326', 'rs61048419', 'rs4518849', 'rs10024628', 'rs79651373', 'rs11174646', 'rs4610937', 'rs6674732', 'rs1535615', 'rs2837537', 'rs12362560', 'rs6980786', 'rs67760360', 'rs9738060', 'rs10264371', 'rs10162778', 'rs59032547', 'rs79464383', 'rs934653', 'rs6431306', 'rs9594798', 'rs112873144', 'rs4735308', 'rs7013326', 'rs345529', 'rs527116', 'rs147692810', 'rs17747001', 'rs4911253', 'rs6573312', 'rs2421600', 'rs7156811', 'rs12828667', 'rs11736444', 'rs7095612', 'rs374756829', 'rs7993485', 'rs111983315', 'rs72832712', 'rs71463023', 'rs1434703', 'rs55708074', 'rs183821327', 'rs62344709', 'rs3911940', 'rs13121581', 'rs12417289', 'rs4473194', 'rs1639065', 'rs7618073', 'rs10884998', 'rs10158516', 'rs34338434', 'rs4684300', 'rs62358082', 'rs2854614', 'rs9556157', 'rs12461691', 'rs2854446', 'rs3745717', 'rs12465272', 'rs12415934', 'rs12727981', 'rs1937514', 'rs59204736', 'rs11617034', 'rs73530550', 'rs111342313', 'rs11168525', 'rs12839893', 'rs148887058', 'rs3752533', 'rs4550237', 'rs660975', 'rs12989120', 'rs55887763', 'rs7114052', 'rs754608', 'rs7925131', 'rs182964943', 'rs13075', 'rs202086846', 'rs9320446', 'rs1810352', 'rs6736161', 'rs6909797', 'rs111652908', 'rs34964217', 'rs55848954', 'rs6858097', 'rs333304', 'rs2604532', 'rs28438551', 'rs3739609', 'rs71325442', 'rs6421999', 'rs75838419', 'rs10816329', 'rs10174201', 'rs62422270', 'rs6554592', 'rs11066231', 'rs2703725', 'rs1395320', 'rs76923399', 'rs34021689', 'rs5992449', 'rs9521382', 'rs7652541', 'rs8088109', 'rs56784003', 'rs1791231', 'rs2285217', 'rs6861269', 'rs74846330', 'rs185470078', 'rs17253361', 'rs6571849', 'rs113212207', 'rs1499579', 'rs3735383', 'rs4954239', 'rs79184869', 'rs3092642', 'rs6002413', 'rs28890778', 'rs10276890', 'rs7172283', 'rs12644497', 'rs2562335', 'rs3819325', 'rs11631119', 'rs7253533', 'rs10412761', 'rs7895196', 'rs4903691', 'rs10857020', 'rs11862884', 'rs11165081', 'rs7146418', 'rs6962305', 'rs9310294', 'rs111582277', 'rs1521351', 'rs10458063', 'rs35349343', 'rs10889261', 'rs546266796', 'rs68159343', 'rs4433571', 'rs13324934', 'rs183135557', 'rs4897221', 'rs10941780', 'rs7879974', 'rs78772712', 'rs75150764', 'rs4535002', 'rs817353', 'rs1000457', 'rs77493289', 'rs1871670', 'rs6714831', 'rs7009473', 'rs34168681', 'rs823526', 'rs10146847', 'rs9967944', 'rs12917201', 'rs13406642', 'rs79461047', 'rs71547571', 'rs571612238', 'rs227086', 'rs200284980', 'rs137862040', 'rs11895421', 'rs17642633', 'rs2291500', 'rs2729705', 'rs3744510', 'rs56395302', 'rs11742790', 'rs599976', 'rs1927787', 'rs10870159', 'rs77057854', 'rs2294717', 'rs230100', 'rs6818123', 'rs924662', 'rs74587399', 'rs28807390', 'rs72940660', 'rs7846269', 'rs4935425', 'rs68124578', 'rs62475042', 'rs3762008', 'rs6566811', 'rs11887445', 'rs28872821', 'rs12340706', 'rs7931660', 'rs139733109', 'rs1257070', 'rs9556838', 'rs2279864', 'rs10485644', 'rs56154841', 'rs2224381', 'rs11667477', 'rs186671044', 'rs11017531', 'rs57399741', 'rs2454603', 'rs4506438', 'rs16970163', 'rs113689046', 'rs4835822', 'rs2997117', 'rs4387533', 'rs2906463', 'rs534343213', 'rs28524858', 'rs7835740', 'rs1345436', 'rs3817405', 'rs9968231', 'rs61790919', 'rs114231629', 'rs141129163', 'rs3998173', 'rs59530575', 'rs76785033', 'rs61878637', 'rs5920636', 'rs2702461', 'rs7513019', 'rs4541490', 'rs9864074', 'rs5955751', 'rs4664848', 'rs58850636', 'rs28850711', 'rs12713203', 'rs60275607', 'rs146998409', 'rs61983825', 'rs28431313', 'rs7942946', 'rs4566169', 'rs292670', 'rs7602948', 'rs56386110', 'rs4544253', 'rs145808959', 'rs111800692', 'rs10073156', 'rs11955245', 'rs12419349', 'rs73166881', 'rs56358959', 'rs11163867', 'rs62114350', 'rs79828774', 'rs61994063', 'rs11578005', 'rs2132926', 'rs28364400', 'rs10196831', 'rs7492664', 'rs6549806', 'rs9350386', 'rs10969702', 'rs482745', 'rs73966851', 'rs979586', 'rs1737064', 'rs9479713', 'rs1784220', 'rs4577633', 'rs2396679', 'rs681890', 'rs2562645', 'rs77736753', 'rs3133520', 'rs12460170', 'rs570717185', 'rs8100565', 'rs11972032', 'rs12258656', 'rs3783370', 'rs1013128', 'rs2657495', 'rs2451256', 'rs59752051', 'rs28441649', 'rs2064405', 'rs329105', 'rs67170112', 'rs2146399', 'rs12439654', 'rs147961399', 'rs7843111', 'rs7254370', 'rs6986100', 'rs7957464', 'rs72659661', 'rs5964432', 'rs7088616', 'rs10008366', 'rs1976938', 'rs60312806', 'rs12903331', 'rs9839347', 'rs190970094', 'rs10159880', 'rs7746751', 'rs73193796', 'rs1381709', 'rs7029471', 'rs10868604', 'rs412856', 'rs10214869', 'rs73543055', 'rs10132513', 'rs1343322', 'rs312466', 'rs4439119', 'rs1791391', 'rs2264364', 'rs1974568', 'rs12315837', 'rs13152564', 'rs13187090', 'rs6799471', 'rs9512922', 'rs55897240', 'rs2116377', 'rs9364885', 'rs11786641', 'rs11576939', 'rs13045046', 'rs9874537', 'rs530420603', 'rs12505265', 'rs74524600', 'rs10779355', 'rs41291526', 'rs7142049', 'rs2526814', 'rs111807878', 'rs113846603', 'rs6511110', 'rs4579090', 'rs6760726', 'rs4843398', 'rs370058146', 'rs2165635', 'rs1051559', 'rs2027122', 'rs6852852', 'rs73071187', 'rs10117535', 'rs6744438', 'rs12446161', 'rs908197', 'rs6895359', 'rs59598256', 'rs284458', 'rs11695835', 'rs112511041', 'rs3116844', 'rs1864741', 'rs448924', 'rs182009498', 'rs306398', 'rs7235489', 'rs139473696', 'rs7331894', 'rs12502639', 'rs12251791', 'rs2084532', 'rs60245472', 'rs74403743', 'rs12993796', 'rs11685175', 'rs9949191', 'rs669124', 'rs62437826', 'rs1179132', 'rs2559537', 'rs144730379', 'rs2936576', 'rs74001180', 'rs4619875', 'rs112928610', 'rs10075914', 'rs4338085', 'rs73060598', 'rs142653130', 'rs112497052', 'rs77260720', 'rs62316853', 'rs3794703', 'rs182244', 'rs4958816', 'rs1561925', 'rs3794200', 'rs16877840', 'rs74280430', 'rs1889789', 'rs57240597', 'rs9685269', 'rs3120819', 'rs2106954', 'rs34483751', 'rs7743800', 'rs77475470', 'rs72549414', 'rs28526815', 'rs6593537', 'rs75047362', 'rs13267859', 'rs139485996', 'rs12879601', 'rs538969', 'rs36121911', 'rs2091477', 'rs783026', 'rs13389241', 'rs6877204', 'rs9551969', 'rs352091', 'rs186606593', 'rs2205849', 'rs34836858', 'rs182045012', 'rs371235275', 'rs6455618', 'rs116347986', 'rs533049', 'rs7637786', 'rs13265219', 'rs7262841', 'rs7551834', 'rs6062498', 'rs183146218', 'rs79724423', 'rs72631333', 'rs73553914', 'rs11788122', 'rs622897', 'rs2450775', 'rs12322650', 'rs12159575', 'rs114169776', 'rs74715187', 'rs115764862', 'rs11106376', 'rs9915922', 'rs2887636', 'rs75538489', 'rs1954112', 'rs149113381', 'rs4607955', 'rs2075657', 'rs2071477', 'rs6821113', 'rs1697946', 'rs749547', 'rs6766467', 'rs11612576', 'rs2735175', 'rs1220552', 'rs75813089', 'rs61904401', 'rs12499425', 'rs658195', 'rs13295749', 'rs6674542', 'rs28429613', 'rs6902600', 'rs6039891', 'rs12535877', 'rs143879590', 'rs11040062', 'rs1575616', 'rs4507494', 'rs72998491', 'rs12042887', 'rs3763156', 'rs9932027', 'rs1057881', 'rs7786023', 'rs7140323', 'rs1558405', 'rs9603632', 'rs34289921', 'rs11984183', 'rs7519676', 'rs1320500', 'rs10788826', 'rs544240521', 'rs7513196', 'rs7962272', 'rs111342183', 'rs150508054', 'rs7658480', 'rs7252014', 'rs1391717', 'rs6685220', 'rs10914394', 'rs647896', 'rs2846299', 'rs4887190', 'rs111866399', 'rs12395785', 'rs78830495', 'rs113400508', 'rs57253914', 'rs1957987', 'rs1842858', 'rs7120318', 'rs7916510', 'rs71541723', 'rs184711693', 'rs536998', 'rs35913552', 'rs217953', 'rs13174146', 'rs80063963', 'rs76627141', 'rs2660586', 'rs1854314', 'rs5929781', 'rs373709773', 'rs62380066', 'rs2187740', 'rs10283122', 'rs2907498', 'rs337481', 'rs73023932', 'rs6918590', 'rs17069766', 'rs62105733', 'rs111975392', 'rs76793025', 'rs12028454', 'rs55927958', 'rs4788028', 'rs1394939', 'rs10521117', 'rs55817248', 'rs7914306', 'rs9811460', 'rs6929846', 'rs1373991', 'rs3806156', 'rs112787654', 'rs150790895', 'rs12917995', 'rs6943678', 'rs11004569', 'rs8026318', 'rs4281831', 'rs2811779', 'rs2917672', 'rs73305600', 'rs13114343', 'rs72719938', 'rs803090', 'rs12250221', 'rs1377565', 'rs13019565', 'rs11974612', 'rs2478439', 'rs292508', 'rs7105185', 'rs7097963', 'rs4666359', 'rs3743589', 'rs34467595', 'rs12682522', 'rs56067544', 'rs2278497', 'rs9903070', 'rs12464785', 'rs11871034', 'rs75382064', 'rs752873', 'rs535934275', 'rs62237055', 'rs180816', 'rs58158568', 'rs751929', 'rs41272385', 'rs9445539', 'rs75549677', 'rs60260037', 'rs2607927', 'rs4318433', 'rs779997', 'rs3753559', 'rs4828504', 'rs112897662', 'rs7104351', 'rs400320', 'rs6681288', 'rs114686953', 'rs6710171', 'rs7371532', 'rs10017316', 'rs4794584', 'rs112321515', 'rs12148268', 'rs438334', 'rs4324651', 'rs10835231', 'rs12747989', 'rs12542785', 'rs149562629', 'rs1823551', 'rs111866360', 'rs76282629', 'rs2500537', 'rs2228539', 'rs2314716', 'rs12521004', 'rs6925201', 'rs16927551', 'rs148345606', 'rs6853919', 'rs4836591', 'rs6429271', 'rs6489311', 'rs847352', 'rs10894718', 'rs17570856', 'rs61373222', 'rs73207228', 'rs7872110', 'rs10023206', 'rs191789663', 'rs4074930', 'rs335571', 'rs778593', 'rs10871799', 'rs12778108', 'rs7506913', 'rs7922656', 'rs145256240', 'rs176107', 'rs6629023', 'rs4444883', 'rs58844595', 'rs6534508', 'rs9726609', 'rs7115214', 'rs62378114', 'rs708680', 'rs73985235', 'rs4572871', 'rs13318260', 'rs9573822', 'rs55947357', 'rs9320457', 'rs2740483', 'rs5953384', 'rs2599459', 'rs73147796', 'rs513321', 'rs34947160', 'rs75375644', 'rs76314779', 'rs9988575', 'rs7487633', 'rs2389388', 'rs6746383', 'rs6991081', 'rs11658204', 'rs6050014', 'rs544853134', 'rs10066317', 'rs596251', 'rs9392465', 'rs7732880', 'rs722611', 'rs4717479', 'rs112263013', 'rs10764699', 'rs55716543', 'rs57650575', 'rs7865276', 'rs11122442', 'rs55801413', 'rs3130500', 'rs7589064', 'rs112820110', 'rs11650513', 'rs7994603', 'rs4872474', 'rs4585763', 'rs3088301', 'rs139562308', 'rs2819567', 'rs7424010', 'rs6934771', 'rs6927052', 'rs28434767', 'rs76475483', 'rs10496571', 'rs9789910', 'rs113645150', 'rs4627044', 'rs139100785', 'rs2487588', 'rs76753397', 'rs6415637', 'rs9912400', 'rs78550516', 'rs80163623', 'rs1585139', 'rs73234814', 'rs11608716', 'rs3945233', 'rs8021763', 'rs10979018', 'rs11750003', 'rs143124202', 'rs113522280', 'rs6984764', 'rs224887', 'rs35771709', 'rs5964959', 'rs4239106', 'rs71440078', 'rs73028999', 'rs376838401', 'rs7761604', 'rs4860429', 'rs4761701', 'rs6989838', 'rs7018749', 'rs2209846', 'rs76828130', 'rs2371494', 'rs7551145', 'rs2852033', 'rs535636058', 'rs8058599', 'rs6021587', 'rs76155650', 'rs2809152', 'rs78931190', 'rs532601728', 'rs62059501', 'rs3743782', 'rs1527176', 'rs9821978', 'rs6089378', 'rs73021619', 'rs2024887', 'rs531496400', 'rs8133418', 'rs7099846', 'rs78364253', 'rs80044142', 'rs694609', 'rs2570648', 'rs197392', 'rs12614619', 'rs10216058', 'rs12772534', 'rs1634525', 'rs2348903', 'rs181442522', 'rs729604', 'rs3811095', 'rs34856254', 'rs1980634', 'rs492026', 'rs369591645', 'rs2095521', 'rs200538837', 'rs3748759', 'rs8095834', 'rs12124244', 'rs73063168', 'rs6660147', 'rs6066303', 'rs10812300', 'rs76730102', 'rs74675471', 'rs11776547', 'rs148911856', 'rs71635165', 'rs266526', 'rs116922228', 'rs2016840', 'rs28687901', 'rs1676015', 'rs2635552', 'rs9492822', 'rs3732997', 'rs10947987', 'rs115206394', 'rs10043836', 'rs115211662', 'rs2397745', 'rs1455915', 'rs4798958', 'rs11593848', 'rs9642325', 'rs1395716', 'rs9681057', 'rs2093514', 'rs1878267', 'rs9359727', 'rs6955671', 'rs75614920', 'rs1557351', 'rs6415028', 'rs9937', 'rs4840040', 'rs151014086', 'rs71324929', 'rs4533324', 'rs9635201', 'rs114879279', 'rs1067645', 'rs2200181', 'rs2378233', 'rs1008219', 'rs12859674', 'rs6737900', 'rs5929988', 'rs17031070', 'rs258988', 'rs3208427', 'rs9875253', 'rs537039288', 'rs559127', 'rs4619085', 'rs8039140', 'rs6576801', 'rs28792818', 'rs7022573', 'rs2123077', 'rs73313404', 'rs11765200', 'rs2283643', 'rs79501277', 'rs137943958', 'rs10124136', 'rs12644583', 'rs9309729', 'rs877669', 'rs6921061', 'rs10040148', 'rs189933159', 'rs111533201', 'rs10835678', 'rs2994618', 'rs7088746', 'rs10190907', 'rs77739473', 'rs6532111', 'rs28735631', 'rs3088023', 'rs78171348', 'rs1959345', 'rs34161989', 'rs80278885', 'rs572889154', 'rs184295926', 'rs61888601', 'rs34307784', 'rs2076188', 'rs4424358', 'rs2182148', 'rs10784684', 'rs11549621', 'rs12893938', 'rs56058896', 'rs76013851', 'rs60570231', 'rs71599008', 'rs62219777', 'rs72844798', 'rs203418', 'rs11263699', 'rs4077670', 'rs13147962', 'rs4920501', 'rs61015712', 'rs10966900', 'rs13419964', 'rs6441317', 'rs2461968', 'rs10254519', 'rs6468530', 'rs6449903', 'rs13063561', 'rs7314798', 'rs4741658', 'rs13397526', 'rs56146386', 'rs4783004', 'rs1323070', 'rs2295320', 'rs1528269', 'rs72825175', 'rs1992330', 'rs1562254', 'rs9298451', 'rs75227693', 'rs74451361', 'rs13019917', 'rs12577851', 'rs221265', 'rs7986871', 'rs3134613', 'rs12655228', 'rs12509310', 'rs3748026', 'rs4849887', 'rs9932312', 'rs59824856', 'rs868971', 'rs73752945', 'rs12437395', 'rs249292', 'rs5964960', 'rs2846399', 'rs17681708', 'rs75467787', 'rs3102518', 'rs33920632', 'rs4781157', 'rs1368551', 'rs61837574', 'rs6665240', 'rs77368425', 'rs10754399', 'rs6578674', 'rs4790812', 'rs7359442', 'rs73326095', 'rs2211259', 'rs16829118', 'rs4662592', 'rs271376', 'rs202122100', 'rs12046226', 'rs4736788', 'rs67235080', 'rs1090823', 'rs4742449', 'rs183891819', 'rs61443590', 'rs1881894', 'rs592842', 'rs13185314', 'rs1585326', 'rs141613161', 'rs9371636', 'rs10153026', 'rs200162188', 'rs12147167', 'rs9512923', 'rs12320604', 'rs10805128', 'rs643807', 'rs12679178', 'rs2356811', 'rs174561', 'rs7704541', 'rs12496469', 'rs4849352', 'rs76478790', 'rs1978905', 'rs7073003', 'rs557133953', 'rs7818181', 'rs10770830', 'rs113088235', 'rs881492', 'rs7063404', 'rs2274881', 'rs7520067', 'rs4507597', 'rs111410794', 'rs73712465', 'rs28403588', 'rs12002941', 'rs3751129', 'rs12153933', 'rs11735169', 'rs34161111', 'rs10257064', 'rs1205020', 'rs112072150', 'rs1410397', 'rs73402436', 'rs11015238', 'rs851188', 'rs11980302', 'rs142818891', 'rs73043854', 'rs375686557', 'rs12673669', 'rs7011857', 'rs6764646', 'rs73743218', 'rs12239076', 'rs10788271', 'rs7713723', 'rs72723853', 'rs72666636', 'rs132847', 'rs7525490', 'rs560041212', 'rs2906901', 'rs7789324', 'rs2007835', 'rs4035208', 'rs74596695', 'rs4275276', 'rs12265807', 'rs7870426', 'rs9937368', 'rs9356534', 'rs9833496', 'rs11195913', 'rs6436465', 'rs7021436', 'rs7308993', 'rs185477301', 'rs3962628', 'rs6899208', 'rs2306170', 'rs1744645', 'rs7118994', 'rs201202281', 'rs11166698', 'rs76050896', 'rs72939906', 'rs112793981', 'rs7283526', 'rs2294560', 'rs1881665', 'rs11626144', 'rs7913700', 'rs10989828', 'rs28869202', 'rs11025152', 'rs139279322', 'rs2669154', 'rs71608283', 'rs6908905', 'rs7224817', 'rs10743874', 'rs62031562', 'rs2854613', 'rs3739614', 'rs1335347', 'rs282571', 'rs2944675', 'rs2680342', 'rs141586326', 'rs2301762', 'rs147902845', 'rs5748340', 'rs4352764', 'rs192442930', 'rs73935308', 'rs2596911', 'rs62296726', 'rs10213476', 'rs3124602', 'rs34038545', 'rs2168353', 'rs1187435', 'rs10988485', 'rs4959995', 'rs78313007', 'rs16839688', 'rs61944965', 'rs959259', 'rs7100479', 'rs2242426', 'rs8020999', 'rs35733104', 'rs115643361', 'rs4788941', 'rs79269237', 'rs11678162', 'rs9936260', 'rs10049288', 'rs55711501', 'rs12062064', 'rs78067334', 'rs73733163', 'rs12768309', 'rs202225989', 'rs12995449', 'rs57098546', 'rs2944676', 'rs2252130', 'rs112338014', 'rs4525801', 'rs12185156', 'rs9468920', 'rs10145314', 'rs4738685', 'rs76817357', 'rs11221585', 'rs2561663', 'rs76334449', 'rs4506020', 'rs2092082', 'rs10466747', 'rs7105682', 'rs139587752', 'rs148010090', 'rs2477492', 'rs73485595', 'rs11839911', 'rs4837160', 'rs56012779', 'rs9348699', 'rs150692369', 'rs1934314', 'rs11759320', 'rs10128657', 'rs80220941', 'rs1591864', 'rs11793711', 'rs12044395', 'rs1543423', 'rs5770154', 'rs2732800', 'rs138435285', 'rs10114407', 'rs9890200', 'rs59204319', 'rs1560081', 'rs61079577', 'rs74436929', 'rs61939200', 'rs11209715', 'rs4458641', 'rs3868210', 'rs4889599', 'rs12617302', 'rs74616605', 'rs11118644', 'rs912015', 'rs71382586', 'rs113101502', 'rs7847816', 'rs12758411', 'rs16952812', 'rs661337', 'rs72811071', 'rs4396753', 'rs34983458', 'rs67618890', 'rs11111979', 'rs114355510', 'rs143879152', 'rs7649139', 'rs2015723', 'rs12297904', 'rs1597152', 'rs35546392', 'rs112818766', 'rs115738451', 'rs7914083', 'rs75129857', 'rs583088', 'rs4553466', 'rs2281040', 'rs2416191', 'rs9808489', 'rs45443696', 'rs10858160', 'rs111724418', 'rs6706957', 'rs149750343', 'rs10848270', 'rs11124959', 'rs11885486', 'rs6503532', 'rs2239223', 'rs3856981', 'rs78868657', 'rs143929789', 'rs11787452', 'rs79337782', 'rs7456517', 'rs112754606', 'rs12359497', 'rs7018188', 'rs4560255', 'rs57622273', 'rs2997922', 'rs8054184', 'rs6423049', 'rs2072793', 'rs117377492', 'rs1775196', 'rs3772827', 'rs13002557', 'rs510551', 'rs11845981', 'rs6707694', 'rs12580540', 'rs12783379', 'rs8033763', 'rs149037197', 'rs149716881', 'rs112206044', 'rs62360748', 'rs7040967', 'rs2297928', 'rs73439547', 'rs62347987', 'rs1247297', 'rs11077346', 'rs60609531', 'rs2560600', 'rs6421171', 'rs3814235', 'rs80323506', 'rs9615568', 'rs13102231', 'rs13103208', 'rs11826594', 'rs2291612', 'rs112105260', 'rs4653452', 'rs11579169', 'rs9830732', 'rs13043316', 'rs3743596', 'rs159923', 'rs12319460', 'rs1941031', 'rs35160825', 'rs111586775', 'rs558683508', 'rs9516052', 'rs3111839', 'rs9306429', 'rs9671344', 'rs2017879', 'rs2095552', 'rs377665063', 'rs7913005', 'rs9839187', 'rs2584930', 'rs7852582', 'rs12697286', 'rs4800551', 'rs2319002', 'rs6826820', 'rs61161650', 'rs76698640', 'rs17026123', 'rs191602409', 'rs72932256', 'rs17731290', 'rs1628835', 'rs9714813', 'rs643981', 'rs10106428', 'rs56239606', 'rs1321139', 'rs1116734', 'rs1021572', 'rs35518384', 'rs78720946', 'rs60107557', 'rs2070953', 'rs3810276', 'rs11030932', 'rs28368464', 'rs2495883', 'rs9518400', 'rs9400214', 'rs1997606', 'rs1027927', 'rs2708931', 'rs2165634', 'rs3962791', 'rs35794418', 'rs784414', 'rs8051139', 'rs7543199', 'rs7156532', 'rs78441184', 'rs7688818', 'rs73704836', 'rs4902859', 'rs61981101', 'rs4268168', 'rs4727174', 'rs10495443', 'rs61784580', 'rs7752203', 'rs1334693', 'rs192351649', 'rs369378258', 'rs3771279', 'rs9483545', 'rs12962763', 'rs74537152', 'rs112818673', 'rs1671152', 'rs60412323', 'rs17189357', 'rs9409428', 'rs113736386', 'rs7147947', 'rs371035713', 'rs294302', 'rs72836788', 'rs13355458', 'rs12984288', 'rs73138310', 'rs75521052', 'rs73911363', 'rs74669838', 'rs3770089', 'rs2723164', 'rs10143824', 'rs4952122', 'rs4897770', 'rs7230215', 'rs521023', 'rs417124', 'rs118029899', 'rs16869429', 'rs72913637', 'rs1909291', 'rs6811545', 'rs5759167', 'rs36079445', 'rs11061294', 'rs4130414', 'rs2835049', 'rs2682756', 'rs9302676', 'rs1478351', 'rs6720662', 'rs3887614', 'rs7651322', 'rs115798964', 'rs7589632', 'rs396109', 'rs10194375', 'rs567061', 'rs11763022', 'rs4807915', 'rs11227440', 'rs5989580', 'rs17551563', 'rs62558320', 'rs26239', 'rs3731976', 'rs62089222', 'rs3910541', 'rs28379041', 'rs13338912', 'rs9902379', 'rs56362503', 'rs2070917', 'rs118134369', 'rs1374390', 'rs12814235', 'rs35006769', 'rs73009584', 'rs68100351', 'rs13047817', 'rs12284567', 'rs28521858', 'rs2369663', 'rs7539296', 'rs108775', 'rs112853753', 'rs3785000', 'rs61805222', 'rs12640446', 'rs1716985', 'rs11081364', 'rs76376697', 'rs28444802', 'rs191133542', 'rs62133319', 'rs2305133', 'rs932959', 'rs11808780', 'rs2270090', 'rs9834391', 'rs60315133', 'rs10445411', 'rs2411530', 'rs73424813', 'rs28548609', 'rs836836', 'rs58359333', 'rs376478892', 'rs13138600', 'rs667808', 'rs16952956', 'rs148564364', 'rs10442381', 'rs3813486', 'rs1124911', 'rs2714794', 'rs13425010', 'rs6574807', 'rs6711329', 'rs111291850', 'rs750768', 'rs62237056', 'rs114768082', 'rs13204417', 'rs1987195', 'rs3116092', 'rs10976805', 'rs13028553', 'rs151030190', 'rs10007800', 'rs665268', 'rs2279198', 'rs6047908', 'rs577427107', 'rs6039597', 'rs12793460', 'rs16944028', 'rs7441381', 'rs17591264', 'rs7115047', 'rs28669903', 'rs9608196', 'rs12928606', 'rs12789854', 'rs2955734', 'rs10739193', 'rs13128486', 'rs9763358', 'rs4751676', 'rs12356003', 'rs1435300', 'rs146719024', 'rs9807698', 'rs507905', 'rs111401521', 'rs4565867', 'rs6441318', 'rs10814167', 'rs5953594', 'rs4267073', 'rs10213959', 'rs73269428', 'rs11081167', 'rs6641528', 'rs4800686', 'rs4433678', 'rs2066074', 'rs34469286', 'rs2965016', 'rs3739670', 'rs61124203', 'rs79271581', 'rs6704639', 'rs80288070', 'rs1434123', 'rs11235245', 'rs112568396', 'rs115322251', 'rs10416592', 'rs7171204', 'rs1362757', 'rs79765631', 'rs6709723', 'rs7607250', 'rs6851125', 'rs909724', 'rs9697215', 'rs9364775', 'rs9683048', 'rs351722', 'rs58633725', 'rs9444127', 'rs9849248', 'rs12032955', 'rs7892038', 'rs13382772', 'rs7873128', 'rs4342423', 'rs3846903', 'rs1922185', 'rs41499245', 'rs13260972', 'rs4926928', 'rs12521545', 'rs2560277', 'rs112314123', 'rs10103396', 'rs73515660', 'rs4752146', 'rs28366034', 'rs10230170', 'rs7012237', 'rs976049', 'rs10983442', 'rs7165916', 'rs114497054', 'rs6453175', 'rs79842212', 'rs74668211', 'rs112795288', 'rs190046719', 'rs10887416', 'rs2579842', 'rs4807481', 'rs73198016', 'rs4267171', 'rs76096037', 'rs59086729', 'rs12637548', 'rs2397947', 'rs1127485', 'rs6866835', 'rs6036196', 'rs11843047', 'rs75588483', 'rs11051551', 'rs78501075', 'rs2520128', 'rs4884059', 'rs7979388', 'rs7641331', 'rs6618516', 'rs653285', 'rs10459965', 'rs4786612', 'rs1188181', 'rs2277365', 'rs1770360', 'rs3751327', 'rs2846297', 'rs4072556', 'rs139710940', 'rs58366653', 'rs2281208', 'rs7580133', 'rs10415598', 'rs908382', 'rs2092795', 'rs10064599', 'rs6957069', 'rs146480909', 'rs61886103', 'rs4712930', 'rs7611924', 'rs626839', 'rs10207901', 'rs2986273', 'rs4545543', 'rs11865638', 'rs6836198', 'rs60133064', 'rs7322492', 'rs2388442', 'rs7583549', 'rs10752199', 'rs28528780', 'rs1853018', 'rs6743642', 'rs9372816', 'rs12267176', 'rs11080476', 'rs3005682', 'rs75755212', 'rs36161674', 'rs202020369', 'rs1912259', 'rs58534087', 'rs61262534', 'rs10821067', 'rs57521648', 'rs10982326', 'rs5989089', 'rs6859010', 'rs11852112', 'rs1962031', 'rs11141525', 'rs34437788', 'rs62106867', 'rs2853117', 'rs4263383', 'rs11195915', 'rs12128596', 'rs4742902', 'rs72750044', 'rs139343698', 'rs4630469', 'rs6873273', 'rs139962428', 'rs12498156', 'rs7900907', 'rs9371167', 'rs4467469', 'rs393578', 'rs72896680', 'rs10100793', 'rs10979329', 'rs6142838', 'rs2418327', 'rs9616217', 'rs192701579', 'rs78127493', 'rs4737174', 'rs12984133', 'rs11242847', 'rs6774060', 'rs56291705', 'rs75566023', 'rs114636151', 'rs7094663', 'rs5983218', 'rs12939116', 'rs62361819', 'rs9409607', 'rs650311', 'rs5769273', 'rs3773745', 'rs143821544', 'rs7941706', 'rs9313921', 'rs11674405', 'rs4656062', 'rs55968902', 'rs7254965', 'rs61928259', 'rs11535058', 'rs76450896', 'rs7873440', 'rs80176886', 'rs7210685', 'rs1828403', 'rs2058094', 'rs4787172', 'rs8130555', 'rs260721', 'rs112945435', 'rs7801064', 'rs17304703', 'rs59386542', 'rs677491', 'rs56202566', 'rs7545235', 'rs7069048', 'rs7069189', 'rs34382632', 'rs184093', 'rs13269715', 'rs12253573', 'rs3130446', 'rs459311', 'rs75496439', 'rs9668770', 'rs7499618', 'rs62379792', 'rs6964764', 'rs258684', 'rs746401', 'rs11019844', 'rs2247628', 'rs138155344', 'rs1001710', 'rs9350878', 'rs73424815', 'rs1019210', 'rs2531894', 'rs1832666', 'rs10868138', 'rs10463224', 'rs34793082', 'rs1335910', 'rs10831581', 'rs77499167', 'rs13108631', 'rs3766696', 'rs2378843', 'rs6099265', 'rs9310064', 'rs112259649', 'rs112051270', 'rs12748021', 'rs58836433', 'rs11017955', 'rs16838839', 'rs4648414', 'rs200421594', 'rs6704438', 'rs13270267', 'rs12261675', 'rs6045844', 'rs11122558', 'rs9911312', 'rs61753409', 'rs4724699', 'rs116836952', 'rs12737453', 'rs58072329', 'rs404569', 'rs144297222', 'rs6590181', 'rs6975722', 'rs337561', 'rs62497342', 'rs2599460', 'rs409210', 'rs76143550', 'rs9685965', 'rs1665077', 'rs62219776', 'rs7636251', 'rs6748220', 'rs74743561', 'rs13417248', 'rs140584379', 'rs6713406', 'rs35015549', 'rs7334157', 'rs9852655', 'rs12095839', 'rs13411564', 'rs6463836', 'rs6703953', 'rs58617368', 'rs12681125', 'rs4641592', 'rs2019656', 'rs2380692', 'rs7224746', 'rs3824915', 'rs12876300', 'rs62078748', 'rs12880057', 'rs5909598', 'rs5956512', 'rs10468674', 'rs141853580', 'rs4333185', 'rs10962598', 'rs16878126', 'rs1827507', 'rs10181475', 'rs6596247', 'rs1727444', 'rs9366446', 'rs78802416', 'rs142015151', 'rs34253217', 'rs7059323', 'rs9372344', 'rs10163867', 'rs10787099', 'rs6668266', 'rs17242258', 'rs1923187', 'rs673821', 'rs9264916', 'rs1834877', 'rs3817344', 'rs2585464', 'rs11006489', 'rs2234696', 'rs10847247', 'rs6962046', 'rs9542874', 'rs9969471', 'rs9682362', 'rs7204262', 'rs74155086', 'rs11953934', 'rs62260996', 'rs118162574', 'rs113752330', 'rs7017913', 'rs150739425', 'rs4741297', 'rs7002090', 'rs6863503', 'rs2526310', 'rs140431412', 'rs137909944', 'rs34014522', 'rs28849527', 'rs200438738', 'rs7327005', 'rs9651636', 'rs2688233', 'rs1550949', 'rs113856426', 'rs10076684', 'rs12353781', 'rs61229279', 'rs74119676', 'rs16958610', 'rs6881059', 'rs72956718', 'rs74880460', 'rs8063531', 'rs5979144', 'rs117964477', 'rs5906651', 'rs7254045', 'rs12922651', 'rs72775369', 'rs2715624', 'rs676523', 'rs113854711', 'rs7991699', 'rs112606536', 'rs12023273', 'rs6472219', 'rs2057482', 'rs4811087', 'rs12920732', 'rs5964483', 'rs529797', 'rs8069139', 'rs4906940', 'rs9388180', 'rs72686907', 'rs111888380', 'rs35745222', 'rs4261615', 'rs66861805', 'rs3130463', 'rs114577031', 'rs2568876', 'rs28685182', 'rs28813722', 'rs2804224', 'rs4595558', 'rs114597930', 'rs1360143', 'rs6925578', 'rs77048615', 'rs6693817', 'rs1823438', 'rs10911400', 'rs73692261', 'rs17210259', 'rs59250022', 'rs58959459', 'rs4437340', 'rs337519', 'rs78491207', 'rs12831225', 'rs115088007', 'rs17027607', 'rs1813348', 'rs73692868', 'rs1103893', 'rs55798539', 'rs544964139', 'rs10933867', 'rs1448525', 'rs9905505', 'rs6553423', 'rs2642156', 'rs61957943', 'rs77094090', 'rs12294094', 'rs2741219', 'rs3799283', 'rs7151883', 'rs200737993', 'rs9355885', 'rs667976', 'rs80208674', 'rs75516171', 'rs79836780', 'rs9268522', 'rs2383878', 'rs36102431', 'rs28680987', 'rs7919868', 'rs74910594', 'rs4926979', 'rs7640976', 'rs7594062', 'rs9575827', 'rs1462478', 'rs299805', 'rs114821341', 'rs62065834', 'rs10153729', 'rs2020079', 'rs2512258', 'rs113604505', 'rs629525', 'rs6022858', 'rs7245838', 'rs2234059', 'rs1995597', 'rs3826341', 'rs12214124', 'rs12644319', 'rs76460366', 'rs6046446', 'rs17115876', 'rs6964417', 'rs9355738', 'rs240375', 'rs59286748', 'rs363169', 'rs4311865', 'rs73106145', 'rs9454469', 'rs4797268', 'rs35978208', 'rs140054859', 'rs4969532', 'rs6927726', 'rs1469695', 'rs333643', 'rs816796', 'rs13023521', 'rs6945496', 'rs35598949', 'rs1947061', 'rs61999099', 'rs6452660', 'rs113388760', 'rs73079469', 'rs12271117', 'rs55927134', 'rs11512479', 'rs34380238', 'rs2297218', 'rs78737869', 'rs28514885', 'rs57942285', 'rs12792976', 'rs1770361', 'rs759355', 'rs2442683', 'rs557883269', 'rs57442627', 'rs59961458', 'rs62105734', 'rs12764684', 'rs76563149', 'rs10458911', 'rs7025994', 'rs7856737', 'rs11199655', 'rs7878459', 'rs34178768', 'rs10402843', 'rs73184345', 'rs2227909', 'rs2305826', 'rs1957374', 'rs2480094', 'rs2398484', 'rs6811518', 'rs58217496', 'rs115875396', 'rs3813321', 'rs2606087', 'rs1382582', 'rs187622051', 'rs67808321', 'rs9537241', 'rs4750129', 'rs35646421', 'rs7115200', 'rs7051598', 'rs4776644', 'rs113726512', 'rs61053574', 'rs74774562', 'rs115509092', 'rs1500453', 'rs150315860', 'rs10848271', 'rs117812815', 'rs6429776', 'rs9777591', 'rs168903', 'rs57673782', 'rs7760821', 'rs1329119', 'rs13381464', 'rs10213477', 'rs12277489', 'rs6672451', 'rs72622911', 'rs1338062', 'rs560806587', 'rs76005978', 'rs4878792', 'rs7812478', 'rs112531792', 'rs7285553', 'rs113036885', 'rs28403610', 'rs1047038', 'rs7541304', 'rs11812775', 'rs10832380', 'rs111635925', 'rs75344392', 'rs6444083', 'rs13254514', 'rs7541825', 'rs78065237', 'rs12342100', 'rs12265122', 'rs2349073', 'rs11774910', 'rs6956067', 'rs74527362', 'rs7299788', 'rs6661204', 'rs1220667', 'rs58727400', 'rs77027562', 'rs80225220', 'rs4826276', 'rs36107879', 'rs9691975', 'rs862995', 'rs72663816', 'rs2886929', 'rs28623526', 'rs79242680', 'rs1246948', 'rs7179675', 'rs1997731', 'rs7317390', 'rs57209607', 'rs117647498', 'rs3782553', 'rs1798072', 'rs56365738', 'rs2518591', 'rs7565543', 'rs7562307', 'rs9524699', 'rs12439858', 'rs1966770', 'rs74660673', 'rs116149298', 'rs75853703', 'rs79713333', 'rs56017926', 'rs1703558', 'rs3884794', 'rs3182340', 'rs12500770', 'rs11032319', 'rs658196', 'rs9429340', 'rs59236973', 'rs1959022', 'rs896508', 'rs230305', 'rs10903109', 'rs343365', 'rs141392718', 'rs13098075', 'rs13148423', 'rs6509603', 'rs115854290', 'rs183635941', 'rs4698528', 'rs13072567', 'rs5956692', 'rs2997549', 'rs11500140', 'rs6868742', 'rs60133676', 'rs73061248', 'rs7304020', 'rs7593076', 'rs7357120', 'rs147090077', 'rs10915828', 'rs10157987', 'rs144392310', 'rs150858679', 'rs111936544', 'rs75469076', 'rs645772', 'rs7062242', 'rs56016633', 'rs299500', 'rs1644647', 'rs1898421', 'rs7854551', 'rs10949938', 'rs814777', 'rs12758443', 'rs7604456', 'rs28790302', 'rs6742329', 'rs117099148', 'rs78554319', 'rs113659141', 'rs77840866', 'rs3789424', 'rs28589594', 'rs62449943', 'rs12479503', 'rs1909422', 'rs10205268', 'rs34441352', 'rs74147130', 'rs140506598', 'rs7258674', 'rs28796386', 'rs7814598', 'rs7533829', 'rs7866196', 'rs2564939', 'rs127929', 'rs13325754', 'rs2659009', 'rs79021855', 'rs9536078', 'rs10069228', 'rs9690012', 'rs10024127', 'rs138254195', 'rs4645854', 'rs1134029', 'rs2310775', 'rs12210411', 'rs7314797', 'rs6931017', 'rs141396362', 'rs169776', 'rs62575086', 'rs545003072', 'rs75724521', 'rs7894312', 'rs191296920', 'rs1791339', 'rs80196599', 'rs17209882', 'rs3138334', 'rs861585', 'rs3128291', 'rs201203070', 'rs1049307', 'rs11731853', 'rs7209019', 'rs313035', 'rs12119036', 'rs113285039', 'rs1039549', 'rs10519905', 'rs10046027', 'rs4272910', 'rs62341069', 'rs2713183', 'rs2818980', 'rs116091749', 'rs13077152', 'rs72887332', 'rs2348916', 'rs859592', 'rs4618421', 'rs13381392', 'rs10740305', 'rs9910021', 'rs3828083', 'rs7058196', 'rs650366', 'rs2322313', 'rs9366906', 'rs113524947', 'rs4727176', 'rs28664128', 'rs61986377', 'rs72878283', 'rs7165191', 'rs62109714', 'rs73546771', 'rs145734905', 'rs9348716', 'rs76652726', 'rs550700184', 'rs2335947', 'rs2040307', 'rs278524', 'rs16972296', 'rs73571904', 'rs11119281', 'rs76159452', 'rs2711672', 'rs4633091', 'rs2302176', 'rs77313892', 'rs12454816', 'rs28892901', 'rs11847933', 'rs73541308', 'rs10043789', 'rs10919212', 'rs12811367', 'rs2994679', 'rs9542646', 'rs35469417', 'rs67036916', 'rs8032463', 'rs11258364', 'rs199816242', 'rs7557122', 'rs6439379', 'rs9572279', 'rs2277726', 'rs822249', 'rs617599', 'rs140305378', 'rs2406331', 'rs538985807', 'rs7108952', 'rs7839163', 'rs1992249', 'rs2996001', 'rs4263445', 'rs9642711', 'rs361251', 'rs9987129', 'rs62219775', 'rs2488742', 'rs146526488', 'rs12578674', 'rs8052204', 'rs73080911', 'rs10510201', 'rs34973411', 'rs561062221', 'rs11797735', 'rs675199', 'rs62568167', 'rs1963233', 'rs4468203', 'rs73349940', 'rs8085477', 'rs313169', 'rs34583229', 'rs73833353', 'rs2926619', 'rs263533', 'rs2505052', 'rs4794447', 'rs2290124', 'rs8017917', 'rs7576011', 'rs10943847', 'rs7569290', 'rs73167182', 'rs7620136', 'rs76110104', 'rs10758641', 'rs230005', 'rs12543154', 'rs77780918', 'rs10790420', 'rs4777931', 'rs772559', 'rs13089127', 'rs35537495', 'rs4242530', 'rs4931751', 'rs2916733', 'rs6956972', 'rs34223780', 'rs6083646', 'rs59233002', 'rs144348079', 'rs7997016', 'rs5020313', 'rs116470821', 'rs28842513', 'rs34594476', 'rs150402480', 'rs7206321', 'rs834603', 'rs111564972', 'rs6888096', 'rs113934974', 'rs35376934', 'rs4238991', 'rs9832804', 'rs10890255', 'rs62053879', 'rs2650744', 'rs10178069', 'rs11751899', 'rs7240936', 'rs7948284', 'rs7893722', 'rs5953762', 'rs117008198', 'rs10421500', 'rs6742592', 'rs11981415', 'rs2664581', 'rs4583808', 'rs10757051', 'rs4736901', 'rs73937423', 'rs9938580', 'rs117365976', 'rs2202617', 'rs115918054', 'rs12700345', 'rs9643935', 'rs28420148', 'rs45605937', 'rs62422172', 'rs202183580', 'rs11670204', 'rs10765022', 'rs16988668', 'rs73144031', 'rs9478280', 'rs7834950', 'rs200698907', 'rs6575157', 'rs7207286', 'rs61819573', 'rs13146660', 'rs7726888', 'rs12116616', 'rs2758487', 'rs62187662', 'rs4234262', 'rs6142839', 'rs6442795', 'rs116919996', 'rs7297349', 'rs258425', 'rs13080340', 'rs78099243', 'rs10478842', 'rs111906064', 'rs113486035', 'rs4840938', 'rs5909725', 'rs35014697', 'rs5968631', 'rs4975158', 'rs6712203', 'rs57844799', 'rs1844098', 'rs6767212', 'rs111329805', 'rs4288690', 'rs3852198', 'rs76565655', 'rs6631179', 'rs62597266', 'rs7185111', 'rs13355079', 'rs13158606', 'rs1645787', 'rs4797194', 'rs12279279', 'rs12822241', 'rs4506991', 'rs1870259', 'rs11677442', 'rs12155038', 'rs13069625', 'rs2631898', 'rs78848441', 'rs12927279', 'rs28532340', 'rs10209550', 'rs62043907', 'rs4719255', 'rs36624', 'rs6939978', 'rs2989491', 'rs629861', 'rs6614764', 'rs11058862', 'rs35690360', 'rs4779493', 'rs10049285', 'rs7835386', 'rs12460929', 'rs6530452', 'rs6829100', 'rs116831650', 'rs664408', 'rs2704063', 'rs9309718', 'rs2065723', 'rs61887592', 'rs146898200', 'rs1789482', 'rs74506154', 'rs4776639', 'rs60730264', 'rs1230351', 'rs16968296', 'rs370038998', 'rs6917147', 'rs1141054', 'rs6140989', 'rs12192117', 'rs7113924', 'rs9674710', 'rs189876103', 'rs26151', 'rs4274334', 'rs201688995', 'rs10230331', 'rs6474507', 'rs1836125', 'rs2005740', 'rs2775195', 'rs9925480', 'rs75041806', 'rs74819357', 'rs17164384', 'rs6087662', 'rs73313417', 'rs10428991', 'rs11195914', 'rs12267927', 'rs11737940', 'rs6791960', 'rs56285859', 'rs4290266', 'rs28428731', 'rs541351', 'rs61547312', 'rs56086550', 'rs2154951', 'rs2065410', 'rs79034568', 'rs9852553', 'rs815934', 'rs1529745', 'rs11880770', 'rs77330853', 'rs186619770', 'rs11666642', 'rs8057045', 'rs11898771', 'rs62023767', 'rs17732996', 'rs62298242', 'rs11696519', 'rs2440400', 'rs17738158', 'rs7382020', 'rs7087701', 'rs7597666', 'rs9521383', 'rs7009416', 'rs538657570', 'rs28849501', 'rs9768631', 'rs59508799', 'rs112934441', 'rs61988687', 'rs77821526', 'rs9909601', 'rs9520106', 'rs10735043', 'rs2037313', 'rs73723762', 'rs12097996', 'rs77615777', 'rs114789996', 'rs17742587', 'rs555513', 'rs78795045', 'rs532027905', 'rs8059692', 'rs114570238', 'rs62575105', 'rs36077171', 'rs74772375', 'rs10979076', 'rs5958531', 'rs1188008', 'rs11584600', 'rs73059240', 'rs73007599', 'rs78610332', 'rs34655126', 'rs9347493', 'rs13344454', 'rs710248', 'rs2289720', 'rs689993', 'rs2769616', 'rs6910593', 'rs7863357', 'rs150404203', 'rs2313097', 'rs10078669', 'rs112969746', 'rs1042085', 'rs12152760', 'rs6873129', 'rs5943879', 'rs58123079', 'rs112501635', 'rs7237193', 'rs140055475', 'rs144651361', 'rs112694611', 'rs73381039', 'rs8014623', 'rs60545677', 'rs2244406', 'rs140541811', 'rs10989140', 'rs13405511', 'rs9643558', 'rs76928550', 'rs2282076', 'rs12609900', 'rs1264948', 'rs1755734', 'rs6690695', 'rs4072925', 'rs12409340', 'rs4851736', 'rs4850382', 'rs4743022', 'rs10200004', 'rs6447006', 'rs4905678', 'rs836345', 'rs35237970', 'rs7419687', 'rs10192637', 'rs3131382', 'rs2487547', 'rs17238355', 'rs12453735', 'rs11136539', 'rs4368539', 'rs4858938', 'rs115871823', 'rs2270995', 'rs546388', 'rs1842606', 'rs532226', 'rs10269613', 'rs56990136', 'rs5964957', 'rs12067429', 'rs75353491', 'rs2504402', 'rs60745752', 'rs61927186', 'rs470886', 'rs67027227', 'rs201194169', 'rs75048158', 'rs6753895', 'rs13123016', 'rs67879832', 'rs55882037', 'rs35888313', 'rs3851788', 'rs11837291', 'rs2151888', 'rs12459969', 'rs34246065', 'rs7077718', 'rs3758526', 'rs11698653', 'rs12540781', 'rs4261461', 'rs7156785', 'rs11585575', 'rs1564274', 'rs1641931', 'rs3005683', 'rs116408775', 'rs17767640', 'rs6837148', 'rs117241673', 'rs12605475', 'rs186110288', 'rs11008798', 'rs3927735', 'rs2697151', 'rs9958231', 'rs116631553', 'rs9844011', 'rs10861485', 'rs146778266', 'rs199791593', 'rs6697632', 'rs528112753', 'rs114377299', 'rs11607842', 'rs61970540', 'rs4753674', 'rs10204854', 'rs112746374', 'rs9925120', 'rs1761452', 'rs12469809', 'rs75121872', 'rs2376992', 'rs6600799', 'rs7737183', 'rs9471809', 'rs12912532', 'rs12642331', 'rs12718416', 'rs7687709', 'rs16885463', 'rs4627779', 'rs60220295', 'rs11697324', 'rs2187310', 'rs7675622', 'rs11856629', 'rs374011008', 'rs12431129', 'rs2290280', 'rs35069183', 'rs761272', 'rs10782788', 'rs36023439', 'rs10153037', 'rs1425478', 'rs2271951', 'rs10859353', 'rs1633462', 'rs10802694', 'rs73850980', 'rs57388231', 'rs5915773', 'rs6971718', 'rs1034754', 'rs35811390', 'rs12902612', 'rs112313734', 'rs11041169', 'rs7748243', 'rs11995215', 'rs1572345', 'rs79076856', 'rs115660491', 'rs117031630', 'rs150671247', 'rs2385887', 'rs113056139', 'rs5973735', 'rs2255370', 'rs75141465', 'rs6034604', 'rs12759736', 'rs10805129', 'rs3991871', 'rs7620788', 'rs78807522', 'rs11988139', 'rs10794225', 'rs2234706', 'rs6980174', 'rs1728888', 'rs111508095', 'rs11845699', 'rs2702462', 'rs11966607', 'rs7770751', 'rs148878848', 'rs7746811', 'rs140140590', 'rs58529527', 'rs56221594', 'rs2154114', 'rs1759405', 'rs1816867', 'rs6130040', 'rs2749664', 'rs2286279', 'rs12578092', 'rs1703559', 'rs144903559', 'rs12803683', 'rs28419764', 'rs6861520', 'rs10434236', 'rs10891050', 'rs5906163', 'rs12096422', 'rs4302891', 'rs11852820', 'rs6823338', 'rs751402', 'rs4854478', 'rs10910516', 'rs17008081', 'rs113503439', 'rs7133541', 'rs9793995', 'rs75937424', 'rs10813439', 'rs6463596', 'rs2567837', 'rs73534500', 'rs180729', 'rs7244284', 'rs2280738', 'rs12735206', 'rs79403657', 'rs76790018', 'rs7400121', 'rs111799304', 'rs4794244', 'rs334810', 'rs1593405', 'rs4773312', 'rs13338793', 'rs181841428', 'rs74078090', 'rs71323742', 'rs1546723', 'rs6942036', 'rs11731085', 'rs116884561', 'rs7502919', 'rs137883615', 'rs145418989', 'rs78758783', 'rs112474268', 'rs9559679', 'rs73597688', 'rs7676418', 'rs13245955', 'rs7124323', 'rs77524944', 'rs4708341', 'rs7323081', 'rs12131235', 'rs9898220', 'rs3003602', 'rs9849960', 'rs10865197', 'rs7507968', 'rs183877839', 'rs6680890', 'rs1351357', 'rs77137787', 'rs881491', 'rs6455204', 'rs3750523', 'rs7746311', 'rs11033674', 'rs58351400', 'rs431114', 'rs4924050', 'rs76913412', 'rs41777', 'rs55984925', 'rs565848529', 'rs6685499', 'rs7839616', 'rs73542954', 'rs10909013', 'rs4674878', 'rs11985411', 'rs11590633', 'rs9504370', 'rs9886049', 'rs4972566', 'rs6818031', 'rs35069518', 'rs11627300', 'rs78936884', 'rs57029846', 'rs182478168', 'rs7149395', 'rs12920728', 'rs146165599', 'rs11057792', 'rs5749800', 'rs61953934', 'rs17403123', 'rs28469605', 'rs1347352', 'rs78025328', 'rs17154368', 'rs12980022', 'rs9907051', 'rs2572207', 'rs73280512', 'rs10942702', 'rs2731772', 'rs2347790', 'rs2271883', 'rs11620886', 'rs13102480', 'rs2087963', 'rs2422701', 'rs149998494', 'rs2050405', 'rs8920', 'rs11258774', 'rs114138613', 'rs4696245', 'rs10044460', 'rs1045216', 'rs8029174', 'rs12874886', 'rs186245555', 'rs28708655', 'rs34002023', 'rs1643488', 'rs4856100', 'rs4584393', 'rs1150920', 'rs7591409', 'rs12332414', 'rs75770423', 'rs12365813', 'rs112009471', 'rs112935854', 'rs138015439', 'rs480590', 'rs11147282', 'rs12026445', 'rs61925930', 'rs4562926', 'rs7288843', 'rs221754', 'rs4704929', 'rs11899038', 'rs893361', 'rs4383861', 'rs4383862', 'rs4890029', 'rs6804801', 'rs2884386', 'rs7624869', 'rs28413055', 'rs2005194', 'rs10111857', 'rs79814754', 'rs7726700', 'rs11754427', 'rs11258072', 'rs5982262', 'rs6487399', 'rs71451225', 'rs78127969', 'rs6428538', 'rs717153', 'rs1873220', 'rs7702157', 'rs7145539', 'rs2895040', 'rs3762555', 'rs13199965', 'rs77353377', 'rs55735528', 'rs12595747', 'rs142667907', 'rs3825583', 'rs16838750', 'rs4896616', 'rs79370623', 'rs2652816', 'rs8063694', 'rs12585608', 'rs10782959', 'rs11783501', 'rs7129587', 'rs112402671', 'rs117571960', 'rs697140', 'rs7484510', 'rs1294406', 'rs73109203', 'rs57203624', 'rs1200475', 'rs17728252', 'rs601631', 'rs1319475', 'rs7517754', 'rs1383116', 'rs4938181', 'rs7488530', 'rs2646391', 'rs567372214', 'rs12646907', 'rs76938623', 'rs12665532', 'rs6450345', 'rs61507066', 'rs9941651', 'rs73907830', 'rs590112', 'rs4856104', 'rs11664353', 'rs11689621', 'rs74685671', 'rs2135471', 'rs3913298', 'rs7138784', 'rs825723', 'rs35835790', 'rs6464663', 'rs4696244', 'rs75067994', 'rs10951102', 'rs6738955', 'rs7909072', 'rs6641515', 'rs114617917', 'rs13026541', 'rs2275738', 'rs117658780', 'rs78653691', 'rs112277849', 'rs4997900', 'rs1791120', 'rs73155650', 'rs10159875', 'rs12608053', 'rs7218301', 'rs2331155', 'rs9858728', 'rs16834964', 'rs9436301', 'rs202020645', 'rs583234', 'rs6556928', 'rs67515596', 'rs10883384', 'rs10084760', 'rs7638845', 'rs7082061', 'rs13029175', 'rs143081213', 'rs144635278', 'rs585479', 'rs59302098', 'rs35694710', 'rs1741341', 'rs2291728', 'rs425255', 'rs138500050', 'rs939850', 'rs57310120', 'rs2994036', 'rs11080461', 'rs10425729', 'rs117909433', 'rs113564828', 'rs139638856', 'rs12319245', 'rs530680463', 'rs6937512', 'rs61554123', 'rs56397823', 'rs368788164', 'rs61792837', 'rs2304656', 'rs2233713', 'rs13116363', 'rs28579156', 'rs13193929', 'rs112920699', 'rs9619464', 'rs11257343', 'rs10834046', 'rs6041966', 'rs10934366', 'rs200937533', 'rs13302609', 'rs6083672', 'rs3780453', 'rs12142341', 'rs141940833', 'rs4731812', 'rs149754655', 'rs1203548', 'rs2642402', 'rs76332991', 'rs4840579', 'rs851114', 'rs112209982', 'rs4654789', 'rs147965430', 'rs4367267', 'rs10781577', 'rs1545206', 'rs7293503', 'rs71525770', 'rs10254025', 'rs34694137', 'rs12727744', 'rs11198128', 'rs437506', 'rs4751935', 'rs116738412', 'rs17623755', 'rs2245094', 'rs17069346', 'rs9944652', 'rs13411797', 'rs55952666', 'rs138439693', 'rs74322128', 'rs11733754', 'rs7275394', 'rs370392989', 'rs10941407', 'rs729696', 'rs4902177', 'rs150501843', 'rs7154879', 'rs35423424', 'rs12175698', 'rs7485040', 'rs201443581', 'rs61954250', 'rs28503765', 'rs4872705', 'rs4870652', 'rs28759300', 'rs201275549', 'rs17584889', 'rs17173843', 'rs542471', 'rs58442828', 'rs13409535', 'rs74125005', 'rs7942961', 'rs7007537', 'rs2922944', 'rs2316361', 'rs172037', 'rs4601074', 'rs2948905', 'rs35962886', 'rs72836880', 'rs10835234', 'rs7537889', 'rs57307063', 'rs6680255', 'rs8182486', 'rs7786730', 'rs6553261', 'rs114854013', 'rs7013629', 'rs9999069', 'rs12552388', 'rs9411286', 'rs115640954', 'rs57691542', 'rs4534405', 'rs10757252', 'rs5945107', 'rs2771230', 'rs10897452', 'rs12494866', 'rs115078675', 'rs62094492', 'rs117015241', 'rs34199821', 'rs894849', 'rs12706889', 'rs2269851', 'rs192326843', 'rs28847579', 'rs57073633', 'rs143514966', 'rs12258023', 'rs3809816', 'rs34610852', 'rs59478624', 'rs11642648', 'rs4380026', 'rs150172551', 'rs7269344', 'rs6566847', 'rs73823321', 'rs1263240', 'rs221302', 'rs258928', 'rs200991051', 'rs77347897', 'rs10875595', 'rs9450704', 'rs1864185', 'rs6593332', 'rs2472473', 'rs117274931', 'rs114401003', 'rs35979813', 'rs4829781', 'rs146800687', 'rs153608', 'rs66773748', 'rs325400', 'rs11072812', 'rs67275374', 'rs10986244', 'rs10496530', 'rs11841017', 'rs6541038', 'rs3796206', 'rs17450035', 'rs61878848', 'rs4978576', 'rs2200497', 'rs1898836', 'rs1505347', 'rs11775959', 'rs12439379', 'rs79139426', 'rs427021', 'rs3765674', 'rs2589063', 'rs2240310', 'rs4787318', 'rs11152400', 'rs11579620', 'rs3803203', 'rs4951962', 'rs6900751', 'rs181974024', 'rs142486477', 'rs1122616', 'rs7699800', 'rs1371737', 'rs28536568', 'rs12901160', 'rs73377393', 'rs975484', 'rs4618045', 'rs11985365', 'rs7646781', 'rs2575813', 'rs2418256', 'rs2094108', 'rs79155657', 'rs2175320', 'rs144679972', 'rs9382935', 'rs1883487', 'rs60436468', 'rs16937026', 'rs3811422', 'rs76190406', 'rs4615050', 'rs60112988', 'rs80169527', 'rs4805202', 'rs3737759', 'rs58551373', 'rs11943166', 'rs6121559', 'rs11231217', 'rs11927724', 'rs116517712', 'rs16914060', 'rs2281777', 'rs3750901', 'rs4544182', 'rs12544952', 'rs75171309', 'rs11642656', 'rs1867409', 'rs5936819', 'rs7841450', 'rs55668839', 'rs77649070', 'rs112268590', 'rs4244948', 'rs7087267', 'rs343576', 'rs994455', 'rs113191845', 'rs12598770', 'rs58748678', 'rs10492775', 'rs76902316', 'rs7236869', 'rs74497567', 'rs3016759', 'rs11740469', 'rs11529929', 'rs17173841', 'rs58055156', 'rs7126515', 'rs115878742', 'rs2797996', 'rs113889005', 'rs76231523', 'rs1272565', 'rs139010924', 'rs78847577', 'rs35991574', 'rs6420483', 'rs294221', 'rs199547891', 'rs113079010', 'rs4655095', 'rs372195221', 'rs2349634', 'rs144633103', 'rs144910445', 'rs73109538', 'rs2032248', 'rs8039157', 'rs16961566', 'rs7370843', 'rs10091386', 'rs9634329', 'rs57155504', 'rs75509474', 'rs73428727', 'rs5965052', 'rs9503660', 'rs10050708', 'rs75893715', 'rs545223982', 'rs12598478', 'rs192271687', 'rs373218288', 'rs212544', 'rs7315646', 'rs35525541', 'rs12307267', 'rs4778256', 'rs7602138', 'rs7388462', 'rs6702354', 'rs1922815', 'rs615525', 'rs13028173', 'rs1542252', 'rs6069625', 'rs1983282', 'rs1149421', 'rs8129765', 'rs3003608', 'rs75998431', 'rs6863113', 'rs28785823', 'rs76920411', 'rs4901367', 'rs62157524', 'rs12491850', 'rs73174663', 'rs6933465', 'rs6673646', 'rs74407052', 'rs74086457', 'rs3809453', 'rs9841630', 'rs11006509', 'rs12027782', 'rs78643517', 'rs2788675', 'rs141407778', 'rs11823672', 'rs72752350', 'rs73308242', 'rs12352704', 'rs2277191', 'rs17077740', 'rs36078463', 'rs77491573', 'rs116075414', 'rs4647036', 'rs190786283', 'rs2907805', 'rs1147051', 'rs9525985', 'rs1276673', 'rs71630933', 'rs4469422', 'rs10164033', 'rs61786491', 'rs12026099', 'rs2496320', 'rs60545202', 'rs10090305', 'rs113216655', 'rs58387200', 'rs72938532', 'rs73826310', 'rs11544800', 'rs6825', 'rs13222093', 'rs116879307', 'rs4669805', 'rs17123790', 'rs2819115', 'rs207517', 'rs3813571', 'rs9646464', 'rs111541845', 'rs13000610', 'rs28547504', 'rs1882865', 'rs41480946', 'rs14739', 'rs7526747', 'rs73431170', 'rs12506190', 'rs56097646', 'rs7149010', 'rs6910224', 'rs4241863', 'rs11153224', 'rs1813717', 'rs6137726', 'rs4877245', 'rs72764201', 'rs12893528', 'rs143462354', 'rs10884859', 'rs17122303', 'rs9461526', 'rs10078768', 'rs13154281', 'rs12550740', 'rs10446539', 'rs13224092', 'rs1451982', 'rs3824496', 'rs11205421', 'rs73835170', 'rs4750122', 'rs4880454', 'rs7237367', 'rs77198457', 'rs6677824', 'rs10925643', 'rs77525005', 'rs9622412', 'rs114988485', 'rs1190269', 'rs234325', 'rs11687335', 'rs74664949', 'rs1842497', 'rs7567514', 'rs2777826', 'rs10936360', 'rs1178159', 'rs34466769', 'rs7778406', 'rs10453877', 'rs386243', 'rs3888780', 'rs62318661', 'rs10770832', 'rs7200237', 'rs4341097', 'rs7688811', 'rs10512717', 'rs28764879', 'rs2874744', 'rs146213131', 'rs80293062', 'rs3812625', 'rs518285', 'rs8065136', 'rs2324757', 'rs2493196', 'rs77236211', 'rs916277', 'rs13422191', 'rs72677859', 'rs41392550', 'rs143860330', 'rs114838230', 'rs7332221', 'rs2020197', 'rs60111945', 'rs4777306', 'rs1024465', 'rs9969138', 'rs79693165', 'rs11047887', 'rs10081157', 'rs3818626', 'rs57869850', 'rs2110955', 'rs17207107', 'rs1431060', 'rs13250181', 'rs111603436', 'rs602607', 'rs11015237', 'rs523938', 'rs6002045', 'rs76856324', 'rs142808670', 'rs9783676', 'rs75260472', 'rs6675148', 'rs6697675', 'rs7894173', 'rs9398436', 'rs12419133', 'rs17344196', 'rs301908', 'rs6994106', 'rs6447250', 'rs4295354', 'rs74149714', 'rs374487119', 'rs12565333', 'rs11086004', 'rs1934298', 'rs11006490', 'rs10928478', 'rs10927499', 'rs1059000', 'rs414637', 'rs1993464', 'rs10924618', 'rs113485683', 'rs595841', 'rs6944061', 'rs191952789', 'rs75817886', 'rs12647926', 'rs74999087', 'rs1922816', 'rs7596269', 'rs2141655', 'rs1639375', 'rs184579048', 'rs12595347', 'rs548543100', 'rs13289265', 'rs2378113', 'rs11674586', 'rs6841728', 'rs61878849', 'rs139353080', 'rs11722130', 'rs58850318', 'rs10983765', 'rs10933669', 'rs10183592', 'rs28887294', 'rs148715137', 'rs7316898', 'rs113054782', 'rs1986835', 'rs4613270', 'rs67619097', 'rs2927226', 'rs10466748', 'rs59479', 'rs11951070', 'rs73831204', 'rs7787140', 'rs2289149', 'rs11631165', 'rs4875099', 'rs13277372', 'rs580948', 'rs17109000', 'rs17022791', 'rs28494737', 'rs10005174', 'rs9818340', 'rs319545', 'rs7514097', 'rs11591742', 'rs141110706', 'rs118056047', 'rs61761710', 'rs7676534', 'rs114243872', 'rs79436692', 'rs7020684', 'rs6658104', 'rs35393652', 'rs12942088', 'rs11785510', 'rs16976250', 'rs7500623', 'rs6814578', 'rs74325344', 'rs28689733', 'rs116997921', 'rs11770415', 'rs4287125', 'rs3767302', 'rs34956350', 'rs7505208', 'rs61946626', 'rs11246122', 'rs11935240', 'rs56130722', 'rs4240963', 'rs9657891', 'rs9910023', 'rs6138905', 'rs200808915', 'rs2132868', 'rs58199285', 'rs9406177', 'rs2303125', 'rs7079729', 'rs9998440', 'rs7231006', 'rs10118107', 'rs3212250', 'rs10972998', 'rs146880995', 'rs2256031', 'rs11098391', 'rs431359', 'rs8011647', 'rs6711813', 'rs72793517', 'rs12395360', 'rs73805839', 'rs6701395', 'rs263389', 'rs12046899', 'rs963141', 'rs13129171', 'rs2198199', 'rs62218197', 'rs35760279', 'rs12786030', 'rs3891326', 'rs55656112', 'rs28869568', 'rs2070744', 'rs4645622', 'rs75393574', 'rs56387516', 'rs57110421', 'rs11132303', 'rs34054237', 'rs3751855', 'rs12948726', 'rs1720007', 'rs11676780', 'rs13252476', 'rs579938', 'rs12975019', 'rs10919944', 'rs150940127', 'rs7904988', 'rs4682248', 'rs114453825', 'rs151257126', 'rs12348085', 'rs597067', 'rs1609483', 'rs12159742', 'rs6425346', 'rs58154739', 'rs12780071', 'rs142612699', 'rs2949180', 'rs142567700', 'rs80322778', 'rs10892074', 'rs4960584', 'rs147117271', 'rs12244803', 'rs538809955', 'rs7090365', 'rs73418472', 'rs78408736', 'rs4326326', 'rs1946176', 'rs7570643', 'rs1053871', 'rs252427', 'rs73980863', 'rs1890649', 'rs4430796', 'rs10735334', 'rs62256197', 'rs6122208', 'rs1727138', 'rs56794958', 'rs11131540', 'rs79725795', 'rs6481822', 'rs2907807', 'rs3047', 'rs6878161', 'rs9394055', 'rs9862404', 'rs6933475', 'rs138229651', 'rs324637', 'rs575370205', 'rs7115646', 'rs6493090', 'rs77204432', 'rs7264432', 'rs114332833', 'rs11061293', 'rs101028', 'rs312525', 'rs62298243', 'rs4849884', 'rs76100533', 'rs13108290', 'rs773562', 'rs1987511', 'rs16905131', 'rs763126', 'rs570660', 'rs10764381', 'rs145819342', 'rs6062078', 'rs57521051', 'rs10101446', 'rs115963140', 'rs4789465', 'rs7297950', 'rs1206042', 'rs73012283', 'rs201780173', 'rs7115429', 'rs2526733', 'rs111785807', 'rs28592585', 'rs4697985', 'rs5993640', 'rs369464682', 'rs473451', 'rs369278356', 'rs61090692', 'rs35504625', 'rs7598876', 'rs17164333', 'rs2158962', 'rs4975828', 'rs2015939', 'rs10115655', 'rs12571345', 'rs4911106', 'rs674192', 'rs7740698', 'rs57406559', 'rs4672821', 'rs79500728', 'rs244852', 'rs6544939', 'rs9553017', 'rs35590597', 'rs377080251', 'rs7013000', 'rs10803297', 'rs9550691', 'rs4407150', 'rs7561959', 'rs12452270', 'rs151311997', 'rs2059137', 'rs16952866', 'rs7902085', 'rs9984644', 'rs4011437', 'rs7339530', 'rs7905821', 'rs77187268', 'rs11824507', 'rs4925362', 'rs10446612', 'rs10785891', 'rs56327060', 'rs75806657', 'rs12723864', 'rs9898861', 'rs80183796', 'rs7299306', 'rs2093875', 'rs10894257', 'rs79961197', 'rs2128985', 'rs375151', 'rs595135', 'rs4361617', 'rs11771397', 'rs343109', 'rs303126', 'rs408848', 'rs3800564', 'rs7743961', 'rs132869', 'rs77715625', 'rs6052854', 'rs2850062', 'rs73258136', 'rs7250532', 'rs6467576', 'rs79767651', 'rs11215696', 'rs12699520', 'rs77955022', 'rs2604531', 'rs7293350', 'rs376712536', 'rs28403253', 'rs116573312', 'rs190358', 'rs7559443', 'rs4076655', 'rs2165604', 'rs7786813', 'rs12984612', 'rs1642816', 'rs75457438', 'rs7179078', 'rs4654985', 'rs377486091', 'rs2814762', 'rs6955880', 'rs6424768', 'rs4403339', 'rs514228', 'rs79990554', 'rs542468926', 'rs13229222', 'rs144206408', 'rs11658116', 'rs299115', 'rs11175398', 'rs35199970', 'rs6581653', 'rs6867866', 'rs7910596', 'rs13396013', 'rs648489', 'rs149652234', 'rs2276396', 'rs6687078', 'rs28460256', 'rs9348645', 'rs115714969', 'rs74501630', 'rs7244243', 'rs148577530', 'rs554497', 'rs9374263', 'rs77487181', 'rs17560772', 'rs2613111', 'rs2127464', 'rs3825792', 'rs671118', 'rs9497889', 'rs149069546', 'rs34068284', 'rs4438543', 'rs2072611', 'rs112929582', 'rs11785441', 'rs13128858', 'rs73809700', 'rs4295129', 'rs7020337', 'rs7114009', 'rs72665068', 'rs59610552', 'rs141606122', 'rs71463474', 'rs9515283', 'rs962698', 'rs11253715', 'rs583454', 'rs9681198', 'rs13439118', 'rs145369634', 'rs6813234', 'rs8034701', 'rs73209708', 'rs2120160', 'rs34373930', 'rs1611227', 'rs2015418', 'rs12210093', 'rs148603072', 'rs4569259', 'rs7786042', 'rs2177086', 'rs11078291', 'rs9959553', 'rs190983775', 'rs11858656', 'rs3026368', 'rs113326785', 'rs73463563', 'rs9911968', 'rs188849184', 'rs2724380', 'rs611835', 'rs9863777', 'rs3010944', 'rs2306329', 'rs34582040', 'rs142357675', 'rs11895609', 'rs12021887', 'rs9342786', 'rs16969098', 'rs12668342', 'rs7577968', 'rs28397734', 'rs10770091', 'rs6603103', 'rs2281914', 'rs542860097', 'rs73658504', 'rs60223611', 'rs7475314', 'rs59341917', 'rs8026424', 'rs72632592', 'rs74717866', 'rs2775128', 'rs77979618', 'rs4246905', 'rs76000950', 'rs377486529', 'rs72621886', 'rs8141008', 'rs11192779', 'rs12376399', 'rs8096474', 'rs6078768', 'rs4043540', 'rs61775736', 'rs4572733', 'rs144664265', 'rs36108758', 'rs60732696', 'rs9859536', 'rs7007531', 'rs9804761', 'rs2976566', 'rs3771808', 'rs111950289', 'rs4457698', 'rs12129455', 'rs12369169', 'rs12610115', 'rs318552', 'rs77006446', 'rs1976325', 'rs765606', 'rs77755798', 'rs146565373', 'rs2113956', 'rs312529', 'rs5995300', 'rs75006420', 'rs4674595', 'rs378863', 'rs2561186', 'rs62504789', 'rs1889790', 'rs715021', 'rs4748899', 'rs76467648', 'rs10098668', 'rs7797457', 'rs12453250', 'rs8020587', 'rs891751', 'rs117847676', 'rs11151144', 'rs11635717', 'rs1895689', 'rs1970988', 'rs72775368', 'rs28480323', 'rs562408519', 'rs241976', 'rs2477907', 'rs73131767', 'rs184823823', 'rs7829847', 'rs9461188', 'rs7755741', 'rs4597969', 'rs142921681', 'rs185767465', 'rs168749', 'rs722122', 'rs2089771', 'rs2304269', 'rs188535837', 'rs670350', 'rs9549567', 'rs2722299', 'rs10758908', 'rs13417231', 'rs55669421', 'rs10136571', 'rs6931369', 'rs36041872', 'rs2503778', 'rs3748205', 'rs61895077', 'rs10788663', 'rs2502032', 'rs501470', 'rs11102726', 'rs112674564', 'rs34126693', 'rs3811547', 'rs9814323', 'rs10770948', 'rs2302177', 'rs7813490', 'rs73554923', 'rs843764', 'rs7805987', 'rs144268385', 'rs61748635', 'rs11082869', 'rs7692663', 'rs72664324', 'rs8037545', 'rs1508792', 'rs7872127', 'rs11731087', 'rs2207712', 'rs9392177', 'rs28362578', 'rs4300424', 'rs73023124', 'rs3975059', 'rs4865881', 'rs12471211', 'rs13356414', 'rs3212927', 'rs111895688', 'rs10784064', 'rs4675716', 'rs2552207', 'rs569854909', 'rs73239085', 'rs6709337', 'rs140224788', 'rs79427769', 'rs11723304', 'rs116238052', 'rs59175641', 'rs73489673', 'rs10260418', 'rs2240670', 'rs150827032', 'rs117159343', 'rs60408883', 'rs7161783', 'rs113731212', 'rs1499787', 'rs10759202', 'rs4516199', 'rs73083731', 'rs9572280', 'rs1926230', 'rs141562238', 'rs10898910', 'rs76975330', 'rs7118674', 'rs11004365', 'rs201233728', 'rs6601330', 'rs7910824', 'rs86757', 'rs75404626', 'rs855162', 'rs11212541', 'rs4942878', 'rs71607067', 'rs2395185', 'rs10992951', 'rs7269113', 'rs12140041', 'rs28890578', 'rs17061024', 'rs35339837', 'rs75507217', 'rs10417043', 'rs548660738', 'rs2275625', 'rs11740532', 'rs3765356', 'rs1375062', 'rs9293691', 'rs1377729', 'rs760828', 'rs2278256', 'rs2974750', 'rs738382', 'rs12242490', 'rs76180537', 'rs13110641', 'rs150444386', 'rs4608678', 'rs2349609', 'rs2932102', 'rs12029278', 'rs185055557', 'rs1237177', 'rs413227', 'rs58247405', 'rs28770019', 'rs9902811', 'rs30179', 'rs9561630', 'rs652611', 'rs12840719', 'rs12755323', 'rs5745059', 'rs62189545', 'rs12319786', 'rs75612529', 'rs7543450', 'rs558757722', 'rs7820333', 'rs7894968', 'rs140384819', 'rs314865', 'rs6597734', 'rs1564823', 'rs7722242', 'rs8102195', 'rs16840890', 'rs2943789', 'rs2413241', 'rs1488530', 'rs1034447', 'rs6983467', 'rs7535894'])"
            ]
          },
          "execution_count": 6,
          "metadata": {},
          "output_type": "execute_result"
        }
      ],
      "source": [
        "def get_association_alleles(SNP_ids, rate_limit=15):\n",
        "    def fetch_variants(snp_id):\n",
        "        return snp_id, genopyc.get_variants_in_LD(snp_id, 0.8)\n",
        "\n",
        "    alleles_dict = {}\n",
        "    batch_size = rate_limit  # Process up to `rate_limit` SNPs at a time\n",
        "    for i in range(0, len(SNP_ids), batch_size):\n",
        "        batch = SNP_ids[i:i+batch_size]\n",
        "        with ThreadPoolExecutor() as executor:\n",
        "            results = executor.map(fetch_variants, batch)\n",
        "            alleles_dict.update(results)\n",
        "\n",
        "    return alleles_dict\n",
        "\n",
        "# Example usage\n",
        "result = get_association_alleles(dataset_df['SNP_id'].tolist())\n",
        "\n",
        "## remove NoneType keys from the dictionary\n",
        "result = {k: v for k, v in result.items() if v is not None}\n",
        "\n",
        "## remove keys where the list is empty \n",
        "result = {k: v for k, v in result.items() if v}  \n",
        "\n",
        "result.keys()"
      ]
    },
    {
      "cell_type": "markdown",
      "metadata": {},
      "source": [
        "#### save dict LD"
      ]
    },
    {
      "cell_type": "code",
      "execution_count": 7,
      "metadata": {},
      "outputs": [
        {
          "name": "stdout",
          "output_type": "stream",
          "text": [
            "Done - ld k562.sign.id.LP190708.txt saved\n"
          ]
        }
      ],
      "source": [
        "## save result as pickle file \n",
        "with open(f\"/data/Dcode/gaetano/repos/AI4Genomic/data/ld/ld_{data_['name']}.pkl\", \"wb\") as pickle_file:\n",
        "    pickle.dump(result, pickle_file)\n",
        "\n",
        "print(f\"Done - ld {data_['name']} saved\")"
      ]
    },
    {
      "cell_type": "markdown",
      "metadata": {},
      "source": [
        "#### open dict of LDs  "
      ]
    },
    {
      "cell_type": "code",
      "execution_count": 6,
      "metadata": {},
      "outputs": [
        {
          "name": "stdout",
          "output_type": "stream",
          "text": [
            "Loaded LD dictionary for k562.sign.id.LP190708.txt\n"
          ]
        }
      ],
      "source": [
        "## open pickle \n",
        "with open(f\"/data/Dcode/gaetano/repos/AI4Genomic/data/ld/ld_{data_['name']}.pkl\", \"rb\") as pickle_file:\n",
        "    result = pickle.load(pickle_file)\n",
        "\n",
        "print(f\"Loaded LD dictionary for {data_['name']}\")"
      ]
    },
    {
      "cell_type": "code",
      "execution_count": 7,
      "metadata": {},
      "outputs": [
        {
          "data": {
            "text/plain": [
              "14824"
            ]
          },
          "execution_count": 7,
          "metadata": {},
          "output_type": "execute_result"
        }
      ],
      "source": [
        "len(result.keys())"
      ]
    },
    {
      "cell_type": "markdown",
      "metadata": {},
      "source": [
        "### create a datafram from LD blocks"
      ]
    },
    {
      "cell_type": "code",
      "execution_count": 10,
      "metadata": {},
      "outputs": [
        {
          "name": "stderr",
          "output_type": "stream",
          "text": [
            "Processing SNP Batches:   0%|          | 4/989 [01:37<7:28:37, 27.33s/it]"
          ]
        },
        {
          "name": "stdout",
          "output_type": "stream",
          "text": [
            "total number of chunks: 2\n",
            "chunk 0 processed\n",
            "chunk 1 processed\n"
          ]
        },
        {
          "name": "stderr",
          "output_type": "stream",
          "text": [
            "Processing SNP Batches:   1%|          | 5/989 [01:58<6:52:29, 25.15s/it]"
          ]
        },
        {
          "name": "stdout",
          "output_type": "stream",
          "text": [
            "total number of chunks: 2\n",
            "chunk 0 processed\n"
          ]
        },
        {
          "name": "stderr",
          "output_type": "stream",
          "text": [
            "Processing SNP Batches:   1%|          | 6/989 [02:20<6:32:39, 23.97s/it]"
          ]
        },
        {
          "name": "stdout",
          "output_type": "stream",
          "text": [
            "chunk 1 processed\n",
            "total number of chunks: 2\n",
            "chunk 0 processed\n",
            "chunk 1 processed\n"
          ]
        },
        {
          "name": "stderr",
          "output_type": "stream",
          "text": [
            "Processing SNP Batches:   1%|▏         | 13/989 [05:48<7:49:49, 28.88s/it]"
          ]
        },
        {
          "name": "stdout",
          "output_type": "stream",
          "text": [
            "total number of chunks: 2\n",
            "chunk 0 processed\n"
          ]
        },
        {
          "name": "stderr",
          "output_type": "stream",
          "text": [
            "Processing SNP Batches:   1%|▏         | 14/989 [06:32<9:02:44, 33.40s/it]"
          ]
        },
        {
          "name": "stdout",
          "output_type": "stream",
          "text": [
            "chunk 1 processed\n"
          ]
        },
        {
          "name": "stderr",
          "output_type": "stream",
          "text": [
            "Processing SNP Batches:   2%|▏         | 15/989 [06:45<7:21:20, 27.19s/it]"
          ]
        },
        {
          "name": "stdout",
          "output_type": "stream",
          "text": [
            "total number of chunks: 2\n",
            "chunk 0 processed\n"
          ]
        },
        {
          "name": "stderr",
          "output_type": "stream",
          "text": [
            "Processing SNP Batches:   2%|▏         | 16/989 [07:17<7:44:10, 28.62s/it]"
          ]
        },
        {
          "name": "stdout",
          "output_type": "stream",
          "text": [
            "chunk 1 processed\n"
          ]
        },
        {
          "name": "stderr",
          "output_type": "stream",
          "text": [
            "Processing SNP Batches:   2%|▏         | 21/989 [09:44<7:34:46, 28.19s/it] "
          ]
        },
        {
          "name": "stdout",
          "output_type": "stream",
          "text": [
            "total number of chunks: 2\n",
            "chunk 0 processed\n"
          ]
        },
        {
          "name": "stderr",
          "output_type": "stream",
          "text": [
            "Processing SNP Batches:   2%|▏         | 22/989 [10:20<8:12:32, 30.56s/it]"
          ]
        },
        {
          "name": "stdout",
          "output_type": "stream",
          "text": [
            "chunk 1 processed\n",
            "total number of chunks: 2\n",
            "chunk 0 processed\n",
            "chunk 1 processed\n"
          ]
        },
        {
          "name": "stderr",
          "output_type": "stream",
          "text": [
            "Processing SNP Batches:   2%|▏         | 24/989 [13:21<16:14:06, 60.57s/it]"
          ]
        },
        {
          "name": "stdout",
          "output_type": "stream",
          "text": [
            "total number of chunks: 2\n",
            "chunk 0 processed\n"
          ]
        },
        {
          "name": "stderr",
          "output_type": "stream",
          "text": [
            "Processing SNP Batches:   3%|▎         | 25/989 [15:22<21:03:15, 78.63s/it]"
          ]
        },
        {
          "name": "stdout",
          "output_type": "stream",
          "text": [
            "chunk 1 processed\n",
            "total number of chunks: 3\n",
            "total number of chunks: 2\n",
            "chunk 0 processed\n",
            "chunk 0 processed\n",
            "chunk 1 processed\n",
            "chunk 1 processed\n"
          ]
        },
        {
          "name": "stderr",
          "output_type": "stream",
          "text": [
            "Processing SNP Batches:   3%|▎         | 26/989 [18:36<30:20:15, 113.41s/it]"
          ]
        },
        {
          "name": "stdout",
          "output_type": "stream",
          "text": [
            "chunk 2 processed\n",
            "total number of chunks: 2\n",
            "chunk 0 processed\n"
          ]
        },
        {
          "name": "stderr",
          "output_type": "stream",
          "text": [
            "Processing SNP Batches:   3%|▎         | 27/989 [19:15<24:16:28, 90.84s/it] "
          ]
        },
        {
          "name": "stdout",
          "output_type": "stream",
          "text": [
            "chunk 1 processed\n",
            "total number of chunks: 2\n",
            "total number of chunks: 2\n",
            "chunk 0 processed\n",
            "chunk 1 processed\n",
            "chunk 0 processed\n"
          ]
        },
        {
          "name": "stderr",
          "output_type": "stream",
          "text": [
            "Processing SNP Batches:   3%|▎         | 28/989 [19:45<19:23:13, 72.63s/it]"
          ]
        },
        {
          "name": "stdout",
          "output_type": "stream",
          "text": [
            "chunk 1 processed\n",
            "total number of chunks: 2\n",
            "total number of chunks: 3\n",
            "total number of chunks: 2\n",
            "chunk 0 processed\n",
            "chunk 1 processed\n",
            "chunk 0 processed\n",
            "chunk 1 processed\n",
            "chunk 0 processed\n",
            "chunk 1 processed\n"
          ]
        },
        {
          "name": "stderr",
          "output_type": "stream",
          "text": [
            "Processing SNP Batches:   3%|▎         | 29/989 [23:13<30:14:08, 113.38s/it]"
          ]
        },
        {
          "name": "stdout",
          "output_type": "stream",
          "text": [
            "chunk 2 processed\n",
            "total number of chunks: 2\n",
            "chunk 0 processed\n",
            "chunk 1 processed\n"
          ]
        },
        {
          "name": "stderr",
          "output_type": "stream",
          "text": [
            "Processing SNP Batches:   3%|▎         | 31/989 [24:09<18:14:24, 68.54s/it] "
          ]
        },
        {
          "name": "stdout",
          "output_type": "stream",
          "text": [
            "total number of chunks: 2\n",
            "total number of chunks: 2\n",
            "chunk 0 processed\n",
            "chunk 1 processed\n",
            "chunk 0 processed\n"
          ]
        },
        {
          "name": "stderr",
          "output_type": "stream",
          "text": [
            "Processing SNP Batches:   3%|▎         | 32/989 [26:30<23:59:40, 90.26s/it]"
          ]
        },
        {
          "name": "stdout",
          "output_type": "stream",
          "text": [
            "chunk 1 processed\n"
          ]
        },
        {
          "name": "stderr",
          "output_type": "stream",
          "text": [
            "Processing SNP Batches:   3%|▎         | 33/989 [26:42<17:46:58, 66.96s/it]"
          ]
        },
        {
          "name": "stdout",
          "output_type": "stream",
          "text": [
            "total number of chunks: 2\n",
            "total number of chunks: 2\n",
            "chunk 0 processed\n",
            "chunk 1 processed\n",
            "chunk 0 processed\n"
          ]
        },
        {
          "name": "stderr",
          "output_type": "stream",
          "text": [
            "Processing SNP Batches:   3%|▎         | 34/989 [27:15<15:04:08, 56.80s/it]"
          ]
        },
        {
          "name": "stdout",
          "output_type": "stream",
          "text": [
            "chunk 1 processed\n",
            "total number of chunks: 2\n",
            "chunk 0 processed\n"
          ]
        },
        {
          "name": "stderr",
          "output_type": "stream",
          "text": [
            "Processing SNP Batches:   4%|▎         | 35/989 [27:50<13:14:55, 50.00s/it]"
          ]
        },
        {
          "name": "stdout",
          "output_type": "stream",
          "text": [
            "chunk 1 processed\n",
            "total number of chunks: 2\n",
            "chunk 0 processed\n"
          ]
        },
        {
          "name": "stderr",
          "output_type": "stream",
          "text": [
            "Processing SNP Batches:   4%|▎         | 36/989 [28:32<12:37:46, 47.71s/it]"
          ]
        },
        {
          "name": "stdout",
          "output_type": "stream",
          "text": [
            "chunk 1 processed\n"
          ]
        },
        {
          "name": "stderr",
          "output_type": "stream",
          "text": [
            "Processing SNP Batches:   4%|▍         | 40/989 [29:22<5:16:39, 20.02s/it] "
          ]
        },
        {
          "name": "stdout",
          "output_type": "stream",
          "text": [
            "total number of chunks: 2total number of chunks: 2\n",
            "\n",
            "chunk 0 processed\n",
            "chunk 1 processed\n",
            "chunk 0 processed\n"
          ]
        },
        {
          "name": "stderr",
          "output_type": "stream",
          "text": [
            "Processing SNP Batches:   4%|▍         | 41/989 [30:00<6:41:24, 25.41s/it]"
          ]
        },
        {
          "name": "stdout",
          "output_type": "stream",
          "text": [
            "chunk 1 processed\n",
            "total number of chunks: 2\n",
            "chunk 0 processed\n"
          ]
        },
        {
          "name": "stderr",
          "output_type": "stream",
          "text": [
            "Processing SNP Batches:   4%|▍         | 42/989 [31:58<14:01:21, 53.31s/it]"
          ]
        },
        {
          "name": "stdout",
          "output_type": "stream",
          "text": [
            "chunk 1 processed\n"
          ]
        },
        {
          "name": "stderr",
          "output_type": "stream",
          "text": [
            "Processing SNP Batches:   4%|▍         | 43/989 [32:11<10:49:28, 41.19s/it]"
          ]
        },
        {
          "name": "stdout",
          "output_type": "stream",
          "text": [
            "total number of chunks: 2\n",
            "chunk 0 processed\n",
            "chunk 1 processed\n"
          ]
        },
        {
          "name": "stderr",
          "output_type": "stream",
          "text": [
            "Processing SNP Batches:   5%|▍         | 49/989 [34:12<5:41:07, 21.77s/it] "
          ]
        },
        {
          "name": "stdout",
          "output_type": "stream",
          "text": [
            "total number of chunks: 2\n",
            "chunk 0 processed\n"
          ]
        },
        {
          "name": "stderr",
          "output_type": "stream",
          "text": [
            "Processing SNP Batches:   5%|▌         | 50/989 [34:40<6:10:53, 23.70s/it]"
          ]
        },
        {
          "name": "stdout",
          "output_type": "stream",
          "text": [
            "chunk 1 processed\n"
          ]
        },
        {
          "name": "stderr",
          "output_type": "stream",
          "text": [
            "Processing SNP Batches:   6%|▌         | 55/989 [35:42<3:32:18, 13.64s/it]"
          ]
        },
        {
          "name": "stdout",
          "output_type": "stream",
          "text": [
            "total number of chunks: 2\n",
            "total number of chunks: 2\n",
            "chunk 0 processed\n",
            "chunk 1 processed\n",
            "chunk 0 processed\n"
          ]
        },
        {
          "name": "stderr",
          "output_type": "stream",
          "text": [
            "Processing SNP Batches:   6%|▌         | 56/989 [36:34<6:32:57, 25.27s/it]"
          ]
        },
        {
          "name": "stdout",
          "output_type": "stream",
          "text": [
            "chunk 1 processed\n",
            "total number of chunks: 2\n",
            "chunk 0 processed\n"
          ]
        },
        {
          "name": "stderr",
          "output_type": "stream",
          "text": [
            "Processing SNP Batches:   6%|▌         | 57/989 [37:10<7:22:13, 28.47s/it]"
          ]
        },
        {
          "name": "stdout",
          "output_type": "stream",
          "text": [
            "chunk 1 processed\n"
          ]
        },
        {
          "name": "stderr",
          "output_type": "stream",
          "text": [
            "Processing SNP Batches:   6%|▌         | 58/989 [37:29<6:34:25, 25.42s/it]"
          ]
        },
        {
          "name": "stdout",
          "output_type": "stream",
          "text": [
            "total number of chunks: 2\n",
            "chunk 0 processed\n"
          ]
        },
        {
          "name": "stderr",
          "output_type": "stream",
          "text": [
            "Processing SNP Batches:   6%|▌         | 59/989 [37:48<6:07:57, 23.74s/it]"
          ]
        },
        {
          "name": "stdout",
          "output_type": "stream",
          "text": [
            "chunk 1 processed\n"
          ]
        },
        {
          "name": "stderr",
          "output_type": "stream",
          "text": [
            "Processing SNP Batches:   6%|▌         | 60/989 [38:01<5:13:21, 20.24s/it]"
          ]
        },
        {
          "name": "stdout",
          "output_type": "stream",
          "text": [
            "total number of chunks: 2\n",
            "total number of chunks: 2\n",
            "chunk 0 processed\n",
            "chunk 1 processed\n",
            "chunk 0 processed\n"
          ]
        },
        {
          "name": "stderr",
          "output_type": "stream",
          "text": [
            "Processing SNP Batches:   6%|▌         | 61/989 [38:33<6:09:25, 23.89s/it]"
          ]
        },
        {
          "name": "stdout",
          "output_type": "stream",
          "text": [
            "chunk 1 processed\n"
          ]
        },
        {
          "name": "stderr",
          "output_type": "stream",
          "text": [
            "Processing SNP Batches:   6%|▋         | 62/989 [38:54<5:56:27, 23.07s/it]"
          ]
        },
        {
          "name": "stdout",
          "output_type": "stream",
          "text": [
            "total number of chunks: 2\n",
            "total number of chunks: 2\n",
            "chunk 0 processed\n",
            "chunk 1 processed\n",
            "chunk 0 processed\n"
          ]
        },
        {
          "name": "stderr",
          "output_type": "stream",
          "text": [
            "Processing SNP Batches:   6%|▋         | 63/989 [40:44<12:37:41, 49.09s/it]"
          ]
        },
        {
          "name": "stdout",
          "output_type": "stream",
          "text": [
            "chunk 1 processed\n",
            "total number of chunks: 2\n",
            "chunk 0 processed\n",
            "chunk 1 processed\n"
          ]
        },
        {
          "name": "stderr",
          "output_type": "stream",
          "text": [
            "Processing SNP Batches:   7%|▋         | 65/989 [42:11<11:13:40, 43.75s/it]"
          ]
        },
        {
          "name": "stdout",
          "output_type": "stream",
          "text": [
            "total number of chunks: 4\n",
            "total number of chunks: 2\n",
            "chunk 0 processed\n",
            "chunk 0 processed\n",
            "chunk 1 processed\n",
            "chunk 1 processed\n",
            "chunk 2 processed\n"
          ]
        },
        {
          "name": "stderr",
          "output_type": "stream",
          "text": [
            "Processing SNP Batches:   7%|▋         | 66/989 [43:33<14:08:49, 55.18s/it]"
          ]
        },
        {
          "name": "stdout",
          "output_type": "stream",
          "text": [
            "chunk 3 processed\n",
            "total number of chunks: 2\n",
            "chunk 0 processed\n"
          ]
        },
        {
          "name": "stderr",
          "output_type": "stream",
          "text": [
            "Processing SNP Batches:   7%|▋         | 67/989 [44:00<12:01:38, 46.96s/it]"
          ]
        },
        {
          "name": "stdout",
          "output_type": "stream",
          "text": [
            "chunk 1 processed\n",
            "total number of chunks: 2\n",
            "chunk 0 processed\n"
          ]
        },
        {
          "name": "stderr",
          "output_type": "stream",
          "text": [
            "Processing SNP Batches:   7%|▋         | 68/989 [44:33<10:54:17, 42.62s/it]"
          ]
        },
        {
          "name": "stdout",
          "output_type": "stream",
          "text": [
            "chunk 1 processed\n",
            "total number of chunks: 2\n",
            "chunk 0 processed\n"
          ]
        },
        {
          "name": "stderr",
          "output_type": "stream",
          "text": [
            "Processing SNP Batches:   7%|▋         | 69/989 [45:00<9:41:07, 37.90s/it] "
          ]
        },
        {
          "name": "stdout",
          "output_type": "stream",
          "text": [
            "chunk 1 processed\n",
            "total number of chunks: 2\n",
            "total number of chunks: 2\n",
            "chunk 0 processed\n",
            "chunk 1 processed\n",
            "chunk 0 processed\n"
          ]
        },
        {
          "name": "stderr",
          "output_type": "stream",
          "text": [
            "Processing SNP Batches:   7%|▋         | 70/989 [45:38<9:44:40, 38.17s/it]"
          ]
        },
        {
          "name": "stdout",
          "output_type": "stream",
          "text": [
            "chunk 1 processed\n"
          ]
        },
        {
          "name": "stderr",
          "output_type": "stream",
          "text": [
            "Processing SNP Batches:   7%|▋         | 72/989 [46:40<8:35:30, 33.73s/it]"
          ]
        },
        {
          "name": "stdout",
          "output_type": "stream",
          "text": [
            "total number of chunks: 2\n",
            "chunk 0 processed\n",
            "chunk 1 processed\n"
          ]
        },
        {
          "name": "stderr",
          "output_type": "stream",
          "text": [
            "Processing SNP Batches:   8%|▊         | 81/989 [50:42<6:06:52, 24.24s/it] "
          ]
        },
        {
          "name": "stdout",
          "output_type": "stream",
          "text": [
            "total number of chunks: 2\n",
            "total number of chunks: 2\n",
            "total number of chunks: 2\n",
            "total number of chunks: 2\n",
            "chunk 0 processed\n",
            "chunk 0 processed\n",
            "chunk 0 processed\n",
            "chunk 1 processed\n",
            "chunk 1 processed\n",
            "chunk 1 processed\n",
            "chunk 0 processed\n",
            "chunk 1 processed\n"
          ]
        },
        {
          "name": "stderr",
          "output_type": "stream",
          "text": [
            "Processing SNP Batches:   9%|▉         | 89/989 [53:45<4:59:54, 19.99s/it]"
          ]
        },
        {
          "name": "stdout",
          "output_type": "stream",
          "text": [
            "total number of chunks: 2\n",
            "chunk 0 processed\n"
          ]
        },
        {
          "name": "stderr",
          "output_type": "stream",
          "text": [
            "Processing SNP Batches:   9%|▉         | 90/989 [54:15<5:46:16, 23.11s/it]"
          ]
        },
        {
          "name": "stdout",
          "output_type": "stream",
          "text": [
            "chunk 1 processed\n"
          ]
        },
        {
          "name": "stderr",
          "output_type": "stream",
          "text": [
            "Processing SNP Batches:   9%|▉         | 92/989 [54:53<5:08:04, 20.61s/it]"
          ]
        },
        {
          "name": "stdout",
          "output_type": "stream",
          "text": [
            "total number of chunks: 2\n",
            "chunk 0 processed\n"
          ]
        },
        {
          "name": "stderr",
          "output_type": "stream",
          "text": [
            "Processing SNP Batches:   9%|▉         | 93/989 [55:22<5:45:28, 23.13s/it]"
          ]
        },
        {
          "name": "stdout",
          "output_type": "stream",
          "text": [
            "chunk 1 processed\n"
          ]
        },
        {
          "name": "stderr",
          "output_type": "stream",
          "text": [
            "Processing SNP Batches:  10%|▉         | 94/989 [55:30<4:41:02, 18.84s/it]"
          ]
        },
        {
          "name": "stdout",
          "output_type": "stream",
          "text": [
            "total number of chunks: 2\n",
            "chunk 0 processed\n",
            "chunk 1 processed\n"
          ]
        },
        {
          "name": "stderr",
          "output_type": "stream",
          "text": [
            "Processing SNP Batches:  10%|▉         | 98/989 [56:52<4:47:43, 19.37s/it]"
          ]
        },
        {
          "name": "stdout",
          "output_type": "stream",
          "text": [
            "total number of chunks: 2\n",
            "chunk 0 processed\n",
            "chunk 1 processed\n"
          ]
        },
        {
          "name": "stderr",
          "output_type": "stream",
          "text": [
            "Processing SNP Batches:  10%|█         | 99/989 [57:32<6:17:09, 25.43s/it]"
          ]
        },
        {
          "name": "stdout",
          "output_type": "stream",
          "text": [
            "total number of chunks: 2\n",
            "total number of chunks: 2\n",
            "chunk 0 processed\n",
            "chunk 1 processed\n",
            "chunk 0 processed\n"
          ]
        },
        {
          "name": "stderr",
          "output_type": "stream",
          "text": [
            "Processing SNP Batches:  10%|█         | 100/989 [58:21<8:04:22, 32.69s/it]"
          ]
        },
        {
          "name": "stdout",
          "output_type": "stream",
          "text": [
            "chunk 1 processed\n"
          ]
        },
        {
          "name": "stderr",
          "output_type": "stream",
          "text": [
            "Processing SNP Batches:  10%|█         | 101/989 [58:30<6:14:57, 25.34s/it]"
          ]
        },
        {
          "name": "stdout",
          "output_type": "stream",
          "text": [
            "total number of chunks: 2\n",
            "chunk 0 processed\n"
          ]
        },
        {
          "name": "stderr",
          "output_type": "stream",
          "text": [
            "Processing SNP Batches:  10%|█         | 102/989 [59:19<8:02:36, 32.65s/it]"
          ]
        },
        {
          "name": "stdout",
          "output_type": "stream",
          "text": [
            "chunk 1 processed\n",
            "total number of chunks: 2\n",
            "chunk 0 processed\n"
          ]
        },
        {
          "name": "stderr",
          "output_type": "stream",
          "text": [
            "Processing SNP Batches:  10%|█         | 103/989 [59:46<7:36:17, 30.90s/it]"
          ]
        },
        {
          "name": "stdout",
          "output_type": "stream",
          "text": [
            "chunk 1 processed\n"
          ]
        },
        {
          "name": "stderr",
          "output_type": "stream",
          "text": [
            "Processing SNP Batches:  11%|█         | 104/989 [1:00:03<6:33:14, 26.66s/it]"
          ]
        },
        {
          "name": "stdout",
          "output_type": "stream",
          "text": [
            "total number of chunks: 2\n",
            "chunk 0 processed\n",
            "chunk 1 processed\n"
          ]
        },
        {
          "name": "stderr",
          "output_type": "stream",
          "text": [
            "Processing SNP Batches:  11%|█         | 106/989 [1:00:51<5:58:28, 24.36s/it]"
          ]
        },
        {
          "name": "stdout",
          "output_type": "stream",
          "text": [
            "total number of chunks: 2\n",
            "chunk 0 processed\n",
            "chunk 1 processed\n"
          ]
        },
        {
          "name": "stderr",
          "output_type": "stream",
          "text": [
            "Processing SNP Batches:  11%|█         | 109/989 [1:01:47<4:58:50, 20.38s/it]"
          ]
        },
        {
          "name": "stdout",
          "output_type": "stream",
          "text": [
            "total number of chunks: 2\n",
            "chunk 0 processed\n"
          ]
        },
        {
          "name": "stderr",
          "output_type": "stream",
          "text": [
            "Processing SNP Batches:  11%|█         | 110/989 [1:02:23<6:04:47, 24.90s/it]"
          ]
        },
        {
          "name": "stdout",
          "output_type": "stream",
          "text": [
            "chunk 1 processed\n"
          ]
        },
        {
          "name": "stderr",
          "output_type": "stream",
          "text": [
            "Processing SNP Batches:  11%|█▏        | 112/989 [1:02:57<5:02:42, 20.71s/it]"
          ]
        },
        {
          "name": "stdout",
          "output_type": "stream",
          "text": [
            "total number of chunks: 2\n",
            "chunk 0 processed\n",
            "chunk 1 processed\n"
          ]
        },
        {
          "name": "stderr",
          "output_type": "stream",
          "text": [
            "Processing SNP Batches:  11%|█▏        | 113/989 [1:03:24<5:30:12, 22.62s/it]"
          ]
        },
        {
          "name": "stdout",
          "output_type": "stream",
          "text": [
            "total number of chunks: 3\n",
            "chunk 0 processed\n",
            "chunk 1 processed\n"
          ]
        },
        {
          "name": "stderr",
          "output_type": "stream",
          "text": [
            "Processing SNP Batches:  12%|█▏        | 114/989 [1:04:14<7:31:42, 30.97s/it]"
          ]
        },
        {
          "name": "stdout",
          "output_type": "stream",
          "text": [
            "chunk 2 processed\n"
          ]
        },
        {
          "name": "stderr",
          "output_type": "stream",
          "text": [
            "Processing SNP Batches:  12%|█▏        | 115/989 [1:04:30<6:22:58, 26.29s/it]"
          ]
        },
        {
          "name": "stdout",
          "output_type": "stream",
          "text": [
            "total number of chunks: 2\n",
            "chunk 0 processed\n",
            "chunk 1 processed\n"
          ]
        },
        {
          "name": "stderr",
          "output_type": "stream",
          "text": [
            "Processing SNP Batches:  12%|█▏        | 116/989 [1:05:08<7:16:14, 29.98s/it]"
          ]
        },
        {
          "name": "stdout",
          "output_type": "stream",
          "text": [
            "total number of chunks: 2\n",
            "chunk 0 processed\n"
          ]
        },
        {
          "name": "stderr",
          "output_type": "stream",
          "text": [
            "Processing SNP Batches:  12%|█▏        | 117/989 [1:05:35<7:03:40, 29.15s/it]"
          ]
        },
        {
          "name": "stdout",
          "output_type": "stream",
          "text": [
            "chunk 1 processed\n"
          ]
        },
        {
          "name": "stderr",
          "output_type": "stream",
          "text": [
            "Processing SNP Batches:  12%|█▏        | 118/989 [1:05:48<5:51:57, 24.25s/it]"
          ]
        },
        {
          "name": "stdout",
          "output_type": "stream",
          "text": [
            "total number of chunks: 2\n",
            "chunk 0 processed\n",
            "chunk 1 processed\n"
          ]
        },
        {
          "name": "stderr",
          "output_type": "stream",
          "text": [
            "Processing SNP Batches:  12%|█▏        | 121/989 [1:06:41<4:30:12, 18.68s/it]"
          ]
        },
        {
          "name": "stdout",
          "output_type": "stream",
          "text": [
            "total number of chunks: 2\n",
            "chunk 0 processed\n"
          ]
        },
        {
          "name": "stderr",
          "output_type": "stream",
          "text": [
            "Processing SNP Batches:  12%|█▏        | 122/989 [1:06:59<4:28:39, 18.59s/it]"
          ]
        },
        {
          "name": "stdout",
          "output_type": "stream",
          "text": [
            "chunk 1 processed\n",
            "total number of chunks: 2\n",
            "chunk 0 processed\n",
            "chunk 1 processed\n"
          ]
        },
        {
          "name": "stderr",
          "output_type": "stream",
          "text": [
            "Processing SNP Batches:  12%|█▏        | 123/989 [1:07:41<6:07:17, 25.45s/it]"
          ]
        },
        {
          "name": "stdout",
          "output_type": "stream",
          "text": [
            "total number of chunks: 2\n",
            "chunk 0 processed\n"
          ]
        },
        {
          "name": "stderr",
          "output_type": "stream",
          "text": [
            "Processing SNP Batches:  13%|█▎        | 124/989 [1:08:07<6:11:57, 25.80s/it]"
          ]
        },
        {
          "name": "stdout",
          "output_type": "stream",
          "text": [
            "chunk 1 processed\n"
          ]
        },
        {
          "name": "stderr",
          "output_type": "stream",
          "text": [
            "Processing SNP Batches:  13%|█▎        | 126/989 [1:09:36<7:39:46, 31.97s/it] "
          ]
        },
        {
          "name": "stdout",
          "output_type": "stream",
          "text": [
            "total number of chunks: 2\n",
            "chunk 0 processed\n"
          ]
        },
        {
          "name": "stderr",
          "output_type": "stream",
          "text": [
            "Processing SNP Batches:  13%|█▎        | 127/989 [1:09:58<6:59:55, 29.23s/it]"
          ]
        },
        {
          "name": "stdout",
          "output_type": "stream",
          "text": [
            "chunk 1 processed\n",
            "total number of chunks: 2\n",
            "chunk 0 processed\n"
          ]
        },
        {
          "name": "stderr",
          "output_type": "stream",
          "text": [
            "Processing SNP Batches:  13%|█▎        | 128/989 [1:11:13<10:13:09, 42.73s/it]"
          ]
        },
        {
          "name": "stdout",
          "output_type": "stream",
          "text": [
            "chunk 1 processed\n"
          ]
        },
        {
          "name": "stderr",
          "output_type": "stream",
          "text": [
            "Processing SNP Batches:  13%|█▎        | 130/989 [1:11:44<7:03:50, 29.60s/it] "
          ]
        },
        {
          "name": "stdout",
          "output_type": "stream",
          "text": [
            "total number of chunks: 2\n",
            "chunk 0 processed\n"
          ]
        },
        {
          "name": "stderr",
          "output_type": "stream",
          "text": [
            "Processing SNP Batches:  13%|█▎        | 131/989 [1:12:11<6:53:58, 28.95s/it]"
          ]
        },
        {
          "name": "stdout",
          "output_type": "stream",
          "text": [
            "chunk 1 processed\n",
            "total number of chunks: 2\n",
            "chunk 0 processed\n",
            "chunk 1 processed\n"
          ]
        },
        {
          "name": "stderr",
          "output_type": "stream",
          "text": [
            "Processing SNP Batches:  14%|█▍        | 136/989 [1:13:59<5:18:56, 22.43s/it]"
          ]
        },
        {
          "name": "stdout",
          "output_type": "stream",
          "text": [
            "total number of chunks: 2\n",
            "total number of chunks: 2\n",
            "chunk 0 processed\n",
            "chunk 1 processed\n",
            "chunk 0 processed\n"
          ]
        },
        {
          "name": "stderr",
          "output_type": "stream",
          "text": [
            "Processing SNP Batches:  14%|█▍        | 137/989 [1:15:03<8:15:35, 34.90s/it]"
          ]
        },
        {
          "name": "stdout",
          "output_type": "stream",
          "text": [
            "chunk 1 processed\n"
          ]
        },
        {
          "name": "stderr",
          "output_type": "stream",
          "text": [
            "Processing SNP Batches:  14%|█▍        | 139/989 [1:15:33<5:52:06, 24.85s/it]"
          ]
        },
        {
          "name": "stdout",
          "output_type": "stream",
          "text": [
            "total number of chunks: 3\n",
            "chunk 0 processed\n",
            "chunk 1 processed\n"
          ]
        },
        {
          "name": "stderr",
          "output_type": "stream",
          "text": [
            "Processing SNP Batches:  14%|█▍        | 140/989 [1:16:32<8:18:48, 35.25s/it]"
          ]
        },
        {
          "name": "stdout",
          "output_type": "stream",
          "text": [
            "chunk 2 processed\n",
            "total number of chunks: 2\n",
            "total number of chunks: 2\n",
            "chunk 0 processed\n",
            "chunk 0 processed\n",
            "chunk 1 processed\n",
            "chunk 1 processed\n"
          ]
        },
        {
          "name": "stderr",
          "output_type": "stream",
          "text": [
            "Processing SNP Batches:  14%|█▍        | 141/989 [1:17:07<8:15:35, 35.07s/it]"
          ]
        },
        {
          "name": "stdout",
          "output_type": "stream",
          "text": [
            "total number of chunks: 2\n",
            "total number of chunks: 2\n",
            "chunk 0 processed\n",
            "chunk 1 processed\n",
            "chunk 0 processed\n"
          ]
        },
        {
          "name": "stderr",
          "output_type": "stream",
          "text": [
            "Processing SNP Batches:  14%|█▍        | 142/989 [1:17:41<8:09:02, 34.64s/it]"
          ]
        },
        {
          "name": "stdout",
          "output_type": "stream",
          "text": [
            "chunk 1 processed\n",
            "total number of chunks: 2\n",
            "chunk 0 processed\n"
          ]
        },
        {
          "name": "stderr",
          "output_type": "stream",
          "text": [
            "Processing SNP Batches:  14%|█▍        | 143/989 [1:18:10<7:45:14, 33.00s/it]"
          ]
        },
        {
          "name": "stdout",
          "output_type": "stream",
          "text": [
            "chunk 1 processed\n"
          ]
        },
        {
          "name": "stderr",
          "output_type": "stream",
          "text": [
            "Processing SNP Batches:  15%|█▍        | 147/989 [1:19:35<5:35:19, 23.89s/it]"
          ]
        },
        {
          "name": "stdout",
          "output_type": "stream",
          "text": [
            "total number of chunks: 2\n",
            "chunk 0 processed\n"
          ]
        },
        {
          "name": "stderr",
          "output_type": "stream",
          "text": [
            "Processing SNP Batches:  15%|█▍        | 148/989 [1:20:20<7:03:33, 30.22s/it]"
          ]
        },
        {
          "name": "stdout",
          "output_type": "stream",
          "text": [
            "chunk 1 processed\n",
            "total number of chunks: 5\n",
            "total number of chunks: 2\n",
            "chunk 0 processed\n",
            "chunk 0 processed\n",
            "chunk 1 processed\n",
            "chunk 1 processed\n",
            "chunk 2 processed\n",
            "chunk 3 processed\n"
          ]
        },
        {
          "name": "stderr",
          "output_type": "stream",
          "text": [
            "Processing SNP Batches:  15%|█▌        | 149/989 [1:23:02<16:18:19, 69.88s/it]"
          ]
        },
        {
          "name": "stdout",
          "output_type": "stream",
          "text": [
            "chunk 4 processed\n",
            "total number of chunks: 2\n",
            "chunk 0 processed\n"
          ]
        },
        {
          "name": "stderr",
          "output_type": "stream",
          "text": [
            "Processing SNP Batches:  15%|█▌        | 150/989 [1:23:36<13:44:32, 58.97s/it]"
          ]
        },
        {
          "name": "stdout",
          "output_type": "stream",
          "text": [
            "chunk 1 processed\n",
            "total number of chunks: 2\n",
            "chunk 0 processed\n",
            "chunk 1 processed\n"
          ]
        },
        {
          "name": "stderr",
          "output_type": "stream",
          "text": [
            "Processing SNP Batches:  15%|█▌        | 151/989 [1:24:35<13:45:29, 59.10s/it]"
          ]
        },
        {
          "name": "stdout",
          "output_type": "stream",
          "text": [
            "total number of chunks: 2\n",
            "chunk 0 processed\n"
          ]
        },
        {
          "name": "stderr",
          "output_type": "stream",
          "text": [
            "Processing SNP Batches:  15%|█▌        | 152/989 [1:25:17<12:32:15, 53.93s/it]"
          ]
        },
        {
          "name": "stdout",
          "output_type": "stream",
          "text": [
            "chunk 1 processed\n",
            "total number of chunks: 2\n",
            "chunk 0 processed\n"
          ]
        },
        {
          "name": "stderr",
          "output_type": "stream",
          "text": [
            "Processing SNP Batches:  15%|█▌        | 153/989 [1:25:29<9:37:16, 41.43s/it] "
          ]
        },
        {
          "name": "stdout",
          "output_type": "stream",
          "text": [
            "chunk 1 processed\n"
          ]
        },
        {
          "name": "stderr",
          "output_type": "stream",
          "text": [
            "Processing SNP Batches:  16%|█▌        | 154/989 [1:26:46<12:02:53, 51.94s/it]"
          ]
        },
        {
          "name": "stdout",
          "output_type": "stream",
          "text": [
            "total number of chunks: 3\n",
            "chunk 0 processed\n",
            "chunk 1 processed\n"
          ]
        },
        {
          "name": "stderr",
          "output_type": "stream",
          "text": [
            "Processing SNP Batches:  16%|█▌        | 155/989 [1:27:32<11:39:58, 50.36s/it]"
          ]
        },
        {
          "name": "stdout",
          "output_type": "stream",
          "text": [
            "chunk 2 processed\n",
            "total number of chunks: 2\n",
            "chunk 0 processed\n"
          ]
        },
        {
          "name": "stderr",
          "output_type": "stream",
          "text": [
            "Processing SNP Batches:  16%|█▌        | 156/989 [1:28:05<10:27:25, 45.19s/it]"
          ]
        },
        {
          "name": "stdout",
          "output_type": "stream",
          "text": [
            "chunk 1 processed\n"
          ]
        },
        {
          "name": "stderr",
          "output_type": "stream",
          "text": [
            "Processing SNP Batches:  16%|█▌        | 160/989 [1:29:36<6:42:01, 29.10s/it] "
          ]
        },
        {
          "name": "stdout",
          "output_type": "stream",
          "text": [
            "total number of chunks: 2\n",
            "total number of chunks: 2\n",
            "chunk 0 processed\n",
            "chunk 1 processed\n",
            "chunk 0 processed\n"
          ]
        },
        {
          "name": "stderr",
          "output_type": "stream",
          "text": [
            "Processing SNP Batches:  16%|█▋        | 161/989 [1:30:36<8:45:57, 38.11s/it]"
          ]
        },
        {
          "name": "stdout",
          "output_type": "stream",
          "text": [
            "chunk 1 processed\n",
            "total number of chunks: 4\n",
            "chunk 0 processed\n",
            "chunk 1 processed\n",
            "chunk 2 processed\n"
          ]
        },
        {
          "name": "stderr",
          "output_type": "stream",
          "text": [
            "Processing SNP Batches:  16%|█▋        | 162/989 [1:31:50<11:17:09, 49.13s/it]"
          ]
        },
        {
          "name": "stdout",
          "output_type": "stream",
          "text": [
            "chunk 3 processed\n"
          ]
        },
        {
          "name": "stderr",
          "output_type": "stream",
          "text": [
            "Processing SNP Batches:  16%|█▋        | 163/989 [1:32:04<8:49:52, 38.49s/it] "
          ]
        },
        {
          "name": "stdout",
          "output_type": "stream",
          "text": [
            "total number of chunks: 2\n",
            "chunk 0 processed\n"
          ]
        },
        {
          "name": "stderr",
          "output_type": "stream",
          "text": [
            "Processing SNP Batches:  17%|█▋        | 164/989 [1:32:27<7:46:39, 33.94s/it]"
          ]
        },
        {
          "name": "stdout",
          "output_type": "stream",
          "text": [
            "chunk 1 processed\n"
          ]
        },
        {
          "name": "stderr",
          "output_type": "stream",
          "text": [
            "Processing SNP Batches:  17%|█▋        | 166/989 [1:33:02<5:49:20, 25.47s/it]"
          ]
        },
        {
          "name": "stdout",
          "output_type": "stream",
          "text": [
            "total number of chunks: 2\n",
            "chunk 0 processed\n"
          ]
        },
        {
          "name": "stderr",
          "output_type": "stream",
          "text": [
            "Processing SNP Batches:  17%|█▋        | 167/989 [1:33:21<5:19:55, 23.35s/it]"
          ]
        },
        {
          "name": "stdout",
          "output_type": "stream",
          "text": [
            "chunk 1 processed\n",
            "total number of chunks: 2\n",
            "total number of chunks: 2\n",
            "total number of chunks: 2\n",
            "chunk 0 processed\n",
            "chunk 0 processed\n",
            "chunk 0 processed\n",
            "chunk 1 processed\n",
            "chunk 1 processed\n"
          ]
        },
        {
          "name": "stderr",
          "output_type": "stream",
          "text": [
            "Processing SNP Batches:  17%|█▋        | 168/989 [1:34:05<6:43:28, 29.49s/it]"
          ]
        },
        {
          "name": "stdout",
          "output_type": "stream",
          "text": [
            "chunk 1 processed\n"
          ]
        },
        {
          "name": "stderr",
          "output_type": "stream",
          "text": [
            "Processing SNP Batches:  17%|█▋        | 170/989 [1:34:56<6:23:11, 28.07s/it]"
          ]
        },
        {
          "name": "stdout",
          "output_type": "stream",
          "text": [
            "total number of chunks: 2\n",
            "chunk 0 processed\n"
          ]
        },
        {
          "name": "stderr",
          "output_type": "stream",
          "text": [
            "Processing SNP Batches:  17%|█▋        | 171/989 [1:35:18<6:00:11, 26.42s/it]"
          ]
        },
        {
          "name": "stdout",
          "output_type": "stream",
          "text": [
            "chunk 1 processed\n"
          ]
        },
        {
          "name": "stderr",
          "output_type": "stream",
          "text": [
            "Processing SNP Batches:  17%|█▋        | 173/989 [1:37:03<9:46:17, 43.11s/it]"
          ]
        },
        {
          "name": "stdout",
          "output_type": "stream",
          "text": [
            "total number of chunks: 3\n",
            "total number of chunks: 2\n",
            "chunk 0 processed\n",
            "chunk 0 processed\n",
            "chunk 1 processed\n",
            "chunk 1 processed\n"
          ]
        },
        {
          "name": "stderr",
          "output_type": "stream",
          "text": [
            "Processing SNP Batches:  18%|█▊        | 174/989 [1:37:52<10:08:27, 44.79s/it]"
          ]
        },
        {
          "name": "stdout",
          "output_type": "stream",
          "text": [
            "chunk 2 processed\n",
            "total number of chunks: 3\n",
            "total number of chunks: 2\n",
            "chunk 0 processed\n",
            "chunk 1 processed\n",
            "chunk 0 processed\n",
            "chunk 1 processed\n"
          ]
        },
        {
          "name": "stderr",
          "output_type": "stream",
          "text": [
            "Processing SNP Batches:  18%|█▊        | 175/989 [1:38:46<10:42:33, 47.36s/it]"
          ]
        },
        {
          "name": "stdout",
          "output_type": "stream",
          "text": [
            "chunk 2 processed\n"
          ]
        },
        {
          "name": "stderr",
          "output_type": "stream",
          "text": [
            "Processing SNP Batches:  18%|█▊        | 177/989 [1:39:11<6:43:55, 29.85s/it] "
          ]
        },
        {
          "name": "stdout",
          "output_type": "stream",
          "text": [
            "total number of chunks: 3\n",
            "chunk 0 processed\n",
            "chunk 1 processed\n"
          ]
        },
        {
          "name": "stderr",
          "output_type": "stream",
          "text": [
            "Processing SNP Batches:  18%|█▊        | 178/989 [1:41:55<15:48:19, 70.16s/it]"
          ]
        },
        {
          "name": "stdout",
          "output_type": "stream",
          "text": [
            "chunk 2 processed\n",
            "total number of chunks: 2\n",
            "chunk 0 processed\n"
          ]
        },
        {
          "name": "stderr",
          "output_type": "stream",
          "text": [
            "Processing SNP Batches:  18%|█▊        | 179/989 [1:42:29<13:18:19, 59.14s/it]"
          ]
        },
        {
          "name": "stdout",
          "output_type": "stream",
          "text": [
            "chunk 1 processed\n"
          ]
        },
        {
          "name": "stderr",
          "output_type": "stream",
          "text": [
            "Processing SNP Batches:  18%|█▊        | 180/989 [1:43:20<12:45:08, 56.75s/it]"
          ]
        },
        {
          "name": "stdout",
          "output_type": "stream",
          "text": [
            "total number of chunks: 2\n",
            "chunk 0 processed\n"
          ]
        },
        {
          "name": "stderr",
          "output_type": "stream",
          "text": [
            "Processing SNP Batches:  18%|█▊        | 181/989 [1:44:03<11:48:20, 52.60s/it]"
          ]
        },
        {
          "name": "stdout",
          "output_type": "stream",
          "text": [
            "chunk 1 processed\n"
          ]
        },
        {
          "name": "stderr",
          "output_type": "stream",
          "text": [
            "Processing SNP Batches:  19%|█▊        | 183/989 [1:45:12<9:17:30, 41.50s/it] "
          ]
        },
        {
          "name": "stdout",
          "output_type": "stream",
          "text": [
            "total number of chunks: 2\n",
            "total number of chunks: 2\n",
            "chunk 0 processed\n",
            "chunk 1 processed\n",
            "chunk 0 processed\n"
          ]
        },
        {
          "name": "stderr",
          "output_type": "stream",
          "text": [
            "Processing SNP Batches:  19%|█▊        | 184/989 [1:47:06<14:11:31, 63.47s/it]"
          ]
        },
        {
          "name": "stdout",
          "output_type": "stream",
          "text": [
            "chunk 1 processed\n"
          ]
        },
        {
          "name": "stderr",
          "output_type": "stream",
          "text": [
            "Processing SNP Batches:  19%|█▉        | 186/989 [1:47:28<8:11:05, 36.69s/it] "
          ]
        },
        {
          "name": "stdout",
          "output_type": "stream",
          "text": [
            "total number of chunks: 4\n",
            "chunk 0 processed\n",
            "chunk 1 processed\n",
            "chunk 2 processed\n"
          ]
        },
        {
          "name": "stderr",
          "output_type": "stream",
          "text": [
            "Processing SNP Batches:  19%|█▉        | 187/989 [1:48:22<9:17:16, 41.69s/it]"
          ]
        },
        {
          "name": "stdout",
          "output_type": "stream",
          "text": [
            "chunk 3 processed\n"
          ]
        },
        {
          "name": "stderr",
          "output_type": "stream",
          "text": [
            "Processing SNP Batches:  19%|█▉        | 188/989 [1:48:41<7:46:22, 34.93s/it]"
          ]
        },
        {
          "name": "stdout",
          "output_type": "stream",
          "text": [
            "total number of chunks: 2\n",
            "chunk 0 processed\n",
            "chunk 1 processed\n"
          ]
        },
        {
          "name": "stderr",
          "output_type": "stream",
          "text": [
            "Processing SNP Batches:  19%|█▉        | 189/989 [1:49:57<10:29:02, 47.18s/it]"
          ]
        },
        {
          "name": "stdout",
          "output_type": "stream",
          "text": [
            "total number of chunks: 4\n",
            "chunk 0 processed\n",
            "chunk 1 processed\n",
            "chunk 2 processed\n"
          ]
        },
        {
          "name": "stderr",
          "output_type": "stream",
          "text": [
            "Processing SNP Batches:  19%|█▉        | 190/989 [1:51:04<11:46:30, 53.05s/it]"
          ]
        },
        {
          "name": "stdout",
          "output_type": "stream",
          "text": [
            "chunk 3 processed\n"
          ]
        },
        {
          "name": "stderr",
          "output_type": "stream",
          "text": [
            "Processing SNP Batches:  19%|█▉        | 191/989 [1:51:25<9:40:00, 43.61s/it] "
          ]
        },
        {
          "name": "stdout",
          "output_type": "stream",
          "text": [
            "total number of chunks: 2\n",
            "chunk 0 processed\n"
          ]
        },
        {
          "name": "stderr",
          "output_type": "stream",
          "text": [
            "Processing SNP Batches:  19%|█▉        | 192/989 [1:52:11<9:49:40, 44.39s/it]"
          ]
        },
        {
          "name": "stdout",
          "output_type": "stream",
          "text": [
            "chunk 1 processed\n",
            "total number of chunks: 2\n",
            "chunk 0 processed\n"
          ]
        },
        {
          "name": "stderr",
          "output_type": "stream",
          "text": [
            "Processing SNP Batches:  20%|█▉        | 193/989 [1:52:45<9:06:33, 41.20s/it]"
          ]
        },
        {
          "name": "stdout",
          "output_type": "stream",
          "text": [
            "chunk 1 processed\n"
          ]
        },
        {
          "name": "stderr",
          "output_type": "stream",
          "text": [
            "Processing SNP Batches:  20%|█▉        | 197/989 [1:53:35<4:21:12, 19.79s/it]"
          ]
        },
        {
          "name": "stdout",
          "output_type": "stream",
          "text": [
            "total number of chunks: 2\n",
            "chunk 0 processed\n",
            "chunk 1 processed\n"
          ]
        },
        {
          "name": "stderr",
          "output_type": "stream",
          "text": [
            "Processing SNP Batches:  20%|██        | 201/989 [1:54:32<3:17:46, 15.06s/it]"
          ]
        },
        {
          "name": "stdout",
          "output_type": "stream",
          "text": [
            "total number of chunks: 2\n",
            "chunk 0 processed\n"
          ]
        },
        {
          "name": "stderr",
          "output_type": "stream",
          "text": [
            "Processing SNP Batches:  20%|██        | 202/989 [1:55:06<4:33:06, 20.82s/it]"
          ]
        },
        {
          "name": "stdout",
          "output_type": "stream",
          "text": [
            "chunk 1 processed\n",
            "total number of chunks: 3\n",
            "chunk 0 processed\n",
            "chunk 1 processed\n"
          ]
        },
        {
          "name": "stderr",
          "output_type": "stream",
          "text": [
            "Processing SNP Batches:  21%|██        | 203/989 [1:55:46<5:49:13, 26.66s/it]"
          ]
        },
        {
          "name": "stdout",
          "output_type": "stream",
          "text": [
            "chunk 2 processed\n"
          ]
        },
        {
          "name": "stderr",
          "output_type": "stream",
          "text": [
            "Processing SNP Batches:  21%|██        | 204/989 [1:55:59<4:52:05, 22.33s/it]"
          ]
        },
        {
          "name": "stdout",
          "output_type": "stream",
          "text": [
            "total number of chunks: 3\n",
            "chunk 0 processed\n",
            "chunk 1 processed\n"
          ]
        },
        {
          "name": "stderr",
          "output_type": "stream",
          "text": [
            "Processing SNP Batches:  21%|██        | 205/989 [1:56:40<6:05:40, 27.99s/it]"
          ]
        },
        {
          "name": "stdout",
          "output_type": "stream",
          "text": [
            "chunk 2 processed\n"
          ]
        },
        {
          "name": "stderr",
          "output_type": "stream",
          "text": [
            "Processing SNP Batches:  21%|██        | 206/989 [1:56:50<4:54:44, 22.59s/it]"
          ]
        },
        {
          "name": "stdout",
          "output_type": "stream",
          "text": [
            "total number of chunks: 2\n",
            "chunk 0 processed\n",
            "chunk 1 processed\n"
          ]
        },
        {
          "name": "stderr",
          "output_type": "stream",
          "text": [
            "Processing SNP Batches:  21%|██        | 209/989 [1:58:04<4:50:35, 22.35s/it]"
          ]
        },
        {
          "name": "stdout",
          "output_type": "stream",
          "text": [
            "total number of chunks: 2\n",
            "chunk 0 processed\n"
          ]
        },
        {
          "name": "stderr",
          "output_type": "stream",
          "text": [
            "Processing SNP Batches:  21%|██        | 210/989 [1:58:33<5:14:23, 24.22s/it]"
          ]
        },
        {
          "name": "stdout",
          "output_type": "stream",
          "text": [
            "chunk 1 processed\n"
          ]
        },
        {
          "name": "stderr",
          "output_type": "stream",
          "text": [
            "Processing SNP Batches:  21%|██▏       | 212/989 [1:58:51<3:31:27, 16.33s/it]"
          ]
        },
        {
          "name": "stdout",
          "output_type": "stream",
          "text": [
            "total number of chunks: 2\n",
            "total number of chunks: 4\n",
            "chunk 0 processed\n",
            "chunk 0 processed\n",
            "chunk 1 processed\n",
            "chunk 1 processed\n",
            "chunk 2 processed\n"
          ]
        },
        {
          "name": "stderr",
          "output_type": "stream",
          "text": [
            "Processing SNP Batches:  22%|██▏       | 213/989 [1:59:44<5:56:33, 27.57s/it]"
          ]
        },
        {
          "name": "stdout",
          "output_type": "stream",
          "text": [
            "chunk 3 processed\n",
            "total number of chunks: 2\n",
            "chunk 0 processed\n",
            "chunk 1 processed\n"
          ]
        },
        {
          "name": "stderr",
          "output_type": "stream",
          "text": [
            "Processing SNP Batches:  22%|██▏       | 215/989 [2:01:03<6:43:18, 31.26s/it]"
          ]
        },
        {
          "name": "stdout",
          "output_type": "stream",
          "text": [
            "total number of chunks: 2\n",
            "chunk 0 processed\n"
          ]
        },
        {
          "name": "stderr",
          "output_type": "stream",
          "text": [
            "Processing SNP Batches:  22%|██▏       | 216/989 [2:01:35<6:47:53, 31.66s/it]"
          ]
        },
        {
          "name": "stdout",
          "output_type": "stream",
          "text": [
            "chunk 1 processed\n"
          ]
        },
        {
          "name": "stderr",
          "output_type": "stream",
          "text": [
            "Processing SNP Batches:  22%|██▏       | 222/989 [2:03:00<3:57:20, 18.57s/it]"
          ]
        },
        {
          "name": "stdout",
          "output_type": "stream",
          "text": [
            "total number of chunks: 2\n",
            "chunk 0 processed\n"
          ]
        },
        {
          "name": "stderr",
          "output_type": "stream",
          "text": [
            "Processing SNP Batches:  23%|██▎       | 223/989 [2:03:24<4:18:53, 20.28s/it]"
          ]
        },
        {
          "name": "stdout",
          "output_type": "stream",
          "text": [
            "chunk 1 processed\n"
          ]
        },
        {
          "name": "stderr",
          "output_type": "stream",
          "text": [
            "Processing SNP Batches:  23%|██▎       | 224/989 [2:03:46<4:26:28, 20.90s/it]"
          ]
        },
        {
          "name": "stdout",
          "output_type": "stream",
          "text": [
            "total number of chunks: 2\n",
            "total number of chunks: 2\n",
            "chunk 0 processed\n",
            "chunk 0 processed\n",
            "chunk 1 processed\n"
          ]
        },
        {
          "name": "stderr",
          "output_type": "stream",
          "text": [
            "Processing SNP Batches:  23%|██▎       | 225/989 [2:04:14<4:51:35, 22.90s/it]"
          ]
        },
        {
          "name": "stdout",
          "output_type": "stream",
          "text": [
            "chunk 1 processed\n"
          ]
        },
        {
          "name": "stderr",
          "output_type": "stream",
          "text": [
            "Processing SNP Batches:  23%|██▎       | 228/989 [2:05:04<4:14:03, 20.03s/it]"
          ]
        },
        {
          "name": "stdout",
          "output_type": "stream",
          "text": [
            "total number of chunks: 2\n",
            "chunk 0 processed\n",
            "chunk 1 processed\n"
          ]
        },
        {
          "name": "stderr",
          "output_type": "stream",
          "text": [
            "Processing SNP Batches:  23%|██▎       | 230/989 [2:06:00<5:12:36, 24.71s/it]"
          ]
        },
        {
          "name": "stdout",
          "output_type": "stream",
          "text": [
            "total number of chunks: 2\n",
            "chunk 0 processed\n"
          ]
        },
        {
          "name": "stderr",
          "output_type": "stream",
          "text": [
            "Processing SNP Batches:  23%|██▎       | 231/989 [2:06:28<5:24:50, 25.71s/it]"
          ]
        },
        {
          "name": "stdout",
          "output_type": "stream",
          "text": [
            "chunk 1 processed\n",
            "total number of chunks: 2\n",
            "chunk 0 processed\n"
          ]
        },
        {
          "name": "stderr",
          "output_type": "stream",
          "text": [
            "Processing SNP Batches:  23%|██▎       | 232/989 [2:06:57<5:37:18, 26.74s/it]"
          ]
        },
        {
          "name": "stdout",
          "output_type": "stream",
          "text": [
            "chunk 1 processed\n",
            "total number of chunks: 3\n",
            "total number of chunks: 2\n",
            "chunk 0 processed\n",
            "chunk 1 processed\n",
            "chunk 0 processed\n",
            "chunk 1 processed\n"
          ]
        },
        {
          "name": "stderr",
          "output_type": "stream",
          "text": [
            "Processing SNP Batches:  24%|██▎       | 233/989 [2:08:24<9:22:09, 44.62s/it]"
          ]
        },
        {
          "name": "stdout",
          "output_type": "stream",
          "text": [
            "chunk 2 processed\n"
          ]
        },
        {
          "name": "stderr",
          "output_type": "stream",
          "text": [
            "Processing SNP Batches:  24%|██▍       | 238/989 [2:09:43<4:10:42, 20.03s/it]"
          ]
        },
        {
          "name": "stdout",
          "output_type": "stream",
          "text": [
            "total number of chunks: 3\n",
            "chunk 0 processed\n",
            "chunk 1 processed\n"
          ]
        },
        {
          "name": "stderr",
          "output_type": "stream",
          "text": [
            "Processing SNP Batches:  24%|██▍       | 239/989 [2:10:51<7:10:42, 34.46s/it]"
          ]
        },
        {
          "name": "stdout",
          "output_type": "stream",
          "text": [
            "chunk 2 processed\n"
          ]
        },
        {
          "name": "stderr",
          "output_type": "stream",
          "text": [
            "Processing SNP Batches:  24%|██▍       | 241/989 [2:11:22<5:14:41, 25.24s/it]"
          ]
        },
        {
          "name": "stdout",
          "output_type": "stream",
          "text": [
            "total number of chunks: 2\n",
            "chunk 0 processed\n",
            "chunk 1 processed\n"
          ]
        },
        {
          "name": "stderr",
          "output_type": "stream",
          "text": [
            "Processing SNP Batches:  24%|██▍       | 242/989 [2:11:45<5:08:14, 24.76s/it]"
          ]
        },
        {
          "name": "stdout",
          "output_type": "stream",
          "text": [
            "total number of chunks: 2\n",
            "chunk 0 processed\n"
          ]
        },
        {
          "name": "stderr",
          "output_type": "stream",
          "text": [
            "Processing SNP Batches:  25%|██▍       | 243/989 [2:12:25<6:02:15, 29.14s/it]"
          ]
        },
        {
          "name": "stdout",
          "output_type": "stream",
          "text": [
            "chunk 1 processed\n",
            "total number of chunks: 3\n",
            "chunk 0 processed\n",
            "chunk 1 processed\n"
          ]
        },
        {
          "name": "stderr",
          "output_type": "stream",
          "text": [
            "Processing SNP Batches:  25%|██▍       | 244/989 [2:14:52<13:22:31, 64.63s/it]"
          ]
        },
        {
          "name": "stdout",
          "output_type": "stream",
          "text": [
            "chunk 2 processed\n",
            "total number of chunks: 2\n",
            "chunk 0 processed\n"
          ]
        },
        {
          "name": "stderr",
          "output_type": "stream",
          "text": [
            "Processing SNP Batches:  25%|██▍       | 245/989 [2:15:31<11:45:07, 56.87s/it]"
          ]
        },
        {
          "name": "stdout",
          "output_type": "stream",
          "text": [
            "chunk 1 processed\n"
          ]
        },
        {
          "name": "stderr",
          "output_type": "stream",
          "text": [
            "Processing SNP Batches:  25%|██▍       | 246/989 [2:16:00<10:00:08, 48.46s/it]"
          ]
        },
        {
          "name": "stdout",
          "output_type": "stream",
          "text": [
            "total number of chunks: 2\n",
            "chunk 0 processed\n"
          ]
        },
        {
          "name": "stderr",
          "output_type": "stream",
          "text": [
            "Processing SNP Batches:  25%|██▍       | 247/989 [2:16:41<9:31:00, 46.17s/it] "
          ]
        },
        {
          "name": "stdout",
          "output_type": "stream",
          "text": [
            "chunk 1 processed\n"
          ]
        },
        {
          "name": "stderr",
          "output_type": "stream",
          "text": [
            "Processing SNP Batches:  25%|██▌       | 249/989 [2:17:21<6:51:00, 33.32s/it]"
          ]
        },
        {
          "name": "stdout",
          "output_type": "stream",
          "text": [
            "total number of chunks: 3\n",
            "chunk 0 processed\n",
            "chunk 1 processed\n"
          ]
        },
        {
          "name": "stderr",
          "output_type": "stream",
          "text": [
            "Processing SNP Batches:  25%|██▌       | 250/989 [2:18:13<7:56:49, 38.71s/it]"
          ]
        },
        {
          "name": "stdout",
          "output_type": "stream",
          "text": [
            "chunk 2 processed\n"
          ]
        },
        {
          "name": "stderr",
          "output_type": "stream",
          "text": [
            "Processing SNP Batches:  25%|██▌       | 251/989 [2:18:25<6:19:02, 30.82s/it]"
          ]
        },
        {
          "name": "stdout",
          "output_type": "stream",
          "text": [
            "total number of chunks: 2\n",
            "chunk 0 processed\n"
          ]
        },
        {
          "name": "stderr",
          "output_type": "stream",
          "text": [
            "Processing SNP Batches:  25%|██▌       | 252/989 [2:19:22<7:54:39, 38.64s/it]"
          ]
        },
        {
          "name": "stdout",
          "output_type": "stream",
          "text": [
            "chunk 1 processed\n",
            "total number of chunks: 3\n",
            "chunk 0 processed\n",
            "chunk 1 processed\n"
          ]
        },
        {
          "name": "stderr",
          "output_type": "stream",
          "text": [
            "Processing SNP Batches:  26%|██▌       | 253/989 [2:20:19<9:04:00, 44.35s/it]"
          ]
        },
        {
          "name": "stdout",
          "output_type": "stream",
          "text": [
            "chunk 2 processed\n",
            "total number of chunks: 3\n",
            "chunk 0 processed\n",
            "chunk 1 processed\n"
          ]
        },
        {
          "name": "stderr",
          "output_type": "stream",
          "text": [
            "Processing SNP Batches:  26%|██▌       | 254/989 [2:21:30<10:40:40, 52.30s/it]"
          ]
        },
        {
          "name": "stdout",
          "output_type": "stream",
          "text": [
            "chunk 2 processed\n",
            "total number of chunks: 2\n",
            "total number of chunks: 4\n",
            "chunk 0 processed\n",
            "chunk 1 processed\n",
            "chunk 0 processed\n",
            "chunk 2 processed\n",
            "chunk 3 processed\n"
          ]
        },
        {
          "name": "stderr",
          "output_type": "stream",
          "text": [
            "Processing SNP Batches:  26%|██▌       | 255/989 [2:23:11<13:37:07, 66.79s/it]"
          ]
        },
        {
          "name": "stdout",
          "output_type": "stream",
          "text": [
            "chunk 1 processed\n",
            "total number of chunks: 2\n",
            "total number of chunks: 2\n",
            "total number of chunks: 4\n",
            "chunk 0 processed\n",
            "chunk 0 processed\n",
            "chunk 0 processed\n",
            "chunk 1 processed\n",
            "chunk 1 processed\n",
            "chunk 1 processed\n",
            "chunk 2 processed\n"
          ]
        },
        {
          "name": "stderr",
          "output_type": "stream",
          "text": [
            "Processing SNP Batches:  26%|██▌       | 256/989 [2:24:30<14:22:22, 70.59s/it]"
          ]
        },
        {
          "name": "stdout",
          "output_type": "stream",
          "text": [
            "chunk 3 processed\n"
          ]
        },
        {
          "name": "stderr",
          "output_type": "stream",
          "text": [
            "Processing SNP Batches:  26%|██▌       | 258/989 [2:25:01<8:33:13, 42.13s/it] "
          ]
        },
        {
          "name": "stdout",
          "output_type": "stream",
          "text": [
            "total number of chunks: 3\n",
            "total number of chunks: 2\n",
            "chunk 0 processed\n",
            "chunk 0 processed\n",
            "chunk 1 processed\n",
            "chunk 1 processed\n",
            "chunk 2 processed\n"
          ]
        },
        {
          "name": "stderr",
          "output_type": "stream",
          "text": [
            "Processing SNP Batches:  26%|██▋       | 260/989 [2:26:10<7:16:26, 35.92s/it]"
          ]
        },
        {
          "name": "stdout",
          "output_type": "stream",
          "text": [
            "total number of chunks: 2\n",
            "chunk 0 processed\n"
          ]
        },
        {
          "name": "stderr",
          "output_type": "stream",
          "text": [
            "Processing SNP Batches:  26%|██▋       | 261/989 [2:26:49<7:27:12, 36.86s/it]"
          ]
        },
        {
          "name": "stdout",
          "output_type": "stream",
          "text": [
            "chunk 1 processed\n"
          ]
        },
        {
          "name": "stderr",
          "output_type": "stream",
          "text": [
            "Processing SNP Batches:  27%|██▋       | 264/989 [2:27:30<4:14:56, 21.10s/it]"
          ]
        },
        {
          "name": "stdout",
          "output_type": "stream",
          "text": [
            "total number of chunks: 4\n",
            "total number of chunks: 2\n",
            "total number of chunks: 2\n",
            "chunk 0 processed\n",
            "chunk 1 processed\n",
            "chunk 0 processed\n",
            "chunk 0 processed\n",
            "chunk 1 processed\n",
            "chunk 1 processed\n",
            "chunk 2 processed\n"
          ]
        },
        {
          "name": "stderr",
          "output_type": "stream",
          "text": [
            "Processing SNP Batches:  27%|██▋       | 265/989 [2:28:27<6:26:02, 31.99s/it]"
          ]
        },
        {
          "name": "stdout",
          "output_type": "stream",
          "text": [
            "chunk 3 processed\n"
          ]
        },
        {
          "name": "stderr",
          "output_type": "stream",
          "text": [
            "Processing SNP Batches:  27%|██▋       | 267/989 [2:29:19<5:45:27, 28.71s/it]"
          ]
        },
        {
          "name": "stdout",
          "output_type": "stream",
          "text": [
            "total number of chunks: 2\n",
            "chunk 0 processed\n"
          ]
        },
        {
          "name": "stderr",
          "output_type": "stream",
          "text": [
            "Processing SNP Batches:  27%|██▋       | 268/989 [2:29:33<4:50:25, 24.17s/it]"
          ]
        },
        {
          "name": "stdout",
          "output_type": "stream",
          "text": [
            "chunk 1 processed\n",
            "total number of chunks: 2\n",
            "total number of chunks: 2\n",
            "total number of chunks: 5\n",
            "chunk 0 processed\n",
            "chunk 0 processed\n",
            "chunk 1 processed\n",
            "chunk 1 processed\n",
            "chunk 0 processed\n",
            "chunk 1 processed\n",
            "chunk 2 processed\n",
            "chunk 3 processed\n"
          ]
        },
        {
          "name": "stderr",
          "output_type": "stream",
          "text": [
            "Processing SNP Batches:  27%|██▋       | 269/989 [2:33:04<16:04:57, 80.41s/it]"
          ]
        },
        {
          "name": "stdout",
          "output_type": "stream",
          "text": [
            "chunk 4 processed\n",
            "total number of chunks: 2\n",
            "chunk 0 processed\n"
          ]
        },
        {
          "name": "stderr",
          "output_type": "stream",
          "text": [
            "Processing SNP Batches:  27%|██▋       | 270/989 [2:33:22<12:18:04, 61.59s/it]"
          ]
        },
        {
          "name": "stdout",
          "output_type": "stream",
          "text": [
            "chunk 1 processed\n",
            "total number of chunks: 3\n",
            "total number of chunks: 2\n",
            "chunk 0 processed\n",
            "chunk 1 processed\n",
            "chunk 0 processed\n",
            "chunk 1 processed\n"
          ]
        },
        {
          "name": "stderr",
          "output_type": "stream",
          "text": [
            "Processing SNP Batches:  27%|██▋       | 271/989 [2:34:21<12:08:04, 60.84s/it]"
          ]
        },
        {
          "name": "stdout",
          "output_type": "stream",
          "text": [
            "chunk 2 processed\n",
            "total number of chunks: 2\n",
            "chunk 0 processed\n",
            "chunk 1 processed\n"
          ]
        },
        {
          "name": "stderr",
          "output_type": "stream",
          "text": [
            "Processing SNP Batches:  28%|██▊       | 272/989 [2:34:46<9:58:19, 50.07s/it] "
          ]
        },
        {
          "name": "stdout",
          "output_type": "stream",
          "text": [
            "total number of chunks: 3\n",
            "chunk 0 processed\n",
            "chunk 1 processed\n"
          ]
        },
        {
          "name": "stderr",
          "output_type": "stream",
          "text": [
            "Processing SNP Batches:  28%|██▊       | 273/989 [2:38:17<19:32:53, 98.29s/it]"
          ]
        },
        {
          "name": "stdout",
          "output_type": "stream",
          "text": [
            "chunk 2 processed\n"
          ]
        },
        {
          "name": "stderr",
          "output_type": "stream",
          "text": [
            "Processing SNP Batches:  28%|██▊       | 276/989 [2:39:12<9:03:48, 45.76s/it] "
          ]
        },
        {
          "name": "stdout",
          "output_type": "stream",
          "text": [
            "total number of chunks: 2\n",
            "chunk 0 processed\n"
          ]
        },
        {
          "name": "stderr",
          "output_type": "stream",
          "text": [
            "Processing SNP Batches:  28%|██▊       | 277/989 [2:39:49<8:33:00, 43.23s/it]"
          ]
        },
        {
          "name": "stdout",
          "output_type": "stream",
          "text": [
            "chunk 1 processed\n"
          ]
        },
        {
          "name": "stderr",
          "output_type": "stream",
          "text": [
            "Processing SNP Batches:  28%|██▊       | 278/989 [2:40:03<6:49:53, 34.59s/it]"
          ]
        },
        {
          "name": "stdout",
          "output_type": "stream",
          "text": [
            "total number of chunks: 3\n",
            "chunk 0 processed\n",
            "chunk 1 processed\n"
          ]
        },
        {
          "name": "stderr",
          "output_type": "stream",
          "text": [
            "Processing SNP Batches:  28%|██▊       | 279/989 [2:43:11<15:50:52, 80.36s/it]"
          ]
        },
        {
          "name": "stdout",
          "output_type": "stream",
          "text": [
            "chunk 2 processed\n"
          ]
        },
        {
          "name": "stderr",
          "output_type": "stream",
          "text": [
            "Processing SNP Batches:  28%|██▊       | 281/989 [2:43:30<8:42:05, 44.25s/it] "
          ]
        },
        {
          "name": "stdout",
          "output_type": "stream",
          "text": [
            "total number of chunks: 3\n",
            "total number of chunks: 2\n",
            "chunk 0 processed\n",
            "chunk 1 processed\n",
            "chunk 0 processed\n",
            "chunk 1 processed\n"
          ]
        },
        {
          "name": "stderr",
          "output_type": "stream",
          "text": [
            "Processing SNP Batches:  29%|██▊       | 282/989 [2:45:43<13:55:02, 70.87s/it]"
          ]
        },
        {
          "name": "stdout",
          "output_type": "stream",
          "text": [
            "chunk 2 processed\n",
            "total number of chunks: 2\n",
            "chunk 0 processed\n"
          ]
        },
        {
          "name": "stderr",
          "output_type": "stream",
          "text": [
            "Processing SNP Batches:  29%|██▊       | 283/989 [2:47:57<17:35:19, 89.69s/it]"
          ]
        },
        {
          "name": "stdout",
          "output_type": "stream",
          "text": [
            "chunk 1 processed\n",
            "total number of chunks: 2\n",
            "chunk 0 processed\n",
            "chunk 1 processed\n"
          ]
        },
        {
          "name": "stderr",
          "output_type": "stream",
          "text": [
            "Processing SNP Batches:  29%|██▊       | 284/989 [2:49:04<16:12:32, 82.77s/it]"
          ]
        },
        {
          "name": "stdout",
          "output_type": "stream",
          "text": [
            "total number of chunks: 3\n",
            "total number of chunks: 2\n",
            "chunk 0 processed\n",
            "chunk 1 processed\n",
            "chunk 0 processed\n",
            "chunk 1 processed\n"
          ]
        },
        {
          "name": "stderr",
          "output_type": "stream",
          "text": [
            "Processing SNP Batches:  29%|██▉       | 285/989 [2:50:07<15:03:00, 76.96s/it]"
          ]
        },
        {
          "name": "stdout",
          "output_type": "stream",
          "text": [
            "chunk 2 processed\n"
          ]
        },
        {
          "name": "stderr",
          "output_type": "stream",
          "text": [
            "Processing SNP Batches:  29%|██▉       | 286/989 [2:50:36<12:13:44, 62.62s/it]"
          ]
        },
        {
          "name": "stdout",
          "output_type": "stream",
          "text": [
            "total number of chunks: 2\n",
            "chunk 0 processed\n"
          ]
        },
        {
          "name": "stderr",
          "output_type": "stream",
          "text": [
            "Processing SNP Batches:  29%|██▉       | 287/989 [2:51:01<9:59:10, 51.21s/it] "
          ]
        },
        {
          "name": "stdout",
          "output_type": "stream",
          "text": [
            "chunk 1 processed\n"
          ]
        },
        {
          "name": "stderr",
          "output_type": "stream",
          "text": [
            "Processing SNP Batches:  30%|██▉       | 292/989 [2:53:07<6:28:04, 33.41s/it]"
          ]
        },
        {
          "name": "stdout",
          "output_type": "stream",
          "text": [
            "total number of chunks: 2\n",
            "chunk 0 processed\n"
          ]
        },
        {
          "name": "stderr",
          "output_type": "stream",
          "text": [
            "Processing SNP Batches:  30%|██▉       | 293/989 [2:54:29<9:18:31, 48.15s/it]"
          ]
        },
        {
          "name": "stdout",
          "output_type": "stream",
          "text": [
            "chunk 1 processed\n",
            "total number of chunks: 3\n",
            "chunk 0 processed\n",
            "chunk 1 processed\n"
          ]
        },
        {
          "name": "stderr",
          "output_type": "stream",
          "text": [
            "Processing SNP Batches:  30%|██▉       | 294/989 [2:56:59<15:11:07, 78.66s/it]"
          ]
        },
        {
          "name": "stdout",
          "output_type": "stream",
          "text": [
            "chunk 2 processed\n",
            "total number of chunks: 2\n",
            "chunk 0 processed\n"
          ]
        },
        {
          "name": "stderr",
          "output_type": "stream",
          "text": [
            "Processing SNP Batches:  30%|██▉       | 295/989 [2:57:36<12:46:48, 66.30s/it]"
          ]
        },
        {
          "name": "stdout",
          "output_type": "stream",
          "text": [
            "chunk 1 processed\n",
            "total number of chunks: 2\n",
            "chunk 0 processed\n",
            "chunk 1 processed\n"
          ]
        },
        {
          "name": "stderr",
          "output_type": "stream",
          "text": [
            "Processing SNP Batches:  30%|██▉       | 296/989 [2:58:01<10:22:42, 53.91s/it]"
          ]
        },
        {
          "name": "stdout",
          "output_type": "stream",
          "text": [
            "total number of chunks: 2\n",
            "chunk 0 processed\n"
          ]
        },
        {
          "name": "stderr",
          "output_type": "stream",
          "text": [
            "Processing SNP Batches:  30%|███       | 297/989 [2:58:32<9:01:48, 46.98s/it] "
          ]
        },
        {
          "name": "stdout",
          "output_type": "stream",
          "text": [
            "chunk 1 processed\n",
            "total number of chunks: 3\n",
            "chunk 0 processed\n",
            "chunk 1 processed\n"
          ]
        },
        {
          "name": "stderr",
          "output_type": "stream",
          "text": [
            "Processing SNP Batches:  30%|███       | 298/989 [2:59:58<11:13:21, 58.47s/it]"
          ]
        },
        {
          "name": "stdout",
          "output_type": "stream",
          "text": [
            "chunk 2 processed\n"
          ]
        },
        {
          "name": "stderr",
          "output_type": "stream",
          "text": [
            "Processing SNP Batches:  30%|███       | 299/989 [3:00:06<8:18:34, 43.35s/it] "
          ]
        },
        {
          "name": "stdout",
          "output_type": "stream",
          "text": [
            "total number of chunks: 2\n",
            "chunk 0 processed\n"
          ]
        },
        {
          "name": "stderr",
          "output_type": "stream",
          "text": [
            "Processing SNP Batches:  30%|███       | 300/989 [3:01:18<9:59:11, 52.18s/it]"
          ]
        },
        {
          "name": "stdout",
          "output_type": "stream",
          "text": [
            "chunk 1 processed\n"
          ]
        },
        {
          "name": "stderr",
          "output_type": "stream",
          "text": [
            "Processing SNP Batches:  31%|███       | 302/989 [3:01:47<6:17:18, 32.95s/it]"
          ]
        },
        {
          "name": "stdout",
          "output_type": "stream",
          "text": [
            "total number of chunks: 2\n",
            "chunk 0 processed\n"
          ]
        },
        {
          "name": "stderr",
          "output_type": "stream",
          "text": [
            "Processing SNP Batches:  31%|███       | 303/989 [3:02:10<5:41:45, 29.89s/it]"
          ]
        },
        {
          "name": "stdout",
          "output_type": "stream",
          "text": [
            "chunk 1 processed\n",
            "total number of chunks: 2\n",
            "chunk 0 processed\n"
          ]
        },
        {
          "name": "stderr",
          "output_type": "stream",
          "text": [
            "Processing SNP Batches:  31%|███       | 304/989 [3:02:38<5:34:01, 29.26s/it]"
          ]
        },
        {
          "name": "stdout",
          "output_type": "stream",
          "text": [
            "chunk 1 processed\n"
          ]
        },
        {
          "name": "stderr",
          "output_type": "stream",
          "text": [
            "Processing SNP Batches:  31%|███       | 306/989 [3:03:11<4:22:50, 23.09s/it]"
          ]
        },
        {
          "name": "stdout",
          "output_type": "stream",
          "text": [
            "total number of chunks: 2\n",
            "total number of chunks: 3\n",
            "chunk 0 processed\n",
            "chunk 0 processed\n",
            "chunk 1 processed\n",
            "chunk 1 processed\n"
          ]
        },
        {
          "name": "stderr",
          "output_type": "stream",
          "text": [
            "Processing SNP Batches:  31%|███       | 307/989 [3:04:04<6:02:57, 31.93s/it]"
          ]
        },
        {
          "name": "stdout",
          "output_type": "stream",
          "text": [
            "chunk 2 processed\n"
          ]
        },
        {
          "name": "stderr",
          "output_type": "stream",
          "text": [
            "Processing SNP Batches:  31%|███       | 308/989 [3:04:12<4:40:59, 24.76s/it]"
          ]
        },
        {
          "name": "stdout",
          "output_type": "stream",
          "text": [
            "total number of chunks: 2\n",
            "total number of chunks: 2\n",
            "chunk 0 processed\n",
            "chunk 0 processed\n",
            "chunk 1 processed\n"
          ]
        },
        {
          "name": "stderr",
          "output_type": "stream",
          "text": [
            "Processing SNP Batches:  31%|███       | 309/989 [3:04:42<4:57:59, 26.29s/it]"
          ]
        },
        {
          "name": "stdout",
          "output_type": "stream",
          "text": [
            "chunk 1 processed\n",
            "total number of chunks: 2\n",
            "chunk 0 processed\n"
          ]
        },
        {
          "name": "stderr",
          "output_type": "stream",
          "text": [
            "Processing SNP Batches:  31%|███▏      | 310/989 [3:05:16<5:22:30, 28.50s/it]"
          ]
        },
        {
          "name": "stdout",
          "output_type": "stream",
          "text": [
            "chunk 1 processed\n",
            "total number of chunks: 3\n",
            "chunk 0 processed\n",
            "chunk 1 processed\n"
          ]
        },
        {
          "name": "stderr",
          "output_type": "stream",
          "text": [
            "Processing SNP Batches:  31%|███▏      | 311/989 [3:05:50<5:41:30, 30.22s/it]"
          ]
        },
        {
          "name": "stdout",
          "output_type": "stream",
          "text": [
            "chunk 2 processed\n",
            "total number of chunks: 2\n",
            "total number of chunks: 3\n",
            "chunk 0 processed\n",
            "chunk 1 processed\n",
            "chunk 0 processed\n",
            "chunk 1 processed\n"
          ]
        },
        {
          "name": "stderr",
          "output_type": "stream",
          "text": [
            "Processing SNP Batches:  32%|███▏      | 312/989 [3:06:38<6:40:57, 35.53s/it]"
          ]
        },
        {
          "name": "stdout",
          "output_type": "stream",
          "text": [
            "chunk 2 processed\n",
            "total number of chunks: 2\n",
            "chunk 0 processed\n"
          ]
        },
        {
          "name": "stderr",
          "output_type": "stream",
          "text": [
            "Processing SNP Batches:  32%|███▏      | 313/989 [3:07:01<6:00:09, 31.97s/it]"
          ]
        },
        {
          "name": "stdout",
          "output_type": "stream",
          "text": [
            "chunk 1 processed\n"
          ]
        },
        {
          "name": "stderr",
          "output_type": "stream",
          "text": [
            "Processing SNP Batches:  32%|███▏      | 314/989 [3:07:18<5:06:44, 27.27s/it]"
          ]
        },
        {
          "name": "stdout",
          "output_type": "stream",
          "text": [
            "total number of chunks: 2\n",
            "chunk 0 processed\n"
          ]
        },
        {
          "name": "stderr",
          "output_type": "stream",
          "text": [
            "Processing SNP Batches:  32%|███▏      | 315/989 [3:07:47<5:12:54, 27.86s/it]"
          ]
        },
        {
          "name": "stdout",
          "output_type": "stream",
          "text": [
            "chunk 1 processed\n"
          ]
        },
        {
          "name": "stderr",
          "output_type": "stream",
          "text": [
            "Processing SNP Batches:  32%|███▏      | 316/989 [3:08:14<5:10:06, 27.65s/it]"
          ]
        },
        {
          "name": "stdout",
          "output_type": "stream",
          "text": [
            "total number of chunks: 2\n",
            "chunk 0 processed\n"
          ]
        },
        {
          "name": "stderr",
          "output_type": "stream",
          "text": [
            "Processing SNP Batches:  32%|███▏      | 317/989 [3:08:46<5:23:16, 28.86s/it]"
          ]
        },
        {
          "name": "stdout",
          "output_type": "stream",
          "text": [
            "chunk 1 processed\n"
          ]
        },
        {
          "name": "stderr",
          "output_type": "stream",
          "text": [
            "Processing SNP Batches:  32%|███▏      | 318/989 [3:08:57<4:23:41, 23.58s/it]"
          ]
        },
        {
          "name": "stdout",
          "output_type": "stream",
          "text": [
            "total number of chunks: 2\n",
            "chunk 0 processed\n"
          ]
        },
        {
          "name": "stderr",
          "output_type": "stream",
          "text": [
            "Processing SNP Batches:  32%|███▏      | 319/989 [3:09:18<4:15:28, 22.88s/it]"
          ]
        },
        {
          "name": "stdout",
          "output_type": "stream",
          "text": [
            "chunk 1 processed\n"
          ]
        },
        {
          "name": "stderr",
          "output_type": "stream",
          "text": [
            "Processing SNP Batches:  33%|███▎      | 324/989 [3:11:39<5:29:12, 29.70s/it]"
          ]
        },
        {
          "name": "stdout",
          "output_type": "stream",
          "text": [
            "total number of chunks: 2\n",
            "chunk 0 processed\n"
          ]
        },
        {
          "name": "stderr",
          "output_type": "stream",
          "text": [
            "Processing SNP Batches:  33%|███▎      | 325/989 [3:12:34<6:52:33, 37.28s/it]"
          ]
        },
        {
          "name": "stdout",
          "output_type": "stream",
          "text": [
            "chunk 1 processed\n",
            "total number of chunks: 2\n",
            "total number of chunks: 2\n",
            "total number of chunks: 2\n",
            "total number of chunks: 2\n",
            "chunk 0 processed\n",
            "chunk 1 processed\n",
            "chunk 0 processed\n",
            "chunk 1 processed\n",
            "chunk 0 processed\n",
            "chunk 1 processed\n",
            "chunk 0 processed\n",
            "chunk 1 processed\n"
          ]
        },
        {
          "name": "stderr",
          "output_type": "stream",
          "text": [
            "Processing SNP Batches:  33%|███▎      | 327/989 [3:13:31<5:49:33, 31.68s/it]"
          ]
        },
        {
          "name": "stdout",
          "output_type": "stream",
          "text": [
            "total number of chunks: 2\n",
            "chunk 0 processed\n"
          ]
        },
        {
          "name": "stderr",
          "output_type": "stream",
          "text": [
            "Processing SNP Batches:  33%|███▎      | 328/989 [3:14:02<5:44:57, 31.31s/it]"
          ]
        },
        {
          "name": "stdout",
          "output_type": "stream",
          "text": [
            "chunk 1 processed\n",
            "total number of chunks: 3\n",
            "chunk 0 processed\n",
            "chunk 1 processed\n"
          ]
        },
        {
          "name": "stderr",
          "output_type": "stream",
          "text": [
            "Processing SNP Batches:  33%|███▎      | 329/989 [3:14:56<7:00:22, 38.22s/it]"
          ]
        },
        {
          "name": "stdout",
          "output_type": "stream",
          "text": [
            "chunk 2 processed\n",
            "total number of chunks: 2\n",
            "chunk 0 processed\n"
          ]
        },
        {
          "name": "stderr",
          "output_type": "stream",
          "text": [
            "Processing SNP Batches:  33%|███▎      | 330/989 [3:15:33<6:55:26, 37.82s/it]"
          ]
        },
        {
          "name": "stdout",
          "output_type": "stream",
          "text": [
            "chunk 1 processed\n"
          ]
        },
        {
          "name": "stderr",
          "output_type": "stream",
          "text": [
            "Processing SNP Batches:  34%|███▎      | 333/989 [3:16:48<4:56:57, 27.16s/it]"
          ]
        },
        {
          "name": "stdout",
          "output_type": "stream",
          "text": [
            "total number of chunks: 2\n",
            "chunk 0 processed\n"
          ]
        },
        {
          "name": "stderr",
          "output_type": "stream",
          "text": [
            "Processing SNP Batches:  34%|███▍      | 334/989 [3:17:22<5:17:13, 29.06s/it]"
          ]
        },
        {
          "name": "stdout",
          "output_type": "stream",
          "text": [
            "chunk 1 processed\n"
          ]
        },
        {
          "name": "stderr",
          "output_type": "stream",
          "text": [
            "Processing SNP Batches:  34%|███▍      | 336/989 [3:18:28<5:17:05, 29.14s/it]"
          ]
        },
        {
          "name": "stdout",
          "output_type": "stream",
          "text": [
            "total number of chunks: 5\n",
            "chunk 0 processed\n",
            "chunk 1 processed\n",
            "chunk 2 processed\n",
            "chunk 3 processed\n"
          ]
        },
        {
          "name": "stderr",
          "output_type": "stream",
          "text": [
            "Processing SNP Batches:  34%|███▍      | 337/989 [3:20:27<10:12:04, 56.33s/it]"
          ]
        },
        {
          "name": "stdout",
          "output_type": "stream",
          "text": [
            "chunk 4 processed\n"
          ]
        },
        {
          "name": "stderr",
          "output_type": "stream",
          "text": [
            "Processing SNP Batches:  34%|███▍      | 338/989 [3:20:39<7:46:32, 43.00s/it] "
          ]
        },
        {
          "name": "stdout",
          "output_type": "stream",
          "text": [
            "total number of chunks: 2\n",
            "chunk 0 processed\n"
          ]
        },
        {
          "name": "stderr",
          "output_type": "stream",
          "text": [
            "Processing SNP Batches:  34%|███▍      | 339/989 [3:21:10<7:05:32, 39.28s/it]"
          ]
        },
        {
          "name": "stdout",
          "output_type": "stream",
          "text": [
            "chunk 1 processed\n"
          ]
        },
        {
          "name": "stderr",
          "output_type": "stream",
          "text": [
            "Processing SNP Batches:  34%|███▍      | 341/989 [3:21:48<5:07:08, 28.44s/it]"
          ]
        },
        {
          "name": "stdout",
          "output_type": "stream",
          "text": [
            "total number of chunks: 2\n",
            "chunk 0 processed\n",
            "chunk 1 processed\n"
          ]
        },
        {
          "name": "stderr",
          "output_type": "stream",
          "text": [
            "Processing SNP Batches:  35%|███▍      | 343/989 [3:22:54<5:07:01, 28.52s/it]"
          ]
        },
        {
          "name": "stdout",
          "output_type": "stream",
          "text": [
            "total number of chunks: 2\n",
            "total number of chunks: 4\n",
            "chunk 0 processed\n",
            "chunk 0 processed\n",
            "chunk 1 processed\n",
            "chunk 1 processed\n",
            "chunk 2 processed\n"
          ]
        },
        {
          "name": "stderr",
          "output_type": "stream",
          "text": [
            "Processing SNP Batches:  35%|███▍      | 344/989 [3:23:49<6:31:41, 36.44s/it]"
          ]
        },
        {
          "name": "stdout",
          "output_type": "stream",
          "text": [
            "chunk 3 processed\n"
          ]
        },
        {
          "name": "stderr",
          "output_type": "stream",
          "text": [
            "Processing SNP Batches:  35%|███▍      | 345/989 [3:24:08<5:37:46, 31.47s/it]"
          ]
        },
        {
          "name": "stdout",
          "output_type": "stream",
          "text": [
            "total number of chunks: 2\n",
            "chunk 0 processed\n"
          ]
        },
        {
          "name": "stderr",
          "output_type": "stream",
          "text": [
            "Processing SNP Batches:  35%|███▍      | 346/989 [3:24:38<5:32:34, 31.03s/it]"
          ]
        },
        {
          "name": "stdout",
          "output_type": "stream",
          "text": [
            "chunk 1 processed\n",
            "total number of chunks: 2\n",
            "chunk 0 processed\n"
          ]
        },
        {
          "name": "stderr",
          "output_type": "stream",
          "text": [
            "Processing SNP Batches:  35%|███▌      | 347/989 [3:25:09<5:30:39, 30.90s/it]"
          ]
        },
        {
          "name": "stdout",
          "output_type": "stream",
          "text": [
            "chunk 1 processed\n",
            "total number of chunks: 2\n",
            "chunk 0 processed\n"
          ]
        },
        {
          "name": "stderr",
          "output_type": "stream",
          "text": [
            "Processing SNP Batches:  35%|███▌      | 348/989 [3:25:36<5:17:51, 29.75s/it]"
          ]
        },
        {
          "name": "stdout",
          "output_type": "stream",
          "text": [
            "chunk 1 processed\n"
          ]
        },
        {
          "name": "stderr",
          "output_type": "stream",
          "text": [
            "Processing SNP Batches:  36%|███▌      | 353/989 [3:27:52<5:03:10, 28.60s/it]"
          ]
        },
        {
          "name": "stdout",
          "output_type": "stream",
          "text": [
            "total number of chunks: 2\n",
            "chunk 0 processed\n"
          ]
        },
        {
          "name": "stderr",
          "output_type": "stream",
          "text": [
            "Processing SNP Batches:  36%|███▌      | 354/989 [3:29:17<7:59:12, 45.28s/it]"
          ]
        },
        {
          "name": "stdout",
          "output_type": "stream",
          "text": [
            "chunk 1 processed\n"
          ]
        },
        {
          "name": "stderr",
          "output_type": "stream",
          "text": [
            "Processing SNP Batches:  36%|███▌      | 355/989 [3:29:42<6:55:07, 39.29s/it]"
          ]
        },
        {
          "name": "stdout",
          "output_type": "stream",
          "text": [
            "total number of chunks: 2\n",
            "chunk 0 processed\n"
          ]
        },
        {
          "name": "stderr",
          "output_type": "stream",
          "text": [
            "Processing SNP Batches:  36%|███▌      | 356/989 [3:30:06<6:05:06, 34.61s/it]"
          ]
        },
        {
          "name": "stdout",
          "output_type": "stream",
          "text": [
            "chunk 1 processed\n",
            "total number of chunks: 2\n",
            "chunk 0 processed\n"
          ]
        },
        {
          "name": "stderr",
          "output_type": "stream",
          "text": [
            "Processing SNP Batches:  36%|███▌      | 357/989 [3:30:36<5:50:41, 33.29s/it]"
          ]
        },
        {
          "name": "stdout",
          "output_type": "stream",
          "text": [
            "chunk 1 processed\n"
          ]
        },
        {
          "name": "stderr",
          "output_type": "stream",
          "text": [
            "Processing SNP Batches:  36%|███▌      | 358/989 [3:30:43<4:29:30, 25.63s/it]"
          ]
        },
        {
          "name": "stdout",
          "output_type": "stream",
          "text": [
            "total number of chunks: 2\n",
            "chunk 0 processed\n"
          ]
        },
        {
          "name": "stderr",
          "output_type": "stream",
          "text": [
            "Processing SNP Batches:  36%|███▋      | 359/989 [3:33:08<10:44:38, 61.39s/it]"
          ]
        },
        {
          "name": "stdout",
          "output_type": "stream",
          "text": [
            "chunk 1 processed\n",
            "total number of chunks: 2\n",
            "chunk 0 processed\n"
          ]
        },
        {
          "name": "stderr",
          "output_type": "stream",
          "text": [
            "Processing SNP Batches:  36%|███▋      | 360/989 [3:33:54<9:53:59, 56.66s/it] "
          ]
        },
        {
          "name": "stdout",
          "output_type": "stream",
          "text": [
            "chunk 1 processed\n"
          ]
        },
        {
          "name": "stderr",
          "output_type": "stream",
          "text": [
            "Processing SNP Batches:  37%|███▋      | 365/989 [3:35:14<3:53:42, 22.47s/it]"
          ]
        },
        {
          "name": "stdout",
          "output_type": "stream",
          "text": [
            "total number of chunks: 2\n",
            "chunk 0 processed\n"
          ]
        },
        {
          "name": "stderr",
          "output_type": "stream",
          "text": [
            "Processing SNP Batches:  37%|███▋      | 366/989 [3:35:51<4:39:21, 26.90s/it]"
          ]
        },
        {
          "name": "stdout",
          "output_type": "stream",
          "text": [
            "chunk 1 processed\n"
          ]
        },
        {
          "name": "stderr",
          "output_type": "stream",
          "text": [
            "Processing SNP Batches:  37%|███▋      | 368/989 [3:36:44<4:43:07, 27.36s/it]"
          ]
        },
        {
          "name": "stdout",
          "output_type": "stream",
          "text": [
            "total number of chunks: 2\n",
            "chunk 0 processed\n",
            "chunk 1 processed\n"
          ]
        },
        {
          "name": "stderr",
          "output_type": "stream",
          "text": [
            "Processing SNP Batches:  37%|███▋      | 369/989 [3:37:38<6:04:58, 35.32s/it]"
          ]
        },
        {
          "name": "stdout",
          "output_type": "stream",
          "text": [
            "total number of chunks: 2\n",
            "chunk 0 processed\n"
          ]
        },
        {
          "name": "stderr",
          "output_type": "stream",
          "text": [
            "Processing SNP Batches:  37%|███▋      | 370/989 [3:38:14<6:05:51, 35.46s/it]"
          ]
        },
        {
          "name": "stdout",
          "output_type": "stream",
          "text": [
            "chunk 1 processed\n",
            "total number of chunks: 2\n",
            "total number of chunks: 2\n",
            "chunk 0 processed\n",
            "chunk 1 processed\n",
            "chunk 0 processed\n"
          ]
        },
        {
          "name": "stderr",
          "output_type": "stream",
          "text": [
            "Processing SNP Batches:  38%|███▊      | 371/989 [3:38:51<6:08:38, 35.79s/it]"
          ]
        },
        {
          "name": "stdout",
          "output_type": "stream",
          "text": [
            "chunk 1 processed\n"
          ]
        },
        {
          "name": "stderr",
          "output_type": "stream",
          "text": [
            "Processing SNP Batches:  38%|███▊      | 373/989 [3:39:23<4:21:42, 25.49s/it]"
          ]
        },
        {
          "name": "stdout",
          "output_type": "stream",
          "text": [
            "total number of chunks: 2\n",
            "chunk 0 processed\n"
          ]
        },
        {
          "name": "stderr",
          "output_type": "stream",
          "text": [
            "Processing SNP Batches:  38%|███▊      | 374/989 [3:39:52<4:29:22, 26.28s/it]"
          ]
        },
        {
          "name": "stdout",
          "output_type": "stream",
          "text": [
            "chunk 1 processed\n"
          ]
        },
        {
          "name": "stderr",
          "output_type": "stream",
          "text": [
            "Processing SNP Batches:  38%|███▊      | 376/989 [3:40:31<3:59:13, 23.42s/it]"
          ]
        },
        {
          "name": "stdout",
          "output_type": "stream",
          "text": [
            "total number of chunks: 2total number of chunks: 2\n",
            "\n",
            "chunk 0 processed\n",
            "chunk 1 processed\n",
            "chunk 0 processed\n"
          ]
        },
        {
          "name": "stderr",
          "output_type": "stream",
          "text": [
            "Processing SNP Batches:  38%|███▊      | 377/989 [3:41:03<4:22:40, 25.75s/it]"
          ]
        },
        {
          "name": "stdout",
          "output_type": "stream",
          "text": [
            "chunk 1 processed\n",
            "total number of chunks: 2\n",
            "chunk 0 processed\n"
          ]
        },
        {
          "name": "stderr",
          "output_type": "stream",
          "text": [
            "Processing SNP Batches:  38%|███▊      | 378/989 [3:41:52<5:33:16, 32.73s/it]"
          ]
        },
        {
          "name": "stdout",
          "output_type": "stream",
          "text": [
            "chunk 1 processed\n"
          ]
        },
        {
          "name": "stderr",
          "output_type": "stream",
          "text": [
            "Processing SNP Batches:  38%|███▊      | 379/989 [3:42:13<4:59:41, 29.48s/it]"
          ]
        },
        {
          "name": "stdout",
          "output_type": "stream",
          "text": [
            "total number of chunks: 3\n",
            "chunk 0 processed\n",
            "chunk 1 processed\n"
          ]
        },
        {
          "name": "stderr",
          "output_type": "stream",
          "text": [
            "Processing SNP Batches:  38%|███▊      | 380/989 [3:45:49<14:24:38, 85.19s/it]"
          ]
        },
        {
          "name": "stdout",
          "output_type": "stream",
          "text": [
            "chunk 2 processed\n",
            "total number of chunks: 2\n",
            "chunk 0 processed\n"
          ]
        },
        {
          "name": "stderr",
          "output_type": "stream",
          "text": [
            "Processing SNP Batches:  39%|███▊      | 381/989 [3:46:22<11:44:48, 69.55s/it]"
          ]
        },
        {
          "name": "stdout",
          "output_type": "stream",
          "text": [
            "chunk 1 processed\n"
          ]
        },
        {
          "name": "stderr",
          "output_type": "stream",
          "text": [
            "Processing SNP Batches:  39%|███▉      | 385/989 [3:47:28<4:59:18, 29.73s/it] "
          ]
        },
        {
          "name": "stdout",
          "output_type": "stream",
          "text": [
            "total number of chunks: 2\n",
            "chunk 0 processed\n",
            "chunk 1 processed\n"
          ]
        },
        {
          "name": "stderr",
          "output_type": "stream",
          "text": [
            "Processing SNP Batches:  39%|███▉      | 387/989 [3:48:14<4:20:48, 25.99s/it]"
          ]
        },
        {
          "name": "stdout",
          "output_type": "stream",
          "text": [
            "total number of chunks: 2\n",
            "chunk 0 processed\n"
          ]
        },
        {
          "name": "stderr",
          "output_type": "stream",
          "text": [
            "Processing SNP Batches:  39%|███▉      | 388/989 [3:48:40<4:20:52, 26.04s/it]"
          ]
        },
        {
          "name": "stdout",
          "output_type": "stream",
          "text": [
            "chunk 1 processed\n"
          ]
        },
        {
          "name": "stderr",
          "output_type": "stream",
          "text": [
            "Processing SNP Batches:  39%|███▉      | 389/989 [3:48:59<3:57:12, 23.72s/it]"
          ]
        },
        {
          "name": "stdout",
          "output_type": "stream",
          "text": [
            "total number of chunks: 2\n",
            "chunk 0 processed\n",
            "chunk 1 processed\n"
          ]
        },
        {
          "name": "stderr",
          "output_type": "stream",
          "text": [
            "Processing SNP Batches:  40%|███▉      | 393/989 [3:50:02<2:56:26, 17.76s/it]"
          ]
        },
        {
          "name": "stdout",
          "output_type": "stream",
          "text": [
            "total number of chunks: 2\n",
            "chunk 0 processed\n"
          ]
        },
        {
          "name": "stderr",
          "output_type": "stream",
          "text": [
            "Processing SNP Batches:  40%|███▉      | 394/989 [3:50:36<3:45:20, 22.72s/it]"
          ]
        },
        {
          "name": "stdout",
          "output_type": "stream",
          "text": [
            "chunk 1 processed\n"
          ]
        },
        {
          "name": "stderr",
          "output_type": "stream",
          "text": [
            "Processing SNP Batches:  40%|███▉      | 395/989 [3:50:57<3:39:02, 22.12s/it]"
          ]
        },
        {
          "name": "stdout",
          "output_type": "stream",
          "text": [
            "total number of chunks: 3\n",
            "chunk 0 processed\n",
            "chunk 1 processed\n"
          ]
        },
        {
          "name": "stderr",
          "output_type": "stream",
          "text": [
            "Processing SNP Batches:  40%|████      | 396/989 [3:51:49<5:06:25, 31.00s/it]"
          ]
        },
        {
          "name": "stdout",
          "output_type": "stream",
          "text": [
            "chunk 2 processed\n"
          ]
        },
        {
          "name": "stderr",
          "output_type": "stream",
          "text": [
            "Processing SNP Batches:  40%|████      | 398/989 [3:52:14<3:33:37, 21.69s/it]"
          ]
        },
        {
          "name": "stdout",
          "output_type": "stream",
          "text": [
            "total number of chunks: 2\n",
            "chunk 0 processed\n"
          ]
        },
        {
          "name": "stderr",
          "output_type": "stream",
          "text": [
            "Processing SNP Batches:  40%|████      | 399/989 [3:52:44<3:57:20, 24.14s/it]"
          ]
        },
        {
          "name": "stdout",
          "output_type": "stream",
          "text": [
            "chunk 1 processed\n",
            "total number of chunks: 2\n",
            "total number of chunks: 3\n",
            "chunk 0 processed\n",
            "chunk 0 processed\n",
            "chunk 1 processed\n",
            "chunk 1 processed\n"
          ]
        },
        {
          "name": "stderr",
          "output_type": "stream",
          "text": [
            "Processing SNP Batches:  40%|████      | 400/989 [3:53:39<5:26:46, 33.29s/it]"
          ]
        },
        {
          "name": "stdout",
          "output_type": "stream",
          "text": [
            "chunk 2 processed\n"
          ]
        },
        {
          "name": "stderr",
          "output_type": "stream",
          "text": [
            "Processing SNP Batches:  41%|████      | 403/989 [3:54:47<4:13:38, 25.97s/it]"
          ]
        },
        {
          "name": "stdout",
          "output_type": "stream",
          "text": [
            "total number of chunks: 2\n",
            "chunk 0 processed\n"
          ]
        },
        {
          "name": "stderr",
          "output_type": "stream",
          "text": [
            "Processing SNP Batches:  41%|████      | 404/989 [3:55:04<3:48:03, 23.39s/it]"
          ]
        },
        {
          "name": "stdout",
          "output_type": "stream",
          "text": [
            "chunk 1 processed\n"
          ]
        },
        {
          "name": "stderr",
          "output_type": "stream",
          "text": [
            "Processing SNP Batches:  41%|████      | 406/989 [3:56:05<4:24:20, 27.20s/it]"
          ]
        },
        {
          "name": "stdout",
          "output_type": "stream",
          "text": [
            "total number of chunks: 2\n",
            "chunk 0 processed\n"
          ]
        },
        {
          "name": "stderr",
          "output_type": "stream",
          "text": [
            "Processing SNP Batches:  41%|████      | 407/989 [3:56:29<4:16:27, 26.44s/it]"
          ]
        },
        {
          "name": "stdout",
          "output_type": "stream",
          "text": [
            "chunk 1 processed\n"
          ]
        },
        {
          "name": "stderr",
          "output_type": "stream",
          "text": [
            "Processing SNP Batches:  41%|████▏     | 408/989 [3:56:51<4:02:17, 25.02s/it]"
          ]
        },
        {
          "name": "stdout",
          "output_type": "stream",
          "text": [
            "total number of chunks: 2\n",
            "total number of chunks: 2\n",
            "chunk 0 processed\n",
            "chunk 1 processed\n",
            "chunk 0 processed\n"
          ]
        },
        {
          "name": "stderr",
          "output_type": "stream",
          "text": [
            "Processing SNP Batches:  41%|████▏     | 409/989 [3:58:00<6:08:29, 38.12s/it]"
          ]
        },
        {
          "name": "stdout",
          "output_type": "stream",
          "text": [
            "chunk 1 processed\n",
            "total number of chunks: 2\n",
            "chunk 0 processed\n"
          ]
        },
        {
          "name": "stderr",
          "output_type": "stream",
          "text": [
            "Processing SNP Batches:  41%|████▏     | 410/989 [3:58:28<5:38:23, 35.07s/it]"
          ]
        },
        {
          "name": "stdout",
          "output_type": "stream",
          "text": [
            "chunk 1 processed\n"
          ]
        },
        {
          "name": "stderr",
          "output_type": "stream",
          "text": [
            "Processing SNP Batches:  42%|████▏     | 415/989 [4:00:07<3:27:59, 21.74s/it]"
          ]
        },
        {
          "name": "stdout",
          "output_type": "stream",
          "text": [
            "total number of chunks: 2\n",
            "chunk 0 processed\n"
          ]
        },
        {
          "name": "stderr",
          "output_type": "stream",
          "text": [
            "Processing SNP Batches:  42%|████▏     | 416/989 [4:00:30<3:31:32, 22.15s/it]"
          ]
        },
        {
          "name": "stdout",
          "output_type": "stream",
          "text": [
            "chunk 1 processed\n"
          ]
        },
        {
          "name": "stderr",
          "output_type": "stream",
          "text": [
            "Processing SNP Batches:  42%|████▏     | 420/989 [4:01:38<2:53:12, 18.26s/it]"
          ]
        },
        {
          "name": "stdout",
          "output_type": "stream",
          "text": [
            "total number of chunks: 2\n",
            "chunk 0 processed\n"
          ]
        },
        {
          "name": "stderr",
          "output_type": "stream",
          "text": [
            "Processing SNP Batches:  43%|████▎     | 421/989 [4:02:05<3:19:00, 21.02s/it]"
          ]
        },
        {
          "name": "stdout",
          "output_type": "stream",
          "text": [
            "chunk 1 processed\n",
            "total number of chunks: 2\n",
            "chunk 0 processed\n"
          ]
        },
        {
          "name": "stderr",
          "output_type": "stream",
          "text": [
            "Processing SNP Batches:  43%|████▎     | 422/989 [4:02:33<3:36:03, 22.86s/it]"
          ]
        },
        {
          "name": "stdout",
          "output_type": "stream",
          "text": [
            "chunk 1 processed\n",
            "total number of chunks: 2\n",
            "total number of chunks: 2\n",
            "total number of chunks: 2\n",
            "chunk 0 processed\n",
            "chunk 1 processed\n",
            "chunk 0 processed\n",
            "chunk 0 processed\n",
            "chunk 1 processed\n"
          ]
        },
        {
          "name": "stderr",
          "output_type": "stream",
          "text": [
            "Processing SNP Batches:  43%|████▎     | 423/989 [4:03:01<3:51:39, 24.56s/it]"
          ]
        },
        {
          "name": "stdout",
          "output_type": "stream",
          "text": [
            "chunk 1 processed\n",
            "total number of chunks: 2\n",
            "chunk 0 processed\n"
          ]
        },
        {
          "name": "stderr",
          "output_type": "stream",
          "text": [
            "Processing SNP Batches:  43%|████▎     | 424/989 [4:03:48<4:53:29, 31.17s/it]"
          ]
        },
        {
          "name": "stdout",
          "output_type": "stream",
          "text": [
            "chunk 1 processed\n"
          ]
        },
        {
          "name": "stderr",
          "output_type": "stream",
          "text": [
            "Processing SNP Batches:  43%|████▎     | 426/989 [4:04:13<3:20:27, 21.36s/it]"
          ]
        },
        {
          "name": "stdout",
          "output_type": "stream",
          "text": [
            "total number of chunks: 2\n",
            "chunk 0 processed\n"
          ]
        },
        {
          "name": "stderr",
          "output_type": "stream",
          "text": [
            "Processing SNP Batches:  43%|████▎     | 427/989 [4:04:41<3:38:10, 23.29s/it]"
          ]
        },
        {
          "name": "stdout",
          "output_type": "stream",
          "text": [
            "chunk 1 processed\n"
          ]
        },
        {
          "name": "stderr",
          "output_type": "stream",
          "text": [
            "Processing SNP Batches:  43%|████▎     | 428/989 [4:04:57<3:17:03, 21.08s/it]"
          ]
        },
        {
          "name": "stdout",
          "output_type": "stream",
          "text": [
            "total number of chunks: 2\n",
            "chunk 0 processed\n"
          ]
        },
        {
          "name": "stderr",
          "output_type": "stream",
          "text": [
            "Processing SNP Batches:  43%|████▎     | 429/989 [4:05:30<3:50:37, 24.71s/it]"
          ]
        },
        {
          "name": "stdout",
          "output_type": "stream",
          "text": [
            "chunk 1 processed\n"
          ]
        },
        {
          "name": "stderr",
          "output_type": "stream",
          "text": [
            "Processing SNP Batches:  43%|████▎     | 430/989 [4:05:51<3:41:28, 23.77s/it]"
          ]
        },
        {
          "name": "stdout",
          "output_type": "stream",
          "text": [
            "total number of chunks: 2\n",
            "total number of chunks: 2\n",
            "chunk 0 processed\n",
            "chunk 1 processed\n",
            "chunk 0 processed\n"
          ]
        },
        {
          "name": "stderr",
          "output_type": "stream",
          "text": [
            "Processing SNP Batches:  44%|████▎     | 431/989 [4:06:28<4:17:55, 27.73s/it]"
          ]
        },
        {
          "name": "stdout",
          "output_type": "stream",
          "text": [
            "chunk 1 processed\n"
          ]
        },
        {
          "name": "stderr",
          "output_type": "stream",
          "text": [
            "Processing SNP Batches:  44%|████▍     | 433/989 [4:06:54<3:08:40, 20.36s/it]"
          ]
        },
        {
          "name": "stdout",
          "output_type": "stream",
          "text": [
            "total number of chunks: 2\n",
            "chunk 0 processed\n"
          ]
        },
        {
          "name": "stderr",
          "output_type": "stream",
          "text": [
            "Processing SNP Batches:  44%|████▍     | 434/989 [4:07:26<3:40:50, 23.88s/it]"
          ]
        },
        {
          "name": "stdout",
          "output_type": "stream",
          "text": [
            "chunk 1 processed\n"
          ]
        },
        {
          "name": "stderr",
          "output_type": "stream",
          "text": [
            "Processing SNP Batches:  44%|████▍     | 437/989 [4:08:29<3:28:06, 22.62s/it]"
          ]
        },
        {
          "name": "stdout",
          "output_type": "stream",
          "text": [
            "total number of chunks: 2\n",
            "chunk 0 processed\n"
          ]
        },
        {
          "name": "stderr",
          "output_type": "stream",
          "text": [
            "Processing SNP Batches:  44%|████▍     | 438/989 [4:08:59<3:48:16, 24.86s/it]"
          ]
        },
        {
          "name": "stdout",
          "output_type": "stream",
          "text": [
            "chunk 1 processed\n"
          ]
        },
        {
          "name": "stderr",
          "output_type": "stream",
          "text": [
            "Processing SNP Batches:  44%|████▍     | 439/989 [4:09:22<3:42:59, 24.33s/it]"
          ]
        },
        {
          "name": "stdout",
          "output_type": "stream",
          "text": [
            "total number of chunks: 2\n",
            "chunk 0 processed\n"
          ]
        },
        {
          "name": "stderr",
          "output_type": "stream",
          "text": [
            "Processing SNP Batches:  44%|████▍     | 440/989 [4:11:16<7:48:14, 51.17s/it]"
          ]
        },
        {
          "name": "stdout",
          "output_type": "stream",
          "text": [
            "chunk 1 processed\n"
          ]
        },
        {
          "name": "stderr",
          "output_type": "stream",
          "text": [
            "Processing SNP Batches:  45%|████▍     | 444/989 [4:12:19<3:38:47, 24.09s/it]"
          ]
        },
        {
          "name": "stdout",
          "output_type": "stream",
          "text": [
            "total number of chunks: 2\n",
            "chunk 0 processed\n"
          ]
        },
        {
          "name": "stderr",
          "output_type": "stream",
          "text": [
            "Processing SNP Batches:  45%|████▍     | 445/989 [4:12:44<3:40:28, 24.32s/it]"
          ]
        },
        {
          "name": "stdout",
          "output_type": "stream",
          "text": [
            "chunk 1 processed\n"
          ]
        },
        {
          "name": "stderr",
          "output_type": "stream",
          "text": [
            "Processing SNP Batches:  45%|████▌     | 446/989 [4:13:01<3:19:18, 22.02s/it]"
          ]
        },
        {
          "name": "stdout",
          "output_type": "stream",
          "text": [
            "total number of chunks: 2\n",
            "total number of chunks: 2\n",
            "chunk 0 processed\n",
            "chunk 0 processed\n",
            "chunk 1 processed\n"
          ]
        },
        {
          "name": "stderr",
          "output_type": "stream",
          "text": [
            "Processing SNP Batches:  45%|████▌     | 447/989 [4:13:30<3:40:15, 24.38s/it]"
          ]
        },
        {
          "name": "stdout",
          "output_type": "stream",
          "text": [
            "chunk 1 processed\n"
          ]
        },
        {
          "name": "stderr",
          "output_type": "stream",
          "text": [
            "Processing SNP Batches:  45%|████▌     | 448/989 [4:13:54<3:37:19, 24.10s/it]"
          ]
        },
        {
          "name": "stdout",
          "output_type": "stream",
          "text": [
            "total number of chunks: 3\n",
            "chunk 0 processed\n",
            "chunk 1 processed\n"
          ]
        },
        {
          "name": "stderr",
          "output_type": "stream",
          "text": [
            "Processing SNP Batches:  45%|████▌     | 449/989 [4:14:32<4:13:22, 28.15s/it]"
          ]
        },
        {
          "name": "stdout",
          "output_type": "stream",
          "text": [
            "chunk 2 processed\n"
          ]
        },
        {
          "name": "stderr",
          "output_type": "stream",
          "text": [
            "Processing SNP Batches:  46%|████▌     | 450/989 [4:14:48<3:41:56, 24.71s/it]"
          ]
        },
        {
          "name": "stdout",
          "output_type": "stream",
          "text": [
            "total number of chunks: 3\n",
            "total number of chunks: 2\n",
            "chunk 0 processed\n",
            "chunk 0 processed\n",
            "chunk 1 processed\n",
            "chunk 1 processed\n"
          ]
        },
        {
          "name": "stderr",
          "output_type": "stream",
          "text": [
            "Processing SNP Batches:  46%|████▌     | 451/989 [4:15:50<5:20:30, 35.74s/it]"
          ]
        },
        {
          "name": "stdout",
          "output_type": "stream",
          "text": [
            "chunk 2 processed\n",
            "total number of chunks: 4\n",
            "chunk 0 processed\n",
            "chunk 1 processed\n",
            "chunk 2 processed\n"
          ]
        },
        {
          "name": "stderr",
          "output_type": "stream",
          "text": [
            "Processing SNP Batches:  46%|████▌     | 452/989 [4:16:49<6:22:45, 42.77s/it]"
          ]
        },
        {
          "name": "stdout",
          "output_type": "stream",
          "text": [
            "chunk 3 processed\n",
            "total number of chunks: 2\n",
            "chunk 0 processed\n"
          ]
        },
        {
          "name": "stderr",
          "output_type": "stream",
          "text": [
            "Processing SNP Batches:  46%|████▌     | 453/989 [4:17:11<5:25:59, 36.49s/it]"
          ]
        },
        {
          "name": "stdout",
          "output_type": "stream",
          "text": [
            "chunk 1 processed\n",
            "total number of chunks: 2\n",
            "total number of chunks: 2\n",
            "chunk 0 processed\n",
            "chunk 0 processed\n",
            "chunk 1 processed\n",
            "chunk 1 processed\n"
          ]
        },
        {
          "name": "stderr",
          "output_type": "stream",
          "text": [
            "Processing SNP Batches:  46%|████▌     | 454/989 [4:17:51<5:36:36, 37.75s/it]"
          ]
        },
        {
          "name": "stdout",
          "output_type": "stream",
          "text": [
            "total number of chunks: 2\n",
            "total number of chunks: 2\n",
            "chunk 0 processed\n",
            "chunk 0 processed\n",
            "chunk 1 processed\n",
            "chunk 1 processed\n"
          ]
        },
        {
          "name": "stderr",
          "output_type": "stream",
          "text": [
            "Processing SNP Batches:  46%|████▌     | 456/989 [4:18:32<4:08:04, 27.93s/it]"
          ]
        },
        {
          "name": "stdout",
          "output_type": "stream",
          "text": [
            "total number of chunks: 2\n",
            "total number of chunks: 2\n",
            "chunk 0 processed\n",
            "chunk 1 processed\n",
            "chunk 0 processed\n"
          ]
        },
        {
          "name": "stderr",
          "output_type": "stream",
          "text": [
            "Processing SNP Batches:  46%|████▌     | 457/989 [4:18:58<4:03:57, 27.52s/it]"
          ]
        },
        {
          "name": "stdout",
          "output_type": "stream",
          "text": [
            "chunk 1 processed\n",
            "total number of chunks: 2\n",
            "chunk 0 processed\n"
          ]
        },
        {
          "name": "stderr",
          "output_type": "stream",
          "text": [
            "Processing SNP Batches:  46%|████▋     | 458/989 [4:19:16<3:36:51, 24.50s/it]"
          ]
        },
        {
          "name": "stdout",
          "output_type": "stream",
          "text": [
            "chunk 1 processed\n"
          ]
        },
        {
          "name": "stderr",
          "output_type": "stream",
          "text": [
            "Processing SNP Batches:  46%|████▋     | 459/989 [4:19:31<3:11:58, 21.73s/it]"
          ]
        },
        {
          "name": "stdout",
          "output_type": "stream",
          "text": [
            "total number of chunks: 2\n",
            "chunk 0 processed\n"
          ]
        },
        {
          "name": "stderr",
          "output_type": "stream",
          "text": [
            "Processing SNP Batches:  47%|████▋     | 460/989 [4:19:58<3:25:00, 23.25s/it]"
          ]
        },
        {
          "name": "stdout",
          "output_type": "stream",
          "text": [
            "chunk 1 processed\n"
          ]
        },
        {
          "name": "stderr",
          "output_type": "stream",
          "text": [
            "Processing SNP Batches:  47%|████▋     | 464/989 [4:21:04<2:32:14, 17.40s/it]"
          ]
        },
        {
          "name": "stdout",
          "output_type": "stream",
          "text": [
            "total number of chunks: 2\n",
            "chunk 0 processed\n",
            "chunk 1 processed\n"
          ]
        },
        {
          "name": "stderr",
          "output_type": "stream",
          "text": [
            "Processing SNP Batches:  47%|████▋     | 466/989 [4:22:05<3:24:12, 23.43s/it]"
          ]
        },
        {
          "name": "stdout",
          "output_type": "stream",
          "text": [
            "total number of chunks: 2\n",
            "chunk 0 processed\n"
          ]
        },
        {
          "name": "stderr",
          "output_type": "stream",
          "text": [
            "Processing SNP Batches:  47%|████▋     | 467/989 [4:22:39<3:49:21, 26.36s/it]"
          ]
        },
        {
          "name": "stdout",
          "output_type": "stream",
          "text": [
            "chunk 1 processed\n"
          ]
        },
        {
          "name": "stderr",
          "output_type": "stream",
          "text": [
            "Processing SNP Batches:  48%|████▊     | 471/989 [4:23:59<3:11:03, 22.13s/it]"
          ]
        },
        {
          "name": "stdout",
          "output_type": "stream",
          "text": [
            "total number of chunks: 2\n",
            "chunk 0 processed\n"
          ]
        },
        {
          "name": "stderr",
          "output_type": "stream",
          "text": [
            "Processing SNP Batches:  48%|████▊     | 472/989 [4:24:16<2:58:40, 20.74s/it]"
          ]
        },
        {
          "name": "stdout",
          "output_type": "stream",
          "text": [
            "chunk 1 processed\n"
          ]
        },
        {
          "name": "stderr",
          "output_type": "stream",
          "text": [
            "Processing SNP Batches:  48%|████▊     | 474/989 [4:25:40<4:15:17, 29.74s/it]"
          ]
        },
        {
          "name": "stdout",
          "output_type": "stream",
          "text": [
            "total number of chunks: 2\n",
            "chunk 0 processed\n",
            "chunk 1 processed\n"
          ]
        },
        {
          "name": "stderr",
          "output_type": "stream",
          "text": [
            "Processing SNP Batches:  48%|████▊     | 477/989 [4:27:21<4:33:19, 32.03s/it]"
          ]
        },
        {
          "name": "stdout",
          "output_type": "stream",
          "text": [
            "total number of chunks: 2\n",
            "chunk 0 processed\n"
          ]
        },
        {
          "name": "stderr",
          "output_type": "stream",
          "text": [
            "Processing SNP Batches:  48%|████▊     | 478/989 [4:27:59<4:48:02, 33.82s/it]"
          ]
        },
        {
          "name": "stdout",
          "output_type": "stream",
          "text": [
            "chunk 1 processed\n"
          ]
        },
        {
          "name": "stderr",
          "output_type": "stream",
          "text": [
            "Processing SNP Batches:  48%|████▊     | 479/989 [4:28:24<4:24:32, 31.12s/it]"
          ]
        },
        {
          "name": "stdout",
          "output_type": "stream",
          "text": [
            "total number of chunks: 2\n",
            "chunk 0 processed\n",
            "chunk 1 processed\n"
          ]
        },
        {
          "name": "stderr",
          "output_type": "stream",
          "text": [
            "Processing SNP Batches:  49%|████▉     | 483/989 [4:30:21<4:14:22, 30.16s/it]"
          ]
        },
        {
          "name": "stdout",
          "output_type": "stream",
          "text": [
            "total number of chunks: 2\n",
            "chunk 0 processed\n"
          ]
        },
        {
          "name": "stderr",
          "output_type": "stream",
          "text": [
            "Processing SNP Batches:  49%|████▉     | 484/989 [4:30:49<4:10:23, 29.75s/it]"
          ]
        },
        {
          "name": "stdout",
          "output_type": "stream",
          "text": [
            "chunk 1 processed\n",
            "total number of chunks: 2\n",
            "chunk 0 processed\n"
          ]
        },
        {
          "name": "stderr",
          "output_type": "stream",
          "text": [
            "Processing SNP Batches:  49%|████▉     | 485/989 [4:31:25<4:24:46, 31.52s/it]"
          ]
        },
        {
          "name": "stdout",
          "output_type": "stream",
          "text": [
            "chunk 1 processed\n"
          ]
        },
        {
          "name": "stderr",
          "output_type": "stream",
          "text": [
            "Processing SNP Batches:  49%|████▉     | 486/989 [4:31:42<3:49:07, 27.33s/it]"
          ]
        },
        {
          "name": "stdout",
          "output_type": "stream",
          "text": [
            "total number of chunks: 3\n",
            "total number of chunks: 2\n",
            "chunk 0 processed\n",
            "chunk 0 processed\n",
            "chunk 1 processed\n",
            "chunk 1 processed\n"
          ]
        },
        {
          "name": "stderr",
          "output_type": "stream",
          "text": [
            "Processing SNP Batches:  49%|████▉     | 487/989 [4:32:20<4:15:18, 30.52s/it]"
          ]
        },
        {
          "name": "stdout",
          "output_type": "stream",
          "text": [
            "chunk 2 processed\n"
          ]
        },
        {
          "name": "stderr",
          "output_type": "stream",
          "text": [
            "Processing SNP Batches:  50%|████▉     | 490/989 [4:33:19<3:14:47, 23.42s/it]"
          ]
        },
        {
          "name": "stdout",
          "output_type": "stream",
          "text": [
            "total number of chunks: 2\n",
            "chunk 0 processed\n"
          ]
        },
        {
          "name": "stderr",
          "output_type": "stream",
          "text": [
            "Processing SNP Batches:  50%|████▉     | 491/989 [4:33:50<3:34:42, 25.87s/it]"
          ]
        },
        {
          "name": "stdout",
          "output_type": "stream",
          "text": [
            "chunk 1 processed\n",
            "total number of chunks: 2\n",
            "chunk 0 processed\n"
          ]
        },
        {
          "name": "stderr",
          "output_type": "stream",
          "text": [
            "Processing SNP Batches:  50%|████▉     | 492/989 [4:34:14<3:29:33, 25.30s/it]"
          ]
        },
        {
          "name": "stdout",
          "output_type": "stream",
          "text": [
            "chunk 1 processed\n",
            "total number of chunks: 2\n",
            "chunk 0 processed\n"
          ]
        },
        {
          "name": "stderr",
          "output_type": "stream",
          "text": [
            "Processing SNP Batches:  50%|████▉     | 493/989 [4:34:35<3:18:58, 24.07s/it]"
          ]
        },
        {
          "name": "stdout",
          "output_type": "stream",
          "text": [
            "chunk 1 processed\n",
            "total number of chunks: 2\n",
            "chunk 0 processed\n"
          ]
        },
        {
          "name": "stderr",
          "output_type": "stream",
          "text": [
            "Processing SNP Batches:  50%|████▉     | 494/989 [4:34:53<3:03:15, 22.21s/it]"
          ]
        },
        {
          "name": "stdout",
          "output_type": "stream",
          "text": [
            "chunk 1 processed\n",
            "total number of chunks: 2\n",
            "chunk 0 processed\n"
          ]
        },
        {
          "name": "stderr",
          "output_type": "stream",
          "text": [
            "Processing SNP Batches:  50%|█████     | 495/989 [4:35:15<3:02:34, 22.18s/it]"
          ]
        },
        {
          "name": "stdout",
          "output_type": "stream",
          "text": [
            "chunk 1 processed\n",
            "total number of chunks: 2\n",
            "chunk 0 processed\n"
          ]
        },
        {
          "name": "stderr",
          "output_type": "stream",
          "text": [
            "Processing SNP Batches:  50%|█████     | 496/989 [4:35:40<3:07:53, 22.87s/it]"
          ]
        },
        {
          "name": "stdout",
          "output_type": "stream",
          "text": [
            "chunk 1 processed\n"
          ]
        },
        {
          "name": "stderr",
          "output_type": "stream",
          "text": [
            "Processing SNP Batches:  50%|█████     | 499/989 [4:36:32<2:36:24, 19.15s/it]"
          ]
        },
        {
          "name": "stdout",
          "output_type": "stream",
          "text": [
            "total number of chunks: 2\n",
            "total number of chunks: 2\n",
            "chunk 0 processed\n",
            "chunk 1 processed\n",
            "chunk 0 processed\n"
          ]
        },
        {
          "name": "stderr",
          "output_type": "stream",
          "text": [
            "Processing SNP Batches:  51%|█████     | 500/989 [4:37:11<3:22:45, 24.88s/it]"
          ]
        },
        {
          "name": "stdout",
          "output_type": "stream",
          "text": [
            "chunk 1 processed\n",
            "total number of chunks: 2\n",
            "chunk 0 processed\n"
          ]
        },
        {
          "name": "stderr",
          "output_type": "stream",
          "text": [
            "Processing SNP Batches:  51%|█████     | 501/989 [4:37:41<3:36:22, 26.60s/it]"
          ]
        },
        {
          "name": "stdout",
          "output_type": "stream",
          "text": [
            "chunk 1 processed\n"
          ]
        },
        {
          "name": "stderr",
          "output_type": "stream",
          "text": [
            "Processing SNP Batches:  51%|█████     | 502/989 [4:37:50<2:51:38, 21.15s/it]"
          ]
        },
        {
          "name": "stdout",
          "output_type": "stream",
          "text": [
            "total number of chunks: 2\n",
            "total number of chunks: 2\n",
            "chunk 0 processed\n",
            "chunk 0 processed\n",
            "chunk 1 processed\n"
          ]
        },
        {
          "name": "stderr",
          "output_type": "stream",
          "text": [
            "Processing SNP Batches:  51%|█████     | 503/989 [4:38:27<3:30:42, 26.01s/it]"
          ]
        },
        {
          "name": "stdout",
          "output_type": "stream",
          "text": [
            "chunk 1 processed\n"
          ]
        },
        {
          "name": "stderr",
          "output_type": "stream",
          "text": [
            "Processing SNP Batches:  51%|█████     | 506/989 [4:39:36<3:10:49, 23.71s/it]"
          ]
        },
        {
          "name": "stdout",
          "output_type": "stream",
          "text": [
            "total number of chunks: 2\n",
            "chunk 0 processed\n"
          ]
        },
        {
          "name": "stderr",
          "output_type": "stream",
          "text": [
            "Processing SNP Batches:  51%|█████▏    | 507/989 [4:40:07<3:27:40, 25.85s/it]"
          ]
        },
        {
          "name": "stdout",
          "output_type": "stream",
          "text": [
            "chunk 1 processed\n"
          ]
        },
        {
          "name": "stderr",
          "output_type": "stream",
          "text": [
            "Processing SNP Batches:  51%|█████▏    | 508/989 [4:40:30<3:18:54, 24.81s/it]"
          ]
        },
        {
          "name": "stdout",
          "output_type": "stream",
          "text": [
            "total number of chunks: 2\n",
            "total number of chunks: 2\n",
            "total number of chunks: 2\n",
            "chunk 0 processed\n",
            "chunk 0 processed\n",
            "chunk 1 processed\n",
            "chunk 1 processed\n",
            "chunk 0 processed\n"
          ]
        },
        {
          "name": "stderr",
          "output_type": "stream",
          "text": [
            "Processing SNP Batches:  51%|█████▏    | 509/989 [4:41:25<4:31:21, 33.92s/it]"
          ]
        },
        {
          "name": "stdout",
          "output_type": "stream",
          "text": [
            "chunk 1 processed\n"
          ]
        },
        {
          "name": "stderr",
          "output_type": "stream",
          "text": [
            "Processing SNP Batches:  52%|█████▏    | 511/989 [4:42:29<4:15:28, 32.07s/it]"
          ]
        },
        {
          "name": "stdout",
          "output_type": "stream",
          "text": [
            "total number of chunks: 2\n",
            "chunk 0 processed\n"
          ]
        },
        {
          "name": "stderr",
          "output_type": "stream",
          "text": [
            "Processing SNP Batches:  52%|█████▏    | 512/989 [4:43:18<4:55:01, 37.11s/it]"
          ]
        },
        {
          "name": "stdout",
          "output_type": "stream",
          "text": [
            "chunk 1 processed\n",
            "total number of chunks: 2\n",
            "chunk 0 processed\n"
          ]
        },
        {
          "name": "stderr",
          "output_type": "stream",
          "text": [
            "Processing SNP Batches:  52%|█████▏    | 513/989 [4:45:21<8:18:32, 62.84s/it]"
          ]
        },
        {
          "name": "stdout",
          "output_type": "stream",
          "text": [
            "chunk 1 processed\n"
          ]
        },
        {
          "name": "stderr",
          "output_type": "stream",
          "text": [
            "Processing SNP Batches:  53%|█████▎    | 522/989 [4:48:15<3:00:00, 23.13s/it]"
          ]
        },
        {
          "name": "stdout",
          "output_type": "stream",
          "text": [
            "total number of chunks: 2\n",
            "chunk 0 processed\n"
          ]
        },
        {
          "name": "stderr",
          "output_type": "stream",
          "text": [
            "Processing SNP Batches:  53%|█████▎    | 523/989 [4:50:06<6:23:54, 49.43s/it]"
          ]
        },
        {
          "name": "stdout",
          "output_type": "stream",
          "text": [
            "chunk 1 processed\n",
            "total number of chunks: 2\n",
            "total number of chunks: 2\n",
            "total number of chunks: 2\n",
            "chunk 0 processed\n",
            "chunk 0 processed\n",
            "chunk 1 processed\n",
            "chunk 1 processed\n",
            "chunk 0 processed\n"
          ]
        },
        {
          "name": "stderr",
          "output_type": "stream",
          "text": [
            "Processing SNP Batches:  53%|█████▎    | 524/989 [4:52:23<9:48:27, 75.93s/it]"
          ]
        },
        {
          "name": "stdout",
          "output_type": "stream",
          "text": [
            "chunk 1 processed\n",
            "total number of chunks: 2\n",
            "chunk 0 processed\n"
          ]
        },
        {
          "name": "stderr",
          "output_type": "stream",
          "text": [
            "Processing SNP Batches:  53%|█████▎    | 525/989 [4:52:50<7:52:26, 61.09s/it]"
          ]
        },
        {
          "name": "stdout",
          "output_type": "stream",
          "text": [
            "chunk 1 processed\n"
          ]
        },
        {
          "name": "stderr",
          "output_type": "stream",
          "text": [
            "Processing SNP Batches:  53%|█████▎    | 526/989 [4:53:04<6:03:27, 47.10s/it]"
          ]
        },
        {
          "name": "stdout",
          "output_type": "stream",
          "text": [
            "total number of chunks: 2\n",
            "total number of chunks: 2\n",
            "chunk 0 processed\n",
            "chunk 0 processed\n",
            "chunk 1 processed\n"
          ]
        },
        {
          "name": "stderr",
          "output_type": "stream",
          "text": [
            "Processing SNP Batches:  53%|█████▎    | 527/989 [4:53:43<5:44:33, 44.75s/it]"
          ]
        },
        {
          "name": "stdout",
          "output_type": "stream",
          "text": [
            "chunk 1 processed\n"
          ]
        },
        {
          "name": "stderr",
          "output_type": "stream",
          "text": [
            "Processing SNP Batches:  53%|█████▎    | 528/989 [4:53:56<4:29:35, 35.09s/it]"
          ]
        },
        {
          "name": "stdout",
          "output_type": "stream",
          "text": [
            "total number of chunks: 2\n",
            "total number of chunks: 3\n",
            "chunk 0 processed\n",
            "chunk 0 processed\n",
            "chunk 1 processed\n",
            "chunk 1 processed\n"
          ]
        },
        {
          "name": "stderr",
          "output_type": "stream",
          "text": [
            "Processing SNP Batches:  53%|█████▎    | 529/989 [4:54:39<4:47:08, 37.45s/it]"
          ]
        },
        {
          "name": "stdout",
          "output_type": "stream",
          "text": [
            "chunk 2 processed\n"
          ]
        },
        {
          "name": "stderr",
          "output_type": "stream",
          "text": [
            "Processing SNP Batches:  54%|█████▎    | 530/989 [4:55:05<4:20:02, 33.99s/it]"
          ]
        },
        {
          "name": "stdout",
          "output_type": "stream",
          "text": [
            "total number of chunks: 2\n",
            "chunk 0 processed\n"
          ]
        },
        {
          "name": "stderr",
          "output_type": "stream",
          "text": [
            "Processing SNP Batches:  54%|█████▎    | 531/989 [4:55:49<4:42:24, 37.00s/it]"
          ]
        },
        {
          "name": "stdout",
          "output_type": "stream",
          "text": [
            "chunk 1 processed\n",
            "total number of chunks: 2\n",
            "chunk 0 processed\n"
          ]
        },
        {
          "name": "stderr",
          "output_type": "stream",
          "text": [
            "Processing SNP Batches:  54%|█████▍    | 532/989 [4:56:13<4:12:27, 33.15s/it]"
          ]
        },
        {
          "name": "stdout",
          "output_type": "stream",
          "text": [
            "chunk 1 processed\n"
          ]
        },
        {
          "name": "stderr",
          "output_type": "stream",
          "text": [
            "Processing SNP Batches:  54%|█████▍    | 534/989 [4:56:49<3:13:15, 25.48s/it]"
          ]
        },
        {
          "name": "stdout",
          "output_type": "stream",
          "text": [
            "total number of chunks: 2\n",
            "chunk 0 processed\n",
            "chunk 1 processed\n"
          ]
        },
        {
          "name": "stderr",
          "output_type": "stream",
          "text": [
            "Processing SNP Batches:  54%|█████▍    | 535/989 [4:57:14<3:12:09, 25.40s/it]"
          ]
        },
        {
          "name": "stdout",
          "output_type": "stream",
          "text": [
            "total number of chunks: 2\n",
            "chunk 0 processed\n"
          ]
        },
        {
          "name": "stderr",
          "output_type": "stream",
          "text": [
            "Processing SNP Batches:  54%|█████▍    | 536/989 [4:58:17<4:35:29, 36.49s/it]"
          ]
        },
        {
          "name": "stdout",
          "output_type": "stream",
          "text": [
            "chunk 1 processed\n"
          ]
        },
        {
          "name": "stderr",
          "output_type": "stream",
          "text": [
            "Processing SNP Batches:  54%|█████▍    | 537/989 [4:58:30<3:41:38, 29.42s/it]"
          ]
        },
        {
          "name": "stdout",
          "output_type": "stream",
          "text": [
            "total number of chunks: 2\n",
            "chunk 0 processed\n"
          ]
        },
        {
          "name": "stderr",
          "output_type": "stream",
          "text": [
            "Processing SNP Batches:  54%|█████▍    | 538/989 [4:58:58<3:38:00, 29.00s/it]"
          ]
        },
        {
          "name": "stdout",
          "output_type": "stream",
          "text": [
            "chunk 1 processed\n"
          ]
        },
        {
          "name": "stderr",
          "output_type": "stream",
          "text": [
            "Processing SNP Batches:  55%|█████▍    | 540/989 [4:59:27<2:40:46, 21.48s/it]"
          ]
        },
        {
          "name": "stdout",
          "output_type": "stream",
          "text": [
            "total number of chunks: 2\n",
            "chunk 0 processed\n"
          ]
        },
        {
          "name": "stderr",
          "output_type": "stream",
          "text": [
            "Processing SNP Batches:  55%|█████▍    | 541/989 [5:01:37<6:42:41, 53.93s/it]"
          ]
        },
        {
          "name": "stdout",
          "output_type": "stream",
          "text": [
            "chunk 1 processed\n",
            "total number of chunks: 2\n",
            "total number of chunks: 3\n",
            "chunk 0 processed\n",
            "chunk 0 processed\n",
            "chunk 1 processed\n",
            "chunk 1 processed\n"
          ]
        },
        {
          "name": "stderr",
          "output_type": "stream",
          "text": [
            "Processing SNP Batches:  55%|█████▍    | 542/989 [5:02:15<6:07:30, 49.33s/it]"
          ]
        },
        {
          "name": "stdout",
          "output_type": "stream",
          "text": [
            "chunk 2 processed\n"
          ]
        },
        {
          "name": "stderr",
          "output_type": "stream",
          "text": [
            "Processing SNP Batches:  55%|█████▌    | 545/989 [5:03:05<3:26:04, 27.85s/it]"
          ]
        },
        {
          "name": "stdout",
          "output_type": "stream",
          "text": [
            "total number of chunks: 2\n",
            "chunk 0 processed\n",
            "chunk 1 processed\n"
          ]
        },
        {
          "name": "stderr",
          "output_type": "stream",
          "text": [
            "Processing SNP Batches:  55%|█████▌    | 547/989 [5:03:35<2:36:14, 21.21s/it]"
          ]
        },
        {
          "name": "stdout",
          "output_type": "stream",
          "text": [
            "total number of chunks: 2\n",
            "chunk 0 processed\n",
            "chunk 1 processed\n"
          ]
        },
        {
          "name": "stderr",
          "output_type": "stream",
          "text": [
            "Processing SNP Batches:  55%|█████▌    | 548/989 [5:03:55<2:32:28, 20.74s/it]"
          ]
        },
        {
          "name": "stdout",
          "output_type": "stream",
          "text": [
            "total number of chunks: 2\n",
            "chunk 0 processed\n"
          ]
        },
        {
          "name": "stderr",
          "output_type": "stream",
          "text": [
            "Processing SNP Batches:  56%|█████▌    | 549/989 [5:04:16<2:32:58, 20.86s/it]"
          ]
        },
        {
          "name": "stdout",
          "output_type": "stream",
          "text": [
            "chunk 1 processed\n"
          ]
        },
        {
          "name": "stderr",
          "output_type": "stream",
          "text": [
            "Processing SNP Batches:  56%|█████▌    | 551/989 [5:04:54<2:22:38, 19.54s/it]"
          ]
        },
        {
          "name": "stdout",
          "output_type": "stream",
          "text": [
            "total number of chunks: 2\n",
            "total number of chunks: 2\n",
            "chunk 0 processed\n",
            "chunk 1 processed\n",
            "chunk 0 processed\n"
          ]
        },
        {
          "name": "stderr",
          "output_type": "stream",
          "text": [
            "Processing SNP Batches:  56%|█████▌    | 552/989 [5:06:26<5:00:57, 41.32s/it]"
          ]
        },
        {
          "name": "stdout",
          "output_type": "stream",
          "text": [
            "chunk 1 processed\n",
            "total number of chunks: 2\n",
            "total number of chunks: 2\n",
            "chunk 0 processed\n",
            "chunk 1 processed\n",
            "chunk 0 processed\n"
          ]
        },
        {
          "name": "stderr",
          "output_type": "stream",
          "text": [
            "Processing SNP Batches:  56%|█████▌    | 553/989 [5:08:06<7:08:09, 58.92s/it]"
          ]
        },
        {
          "name": "stdout",
          "output_type": "stream",
          "text": [
            "chunk 1 processed\n"
          ]
        },
        {
          "name": "stderr",
          "output_type": "stream",
          "text": [
            "Processing SNP Batches:  56%|█████▌    | 554/989 [5:08:20<5:28:51, 45.36s/it]"
          ]
        },
        {
          "name": "stdout",
          "output_type": "stream",
          "text": [
            "total number of chunks: 2\n",
            "total number of chunks: 2\n",
            "chunk 0 processed\n",
            "chunk 0 processed\n",
            "chunk 1 processed\n"
          ]
        },
        {
          "name": "stderr",
          "output_type": "stream",
          "text": [
            "Processing SNP Batches:  56%|█████▌    | 555/989 [5:08:45<4:43:28, 39.19s/it]"
          ]
        },
        {
          "name": "stdout",
          "output_type": "stream",
          "text": [
            "chunk 1 processed\n"
          ]
        },
        {
          "name": "stderr",
          "output_type": "stream",
          "text": [
            "Processing SNP Batches:  56%|█████▋    | 558/989 [5:09:46<3:11:25, 26.65s/it]"
          ]
        },
        {
          "name": "stdout",
          "output_type": "stream",
          "text": [
            "total number of chunks: 2\n",
            "total number of chunks: 2\n",
            "chunk 0 processed\n",
            "chunk 0 processed\n",
            "chunk 1 processed\n"
          ]
        },
        {
          "name": "stderr",
          "output_type": "stream",
          "text": [
            "Processing SNP Batches:  57%|█████▋    | 559/989 [5:10:20<3:26:34, 28.82s/it]"
          ]
        },
        {
          "name": "stdout",
          "output_type": "stream",
          "text": [
            "chunk 1 processed\n"
          ]
        },
        {
          "name": "stderr",
          "output_type": "stream",
          "text": [
            "Processing SNP Batches:  57%|█████▋    | 561/989 [5:10:44<2:29:00, 20.89s/it]"
          ]
        },
        {
          "name": "stdout",
          "output_type": "stream",
          "text": [
            "total number of chunks: 3\n",
            "chunk 0 processed\n",
            "chunk 1 processed\n"
          ]
        },
        {
          "name": "stderr",
          "output_type": "stream",
          "text": [
            "Processing SNP Batches:  57%|█████▋    | 562/989 [5:11:26<3:12:56, 27.11s/it]"
          ]
        },
        {
          "name": "stdout",
          "output_type": "stream",
          "text": [
            "chunk 2 processed\n",
            "total number of chunks: 2\n",
            "chunk 0 processed\n"
          ]
        },
        {
          "name": "stderr",
          "output_type": "stream",
          "text": [
            "Processing SNP Batches:  57%|█████▋    | 563/989 [5:11:49<3:04:45, 26.02s/it]"
          ]
        },
        {
          "name": "stdout",
          "output_type": "stream",
          "text": [
            "chunk 1 processed\n",
            "total number of chunks: 3\n",
            "chunk 0 processed\n",
            "chunk 1 processed\n"
          ]
        },
        {
          "name": "stderr",
          "output_type": "stream",
          "text": [
            "Processing SNP Batches:  57%|█████▋    | 564/989 [5:12:28<3:30:35, 29.73s/it]"
          ]
        },
        {
          "name": "stdout",
          "output_type": "stream",
          "text": [
            "chunk 2 processed\n"
          ]
        },
        {
          "name": "stderr",
          "output_type": "stream",
          "text": [
            "Processing SNP Batches:  57%|█████▋    | 565/989 [5:12:40<2:53:50, 24.60s/it]"
          ]
        },
        {
          "name": "stdout",
          "output_type": "stream",
          "text": [
            "total number of chunks: 2\n",
            "chunk 0 processed\n"
          ]
        },
        {
          "name": "stderr",
          "output_type": "stream",
          "text": [
            "Processing SNP Batches:  57%|█████▋    | 566/989 [5:13:13<3:10:05, 26.96s/it]"
          ]
        },
        {
          "name": "stdout",
          "output_type": "stream",
          "text": [
            "chunk 1 processed\n",
            "total number of chunks: 2\n",
            "chunk 0 processed\n"
          ]
        },
        {
          "name": "stderr",
          "output_type": "stream",
          "text": [
            "Processing SNP Batches:  57%|█████▋    | 567/989 [5:13:28<2:44:23, 23.37s/it]"
          ]
        },
        {
          "name": "stdout",
          "output_type": "stream",
          "text": [
            "chunk 1 processed\n"
          ]
        },
        {
          "name": "stderr",
          "output_type": "stream",
          "text": [
            "Processing SNP Batches:  58%|█████▊    | 569/989 [5:14:12<2:30:59, 21.57s/it]"
          ]
        },
        {
          "name": "stdout",
          "output_type": "stream",
          "text": [
            "total number of chunks: 4\n",
            "total number of chunks: 2\n",
            "chunk 0 processed\n",
            "chunk 0 processed\n",
            "chunk 1 processed\n",
            "chunk 1 processed\n",
            "chunk 2 processed\n"
          ]
        },
        {
          "name": "stderr",
          "output_type": "stream",
          "text": [
            "Processing SNP Batches:  58%|█████▊    | 570/989 [5:15:26<4:19:39, 37.18s/it]"
          ]
        },
        {
          "name": "stdout",
          "output_type": "stream",
          "text": [
            "chunk 3 processed\n"
          ]
        },
        {
          "name": "stderr",
          "output_type": "stream",
          "text": [
            "Processing SNP Batches:  58%|█████▊    | 571/989 [5:15:41<3:32:58, 30.57s/it]"
          ]
        },
        {
          "name": "stdout",
          "output_type": "stream",
          "text": [
            "total number of chunks: 2total number of chunks: 3\n",
            "\n",
            "chunk 0 processed\n",
            "chunk 0 processed\n",
            "chunk 1 processed\n",
            "chunk 1 processed\n"
          ]
        },
        {
          "name": "stderr",
          "output_type": "stream",
          "text": [
            "Processing SNP Batches:  58%|█████▊    | 572/989 [5:16:28<4:07:18, 35.58s/it]"
          ]
        },
        {
          "name": "stdout",
          "output_type": "stream",
          "text": [
            "chunk 2 processed\n",
            "total number of chunks: 2\n",
            "chunk 0 processed\n"
          ]
        },
        {
          "name": "stderr",
          "output_type": "stream",
          "text": [
            "Processing SNP Batches:  58%|█████▊    | 573/989 [5:17:08<4:15:14, 36.81s/it]"
          ]
        },
        {
          "name": "stdout",
          "output_type": "stream",
          "text": [
            "chunk 1 processed\n"
          ]
        },
        {
          "name": "stderr",
          "output_type": "stream",
          "text": [
            "Processing SNP Batches:  58%|█████▊    | 577/989 [5:19:01<3:23:44, 29.67s/it]"
          ]
        },
        {
          "name": "stdout",
          "output_type": "stream",
          "text": [
            "total number of chunks: 2\n",
            "chunk 0 processed\n"
          ]
        },
        {
          "name": "stderr",
          "output_type": "stream",
          "text": [
            "Processing SNP Batches:  58%|█████▊    | 578/989 [5:20:36<5:37:29, 49.27s/it]"
          ]
        },
        {
          "name": "stdout",
          "output_type": "stream",
          "text": [
            "chunk 1 processed\n",
            "total number of chunks: 4\n",
            "chunk 0 processed\n",
            "chunk 1 processed\n",
            "chunk 2 processed\n",
            "chunk 3 processed\n"
          ]
        },
        {
          "name": "stderr",
          "output_type": "stream",
          "text": [
            "Processing SNP Batches:  59%|█████▊    | 580/989 [5:21:55<4:53:05, 43.00s/it]"
          ]
        },
        {
          "name": "stdout",
          "output_type": "stream",
          "text": [
            "total number of chunks: 2\n",
            "chunk 0 processed\n"
          ]
        },
        {
          "name": "stderr",
          "output_type": "stream",
          "text": [
            "Processing SNP Batches:  59%|█████▊    | 581/989 [5:22:30<4:37:40, 40.84s/it]"
          ]
        },
        {
          "name": "stdout",
          "output_type": "stream",
          "text": [
            "chunk 1 processed\n",
            "total number of chunks: 2\n",
            "chunk 0 processed\n"
          ]
        },
        {
          "name": "stderr",
          "output_type": "stream",
          "text": [
            "Processing SNP Batches:  59%|█████▉    | 582/989 [5:22:57<4:07:49, 36.53s/it]"
          ]
        },
        {
          "name": "stdout",
          "output_type": "stream",
          "text": [
            "chunk 1 processed\n"
          ]
        },
        {
          "name": "stderr",
          "output_type": "stream",
          "text": [
            "Processing SNP Batches:  59%|█████▉    | 586/989 [5:23:45<2:04:05, 18.48s/it]"
          ]
        },
        {
          "name": "stdout",
          "output_type": "stream",
          "text": [
            "total number of chunks: 2\n",
            "chunk 0 processed\n"
          ]
        },
        {
          "name": "stderr",
          "output_type": "stream",
          "text": [
            "Processing SNP Batches:  59%|█████▉    | 587/989 [5:25:07<4:11:17, 37.51s/it]"
          ]
        },
        {
          "name": "stdout",
          "output_type": "stream",
          "text": [
            "chunk 1 processed\n"
          ]
        },
        {
          "name": "stderr",
          "output_type": "stream",
          "text": [
            "Processing SNP Batches:  60%|█████▉    | 590/989 [5:25:50<2:30:53, 22.69s/it]"
          ]
        },
        {
          "name": "stdout",
          "output_type": "stream",
          "text": [
            "total number of chunks: 2\n",
            "chunk 0 processed\n"
          ]
        },
        {
          "name": "stderr",
          "output_type": "stream",
          "text": [
            "Processing SNP Batches:  60%|█████▉    | 591/989 [5:26:18<2:41:23, 24.33s/it]"
          ]
        },
        {
          "name": "stdout",
          "output_type": "stream",
          "text": [
            "chunk 1 processed\n",
            "total number of chunks: 2\n",
            "chunk 0 processed\n"
          ]
        },
        {
          "name": "stderr",
          "output_type": "stream",
          "text": [
            "Processing SNP Batches:  60%|█████▉    | 592/989 [5:26:45<2:46:14, 25.12s/it]"
          ]
        },
        {
          "name": "stdout",
          "output_type": "stream",
          "text": [
            "chunk 1 processed\n",
            "total number of chunks: 2\n",
            "chunk 0 processed\n"
          ]
        },
        {
          "name": "stderr",
          "output_type": "stream",
          "text": [
            "Processing SNP Batches:  60%|█████▉    | 593/989 [5:27:10<2:45:06, 25.02s/it]"
          ]
        },
        {
          "name": "stdout",
          "output_type": "stream",
          "text": [
            "chunk 1 processed\n"
          ]
        },
        {
          "name": "stderr",
          "output_type": "stream",
          "text": [
            "Processing SNP Batches:  60%|██████    | 595/989 [5:27:38<2:05:32, 19.12s/it]"
          ]
        },
        {
          "name": "stdout",
          "output_type": "stream",
          "text": [
            "total number of chunks: 2\n",
            "chunk 0 processed\n"
          ]
        },
        {
          "name": "stderr",
          "output_type": "stream",
          "text": [
            "Processing SNP Batches:  60%|██████    | 596/989 [5:28:19<2:48:14, 25.68s/it]"
          ]
        },
        {
          "name": "stdout",
          "output_type": "stream",
          "text": [
            "chunk 1 processed\n"
          ]
        },
        {
          "name": "stderr",
          "output_type": "stream",
          "text": [
            "Processing SNP Batches:  61%|██████    | 604/989 [5:30:44<2:05:20, 19.53s/it]"
          ]
        },
        {
          "name": "stdout",
          "output_type": "stream",
          "text": [
            "total number of chunks: 4\n",
            "total number of chunks: 2\n",
            "chunk 0 processed\n",
            "chunk 0 processed\n",
            "chunk 1 processed\n",
            "chunk 1 processed\n",
            "chunk 2 processed\n"
          ]
        },
        {
          "name": "stderr",
          "output_type": "stream",
          "text": [
            "Processing SNP Batches:  61%|██████    | 605/989 [5:31:37<3:07:54, 29.36s/it]"
          ]
        },
        {
          "name": "stdout",
          "output_type": "stream",
          "text": [
            "chunk 3 processed\n"
          ]
        },
        {
          "name": "stderr",
          "output_type": "stream",
          "text": [
            "Processing SNP Batches:  61%|██████▏   | 606/989 [5:31:57<2:49:45, 26.59s/it]"
          ]
        },
        {
          "name": "stdout",
          "output_type": "stream",
          "text": [
            "total number of chunks: 2\n",
            "chunk 0 processed\n"
          ]
        },
        {
          "name": "stderr",
          "output_type": "stream",
          "text": [
            "Processing SNP Batches:  61%|██████▏   | 607/989 [5:32:44<3:29:07, 32.85s/it]"
          ]
        },
        {
          "name": "stdout",
          "output_type": "stream",
          "text": [
            "chunk 1 processed\n"
          ]
        },
        {
          "name": "stderr",
          "output_type": "stream",
          "text": [
            "Processing SNP Batches:  61%|██████▏   | 608/989 [5:33:55<4:40:06, 44.11s/it]"
          ]
        },
        {
          "name": "stdout",
          "output_type": "stream",
          "text": [
            "total number of chunks: 2\n",
            "chunk 0 processed\n"
          ]
        },
        {
          "name": "stderr",
          "output_type": "stream",
          "text": [
            "Processing SNP Batches:  62%|██████▏   | 609/989 [5:34:21<4:06:16, 38.89s/it]"
          ]
        },
        {
          "name": "stdout",
          "output_type": "stream",
          "text": [
            "chunk 1 processed\n"
          ]
        },
        {
          "name": "stderr",
          "output_type": "stream",
          "text": [
            "Processing SNP Batches:  62%|██████▏   | 610/989 [5:34:38<3:24:36, 32.39s/it]"
          ]
        },
        {
          "name": "stdout",
          "output_type": "stream",
          "text": [
            "total number of chunks: 4\n",
            "chunk 0 processed\n",
            "chunk 1 processed\n",
            "chunk 2 processed\n"
          ]
        },
        {
          "name": "stderr",
          "output_type": "stream",
          "text": [
            "Processing SNP Batches:  62%|██████▏   | 611/989 [5:35:24<3:49:20, 36.40s/it]"
          ]
        },
        {
          "name": "stdout",
          "output_type": "stream",
          "text": [
            "chunk 3 processed\n",
            "total number of chunks: 2\n",
            "chunk 0 processed\n",
            "chunk 1 processed\n"
          ]
        },
        {
          "name": "stderr",
          "output_type": "stream",
          "text": [
            "Processing SNP Batches:  62%|██████▏   | 612/989 [5:35:42<3:12:43, 30.67s/it]"
          ]
        },
        {
          "name": "stdout",
          "output_type": "stream",
          "text": [
            "total number of chunks: 2\n",
            "chunk 0 processed\n"
          ]
        },
        {
          "name": "stderr",
          "output_type": "stream",
          "text": [
            "Processing SNP Batches:  62%|██████▏   | 613/989 [5:36:07<3:02:10, 29.07s/it]"
          ]
        },
        {
          "name": "stdout",
          "output_type": "stream",
          "text": [
            "chunk 1 processed\n",
            "total number of chunks: 2\n",
            "chunk 0 processed\n",
            "chunk 1 processed\n"
          ]
        },
        {
          "name": "stderr",
          "output_type": "stream",
          "text": [
            "Processing SNP Batches:  62%|██████▏   | 615/989 [5:36:44<2:26:51, 23.56s/it]"
          ]
        },
        {
          "name": "stdout",
          "output_type": "stream",
          "text": [
            "total number of chunks: 2\n",
            "chunk 0 processed\n",
            "chunk 1 processed\n"
          ]
        },
        {
          "name": "stderr",
          "output_type": "stream",
          "text": [
            "Processing SNP Batches:  62%|██████▏   | 617/989 [5:37:25<2:18:27, 22.33s/it]"
          ]
        },
        {
          "name": "stdout",
          "output_type": "stream",
          "text": [
            "total number of chunks: 3\n",
            "chunk 0 processed\n",
            "chunk 1 processed\n"
          ]
        },
        {
          "name": "stderr",
          "output_type": "stream",
          "text": [
            "Processing SNP Batches:  62%|██████▏   | 618/989 [5:38:13<3:06:30, 30.16s/it]"
          ]
        },
        {
          "name": "stdout",
          "output_type": "stream",
          "text": [
            "chunk 2 processed\n",
            "total number of chunks: 2\n",
            "chunk 0 processed\n"
          ]
        },
        {
          "name": "stderr",
          "output_type": "stream",
          "text": [
            "Processing SNP Batches:  63%|██████▎   | 619/989 [5:38:44<3:07:21, 30.38s/it]"
          ]
        },
        {
          "name": "stdout",
          "output_type": "stream",
          "text": [
            "chunk 1 processed\n"
          ]
        },
        {
          "name": "stderr",
          "output_type": "stream",
          "text": [
            "Processing SNP Batches:  63%|██████▎   | 620/989 [5:39:03<2:46:19, 27.04s/it]"
          ]
        },
        {
          "name": "stdout",
          "output_type": "stream",
          "text": [
            "total number of chunks: 3\n",
            "chunk 0 processed\n",
            "chunk 1 processed\n"
          ]
        },
        {
          "name": "stderr",
          "output_type": "stream",
          "text": [
            "Processing SNP Batches:  63%|██████▎   | 621/989 [5:39:44<3:10:32, 31.07s/it]"
          ]
        },
        {
          "name": "stdout",
          "output_type": "stream",
          "text": [
            "chunk 2 processed\n",
            "total number of chunks: 2\n",
            "chunk 0 processed\n"
          ]
        },
        {
          "name": "stderr",
          "output_type": "stream",
          "text": [
            "Processing SNP Batches:  63%|██████▎   | 622/989 [5:40:06<2:54:24, 28.51s/it]"
          ]
        },
        {
          "name": "stdout",
          "output_type": "stream",
          "text": [
            "chunk 1 processed\n",
            "total number of chunks: 2\n",
            "chunk 0 processed\n"
          ]
        },
        {
          "name": "stderr",
          "output_type": "stream",
          "text": [
            "Processing SNP Batches:  63%|██████▎   | 623/989 [5:40:37<2:58:16, 29.22s/it]"
          ]
        },
        {
          "name": "stdout",
          "output_type": "stream",
          "text": [
            "chunk 1 processed\n"
          ]
        },
        {
          "name": "stderr",
          "output_type": "stream",
          "text": [
            "Processing SNP Batches:  63%|██████▎   | 625/989 [5:41:05<2:08:43, 21.22s/it]"
          ]
        },
        {
          "name": "stdout",
          "output_type": "stream",
          "text": [
            "total number of chunks: 2\n",
            "chunk 0 processed\n",
            "chunk 1 processed\n"
          ]
        },
        {
          "name": "stderr",
          "output_type": "stream",
          "text": [
            "Processing SNP Batches:  63%|██████▎   | 626/989 [5:41:22<2:00:46, 19.96s/it]"
          ]
        },
        {
          "name": "stdout",
          "output_type": "stream",
          "text": [
            "total number of chunks: 3\n",
            "total number of chunks: 2\n",
            "chunk 0 processed\n",
            "chunk 1 processed\n",
            "chunk 0 processed\n",
            "chunk 1 processed\n"
          ]
        },
        {
          "name": "stderr",
          "output_type": "stream",
          "text": [
            "Processing SNP Batches:  63%|██████▎   | 627/989 [5:44:14<6:34:35, 65.40s/it]"
          ]
        },
        {
          "name": "stdout",
          "output_type": "stream",
          "text": [
            "chunk 2 processed\n",
            "total number of chunks: 2\n",
            "chunk 0 processed\n"
          ]
        },
        {
          "name": "stderr",
          "output_type": "stream",
          "text": [
            "Processing SNP Batches:  63%|██████▎   | 628/989 [5:44:45<5:31:58, 55.18s/it]"
          ]
        },
        {
          "name": "stdout",
          "output_type": "stream",
          "text": [
            "chunk 1 processed\n",
            "total number of chunks: 2\n",
            "chunk 0 processed\n"
          ]
        },
        {
          "name": "stderr",
          "output_type": "stream",
          "text": [
            "Processing SNP Batches:  64%|██████▎   | 629/989 [5:45:05<4:28:06, 44.69s/it]"
          ]
        },
        {
          "name": "stdout",
          "output_type": "stream",
          "text": [
            "chunk 1 processed\n"
          ]
        },
        {
          "name": "stderr",
          "output_type": "stream",
          "text": [
            "Processing SNP Batches:  64%|██████▎   | 630/989 [5:45:14<3:22:09, 33.79s/it]"
          ]
        },
        {
          "name": "stdout",
          "output_type": "stream",
          "text": [
            "total number of chunks: 3\n",
            "total number of chunks: 2\n",
            "chunk 0 processed\n",
            "chunk 0 processed\n",
            "chunk 1 processed\n",
            "chunk 1 processed\n"
          ]
        },
        {
          "name": "stderr",
          "output_type": "stream",
          "text": [
            "Processing SNP Batches:  64%|██████▍   | 631/989 [5:46:12<4:05:48, 41.20s/it]"
          ]
        },
        {
          "name": "stdout",
          "output_type": "stream",
          "text": [
            "chunk 2 processed\n",
            "total number of chunks: 3\n",
            "chunk 0 processed\n",
            "chunk 1 processed\n"
          ]
        },
        {
          "name": "stderr",
          "output_type": "stream",
          "text": [
            "Processing SNP Batches:  64%|██████▍   | 632/989 [5:47:25<5:01:08, 50.61s/it]"
          ]
        },
        {
          "name": "stdout",
          "output_type": "stream",
          "text": [
            "chunk 2 processed\n",
            "total number of chunks: 2\n",
            "chunk 0 processed\n"
          ]
        },
        {
          "name": "stderr",
          "output_type": "stream",
          "text": [
            "Processing SNP Batches:  64%|██████▍   | 633/989 [5:48:31<5:27:18, 55.16s/it]"
          ]
        },
        {
          "name": "stdout",
          "output_type": "stream",
          "text": [
            "chunk 1 processed\n"
          ]
        },
        {
          "name": "stderr",
          "output_type": "stream",
          "text": [
            "Processing SNP Batches:  64%|██████▍   | 634/989 [5:48:55<4:31:15, 45.85s/it]"
          ]
        },
        {
          "name": "stdout",
          "output_type": "stream",
          "text": [
            "total number of chunks: 2\n",
            "chunk 0 processed\n"
          ]
        },
        {
          "name": "stderr",
          "output_type": "stream",
          "text": [
            "Processing SNP Batches:  64%|██████▍   | 635/989 [5:49:37<4:24:02, 44.75s/it]"
          ]
        },
        {
          "name": "stdout",
          "output_type": "stream",
          "text": [
            "chunk 1 processed\n"
          ]
        },
        {
          "name": "stderr",
          "output_type": "stream",
          "text": [
            "Processing SNP Batches:  65%|██████▍   | 640/989 [5:52:08<3:02:43, 31.41s/it]"
          ]
        },
        {
          "name": "stdout",
          "output_type": "stream",
          "text": [
            "total number of chunks: 2\n",
            "chunk 0 processed\n"
          ]
        },
        {
          "name": "stderr",
          "output_type": "stream",
          "text": [
            "Processing SNP Batches:  65%|██████▍   | 641/989 [5:54:52<6:52:55, 71.19s/it]"
          ]
        },
        {
          "name": "stdout",
          "output_type": "stream",
          "text": [
            "chunk 1 processed\n"
          ]
        },
        {
          "name": "stderr",
          "output_type": "stream",
          "text": [
            "Processing SNP Batches:  65%|██████▍   | 642/989 [5:55:01<5:04:17, 52.62s/it]"
          ]
        },
        {
          "name": "stdout",
          "output_type": "stream",
          "text": [
            "total number of chunks: 2\n",
            "total number of chunks: 2\n",
            "chunk 0 processed\n",
            "chunk 1 processed\n",
            "chunk 0 processed\n"
          ]
        },
        {
          "name": "stderr",
          "output_type": "stream",
          "text": [
            "Processing SNP Batches:  65%|██████▌   | 643/989 [5:55:25<4:12:27, 43.78s/it]"
          ]
        },
        {
          "name": "stdout",
          "output_type": "stream",
          "text": [
            "chunk 1 processed\n",
            "total number of chunks: 3\n",
            "chunk 0 processed\n",
            "chunk 1 processed\n"
          ]
        },
        {
          "name": "stderr",
          "output_type": "stream",
          "text": [
            "Processing SNP Batches:  65%|██████▌   | 644/989 [5:56:09<4:12:57, 43.99s/it]"
          ]
        },
        {
          "name": "stdout",
          "output_type": "stream",
          "text": [
            "chunk 2 processed\n",
            "total number of chunks: 2\n",
            "chunk 0 processed\n"
          ]
        },
        {
          "name": "stderr",
          "output_type": "stream",
          "text": [
            "Processing SNP Batches:  65%|██████▌   | 645/989 [5:56:30<3:33:06, 37.17s/it]"
          ]
        },
        {
          "name": "stdout",
          "output_type": "stream",
          "text": [
            "chunk 1 processed\n"
          ]
        },
        {
          "name": "stderr",
          "output_type": "stream",
          "text": [
            "Processing SNP Batches:  65%|██████▌   | 647/989 [5:56:56<2:22:36, 25.02s/it]"
          ]
        },
        {
          "name": "stdout",
          "output_type": "stream",
          "text": [
            "total number of chunks: 2\n",
            "chunk 0 processed\n"
          ]
        },
        {
          "name": "stderr",
          "output_type": "stream",
          "text": [
            "Processing SNP Batches:  66%|██████▌   | 648/989 [5:57:50<3:12:41, 33.90s/it]"
          ]
        },
        {
          "name": "stdout",
          "output_type": "stream",
          "text": [
            "chunk 1 processed\n"
          ]
        },
        {
          "name": "stderr",
          "output_type": "stream",
          "text": [
            "Processing SNP Batches:  66%|██████▌   | 653/989 [6:01:17<4:05:39, 43.87s/it]"
          ]
        },
        {
          "name": "stdout",
          "output_type": "stream",
          "text": [
            "total number of chunks: 5\n",
            "chunk 0 processed\n",
            "chunk 1 processed\n",
            "chunk 2 processed\n",
            "chunk 3 processed\n"
          ]
        },
        {
          "name": "stderr",
          "output_type": "stream",
          "text": [
            "Processing SNP Batches:  66%|██████▌   | 654/989 [6:03:23<6:22:54, 68.58s/it]"
          ]
        },
        {
          "name": "stdout",
          "output_type": "stream",
          "text": [
            "chunk 4 processed\n"
          ]
        },
        {
          "name": "stderr",
          "output_type": "stream",
          "text": [
            "Processing SNP Batches:  66%|██████▋   | 656/989 [6:04:02<4:00:33, 43.34s/it]"
          ]
        },
        {
          "name": "stdout",
          "output_type": "stream",
          "text": [
            "total number of chunks: 2\n",
            "chunk 0 processed\n",
            "chunk 1 processed\n"
          ]
        },
        {
          "name": "stderr",
          "output_type": "stream",
          "text": [
            "Processing SNP Batches:  67%|██████▋   | 659/989 [6:05:02<2:36:06, 28.38s/it]"
          ]
        },
        {
          "name": "stdout",
          "output_type": "stream",
          "text": [
            "total number of chunks: 2\n",
            "total number of chunks: 3\n",
            "total number of chunks: 2\n",
            "chunk 0 processed\n",
            "chunk 1 processed\n",
            "chunk 0 processed\n",
            "chunk 1 processed\n",
            "chunk 0 processed\n",
            "chunk 1 processed\n"
          ]
        },
        {
          "name": "stderr",
          "output_type": "stream",
          "text": [
            "Processing SNP Batches:  67%|██████▋   | 660/989 [6:08:18<7:12:02, 78.79s/it]"
          ]
        },
        {
          "name": "stdout",
          "output_type": "stream",
          "text": [
            "chunk 2 processed\n"
          ]
        },
        {
          "name": "stderr",
          "output_type": "stream",
          "text": [
            "Processing SNP Batches:  67%|██████▋   | 661/989 [6:08:44<5:42:54, 62.73s/it]"
          ]
        },
        {
          "name": "stdout",
          "output_type": "stream",
          "text": [
            "total number of chunks: 2\n",
            "total number of chunks: 2\n",
            "chunk 0 processed\n",
            "chunk 1 processed\n",
            "chunk 0 processed\n"
          ]
        },
        {
          "name": "stderr",
          "output_type": "stream",
          "text": [
            "Processing SNP Batches:  67%|██████▋   | 662/989 [6:09:22<5:02:22, 55.48s/it]"
          ]
        },
        {
          "name": "stdout",
          "output_type": "stream",
          "text": [
            "chunk 1 processed\n",
            "total number of chunks: 2\n",
            "chunk 0 processed\n"
          ]
        },
        {
          "name": "stderr",
          "output_type": "stream",
          "text": [
            "Processing SNP Batches:  67%|██████▋   | 663/989 [6:09:48<4:13:58, 46.74s/it]"
          ]
        },
        {
          "name": "stdout",
          "output_type": "stream",
          "text": [
            "chunk 1 processed\n",
            "total number of chunks: 3\n",
            "chunk 0 processed\n",
            "chunk 1 processed\n"
          ]
        },
        {
          "name": "stderr",
          "output_type": "stream",
          "text": [
            "Processing SNP Batches:  67%|██████▋   | 664/989 [6:10:20<3:49:01, 42.28s/it]"
          ]
        },
        {
          "name": "stdout",
          "output_type": "stream",
          "text": [
            "chunk 2 processed\n"
          ]
        },
        {
          "name": "stderr",
          "output_type": "stream",
          "text": [
            "Processing SNP Batches:  67%|██████▋   | 665/989 [6:10:36<3:04:23, 34.15s/it]"
          ]
        },
        {
          "name": "stdout",
          "output_type": "stream",
          "text": [
            "total number of chunks: 3\n",
            "chunk 0 processed\n",
            "chunk 1 processed\n"
          ]
        },
        {
          "name": "stderr",
          "output_type": "stream",
          "text": [
            "Processing SNP Batches:  67%|██████▋   | 666/989 [6:11:25<3:29:08, 38.85s/it]"
          ]
        },
        {
          "name": "stdout",
          "output_type": "stream",
          "text": [
            "chunk 2 processed\n",
            "total number of chunks: 2\n",
            "chunk 0 processed\n"
          ]
        },
        {
          "name": "stderr",
          "output_type": "stream",
          "text": [
            "Processing SNP Batches:  67%|██████▋   | 667/989 [6:11:55<3:13:29, 36.05s/it]"
          ]
        },
        {
          "name": "stdout",
          "output_type": "stream",
          "text": [
            "chunk 1 processed\n",
            "total number of chunks: 2\n",
            "chunk 0 processed\n",
            "chunk 1 processed\n"
          ]
        },
        {
          "name": "stderr",
          "output_type": "stream",
          "text": [
            "Processing SNP Batches:  68%|██████▊   | 668/989 [6:12:35<3:18:42, 37.14s/it]"
          ]
        },
        {
          "name": "stdout",
          "output_type": "stream",
          "text": [
            "total number of chunks: 2\n",
            "chunk 0 processed\n"
          ]
        },
        {
          "name": "stderr",
          "output_type": "stream",
          "text": [
            "Processing SNP Batches:  68%|██████▊   | 669/989 [6:13:36<3:56:43, 44.39s/it]"
          ]
        },
        {
          "name": "stdout",
          "output_type": "stream",
          "text": [
            "chunk 1 processed\n",
            "total number of chunks: 2\n",
            "chunk 0 processed\n"
          ]
        },
        {
          "name": "stderr",
          "output_type": "stream",
          "text": [
            "Processing SNP Batches:  68%|██████▊   | 670/989 [6:14:13<3:44:21, 42.20s/it]"
          ]
        },
        {
          "name": "stdout",
          "output_type": "stream",
          "text": [
            "chunk 1 processed\n"
          ]
        },
        {
          "name": "stderr",
          "output_type": "stream",
          "text": [
            "Processing SNP Batches:  68%|██████▊   | 671/989 [6:14:25<2:55:11, 33.06s/it]"
          ]
        },
        {
          "name": "stdout",
          "output_type": "stream",
          "text": [
            "total number of chunks: 2\n",
            "chunk 0 processed\n"
          ]
        },
        {
          "name": "stderr",
          "output_type": "stream",
          "text": [
            "Processing SNP Batches:  68%|██████▊   | 672/989 [6:15:36<3:55:20, 44.54s/it]"
          ]
        },
        {
          "name": "stdout",
          "output_type": "stream",
          "text": [
            "chunk 1 processed\n"
          ]
        },
        {
          "name": "stderr",
          "output_type": "stream",
          "text": [
            "Processing SNP Batches:  69%|██████▉   | 681/989 [6:17:58<1:34:52, 18.48s/it]"
          ]
        },
        {
          "name": "stdout",
          "output_type": "stream",
          "text": [
            "total number of chunks: 2\n",
            "chunk 0 processed\n",
            "chunk 1 processed\n"
          ]
        },
        {
          "name": "stderr",
          "output_type": "stream",
          "text": [
            "Processing SNP Batches:  69%|██████▉   | 682/989 [6:18:58<2:37:59, 30.88s/it]"
          ]
        },
        {
          "name": "stdout",
          "output_type": "stream",
          "text": [
            "total number of chunks: 2\n",
            "total number of chunks: 2\n",
            "chunk 0 processed\n",
            "chunk 1 processed\n",
            "chunk 0 processed\n"
          ]
        },
        {
          "name": "stderr",
          "output_type": "stream",
          "text": [
            "Processing SNP Batches:  69%|██████▉   | 683/989 [6:20:09<3:40:01, 43.14s/it]"
          ]
        },
        {
          "name": "stdout",
          "output_type": "stream",
          "text": [
            "chunk 1 processed\n"
          ]
        },
        {
          "name": "stderr",
          "output_type": "stream",
          "text": [
            "Processing SNP Batches:  70%|██████▉   | 688/989 [6:21:24<1:34:27, 18.83s/it]"
          ]
        },
        {
          "name": "stdout",
          "output_type": "stream",
          "text": [
            "total number of chunks: 2\n",
            "chunk 0 processed\n"
          ]
        },
        {
          "name": "stderr",
          "output_type": "stream",
          "text": [
            "Processing SNP Batches:  70%|██████▉   | 689/989 [6:21:43<1:33:43, 18.75s/it]"
          ]
        },
        {
          "name": "stdout",
          "output_type": "stream",
          "text": [
            "chunk 1 processed\n"
          ]
        },
        {
          "name": "stderr",
          "output_type": "stream",
          "text": [
            "Processing SNP Batches:  70%|██████▉   | 690/989 [6:21:49<1:14:03, 14.86s/it]"
          ]
        },
        {
          "name": "stdout",
          "output_type": "stream",
          "text": [
            "total number of chunks: 2\n",
            "chunk 0 processed\n"
          ]
        },
        {
          "name": "stderr",
          "output_type": "stream",
          "text": [
            "Processing SNP Batches:  70%|██████▉   | 691/989 [6:22:16<1:32:08, 18.55s/it]"
          ]
        },
        {
          "name": "stdout",
          "output_type": "stream",
          "text": [
            "chunk 1 processed\n"
          ]
        },
        {
          "name": "stderr",
          "output_type": "stream",
          "text": [
            "Processing SNP Batches:  70%|███████   | 694/989 [6:23:40<1:59:35, 24.32s/it]"
          ]
        },
        {
          "name": "stdout",
          "output_type": "stream",
          "text": [
            "total number of chunks: 2\n",
            "chunk 0 processed\n"
          ]
        },
        {
          "name": "stderr",
          "output_type": "stream",
          "text": [
            "Processing SNP Batches:  70%|███████   | 695/989 [6:24:10<2:07:04, 25.93s/it]"
          ]
        },
        {
          "name": "stdout",
          "output_type": "stream",
          "text": [
            "chunk 1 processed\n"
          ]
        },
        {
          "name": "stderr",
          "output_type": "stream",
          "text": [
            "Processing SNP Batches:  70%|███████   | 696/989 [6:24:22<1:46:32, 21.82s/it]"
          ]
        },
        {
          "name": "stdout",
          "output_type": "stream",
          "text": [
            "total number of chunks: 3\n",
            "chunk 0 processed\n",
            "chunk 1 processed\n"
          ]
        },
        {
          "name": "stderr",
          "output_type": "stream",
          "text": [
            "Processing SNP Batches:  70%|███████   | 697/989 [6:24:58<2:07:06, 26.12s/it]"
          ]
        },
        {
          "name": "stdout",
          "output_type": "stream",
          "text": [
            "chunk 2 processed\n",
            "total number of chunks: 2\n",
            "chunk 0 processed\n"
          ]
        },
        {
          "name": "stderr",
          "output_type": "stream",
          "text": [
            "Processing SNP Batches:  71%|███████   | 698/989 [6:25:25<2:07:48, 26.35s/it]"
          ]
        },
        {
          "name": "stdout",
          "output_type": "stream",
          "text": [
            "chunk 1 processed\n",
            "total number of chunks: 2\n",
            "chunk 0 processed\n"
          ]
        },
        {
          "name": "stderr",
          "output_type": "stream",
          "text": [
            "Processing SNP Batches:  71%|███████   | 699/989 [6:26:01<2:21:43, 29.32s/it]"
          ]
        },
        {
          "name": "stdout",
          "output_type": "stream",
          "text": [
            "chunk 1 processed\n"
          ]
        },
        {
          "name": "stderr",
          "output_type": "stream",
          "text": [
            "Processing SNP Batches:  71%|███████   | 700/989 [6:26:29<2:18:52, 28.83s/it]"
          ]
        },
        {
          "name": "stdout",
          "output_type": "stream",
          "text": [
            "total number of chunks: 4\n",
            "chunk 0 processed\n",
            "chunk 1 processed\n",
            "chunk 2 processed\n"
          ]
        },
        {
          "name": "stderr",
          "output_type": "stream",
          "text": [
            "Processing SNP Batches:  71%|███████   | 701/989 [6:27:10<2:35:25, 32.38s/it]"
          ]
        },
        {
          "name": "stdout",
          "output_type": "stream",
          "text": [
            "chunk 3 processed\n",
            "total number of chunks: 2\n",
            "chunk 0 processed\n"
          ]
        },
        {
          "name": "stderr",
          "output_type": "stream",
          "text": [
            "Processing SNP Batches:  71%|███████   | 702/989 [6:28:03<3:05:03, 38.69s/it]"
          ]
        },
        {
          "name": "stdout",
          "output_type": "stream",
          "text": [
            "chunk 1 processed\n",
            "total number of chunks: 3\n",
            "total number of chunks: 2\n",
            "total number of chunks: 2\n",
            "chunk 0 processed\n",
            "chunk 0 processed\n",
            "chunk 0 processed\n",
            "chunk 1 processed\n",
            "chunk 1 processed\n",
            "chunk 1 processed\n"
          ]
        },
        {
          "name": "stderr",
          "output_type": "stream",
          "text": [
            "Processing SNP Batches:  71%|███████   | 703/989 [6:28:52<3:18:38, 41.67s/it]"
          ]
        },
        {
          "name": "stdout",
          "output_type": "stream",
          "text": [
            "chunk 2 processed\n",
            "total number of chunks: 2\n",
            "total number of chunks: 2\n",
            "chunk 0 processed\n",
            "chunk 1 processed\n",
            "chunk 0 processed\n"
          ]
        },
        {
          "name": "stderr",
          "output_type": "stream",
          "text": [
            "Processing SNP Batches:  71%|███████   | 704/989 [6:29:14<2:50:45, 35.95s/it]"
          ]
        },
        {
          "name": "stdout",
          "output_type": "stream",
          "text": [
            "chunk 1 processed\n",
            "total number of chunks: 2\n",
            "chunk 0 processed\n"
          ]
        },
        {
          "name": "stderr",
          "output_type": "stream",
          "text": [
            "Processing SNP Batches:  71%|███████▏  | 705/989 [6:31:09<4:42:21, 59.65s/it]"
          ]
        },
        {
          "name": "stdout",
          "output_type": "stream",
          "text": [
            "chunk 1 processed\n",
            "total number of chunks: 2\n",
            "total number of chunks: 2\n",
            "total number of chunks: 2\n",
            "chunk 0 processed\n",
            "chunk 1 processed\n",
            "chunk 0 processed\n",
            "chunk 0 processed\n",
            "chunk 1 processed\n"
          ]
        },
        {
          "name": "stderr",
          "output_type": "stream",
          "text": [
            "Processing SNP Batches:  71%|███████▏  | 706/989 [6:31:58<4:26:21, 56.47s/it]"
          ]
        },
        {
          "name": "stdout",
          "output_type": "stream",
          "text": [
            "chunk 1 processed\n"
          ]
        },
        {
          "name": "stderr",
          "output_type": "stream",
          "text": [
            "Processing SNP Batches:  72%|███████▏  | 710/989 [6:33:03<1:58:04, 25.39s/it]"
          ]
        },
        {
          "name": "stdout",
          "output_type": "stream",
          "text": [
            "total number of chunks: 2\n",
            "chunk 0 processed\n"
          ]
        },
        {
          "name": "stderr",
          "output_type": "stream",
          "text": [
            "Processing SNP Batches:  72%|███████▏  | 711/989 [6:33:18<1:42:49, 22.19s/it]"
          ]
        },
        {
          "name": "stdout",
          "output_type": "stream",
          "text": [
            "chunk 1 processed\n",
            "total number of chunks: 3\n",
            "chunk 0 processed\n",
            "chunk 1 processed\n"
          ]
        },
        {
          "name": "stderr",
          "output_type": "stream",
          "text": [
            "Processing SNP Batches:  72%|███████▏  | 712/989 [6:34:13<2:27:45, 32.00s/it]"
          ]
        },
        {
          "name": "stdout",
          "output_type": "stream",
          "text": [
            "chunk 2 processed\n",
            "total number of chunks: 2\n",
            "chunk 0 processed\n",
            "chunk 1 processed\n"
          ]
        },
        {
          "name": "stderr",
          "output_type": "stream",
          "text": [
            "Processing SNP Batches:  72%|███████▏  | 714/989 [6:34:54<2:00:14, 26.23s/it]"
          ]
        },
        {
          "name": "stdout",
          "output_type": "stream",
          "text": [
            "total number of chunks: 2\n",
            "total number of chunks: 2\n",
            "total number of chunks: 2\n",
            "total number of chunks: 2\n",
            "chunk 0 processed\n",
            "chunk 0 processed\n",
            "chunk 0 processed\n",
            "chunk 1 processed\n",
            "chunk 1 processed\n",
            "chunk 1 processed\n",
            "chunk 0 processed\n"
          ]
        },
        {
          "name": "stderr",
          "output_type": "stream",
          "text": [
            "Processing SNP Batches:  72%|███████▏  | 715/989 [6:35:28<2:11:08, 28.72s/it]"
          ]
        },
        {
          "name": "stdout",
          "output_type": "stream",
          "text": [
            "chunk 1 processed\n",
            "total number of chunks: 2\n",
            "chunk 0 processed\n"
          ]
        },
        {
          "name": "stderr",
          "output_type": "stream",
          "text": [
            "Processing SNP Batches:  72%|███████▏  | 716/989 [6:35:54<2:07:18, 27.98s/it]"
          ]
        },
        {
          "name": "stdout",
          "output_type": "stream",
          "text": [
            "chunk 1 processed\n"
          ]
        },
        {
          "name": "stderr",
          "output_type": "stream",
          "text": [
            "Processing SNP Batches:  73%|███████▎  | 718/989 [6:36:44<2:02:56, 27.22s/it]"
          ]
        },
        {
          "name": "stdout",
          "output_type": "stream",
          "text": [
            "total number of chunks: 2\n",
            "chunk 0 processed\n"
          ]
        },
        {
          "name": "stderr",
          "output_type": "stream",
          "text": [
            "Processing SNP Batches:  73%|███████▎  | 719/989 [6:37:04<1:52:03, 24.90s/it]"
          ]
        },
        {
          "name": "stdout",
          "output_type": "stream",
          "text": [
            "chunk 1 processed\n"
          ]
        },
        {
          "name": "stderr",
          "output_type": "stream",
          "text": [
            "Processing SNP Batches:  73%|███████▎  | 724/989 [6:38:16<1:14:56, 16.97s/it]"
          ]
        },
        {
          "name": "stdout",
          "output_type": "stream",
          "text": [
            "total number of chunks: 4\n",
            "chunk 0 processed\n",
            "chunk 1 processed\n",
            "chunk 2 processed\n"
          ]
        },
        {
          "name": "stderr",
          "output_type": "stream",
          "text": [
            "Processing SNP Batches:  73%|███████▎  | 725/989 [6:39:24<2:22:34, 32.40s/it]"
          ]
        },
        {
          "name": "stdout",
          "output_type": "stream",
          "text": [
            "chunk 3 processed\n"
          ]
        },
        {
          "name": "stderr",
          "output_type": "stream",
          "text": [
            "Processing SNP Batches:  74%|███████▎  | 727/989 [6:40:04<1:53:28, 25.99s/it]"
          ]
        },
        {
          "name": "stdout",
          "output_type": "stream",
          "text": [
            "total number of chunks: 3\n",
            "chunk 0 processed\n",
            "chunk 1 processed\n"
          ]
        },
        {
          "name": "stderr",
          "output_type": "stream",
          "text": [
            "Processing SNP Batches:  74%|███████▎  | 728/989 [6:40:43<2:10:16, 29.95s/it]"
          ]
        },
        {
          "name": "stdout",
          "output_type": "stream",
          "text": [
            "chunk 2 processed\n",
            "total number of chunks: 2\n",
            "chunk 0 processed\n"
          ]
        },
        {
          "name": "stderr",
          "output_type": "stream",
          "text": [
            "Processing SNP Batches:  74%|███████▎  | 729/989 [6:41:27<2:28:05, 34.18s/it]"
          ]
        },
        {
          "name": "stdout",
          "output_type": "stream",
          "text": [
            "chunk 1 processed\n"
          ]
        },
        {
          "name": "stderr",
          "output_type": "stream",
          "text": [
            "Processing SNP Batches:  74%|███████▍  | 730/989 [6:41:40<1:58:56, 27.55s/it]"
          ]
        },
        {
          "name": "stdout",
          "output_type": "stream",
          "text": [
            "total number of chunks: 2\n",
            "chunk 0 processed\n"
          ]
        },
        {
          "name": "stderr",
          "output_type": "stream",
          "text": [
            "Processing SNP Batches:  74%|███████▍  | 731/989 [6:42:22<2:17:53, 32.07s/it]"
          ]
        },
        {
          "name": "stdout",
          "output_type": "stream",
          "text": [
            "chunk 1 processed\n",
            "total number of chunks: 2\n",
            "total number of chunks: 2\n",
            "chunk 0 processed\n",
            "chunk 1 processed\n",
            "chunk 0 processed\n"
          ]
        },
        {
          "name": "stderr",
          "output_type": "stream",
          "text": [
            "Processing SNP Batches:  74%|███████▍  | 732/989 [6:43:53<3:32:26, 49.60s/it]"
          ]
        },
        {
          "name": "stdout",
          "output_type": "stream",
          "text": [
            "chunk 1 processed\n",
            "total number of chunks: 2\n",
            "chunk 0 processed\n",
            "chunk 1 processed\n"
          ]
        },
        {
          "name": "stderr",
          "output_type": "stream",
          "text": [
            "Processing SNP Batches:  74%|███████▍  | 733/989 [6:44:29<3:14:27, 45.58s/it]"
          ]
        },
        {
          "name": "stdout",
          "output_type": "stream",
          "text": [
            "total number of chunks: 2\n",
            "chunk 0 processed\n"
          ]
        },
        {
          "name": "stderr",
          "output_type": "stream",
          "text": [
            "Processing SNP Batches:  74%|███████▍  | 734/989 [6:44:47<2:39:07, 37.44s/it]"
          ]
        },
        {
          "name": "stdout",
          "output_type": "stream",
          "text": [
            "chunk 1 processed\n"
          ]
        },
        {
          "name": "stderr",
          "output_type": "stream",
          "text": [
            "Processing SNP Batches:  74%|███████▍  | 735/989 [6:45:00<2:07:12, 30.05s/it]"
          ]
        },
        {
          "name": "stdout",
          "output_type": "stream",
          "text": [
            "total number of chunks: 2\n",
            "chunk 0 processed\n"
          ]
        },
        {
          "name": "stderr",
          "output_type": "stream",
          "text": [
            "Processing SNP Batches:  74%|███████▍  | 736/989 [6:45:36<2:14:38, 31.93s/it]"
          ]
        },
        {
          "name": "stdout",
          "output_type": "stream",
          "text": [
            "chunk 1 processed\n"
          ]
        },
        {
          "name": "stderr",
          "output_type": "stream",
          "text": [
            "Processing SNP Batches:  75%|███████▍  | 737/989 [6:46:02<2:06:26, 30.11s/it]"
          ]
        },
        {
          "name": "stdout",
          "output_type": "stream",
          "text": [
            "total number of chunks: 3\n",
            "chunk 0 processed\n",
            "chunk 1 processed\n"
          ]
        },
        {
          "name": "stderr",
          "output_type": "stream",
          "text": [
            "Processing SNP Batches:  75%|███████▍  | 738/989 [6:48:54<5:04:01, 72.67s/it]"
          ]
        },
        {
          "name": "stdout",
          "output_type": "stream",
          "text": [
            "chunk 2 processed\n"
          ]
        },
        {
          "name": "stderr",
          "output_type": "stream",
          "text": [
            "Processing SNP Batches:  75%|███████▍  | 741/989 [6:49:51<2:34:46, 37.45s/it]"
          ]
        },
        {
          "name": "stdout",
          "output_type": "stream",
          "text": [
            "total number of chunks: 2\n",
            "chunk 0 processed\n",
            "chunk 1 processed\n"
          ]
        },
        {
          "name": "stderr",
          "output_type": "stream",
          "text": [
            "Processing SNP Batches:  75%|███████▌  | 745/989 [6:51:26<1:41:36, 24.99s/it]"
          ]
        },
        {
          "name": "stdout",
          "output_type": "stream",
          "text": [
            "total number of chunks: 2\n",
            "total number of chunks: 2\n",
            "total number of chunks: 2\n",
            "chunk 0 processed\n",
            "chunk 1 processed\n",
            "chunk 0 processed\n",
            "chunk 1 processed\n",
            "chunk 0 processed\n"
          ]
        },
        {
          "name": "stderr",
          "output_type": "stream",
          "text": [
            "Processing SNP Batches:  75%|███████▌  | 746/989 [6:51:55<1:45:45, 26.11s/it]"
          ]
        },
        {
          "name": "stdout",
          "output_type": "stream",
          "text": [
            "chunk 1 processed\n"
          ]
        },
        {
          "name": "stderr",
          "output_type": "stream",
          "text": [
            "Processing SNP Batches:  76%|███████▌  | 749/989 [6:52:58<1:26:19, 21.58s/it]"
          ]
        },
        {
          "name": "stdout",
          "output_type": "stream",
          "text": [
            "total number of chunks: 3\n",
            "chunk 0 processed\n",
            "chunk 1 processed\n"
          ]
        },
        {
          "name": "stderr",
          "output_type": "stream",
          "text": [
            "Processing SNP Batches:  76%|███████▌  | 750/989 [6:53:55<2:08:25, 32.24s/it]"
          ]
        },
        {
          "name": "stdout",
          "output_type": "stream",
          "text": [
            "chunk 2 processed\n"
          ]
        },
        {
          "name": "stderr",
          "output_type": "stream",
          "text": [
            "Processing SNP Batches:  77%|███████▋  | 757/989 [6:56:26<1:24:55, 21.96s/it]"
          ]
        },
        {
          "name": "stdout",
          "output_type": "stream",
          "text": [
            "total number of chunks: 2\n",
            "chunk 0 processed\n",
            "chunk 1 processed\n"
          ]
        },
        {
          "name": "stderr",
          "output_type": "stream",
          "text": [
            "Processing SNP Batches:  77%|███████▋  | 759/989 [6:57:23<1:30:36, 23.64s/it]"
          ]
        },
        {
          "name": "stdout",
          "output_type": "stream",
          "text": [
            "total number of chunks: 3\n",
            "chunk 0 processed\n",
            "chunk 1 processed\n"
          ]
        },
        {
          "name": "stderr",
          "output_type": "stream",
          "text": [
            "Processing SNP Batches:  77%|███████▋  | 760/989 [6:58:01<1:47:11, 28.08s/it]"
          ]
        },
        {
          "name": "stdout",
          "output_type": "stream",
          "text": [
            "chunk 2 processed\n"
          ]
        },
        {
          "name": "stderr",
          "output_type": "stream",
          "text": [
            "Processing SNP Batches:  77%|███████▋  | 761/989 [6:58:45<2:05:03, 32.91s/it]"
          ]
        },
        {
          "name": "stdout",
          "output_type": "stream",
          "text": [
            "total number of chunks: 2\n",
            "total number of chunks: 3\n",
            "chunk 0 processed\n",
            "chunk 1 processed\n",
            "chunk 0 processed\n",
            "chunk 1 processed\n"
          ]
        },
        {
          "name": "stderr",
          "output_type": "stream",
          "text": [
            "Processing SNP Batches:  77%|███████▋  | 762/989 [7:01:43<4:49:33, 76.54s/it]"
          ]
        },
        {
          "name": "stdout",
          "output_type": "stream",
          "text": [
            "chunk 2 processed\n"
          ]
        },
        {
          "name": "stderr",
          "output_type": "stream",
          "text": [
            "Processing SNP Batches:  77%|███████▋  | 763/989 [7:01:57<3:37:23, 57.72s/it]"
          ]
        },
        {
          "name": "stdout",
          "output_type": "stream",
          "text": [
            "total number of chunks: 2\n",
            "chunk 0 processed\n"
          ]
        },
        {
          "name": "stderr",
          "output_type": "stream",
          "text": [
            "Processing SNP Batches:  77%|███████▋  | 764/989 [7:02:14<2:50:45, 45.53s/it]"
          ]
        },
        {
          "name": "stdout",
          "output_type": "stream",
          "text": [
            "chunk 1 processed\n",
            "total number of chunks: 2\n",
            "chunk 0 processed\n"
          ]
        },
        {
          "name": "stderr",
          "output_type": "stream",
          "text": [
            "Processing SNP Batches:  77%|███████▋  | 765/989 [7:02:40<2:28:05, 39.67s/it]"
          ]
        },
        {
          "name": "stdout",
          "output_type": "stream",
          "text": [
            "chunk 1 processed\n",
            "total number of chunks: 3\n",
            "chunk 0 processed\n",
            "chunk 1 processed\n"
          ]
        },
        {
          "name": "stderr",
          "output_type": "stream",
          "text": [
            "Processing SNP Batches:  77%|███████▋  | 766/989 [7:05:09<4:28:27, 72.23s/it]"
          ]
        },
        {
          "name": "stdout",
          "output_type": "stream",
          "text": [
            "chunk 2 processed\n"
          ]
        },
        {
          "name": "stderr",
          "output_type": "stream",
          "text": [
            "Processing SNP Batches:  78%|███████▊  | 768/989 [7:06:07<3:03:54, 49.93s/it]"
          ]
        },
        {
          "name": "stdout",
          "output_type": "stream",
          "text": [
            "total number of chunks: 2\n",
            "total number of chunks: 3\n",
            "chunk 0 processed\n",
            "chunk 0 processed\n",
            "chunk 1 processed\n",
            "chunk 1 processed\n"
          ]
        },
        {
          "name": "stderr",
          "output_type": "stream",
          "text": [
            "Processing SNP Batches:  78%|███████▊  | 769/989 [7:07:19<3:27:05, 56.48s/it]"
          ]
        },
        {
          "name": "stdout",
          "output_type": "stream",
          "text": [
            "chunk 2 processed\n"
          ]
        },
        {
          "name": "stderr",
          "output_type": "stream",
          "text": [
            "Processing SNP Batches:  78%|███████▊  | 770/989 [7:07:59<3:08:40, 51.69s/it]"
          ]
        },
        {
          "name": "stdout",
          "output_type": "stream",
          "text": [
            "total number of chunks: 2\n",
            "chunk 0 processed\n"
          ]
        },
        {
          "name": "stderr",
          "output_type": "stream",
          "text": [
            "Processing SNP Batches:  78%|███████▊  | 771/989 [7:08:27<2:42:16, 44.66s/it]"
          ]
        },
        {
          "name": "stdout",
          "output_type": "stream",
          "text": [
            "chunk 1 processed\n",
            "total number of chunks: 4\n",
            "chunk 0 processed\n",
            "chunk 1 processed\n",
            "chunk 2 processed\n"
          ]
        },
        {
          "name": "stderr",
          "output_type": "stream",
          "text": [
            "Processing SNP Batches:  78%|███████▊  | 772/989 [7:09:41<3:12:40, 53.27s/it]"
          ]
        },
        {
          "name": "stdout",
          "output_type": "stream",
          "text": [
            "chunk 3 processed\n",
            "total number of chunks: 2\n",
            "total number of chunks: 2\n",
            "chunk 0 processed\n",
            "chunk 1 processed\n",
            "chunk 0 processed\n"
          ]
        },
        {
          "name": "stderr",
          "output_type": "stream",
          "text": [
            "Processing SNP Batches:  78%|███████▊  | 773/989 [7:10:38<3:15:51, 54.40s/it]"
          ]
        },
        {
          "name": "stdout",
          "output_type": "stream",
          "text": [
            "chunk 1 processed\n"
          ]
        },
        {
          "name": "stderr",
          "output_type": "stream",
          "text": [
            "Processing SNP Batches:  78%|███████▊  | 774/989 [7:10:54<2:33:49, 42.93s/it]"
          ]
        },
        {
          "name": "stdout",
          "output_type": "stream",
          "text": [
            "total number of chunks: 2\n",
            "total number of chunks: 2\n",
            "chunk 0 processed\n",
            "chunk 1 processed\n",
            "chunk 0 processed\n"
          ]
        },
        {
          "name": "stderr",
          "output_type": "stream",
          "text": [
            "Processing SNP Batches:  78%|███████▊  | 775/989 [7:11:35<2:30:46, 42.27s/it]"
          ]
        },
        {
          "name": "stdout",
          "output_type": "stream",
          "text": [
            "chunk 1 processed\n",
            "total number of chunks: 2\n",
            "chunk 0 processed\n"
          ]
        },
        {
          "name": "stderr",
          "output_type": "stream",
          "text": [
            "Processing SNP Batches:  78%|███████▊  | 776/989 [7:11:48<1:58:53, 33.49s/it]"
          ]
        },
        {
          "name": "stdout",
          "output_type": "stream",
          "text": [
            "chunk 1 processed\n"
          ]
        },
        {
          "name": "stderr",
          "output_type": "stream",
          "text": [
            "Processing SNP Batches:  79%|███████▉  | 779/989 [7:12:42<1:18:38, 22.47s/it]"
          ]
        },
        {
          "name": "stdout",
          "output_type": "stream",
          "text": [
            "total number of chunks: 3\n",
            "chunk 0 processed\n",
            "chunk 1 processed\n"
          ]
        },
        {
          "name": "stderr",
          "output_type": "stream",
          "text": [
            "Processing SNP Batches:  79%|███████▉  | 780/989 [7:15:05<3:24:57, 58.84s/it]"
          ]
        },
        {
          "name": "stdout",
          "output_type": "stream",
          "text": [
            "chunk 2 processed\n"
          ]
        },
        {
          "name": "stderr",
          "output_type": "stream",
          "text": [
            "Processing SNP Batches:  79%|███████▉  | 782/989 [7:15:42<2:10:45, 37.90s/it]"
          ]
        },
        {
          "name": "stdout",
          "output_type": "stream",
          "text": [
            "total number of chunks: 2\n",
            "chunk 0 processed\n",
            "chunk 1 processed\n"
          ]
        },
        {
          "name": "stderr",
          "output_type": "stream",
          "text": [
            "Processing SNP Batches:  79%|███████▉  | 783/989 [7:16:11<2:00:53, 35.21s/it]"
          ]
        },
        {
          "name": "stdout",
          "output_type": "stream",
          "text": [
            "total number of chunks: 2\n",
            "chunk 0 processed\n"
          ]
        },
        {
          "name": "stderr",
          "output_type": "stream",
          "text": [
            "Processing SNP Batches:  79%|███████▉  | 784/989 [7:16:33<1:46:19, 31.12s/it]"
          ]
        },
        {
          "name": "stdout",
          "output_type": "stream",
          "text": [
            "chunk 1 processed\n"
          ]
        },
        {
          "name": "stderr",
          "output_type": "stream",
          "text": [
            "Processing SNP Batches:  79%|███████▉  | 786/989 [7:17:05<1:19:02, 23.36s/it]"
          ]
        },
        {
          "name": "stdout",
          "output_type": "stream",
          "text": [
            "total number of chunks: 2\n",
            "chunk 0 processed\n",
            "chunk 1 processed\n"
          ]
        },
        {
          "name": "stderr",
          "output_type": "stream",
          "text": [
            "Processing SNP Batches:  80%|███████▉  | 790/989 [7:18:37<1:09:49, 21.05s/it]"
          ]
        },
        {
          "name": "stdout",
          "output_type": "stream",
          "text": [
            "total number of chunks: 2\n",
            "chunk 0 processed\n"
          ]
        },
        {
          "name": "stderr",
          "output_type": "stream",
          "text": [
            "Processing SNP Batches:  80%|███████▉  | 791/989 [7:18:57<1:08:25, 20.73s/it]"
          ]
        },
        {
          "name": "stdout",
          "output_type": "stream",
          "text": [
            "chunk 1 processed\n",
            "total number of chunks: 2\n",
            "chunk 0 processed\n"
          ]
        },
        {
          "name": "stderr",
          "output_type": "stream",
          "text": [
            "Processing SNP Batches:  80%|████████  | 792/989 [7:19:21<1:11:38, 21.82s/it]"
          ]
        },
        {
          "name": "stdout",
          "output_type": "stream",
          "text": [
            "chunk 1 processed\n"
          ]
        },
        {
          "name": "stderr",
          "output_type": "stream",
          "text": [
            "Processing SNP Batches:  81%|████████  | 797/989 [7:21:11<1:18:15, 24.45s/it]"
          ]
        },
        {
          "name": "stdout",
          "output_type": "stream",
          "text": [
            "total number of chunks: 5\n",
            "total number of chunks: 2\n",
            "total number of chunks: 2\n",
            "chunk 0 processed\n",
            "chunk 1 processed\n",
            "chunk 0 processed\n",
            "chunk 0 processed\n",
            "chunk 1 processed\n",
            "chunk 1 processed\n",
            "chunk 2 processed\n",
            "chunk 3 processed\n"
          ]
        },
        {
          "name": "stderr",
          "output_type": "stream",
          "text": [
            "Processing SNP Batches:  81%|████████  | 798/989 [7:24:50<4:23:46, 82.86s/it]"
          ]
        },
        {
          "name": "stdout",
          "output_type": "stream",
          "text": [
            "chunk 4 processed\n",
            "total number of chunks: 3\n",
            "total number of chunks: 3\n",
            "chunk 0 processed\n",
            "chunk 0 processed\n",
            "chunk 1 processed\n",
            "chunk 2 processed\n",
            "chunk 1 processed\n"
          ]
        },
        {
          "name": "stderr",
          "output_type": "stream",
          "text": [
            "Processing SNP Batches:  81%|████████  | 799/989 [7:25:40<3:51:36, 73.14s/it]"
          ]
        },
        {
          "name": "stdout",
          "output_type": "stream",
          "text": [
            "chunk 2 processed\n"
          ]
        },
        {
          "name": "stderr",
          "output_type": "stream",
          "text": [
            "Processing SNP Batches:  81%|████████  | 802/989 [7:26:09<1:36:52, 31.09s/it]"
          ]
        },
        {
          "name": "stdout",
          "output_type": "stream",
          "text": [
            "total number of chunks: 2\n",
            "chunk 0 processed\n"
          ]
        },
        {
          "name": "stderr",
          "output_type": "stream",
          "text": [
            "Processing SNP Batches:  81%|████████  | 803/989 [7:26:43<1:39:32, 32.11s/it]"
          ]
        },
        {
          "name": "stdout",
          "output_type": "stream",
          "text": [
            "chunk 1 processed\n"
          ]
        },
        {
          "name": "stderr",
          "output_type": "stream",
          "text": [
            "Processing SNP Batches:  82%|████████▏ | 809/989 [7:28:33<53:14, 17.75s/it]  "
          ]
        },
        {
          "name": "stdout",
          "output_type": "stream",
          "text": [
            "total number of chunks: 2\n",
            "total number of chunks: 2\n",
            "total number of chunks: 4\n",
            "chunk 0 processed\n",
            "chunk 1 processed\n",
            "chunk 0 processed\n",
            "chunk 0 processed\n",
            "chunk 1 processed\n",
            "chunk 1 processed\n",
            "chunk 2 processed\n"
          ]
        },
        {
          "name": "stderr",
          "output_type": "stream",
          "text": [
            "Processing SNP Batches:  82%|████████▏ | 810/989 [7:29:40<1:36:52, 32.47s/it]"
          ]
        },
        {
          "name": "stdout",
          "output_type": "stream",
          "text": [
            "chunk 3 processed\n"
          ]
        },
        {
          "name": "stderr",
          "output_type": "stream",
          "text": [
            "Processing SNP Batches:  82%|████████▏ | 815/989 [7:31:18<1:05:02, 22.43s/it]"
          ]
        },
        {
          "name": "stdout",
          "output_type": "stream",
          "text": [
            "total number of chunks: 2\n",
            "chunk 0 processed\n",
            "chunk 1 processed\n"
          ]
        },
        {
          "name": "stderr",
          "output_type": "stream",
          "text": [
            "Processing SNP Batches:  83%|████████▎ | 816/989 [7:31:39<1:03:32, 22.04s/it]"
          ]
        },
        {
          "name": "stdout",
          "output_type": "stream",
          "text": [
            "total number of chunks: 2\n",
            "chunk 0 processed\n"
          ]
        },
        {
          "name": "stderr",
          "output_type": "stream",
          "text": [
            "Processing SNP Batches:  83%|████████▎ | 817/989 [7:31:59<1:01:24, 21.42s/it]"
          ]
        },
        {
          "name": "stdout",
          "output_type": "stream",
          "text": [
            "chunk 1 processed\n"
          ]
        },
        {
          "name": "stderr",
          "output_type": "stream",
          "text": [
            "Processing SNP Batches:  83%|████████▎ | 818/989 [7:32:10<52:03, 18.26s/it]  "
          ]
        },
        {
          "name": "stdout",
          "output_type": "stream",
          "text": [
            "total number of chunks: 2\n",
            "chunk 0 processed\n"
          ]
        },
        {
          "name": "stderr",
          "output_type": "stream",
          "text": [
            "Processing SNP Batches:  83%|████████▎ | 819/989 [7:34:19<2:25:46, 51.45s/it]"
          ]
        },
        {
          "name": "stdout",
          "output_type": "stream",
          "text": [
            "chunk 1 processed\n"
          ]
        },
        {
          "name": "stderr",
          "output_type": "stream",
          "text": [
            "Processing SNP Batches:  83%|████████▎ | 822/989 [7:35:01<1:13:20, 26.35s/it]"
          ]
        },
        {
          "name": "stdout",
          "output_type": "stream",
          "text": [
            "total number of chunks: 3\n",
            "chunk 0 processed\n",
            "chunk 1 processed\n"
          ]
        },
        {
          "name": "stderr",
          "output_type": "stream",
          "text": [
            "Processing SNP Batches:  83%|████████▎ | 823/989 [7:35:50<1:32:03, 33.27s/it]"
          ]
        },
        {
          "name": "stdout",
          "output_type": "stream",
          "text": [
            "chunk 2 processed\n"
          ]
        },
        {
          "name": "stderr",
          "output_type": "stream",
          "text": [
            "Processing SNP Batches:  84%|████████▎ | 826/989 [7:36:49<1:06:40, 24.54s/it]"
          ]
        },
        {
          "name": "stdout",
          "output_type": "stream",
          "text": [
            "total number of chunks: 2\n",
            "chunk 0 processed\n"
          ]
        },
        {
          "name": "stderr",
          "output_type": "stream",
          "text": [
            "Processing SNP Batches:  84%|████████▎ | 827/989 [7:37:14<1:06:40, 24.69s/it]"
          ]
        },
        {
          "name": "stdout",
          "output_type": "stream",
          "text": [
            "chunk 1 processed\n"
          ]
        },
        {
          "name": "stderr",
          "output_type": "stream",
          "text": [
            "Processing SNP Batches:  84%|████████▍ | 829/989 [7:37:47<55:15, 20.72s/it]  "
          ]
        },
        {
          "name": "stdout",
          "output_type": "stream",
          "text": [
            "total number of chunks: 2\n",
            "chunk 0 processed\n"
          ]
        },
        {
          "name": "stderr",
          "output_type": "stream",
          "text": [
            "Processing SNP Batches:  84%|████████▍ | 830/989 [7:38:24<1:07:47, 25.58s/it]"
          ]
        },
        {
          "name": "stdout",
          "output_type": "stream",
          "text": [
            "chunk 1 processed\n"
          ]
        },
        {
          "name": "stderr",
          "output_type": "stream",
          "text": [
            "Processing SNP Batches:  84%|████████▍ | 833/989 [7:39:24<57:30, 22.12s/it]  "
          ]
        },
        {
          "name": "stdout",
          "output_type": "stream",
          "text": [
            "total number of chunks: 3\n",
            "total number of chunks: 2\n",
            "chunk 0 processed\n",
            "chunk 1 processed\n",
            "chunk 2 processed\n",
            "chunk 0 processed\n"
          ]
        },
        {
          "name": "stderr",
          "output_type": "stream",
          "text": [
            "Processing SNP Batches:  84%|████████▍ | 834/989 [7:41:18<2:08:36, 49.78s/it]"
          ]
        },
        {
          "name": "stdout",
          "output_type": "stream",
          "text": [
            "chunk 1 processed\n"
          ]
        },
        {
          "name": "stderr",
          "output_type": "stream",
          "text": [
            "Processing SNP Batches:  85%|████████▍ | 836/989 [7:42:31<1:44:26, 40.95s/it]"
          ]
        },
        {
          "name": "stdout",
          "output_type": "stream",
          "text": [
            "total number of chunks: 2\n",
            "chunk 0 processed\n"
          ]
        },
        {
          "name": "stderr",
          "output_type": "stream",
          "text": [
            "Processing SNP Batches:  85%|████████▍ | 837/989 [7:43:07<1:40:28, 39.66s/it]"
          ]
        },
        {
          "name": "stdout",
          "output_type": "stream",
          "text": [
            "chunk 1 processed\n",
            "total number of chunks: 2\n",
            "chunk 0 processed\n",
            "chunk 1 processed\n"
          ]
        },
        {
          "name": "stderr",
          "output_type": "stream",
          "text": [
            "Processing SNP Batches:  85%|████████▍ | 839/989 [7:43:39<1:06:47, 26.71s/it]"
          ]
        },
        {
          "name": "stdout",
          "output_type": "stream",
          "text": [
            "total number of chunks: 2total number of chunks: 3\n",
            "\n",
            "chunk 0 processed\n",
            "chunk 0 processed\n",
            "chunk 1 processed\n",
            "chunk 1 processed\n"
          ]
        },
        {
          "name": "stderr",
          "output_type": "stream",
          "text": [
            "Processing SNP Batches:  85%|████████▍ | 840/989 [7:44:29<1:24:12, 33.91s/it]"
          ]
        },
        {
          "name": "stdout",
          "output_type": "stream",
          "text": [
            "chunk 2 processed\n",
            "total number of chunks: 2\n",
            "total number of chunks: 2\n",
            "total number of chunks: 2\n",
            "total number of chunks: 2\n",
            "chunk 0 processed\n",
            "chunk 0 processed\n",
            "chunk 1 processed\n",
            "chunk 1 processed\n",
            "chunk 0 processed\n",
            "chunk 0 processed\n",
            "chunk 1 processed\n"
          ]
        },
        {
          "name": "stderr",
          "output_type": "stream",
          "text": [
            "Processing SNP Batches:  85%|████████▌ | 841/989 [7:45:06<1:25:14, 34.56s/it]"
          ]
        },
        {
          "name": "stdout",
          "output_type": "stream",
          "text": [
            "chunk 1 processed\n"
          ]
        },
        {
          "name": "stderr",
          "output_type": "stream",
          "text": [
            "Processing SNP Batches:  85%|████████▌ | 844/989 [7:46:05<58:44, 24.31s/it]  "
          ]
        },
        {
          "name": "stdout",
          "output_type": "stream",
          "text": [
            "total number of chunks: 2\n",
            "total number of chunks: 2\n",
            "chunk 0 processed\n",
            "chunk 1 processed\n",
            "chunk 0 processed\n"
          ]
        },
        {
          "name": "stderr",
          "output_type": "stream",
          "text": [
            "Processing SNP Batches:  85%|████████▌ | 845/989 [7:46:44<1:09:03, 28.78s/it]"
          ]
        },
        {
          "name": "stdout",
          "output_type": "stream",
          "text": [
            "chunk 1 processed\n"
          ]
        },
        {
          "name": "stderr",
          "output_type": "stream",
          "text": [
            "Processing SNP Batches:  86%|████████▌ | 849/989 [7:48:18<53:21, 22.86s/it]  "
          ]
        },
        {
          "name": "stdout",
          "output_type": "stream",
          "text": [
            "total number of chunks: 2\n",
            "chunk 0 processed\n"
          ]
        },
        {
          "name": "stderr",
          "output_type": "stream",
          "text": [
            "Processing SNP Batches:  86%|████████▌ | 850/989 [7:50:31<2:09:31, 55.91s/it]"
          ]
        },
        {
          "name": "stdout",
          "output_type": "stream",
          "text": [
            "chunk 1 processed\n"
          ]
        },
        {
          "name": "stderr",
          "output_type": "stream",
          "text": [
            "Processing SNP Batches:  86%|████████▋ | 854/989 [7:53:18<1:52:39, 50.07s/it]"
          ]
        },
        {
          "name": "stdout",
          "output_type": "stream",
          "text": [
            "total number of chunks: 2\n",
            "chunk 0 processed\n"
          ]
        },
        {
          "name": "stderr",
          "output_type": "stream",
          "text": [
            "Processing SNP Batches:  86%|████████▋ | 855/989 [7:53:55<1:43:12, 46.21s/it]"
          ]
        },
        {
          "name": "stdout",
          "output_type": "stream",
          "text": [
            "chunk 1 processed\n"
          ]
        },
        {
          "name": "stderr",
          "output_type": "stream",
          "text": [
            "Processing SNP Batches:  87%|████████▋ | 857/989 [7:54:56<1:22:32, 37.52s/it]"
          ]
        },
        {
          "name": "stdout",
          "output_type": "stream",
          "text": [
            "total number of chunks: 2\n",
            "chunk 0 processed\n"
          ]
        },
        {
          "name": "stderr",
          "output_type": "stream",
          "text": [
            "Processing SNP Batches:  87%|████████▋ | 858/989 [7:55:40<1:26:00, 39.39s/it]"
          ]
        },
        {
          "name": "stdout",
          "output_type": "stream",
          "text": [
            "chunk 1 processed\n"
          ]
        },
        {
          "name": "stderr",
          "output_type": "stream",
          "text": [
            "Processing SNP Batches:  87%|████████▋ | 859/989 [7:56:22<1:27:19, 40.30s/it]"
          ]
        },
        {
          "name": "stdout",
          "output_type": "stream",
          "text": [
            "total number of chunks: 4\n",
            "chunk 0 processed\n",
            "chunk 1 processed\n",
            "chunk 2 processed\n"
          ]
        },
        {
          "name": "stderr",
          "output_type": "stream",
          "text": [
            "Processing SNP Batches:  87%|████████▋ | 860/989 [7:57:44<1:53:42, 52.89s/it]"
          ]
        },
        {
          "name": "stdout",
          "output_type": "stream",
          "text": [
            "chunk 3 processed\n"
          ]
        },
        {
          "name": "stderr",
          "output_type": "stream",
          "text": [
            "Processing SNP Batches:  87%|████████▋ | 862/989 [7:58:27<1:17:29, 36.61s/it]"
          ]
        },
        {
          "name": "stdout",
          "output_type": "stream",
          "text": [
            "total number of chunks: 2\n",
            "chunk 0 processed\n"
          ]
        },
        {
          "name": "stderr",
          "output_type": "stream",
          "text": [
            "Processing SNP Batches:  87%|████████▋ | 863/989 [7:59:00<1:14:28, 35.46s/it]"
          ]
        },
        {
          "name": "stdout",
          "output_type": "stream",
          "text": [
            "chunk 1 processed\n"
          ]
        },
        {
          "name": "stderr",
          "output_type": "stream",
          "text": [
            "Processing SNP Batches:  87%|████████▋ | 865/989 [7:59:33<52:43, 25.52s/it]  "
          ]
        },
        {
          "name": "stdout",
          "output_type": "stream",
          "text": [
            "total number of chunks: 3\n",
            "chunk 0 processed\n",
            "chunk 1 processed\n"
          ]
        },
        {
          "name": "stderr",
          "output_type": "stream",
          "text": [
            "Processing SNP Batches:  88%|████████▊ | 866/989 [8:00:59<1:29:16, 43.55s/it]"
          ]
        },
        {
          "name": "stdout",
          "output_type": "stream",
          "text": [
            "chunk 2 processed\n"
          ]
        },
        {
          "name": "stderr",
          "output_type": "stream",
          "text": [
            "Processing SNP Batches:  88%|████████▊ | 867/989 [8:01:11<1:09:11, 34.03s/it]"
          ]
        },
        {
          "name": "stdout",
          "output_type": "stream",
          "text": [
            "total number of chunks: 2\n",
            "chunk 0 processed\n",
            "chunk 1 processed\n"
          ]
        },
        {
          "name": "stderr",
          "output_type": "stream",
          "text": [
            "Processing SNP Batches:  88%|████████▊ | 871/989 [8:02:16<36:38, 18.63s/it]  "
          ]
        },
        {
          "name": "stdout",
          "output_type": "stream",
          "text": [
            "total number of chunks: 2\n",
            "chunk 0 processed\n"
          ]
        },
        {
          "name": "stderr",
          "output_type": "stream",
          "text": [
            "Processing SNP Batches:  88%|████████▊ | 872/989 [8:02:29<32:56, 16.89s/it]"
          ]
        },
        {
          "name": "stdout",
          "output_type": "stream",
          "text": [
            "chunk 1 processed\n",
            "total number of chunks: 4\n",
            "chunk 0 processed\n",
            "chunk 1 processed\n",
            "chunk 2 processed\n"
          ]
        },
        {
          "name": "stderr",
          "output_type": "stream",
          "text": [
            "Processing SNP Batches:  88%|████████▊ | 873/989 [8:03:32<59:50, 30.95s/it]"
          ]
        },
        {
          "name": "stdout",
          "output_type": "stream",
          "text": [
            "chunk 3 processed\n"
          ]
        },
        {
          "name": "stderr",
          "output_type": "stream",
          "text": [
            "Processing SNP Batches:  88%|████████▊ | 874/989 [8:03:46<49:18, 25.73s/it]"
          ]
        },
        {
          "name": "stdout",
          "output_type": "stream",
          "text": [
            "total number of chunks: 2\n",
            "total number of chunks: 2\n",
            "chunk 0 processed\n",
            "chunk 1 processed\n",
            "chunk 0 processed\n"
          ]
        },
        {
          "name": "stderr",
          "output_type": "stream",
          "text": [
            "Processing SNP Batches:  88%|████████▊ | 875/989 [8:06:10<1:56:18, 61.22s/it]"
          ]
        },
        {
          "name": "stdout",
          "output_type": "stream",
          "text": [
            "chunk 1 processed\n"
          ]
        },
        {
          "name": "stderr",
          "output_type": "stream",
          "text": [
            "Processing SNP Batches:  89%|████████▊ | 876/989 [8:06:56<1:46:35, 56.60s/it]"
          ]
        },
        {
          "name": "stdout",
          "output_type": "stream",
          "text": [
            "total number of chunks: 2\n",
            "chunk 0 processed\n"
          ]
        },
        {
          "name": "stderr",
          "output_type": "stream",
          "text": [
            "Processing SNP Batches:  89%|████████▊ | 877/989 [8:07:26<1:31:11, 48.86s/it]"
          ]
        },
        {
          "name": "stdout",
          "output_type": "stream",
          "text": [
            "chunk 1 processed\n",
            "total number of chunks: 4\n",
            "chunk 0 processed\n",
            "chunk 1 processed\n",
            "chunk 2 processed\n"
          ]
        },
        {
          "name": "stderr",
          "output_type": "stream",
          "text": [
            "Processing SNP Batches:  89%|████████▉ | 878/989 [8:08:07<1:26:02, 46.51s/it]"
          ]
        },
        {
          "name": "stdout",
          "output_type": "stream",
          "text": [
            "chunk 3 processed\n",
            "total number of chunks: 2\n",
            "chunk 0 processed\n"
          ]
        },
        {
          "name": "stderr",
          "output_type": "stream",
          "text": [
            "Processing SNP Batches:  89%|████████▉ | 879/989 [8:08:51<1:23:31, 45.56s/it]"
          ]
        },
        {
          "name": "stdout",
          "output_type": "stream",
          "text": [
            "chunk 1 processed\n",
            "total number of chunks: 2\n",
            "chunk 0 processed\n"
          ]
        },
        {
          "name": "stderr",
          "output_type": "stream",
          "text": [
            "Processing SNP Batches:  89%|████████▉ | 880/989 [8:10:23<1:48:12, 59.56s/it]"
          ]
        },
        {
          "name": "stdout",
          "output_type": "stream",
          "text": [
            "chunk 1 processed\n",
            "total number of chunks: 2\n",
            "total number of chunks: 2\n",
            "chunk 0 processed\n",
            "chunk 0 processed\n",
            "chunk 1 processed\n"
          ]
        },
        {
          "name": "stderr",
          "output_type": "stream",
          "text": [
            "Processing SNP Batches:  89%|████████▉ | 881/989 [8:10:52<1:30:43, 50.40s/it]"
          ]
        },
        {
          "name": "stdout",
          "output_type": "stream",
          "text": [
            "chunk 1 processed\n"
          ]
        },
        {
          "name": "stderr",
          "output_type": "stream",
          "text": [
            "Processing SNP Batches:  90%|████████▉ | 887/989 [8:12:43<33:37, 19.78s/it]  "
          ]
        },
        {
          "name": "stdout",
          "output_type": "stream",
          "text": [
            "total number of chunks: 3total number of chunks: 2\n",
            "\n",
            "chunk 0 processed\n",
            "chunk 0 processed\n",
            "chunk 1 processed\n",
            "chunk 1 processed\n"
          ]
        },
        {
          "name": "stderr",
          "output_type": "stream",
          "text": [
            "Processing SNP Batches:  90%|████████▉ | 888/989 [8:13:21<42:25, 25.20s/it]"
          ]
        },
        {
          "name": "stdout",
          "output_type": "stream",
          "text": [
            "chunk 2 processed\n",
            "total number of chunks: 3\n",
            "total number of chunks: 3\n",
            "chunk 0 processed\n",
            "chunk 1 processed\n",
            "chunk 2 processed\n",
            "chunk 0 processed\n",
            "chunk 1 processed\n"
          ]
        },
        {
          "name": "stderr",
          "output_type": "stream",
          "text": [
            "Processing SNP Batches:  90%|████████▉ | 889/989 [8:16:05<1:51:42, 67.02s/it]"
          ]
        },
        {
          "name": "stdout",
          "output_type": "stream",
          "text": [
            "chunk 2 processed\n",
            "total number of chunks: 2\n",
            "chunk 0 processed\n"
          ]
        },
        {
          "name": "stderr",
          "output_type": "stream",
          "text": [
            "Processing SNP Batches:  90%|████████▉ | 890/989 [8:16:26<1:27:54, 53.28s/it]"
          ]
        },
        {
          "name": "stdout",
          "output_type": "stream",
          "text": [
            "chunk 1 processed\n"
          ]
        },
        {
          "name": "stderr",
          "output_type": "stream",
          "text": [
            "Processing SNP Batches:  90%|█████████ | 893/989 [8:17:00<41:26, 25.90s/it]  "
          ]
        },
        {
          "name": "stdout",
          "output_type": "stream",
          "text": [
            "total number of chunks: 2\n",
            "chunk 0 processed\n"
          ]
        },
        {
          "name": "stderr",
          "output_type": "stream",
          "text": [
            "Processing SNP Batches:  90%|█████████ | 894/989 [8:17:42<48:49, 30.84s/it]"
          ]
        },
        {
          "name": "stdout",
          "output_type": "stream",
          "text": [
            "chunk 1 processed\n",
            "total number of chunks: 2\n",
            "chunk 0 processed\n"
          ]
        },
        {
          "name": "stderr",
          "output_type": "stream",
          "text": [
            "Processing SNP Batches:  90%|█████████ | 895/989 [8:18:20<51:43, 33.02s/it]"
          ]
        },
        {
          "name": "stdout",
          "output_type": "stream",
          "text": [
            "chunk 1 processed\n",
            "total number of chunks: 2\n",
            "chunk 0 processed\n"
          ]
        },
        {
          "name": "stderr",
          "output_type": "stream",
          "text": [
            "Processing SNP Batches:  91%|█████████ | 896/989 [8:18:51<49:58, 32.25s/it]"
          ]
        },
        {
          "name": "stdout",
          "output_type": "stream",
          "text": [
            "chunk 1 processed\n",
            "total number of chunks: 3\n",
            "chunk 0 processed\n",
            "chunk 1 processed\n"
          ]
        },
        {
          "name": "stderr",
          "output_type": "stream",
          "text": [
            "Processing SNP Batches:  91%|█████████ | 897/989 [8:19:53<1:03:04, 41.14s/it]"
          ]
        },
        {
          "name": "stdout",
          "output_type": "stream",
          "text": [
            "chunk 2 processed\n"
          ]
        },
        {
          "name": "stderr",
          "output_type": "stream",
          "text": [
            "Processing SNP Batches:  91%|█████████ | 899/989 [8:20:33<46:37, 31.08s/it]  "
          ]
        },
        {
          "name": "stdout",
          "output_type": "stream",
          "text": [
            "total number of chunks: 2\n",
            "chunk 0 processed\n"
          ]
        },
        {
          "name": "stderr",
          "output_type": "stream",
          "text": [
            "Processing SNP Batches:  91%|█████████ | 900/989 [8:21:03<45:26, 30.63s/it]"
          ]
        },
        {
          "name": "stdout",
          "output_type": "stream",
          "text": [
            "chunk 1 processed\n"
          ]
        },
        {
          "name": "stderr",
          "output_type": "stream",
          "text": [
            "Processing SNP Batches:  91%|█████████ | 901/989 [8:21:18<38:17, 26.11s/it]"
          ]
        },
        {
          "name": "stdout",
          "output_type": "stream",
          "text": [
            "total number of chunks: 2\n",
            "chunk 0 processed\n"
          ]
        },
        {
          "name": "stderr",
          "output_type": "stream",
          "text": [
            "Processing SNP Batches:  91%|█████████ | 902/989 [8:21:44<37:52, 26.12s/it]"
          ]
        },
        {
          "name": "stdout",
          "output_type": "stream",
          "text": [
            "chunk 1 processed\n",
            "total number of chunks: 2\n",
            "chunk 0 processed\n"
          ]
        },
        {
          "name": "stderr",
          "output_type": "stream",
          "text": [
            "Processing SNP Batches:  91%|█████████▏| 903/989 [8:22:22<42:26, 29.61s/it]"
          ]
        },
        {
          "name": "stdout",
          "output_type": "stream",
          "text": [
            "chunk 1 processed\n",
            "total number of chunks: 2\n",
            "chunk 0 processed\n"
          ]
        },
        {
          "name": "stderr",
          "output_type": "stream",
          "text": [
            "Processing SNP Batches:  91%|█████████▏| 904/989 [8:22:37<35:35, 25.12s/it]"
          ]
        },
        {
          "name": "stdout",
          "output_type": "stream",
          "text": [
            "chunk 1 processed\n"
          ]
        },
        {
          "name": "stderr",
          "output_type": "stream",
          "text": [
            "Processing SNP Batches:  92%|█████████▏| 907/989 [8:23:52<33:34, 24.56s/it]"
          ]
        },
        {
          "name": "stdout",
          "output_type": "stream",
          "text": [
            "total number of chunks: 2\n",
            "chunk 0 processed\n",
            "chunk 1 processed\n"
          ]
        },
        {
          "name": "stderr",
          "output_type": "stream",
          "text": [
            "Processing SNP Batches:  92%|█████████▏| 910/989 [8:24:39<24:29, 18.60s/it]"
          ]
        },
        {
          "name": "stdout",
          "output_type": "stream",
          "text": [
            "total number of chunks: 2\n",
            "total number of chunks: 2\n",
            "chunk 0 processed\n",
            "chunk 0 processed\n",
            "chunk 1 processed\n"
          ]
        },
        {
          "name": "stderr",
          "output_type": "stream",
          "text": [
            "Processing SNP Batches:  92%|█████████▏| 911/989 [8:25:06<27:35, 21.22s/it]"
          ]
        },
        {
          "name": "stdout",
          "output_type": "stream",
          "text": [
            "chunk 1 processed\n",
            "total number of chunks: 3\n",
            "chunk 0 processed\n",
            "chunk 1 processed\n"
          ]
        },
        {
          "name": "stderr",
          "output_type": "stream",
          "text": [
            "Processing SNP Batches:  92%|█████████▏| 912/989 [8:26:00<39:38, 30.89s/it]"
          ]
        },
        {
          "name": "stdout",
          "output_type": "stream",
          "text": [
            "chunk 2 processed\n"
          ]
        },
        {
          "name": "stderr",
          "output_type": "stream",
          "text": [
            "Processing SNP Batches:  92%|█████████▏| 914/989 [8:26:29<27:43, 22.18s/it]"
          ]
        },
        {
          "name": "stdout",
          "output_type": "stream",
          "text": [
            "total number of chunks: 2\n",
            "chunk 0 processed\n",
            "chunk 1 processed\n"
          ]
        },
        {
          "name": "stderr",
          "output_type": "stream",
          "text": [
            "Processing SNP Batches:  93%|█████████▎| 918/989 [8:27:36<20:14, 17.10s/it]"
          ]
        },
        {
          "name": "stdout",
          "output_type": "stream",
          "text": [
            "total number of chunks: 4\n",
            "chunk 0 processed\n",
            "chunk 1 processed\n",
            "chunk 2 processed\n"
          ]
        },
        {
          "name": "stderr",
          "output_type": "stream",
          "text": [
            "Processing SNP Batches:  93%|█████████▎| 919/989 [8:28:16<28:06, 24.10s/it]"
          ]
        },
        {
          "name": "stdout",
          "output_type": "stream",
          "text": [
            "chunk 3 processed\n",
            "total number of chunks: 2\n",
            "chunk 0 processed\n",
            "chunk 1 processed\n"
          ]
        },
        {
          "name": "stderr",
          "output_type": "stream",
          "text": [
            "Processing SNP Batches:  93%|█████████▎| 920/989 [8:28:40<27:42, 24.09s/it]"
          ]
        },
        {
          "name": "stdout",
          "output_type": "stream",
          "text": [
            "total number of chunks: 2\n",
            "chunk 0 processed\n"
          ]
        },
        {
          "name": "stderr",
          "output_type": "stream",
          "text": [
            "Processing SNP Batches:  93%|█████████▎| 921/989 [8:29:09<28:52, 25.48s/it]"
          ]
        },
        {
          "name": "stdout",
          "output_type": "stream",
          "text": [
            "chunk 1 processed\n",
            "total number of chunks: 2\n",
            "chunk 0 processed\n",
            "chunk 1 processed\n"
          ]
        },
        {
          "name": "stderr",
          "output_type": "stream",
          "text": [
            "Processing SNP Batches:  93%|█████████▎| 922/989 [8:29:32<27:48, 24.90s/it]"
          ]
        },
        {
          "name": "stdout",
          "output_type": "stream",
          "text": [
            "total number of chunks: 2\n",
            "total number of chunks: 2\n",
            "chunk 0 processed\n",
            "chunk 0 processed\n",
            "chunk 1 processed\n"
          ]
        },
        {
          "name": "stderr",
          "output_type": "stream",
          "text": [
            "Processing SNP Batches:  93%|█████████▎| 923/989 [8:29:55<26:38, 24.22s/it]"
          ]
        },
        {
          "name": "stdout",
          "output_type": "stream",
          "text": [
            "chunk 1 processed\n"
          ]
        },
        {
          "name": "stderr",
          "output_type": "stream",
          "text": [
            "Processing SNP Batches:  93%|█████████▎| 924/989 [8:30:07<22:07, 20.42s/it]"
          ]
        },
        {
          "name": "stdout",
          "output_type": "stream",
          "text": [
            "total number of chunks: 2\n",
            "chunk 0 processed\n",
            "chunk 1 processed\n"
          ]
        },
        {
          "name": "stderr",
          "output_type": "stream",
          "text": [
            "Processing SNP Batches:  94%|█████████▎| 926/989 [8:31:00<23:33, 22.44s/it]"
          ]
        },
        {
          "name": "stdout",
          "output_type": "stream",
          "text": [
            "total number of chunks: 2\n",
            "chunk 0 processed\n"
          ]
        },
        {
          "name": "stderr",
          "output_type": "stream",
          "text": [
            "Processing SNP Batches:  94%|█████████▎| 927/989 [8:31:18<21:53, 21.19s/it]"
          ]
        },
        {
          "name": "stdout",
          "output_type": "stream",
          "text": [
            "chunk 1 processed\n"
          ]
        },
        {
          "name": "stderr",
          "output_type": "stream",
          "text": [
            "Processing SNP Batches:  94%|█████████▍| 928/989 [8:31:34<19:59, 19.66s/it]"
          ]
        },
        {
          "name": "stdout",
          "output_type": "stream",
          "text": [
            "total number of chunks: 4\n",
            "total number of chunks: 2\n",
            "chunk 0 processed\n",
            "chunk 0 processed\n",
            "chunk 1 processed\n",
            "chunk 1 processed\n",
            "chunk 2 processed\n"
          ]
        },
        {
          "name": "stderr",
          "output_type": "stream",
          "text": [
            "Processing SNP Batches:  94%|█████████▍| 929/989 [8:32:50<36:38, 36.65s/it]"
          ]
        },
        {
          "name": "stdout",
          "output_type": "stream",
          "text": [
            "chunk 3 processed\n"
          ]
        },
        {
          "name": "stderr",
          "output_type": "stream",
          "text": [
            "Processing SNP Batches:  94%|█████████▍| 932/989 [8:33:26<19:24, 20.42s/it]"
          ]
        },
        {
          "name": "stdout",
          "output_type": "stream",
          "text": [
            "total number of chunks: 2total number of chunks: 2\n",
            "\n",
            "chunk 0 processed\n",
            "chunk 0 processed\n",
            "chunk 1 processed\n"
          ]
        },
        {
          "name": "stderr",
          "output_type": "stream",
          "text": [
            "Processing SNP Batches:  94%|█████████▍| 933/989 [8:34:06<24:37, 26.39s/it]"
          ]
        },
        {
          "name": "stdout",
          "output_type": "stream",
          "text": [
            "chunk 1 processed\n"
          ]
        },
        {
          "name": "stderr",
          "output_type": "stream",
          "text": [
            "Processing SNP Batches:  95%|█████████▍| 935/989 [8:35:14<25:26, 28.27s/it]"
          ]
        },
        {
          "name": "stdout",
          "output_type": "stream",
          "text": [
            "total number of chunks: 2\n",
            "chunk 0 processed\n"
          ]
        },
        {
          "name": "stderr",
          "output_type": "stream",
          "text": [
            "Processing SNP Batches:  95%|█████████▍| 936/989 [8:36:07<31:31, 35.70s/it]"
          ]
        },
        {
          "name": "stdout",
          "output_type": "stream",
          "text": [
            "chunk 1 processed\n"
          ]
        },
        {
          "name": "stderr",
          "output_type": "stream",
          "text": [
            "Processing SNP Batches:  95%|█████████▌| 940/989 [8:37:31<21:49, 26.72s/it]"
          ]
        },
        {
          "name": "stdout",
          "output_type": "stream",
          "text": [
            "total number of chunks: 2\n",
            "total number of chunks: 2\n",
            "chunk 0 processed\n",
            "chunk 0 processed\n",
            "chunk 1 processed\n"
          ]
        },
        {
          "name": "stderr",
          "output_type": "stream",
          "text": [
            "Processing SNP Batches:  95%|█████████▌| 941/989 [8:37:48<18:59, 23.75s/it]"
          ]
        },
        {
          "name": "stdout",
          "output_type": "stream",
          "text": [
            "chunk 1 processed\n"
          ]
        },
        {
          "name": "stderr",
          "output_type": "stream",
          "text": [
            "Processing SNP Batches:  95%|█████████▌| 943/989 [8:38:42<18:42, 24.40s/it]"
          ]
        },
        {
          "name": "stdout",
          "output_type": "stream",
          "text": [
            "total number of chunks: 2\n",
            "total number of chunks: 2\n",
            "chunk 0 processed\n",
            "chunk 0 processed\n",
            "chunk 1 processed\n"
          ]
        },
        {
          "name": "stderr",
          "output_type": "stream",
          "text": [
            "Processing SNP Batches:  95%|█████████▌| 944/989 [8:39:05<17:59, 24.00s/it]"
          ]
        },
        {
          "name": "stdout",
          "output_type": "stream",
          "text": [
            "chunk 1 processed\n"
          ]
        },
        {
          "name": "stderr",
          "output_type": "stream",
          "text": [
            "Processing SNP Batches:  96%|█████████▌| 945/989 [8:39:28<17:21, 23.66s/it]"
          ]
        },
        {
          "name": "stdout",
          "output_type": "stream",
          "text": [
            "total number of chunks: 2\n",
            "chunk 0 processed\n",
            "chunk 1 processed\n"
          ]
        },
        {
          "name": "stderr",
          "output_type": "stream",
          "text": [
            "Processing SNP Batches:  96%|█████████▌| 946/989 [8:39:59<18:27, 25.77s/it]"
          ]
        },
        {
          "name": "stdout",
          "output_type": "stream",
          "text": [
            "total number of chunks: 2\n",
            "chunk 0 processed\n"
          ]
        },
        {
          "name": "stderr",
          "output_type": "stream",
          "text": [
            "Processing SNP Batches:  96%|█████████▌| 947/989 [8:40:30<19:13, 27.46s/it]"
          ]
        },
        {
          "name": "stdout",
          "output_type": "stream",
          "text": [
            "chunk 1 processed\n",
            "total number of chunks: 2\n",
            "chunk 0 processed\n"
          ]
        },
        {
          "name": "stderr",
          "output_type": "stream",
          "text": [
            "Processing SNP Batches:  96%|█████████▌| 948/989 [8:41:03<19:45, 28.91s/it]"
          ]
        },
        {
          "name": "stdout",
          "output_type": "stream",
          "text": [
            "chunk 1 processed\n",
            "total number of chunks: 2\n",
            "chunk 0 processed\n"
          ]
        },
        {
          "name": "stderr",
          "output_type": "stream",
          "text": [
            "Processing SNP Batches:  96%|█████████▌| 949/989 [8:41:25<18:01, 27.05s/it]"
          ]
        },
        {
          "name": "stdout",
          "output_type": "stream",
          "text": [
            "chunk 1 processed\n",
            "total number of chunks: 2\n",
            "chunk 0 processed\n"
          ]
        },
        {
          "name": "stderr",
          "output_type": "stream",
          "text": [
            "Processing SNP Batches:  96%|█████████▌| 950/989 [8:41:58<18:35, 28.60s/it]"
          ]
        },
        {
          "name": "stdout",
          "output_type": "stream",
          "text": [
            "chunk 1 processed\n"
          ]
        },
        {
          "name": "stderr",
          "output_type": "stream",
          "text": [
            "Processing SNP Batches:  96%|█████████▌| 951/989 [8:42:15<15:58, 25.23s/it]"
          ]
        },
        {
          "name": "stdout",
          "output_type": "stream",
          "text": [
            "total number of chunks: 2\n",
            "total number of chunks: 2\n",
            "chunk 0 processed\n",
            "chunk 0 processed\n",
            "chunk 1 processed\n",
            "chunk 1 processed\n"
          ]
        },
        {
          "name": "stderr",
          "output_type": "stream",
          "text": [
            "Processing SNP Batches:  96%|█████████▋| 953/989 [8:43:07<15:20, 25.57s/it]"
          ]
        },
        {
          "name": "stdout",
          "output_type": "stream",
          "text": [
            "total number of chunks: 2\n",
            "chunk 0 processed\n",
            "chunk 1 processed\n"
          ]
        },
        {
          "name": "stderr",
          "output_type": "stream",
          "text": [
            "Processing SNP Batches:  96%|█████████▋| 954/989 [8:43:45<17:02, 29.22s/it]"
          ]
        },
        {
          "name": "stdout",
          "output_type": "stream",
          "text": [
            "total number of chunks: 2\n",
            "chunk 0 processed\n"
          ]
        },
        {
          "name": "stderr",
          "output_type": "stream",
          "text": [
            "Processing SNP Batches:  97%|█████████▋| 955/989 [8:44:08<15:28, 27.31s/it]"
          ]
        },
        {
          "name": "stdout",
          "output_type": "stream",
          "text": [
            "chunk 1 processed\n"
          ]
        },
        {
          "name": "stderr",
          "output_type": "stream",
          "text": [
            "Processing SNP Batches:  97%|█████████▋| 957/989 [8:44:42<11:40, 21.89s/it]"
          ]
        },
        {
          "name": "stdout",
          "output_type": "stream",
          "text": [
            "total number of chunks: 2\n",
            "chunk 0 processed\n",
            "chunk 1 processed\n"
          ]
        },
        {
          "name": "stderr",
          "output_type": "stream",
          "text": [
            "Processing SNP Batches:  97%|█████████▋| 958/989 [8:45:01<10:53, 21.07s/it]"
          ]
        },
        {
          "name": "stdout",
          "output_type": "stream",
          "text": [
            "total number of chunks: 2\n",
            "chunk 0 processed\n"
          ]
        },
        {
          "name": "stderr",
          "output_type": "stream",
          "text": [
            "Processing SNP Batches:  97%|█████████▋| 959/989 [8:45:40<13:10, 26.34s/it]"
          ]
        },
        {
          "name": "stdout",
          "output_type": "stream",
          "text": [
            "chunk 1 processed\n",
            "total number of chunks: 2\n",
            "chunk 0 processed\n"
          ]
        },
        {
          "name": "stderr",
          "output_type": "stream",
          "text": [
            "Processing SNP Batches:  97%|█████████▋| 960/989 [8:46:33<16:34, 34.31s/it]"
          ]
        },
        {
          "name": "stdout",
          "output_type": "stream",
          "text": [
            "chunk 1 processed\n",
            "total number of chunks: 2\n",
            "chunk 0 processed\n"
          ]
        },
        {
          "name": "stderr",
          "output_type": "stream",
          "text": [
            "Processing SNP Batches:  97%|█████████▋| 961/989 [8:46:56<14:27, 30.99s/it]"
          ]
        },
        {
          "name": "stdout",
          "output_type": "stream",
          "text": [
            "chunk 1 processed\n"
          ]
        },
        {
          "name": "stderr",
          "output_type": "stream",
          "text": [
            "Processing SNP Batches:  97%|█████████▋| 962/989 [8:47:05<11:04, 24.61s/it]"
          ]
        },
        {
          "name": "stdout",
          "output_type": "stream",
          "text": [
            "total number of chunks: 2\n",
            "chunk 0 processed\n"
          ]
        },
        {
          "name": "stderr",
          "output_type": "stream",
          "text": [
            "Processing SNP Batches:  97%|█████████▋| 963/989 [8:48:04<15:03, 34.75s/it]"
          ]
        },
        {
          "name": "stdout",
          "output_type": "stream",
          "text": [
            "chunk 1 processed\n",
            "total number of chunks: 3\n",
            "total number of chunks: 2\n",
            "chunk 0 processed\n",
            "chunk 1 processed\n",
            "chunk 0 processed\n",
            "chunk 1 processed\n"
          ]
        },
        {
          "name": "stderr",
          "output_type": "stream",
          "text": [
            "Processing SNP Batches:  97%|█████████▋| 964/989 [8:50:46<30:20, 72.81s/it]"
          ]
        },
        {
          "name": "stdout",
          "output_type": "stream",
          "text": [
            "chunk 2 processed\n"
          ]
        },
        {
          "name": "stderr",
          "output_type": "stream",
          "text": [
            "Processing SNP Batches:  98%|█████████▊| 965/989 [8:51:03<22:28, 56.17s/it]"
          ]
        },
        {
          "name": "stdout",
          "output_type": "stream",
          "text": [
            "total number of chunks: 2\n",
            "chunk 0 processed\n"
          ]
        },
        {
          "name": "stderr",
          "output_type": "stream",
          "text": [
            "Processing SNP Batches:  98%|█████████▊| 966/989 [8:51:19<16:56, 44.21s/it]"
          ]
        },
        {
          "name": "stdout",
          "output_type": "stream",
          "text": [
            "chunk 1 processed\n"
          ]
        },
        {
          "name": "stderr",
          "output_type": "stream",
          "text": [
            "Processing SNP Batches:  98%|█████████▊| 972/989 [8:52:51<04:59, 17.61s/it]"
          ]
        },
        {
          "name": "stdout",
          "output_type": "stream",
          "text": [
            "total number of chunks: 2\n",
            "chunk 0 processed\n"
          ]
        },
        {
          "name": "stderr",
          "output_type": "stream",
          "text": [
            "Processing SNP Batches:  98%|█████████▊| 973/989 [8:54:35<11:35, 43.44s/it]"
          ]
        },
        {
          "name": "stdout",
          "output_type": "stream",
          "text": [
            "chunk 1 processed\n"
          ]
        },
        {
          "name": "stderr",
          "output_type": "stream",
          "text": [
            "Processing SNP Batches:  99%|█████████▊| 975/989 [8:55:09<07:00, 30.07s/it]"
          ]
        },
        {
          "name": "stdout",
          "output_type": "stream",
          "text": [
            "total number of chunks: 2\n",
            "chunk 0 processed\n"
          ]
        },
        {
          "name": "stderr",
          "output_type": "stream",
          "text": [
            "Processing SNP Batches:  99%|█████████▊| 976/989 [8:55:26<05:42, 26.32s/it]"
          ]
        },
        {
          "name": "stdout",
          "output_type": "stream",
          "text": [
            "chunk 1 processed\n",
            "total number of chunks: 2\n",
            "chunk 0 processed\n"
          ]
        },
        {
          "name": "stderr",
          "output_type": "stream",
          "text": [
            "Processing SNP Batches:  99%|█████████▉| 977/989 [8:55:41<04:34, 22.85s/it]"
          ]
        },
        {
          "name": "stdout",
          "output_type": "stream",
          "text": [
            "chunk 1 processed\n",
            "total number of chunks: 2\n",
            "chunk 0 processed\n"
          ]
        },
        {
          "name": "stderr",
          "output_type": "stream",
          "text": [
            "Processing SNP Batches:  99%|█████████▉| 978/989 [8:56:03<04:07, 22.52s/it]"
          ]
        },
        {
          "name": "stdout",
          "output_type": "stream",
          "text": [
            "chunk 1 processed\n"
          ]
        },
        {
          "name": "stderr",
          "output_type": "stream",
          "text": [
            "Processing SNP Batches:  99%|█████████▉| 980/989 [8:56:45<03:21, 22.44s/it]"
          ]
        },
        {
          "name": "stdout",
          "output_type": "stream",
          "text": [
            "total number of chunks: 3\n",
            "chunk 0 processed\n",
            "chunk 1 processed\n"
          ]
        },
        {
          "name": "stderr",
          "output_type": "stream",
          "text": [
            "Processing SNP Batches:  99%|█████████▉| 981/989 [8:57:29<03:52, 29.02s/it]"
          ]
        },
        {
          "name": "stdout",
          "output_type": "stream",
          "text": [
            "chunk 2 processed\n",
            "total number of chunks: 3\n",
            "total number of chunks: 2\n",
            "chunk 0 processed\n",
            "chunk 0 processed\n",
            "chunk 1 processed\n",
            "chunk 1 processed\n"
          ]
        },
        {
          "name": "stderr",
          "output_type": "stream",
          "text": [
            "Processing SNP Batches:  99%|█████████▉| 982/989 [8:58:26<04:20, 37.19s/it]"
          ]
        },
        {
          "name": "stdout",
          "output_type": "stream",
          "text": [
            "chunk 2 processed\n",
            "total number of chunks: 2\n",
            "total number of chunks: 2\n",
            "chunk 0 processed\n",
            "chunk 1 processed\n",
            "chunk 0 processed\n"
          ]
        },
        {
          "name": "stderr",
          "output_type": "stream",
          "text": [
            "Processing SNP Batches:  99%|█████████▉| 983/989 [8:58:55<03:28, 34.82s/it]"
          ]
        },
        {
          "name": "stdout",
          "output_type": "stream",
          "text": [
            "chunk 1 processed\n",
            "total number of chunks: 2\n",
            "chunk 0 processed\n",
            "chunk 1 processed\n"
          ]
        },
        {
          "name": "stderr",
          "output_type": "stream",
          "text": [
            "Processing SNP Batches:  99%|█████████▉| 984/989 [8:59:17<02:35, 31.01s/it]"
          ]
        },
        {
          "name": "stdout",
          "output_type": "stream",
          "text": [
            "total number of chunks: 2\n",
            "total number of chunks: 2\n",
            "chunk 0 processed\n",
            "chunk 1 processed\n",
            "chunk 0 processed\n"
          ]
        },
        {
          "name": "stderr",
          "output_type": "stream",
          "text": [
            "Processing SNP Batches: 100%|█████████▉| 985/989 [9:00:47<03:14, 48.61s/it]"
          ]
        },
        {
          "name": "stdout",
          "output_type": "stream",
          "text": [
            "chunk 1 processed\n",
            "total number of chunks: 2\n",
            "chunk 0 processed\n"
          ]
        },
        {
          "name": "stderr",
          "output_type": "stream",
          "text": [
            "Processing SNP Batches: 100%|█████████▉| 986/989 [9:01:28<02:19, 46.39s/it]"
          ]
        },
        {
          "name": "stdout",
          "output_type": "stream",
          "text": [
            "chunk 1 processed\n"
          ]
        },
        {
          "name": "stderr",
          "output_type": "stream",
          "text": [
            "Processing SNP Batches: 100%|██████████| 989/989 [9:02:18<00:00, 32.90s/it]\n"
          ]
        },
        {
          "data": {
            "text/html": [
              "<div>\n",
              "<style scoped>\n",
              "    .dataframe tbody tr th:only-of-type {\n",
              "        vertical-align: middle;\n",
              "    }\n",
              "\n",
              "    .dataframe tbody tr th {\n",
              "        vertical-align: top;\n",
              "    }\n",
              "\n",
              "    .dataframe thead th {\n",
              "        text-align: right;\n",
              "    }\n",
              "</style>\n",
              "<table border=\"1\" class=\"dataframe\">\n",
              "  <thead>\n",
              "    <tr style=\"text-align: right;\">\n",
              "      <th></th>\n",
              "      <th>Chromosome</th>\n",
              "      <th>Position</th>\n",
              "      <th>Reference</th>\n",
              "      <th>Alternative</th>\n",
              "      <th>SNP_id</th>\n",
              "      <th>SNP_id_candidate</th>\n",
              "    </tr>\n",
              "  </thead>\n",
              "  <tbody>\n",
              "    <tr>\n",
              "      <th>0</th>\n",
              "      <td>chr14</td>\n",
              "      <td>63130826</td>\n",
              "      <td>T</td>\n",
              "      <td>C</td>\n",
              "      <td>rs2883863</td>\n",
              "      <td>rs1957777</td>\n",
              "    </tr>\n",
              "    <tr>\n",
              "      <th>1</th>\n",
              "      <td>chr14</td>\n",
              "      <td>63102579</td>\n",
              "      <td>A</td>\n",
              "      <td>G</td>\n",
              "      <td>rs11158473</td>\n",
              "      <td>rs1957777</td>\n",
              "    </tr>\n",
              "    <tr>\n",
              "      <th>2</th>\n",
              "      <td>chr9</td>\n",
              "      <td>130397274</td>\n",
              "      <td>G</td>\n",
              "      <td>A</td>\n",
              "      <td>rs73551756</td>\n",
              "      <td>rs73551757</td>\n",
              "    </tr>\n",
              "    <tr>\n",
              "      <th>3</th>\n",
              "      <td>chr19</td>\n",
              "      <td>46242477</td>\n",
              "      <td>A</td>\n",
              "      <td>G</td>\n",
              "      <td>rs150221996</td>\n",
              "      <td>rs117788163</td>\n",
              "    </tr>\n",
              "    <tr>\n",
              "      <th>4</th>\n",
              "      <td>chr14</td>\n",
              "      <td>88928553</td>\n",
              "      <td>C</td>\n",
              "      <td>T</td>\n",
              "      <td>rs61982566</td>\n",
              "      <td>rs7156067</td>\n",
              "    </tr>\n",
              "    <tr>\n",
              "      <th>...</th>\n",
              "      <td>...</td>\n",
              "      <td>...</td>\n",
              "      <td>...</td>\n",
              "      <td>...</td>\n",
              "      <td>...</td>\n",
              "      <td>...</td>\n",
              "    </tr>\n",
              "    <tr>\n",
              "      <th>316875</th>\n",
              "      <td>chr6</td>\n",
              "      <td>141045765</td>\n",
              "      <td>C</td>\n",
              "      <td>T</td>\n",
              "      <td>rs1856374</td>\n",
              "      <td>rs1488530</td>\n",
              "    </tr>\n",
              "    <tr>\n",
              "      <th>316876</th>\n",
              "      <td>chr6</td>\n",
              "      <td>140991230</td>\n",
              "      <td>G</td>\n",
              "      <td>A</td>\n",
              "      <td>rs1819633</td>\n",
              "      <td>rs1488530</td>\n",
              "    </tr>\n",
              "    <tr>\n",
              "      <th>316877</th>\n",
              "      <td>chr6</td>\n",
              "      <td>141066950</td>\n",
              "      <td>C</td>\n",
              "      <td>T</td>\n",
              "      <td>rs2788372</td>\n",
              "      <td>rs1488530</td>\n",
              "    </tr>\n",
              "    <tr>\n",
              "      <th>316878</th>\n",
              "      <td>chr6</td>\n",
              "      <td>141066002</td>\n",
              "      <td>T</td>\n",
              "      <td>C</td>\n",
              "      <td>rs11155161</td>\n",
              "      <td>rs1488530</td>\n",
              "    </tr>\n",
              "    <tr>\n",
              "      <th>316879</th>\n",
              "      <td>chr6</td>\n",
              "      <td>141115069</td>\n",
              "      <td>T</td>\n",
              "      <td>C</td>\n",
              "      <td>rs1906557</td>\n",
              "      <td>rs1488530</td>\n",
              "    </tr>\n",
              "  </tbody>\n",
              "</table>\n",
              "<p>316880 rows × 6 columns</p>\n",
              "</div>"
            ],
            "text/plain": [
              "       Chromosome   Position Reference Alternative       SNP_id  \\\n",
              "0           chr14   63130826         T           C    rs2883863   \n",
              "1           chr14   63102579         A           G   rs11158473   \n",
              "2            chr9  130397274         G           A   rs73551756   \n",
              "3           chr19   46242477         A           G  rs150221996   \n",
              "4           chr14   88928553         C           T   rs61982566   \n",
              "...           ...        ...       ...         ...          ...   \n",
              "316875       chr6  141045765         C           T    rs1856374   \n",
              "316876       chr6  140991230         G           A    rs1819633   \n",
              "316877       chr6  141066950         C           T    rs2788372   \n",
              "316878       chr6  141066002         T           C   rs11155161   \n",
              "316879       chr6  141115069         T           C    rs1906557   \n",
              "\n",
              "       SNP_id_candidate  \n",
              "0             rs1957777  \n",
              "1             rs1957777  \n",
              "2            rs73551757  \n",
              "3           rs117788163  \n",
              "4             rs7156067  \n",
              "...                 ...  \n",
              "316875        rs1488530  \n",
              "316876        rs1488530  \n",
              "316877        rs1488530  \n",
              "316878        rs1488530  \n",
              "316879        rs1488530  \n",
              "\n",
              "[316880 rows x 6 columns]"
            ]
          },
          "execution_count": 10,
          "metadata": {},
          "output_type": "execute_result"
        }
      ],
      "source": [
        "import pandas as pd\n",
        "from tqdm import tqdm\n",
        "from concurrent.futures import ThreadPoolExecutor, as_completed\n",
        "\n",
        "# Function to process a single SNP candidate\n",
        "def process_snp_candidate(snp_candidate):\n",
        "    local_data = []\n",
        "    try:\n",
        "        # Fetch variant information\n",
        "        list_snps = result[snp_candidate]\n",
        "        info_ld = genopyc.get_variants_info(list_snps, chunked=False, chunksize=200)\n",
        "        \n",
        "        # Extract and filter relevant data\n",
        "        for snp_id, snp_info in info_ld.items():\n",
        "            mappings = snp_info.get('mappings', [])\n",
        "            if not mappings:\n",
        "                continue\n",
        "\n",
        "            allele_string = mappings[0].get('allele_string', '')\n",
        "            location = mappings[0].get('location', '')\n",
        "            if not allele_string or not location:\n",
        "                continue\n",
        "\n",
        "            # Parse alleles and position\n",
        "            alleles = allele_string.split('/')\n",
        "            pos = location.split(':')\n",
        "            if len(pos) != 2 or len(alleles) != 2:\n",
        "                continue\n",
        "\n",
        "            chromosome = f\"chr{pos[0]}\"\n",
        "            position = int(pos[1].split('-')[0])\n",
        "            reference, alternative = alleles\n",
        "            if reference == '-' or alternative=='-':\n",
        "                continue\n",
        "\n",
        "            # Include only SNPs (single nucleotide changes)\n",
        "            if len(reference) == 1 and len(alternative) == 1:\n",
        "                local_data.append([chromosome, position, reference, alternative, snp_id, snp_candidate])\n",
        "    except Exception as e:\n",
        "        print(f\"Error processing {snp_candidate}: {e}\")\n",
        "    return local_data\n",
        "\n",
        "\n",
        "# Process keys in batches of 15\n",
        "data = []\n",
        "keys = list(result.keys())\n",
        "\n",
        "batch_size = 15\n",
        "with ThreadPoolExecutor(max_workers=batch_size) as executor:\n",
        "    for i in tqdm(range(0, len(keys), batch_size), desc=\"Processing SNP Batches\"):\n",
        "        batch = keys[i:i + batch_size]\n",
        "        future_to_key = {executor.submit(process_snp_candidate, snp): snp for snp in batch}\n",
        "        \n",
        "        for future in as_completed(future_to_key):\n",
        "            result_data = future.result()\n",
        "            if result_data:\n",
        "                data.extend(result_data)\n",
        "\n",
        "# Convert collected data into a DataFrame\n",
        "df = pd.DataFrame(data, columns=['Chromosome', 'Position', 'Reference', 'Alternative', 'SNP_id', 'SNP_id_candidate'])\n",
        "df\n"
      ]
    },
    {
      "cell_type": "markdown",
      "metadata": {},
      "source": [
        "#### Save LD dataframe"
      ]
    },
    {
      "cell_type": "code",
      "execution_count": 11,
      "metadata": {},
      "outputs": [
        {
          "name": "stdout",
          "output_type": "stream",
          "text": [
            "Done - ld df k562.sign.id.LP190708.txt saved\n"
          ]
        }
      ],
      "source": [
        "## save dataframe as pickle file \n",
        "with open(f\"/data/Dcode/gaetano/repos/AI4Genomic/data/ld/ld_df_{data_['name']}.pkl\", \"wb\") as pickle_file:\n",
        "    pickle.dump(df, pickle_file)\n",
        "\n",
        "print(f\"Done - ld df {data_['name']} saved\")"
      ]
    },
    {
      "cell_type": "markdown",
      "metadata": {},
      "source": [
        "#### Open LD dataframe"
      ]
    },
    {
      "cell_type": "code",
      "execution_count": 8,
      "metadata": {},
      "outputs": [
        {
          "name": "stdout",
          "output_type": "stream",
          "text": [
            "Loaded LD dataframe for k562.sign.id.LP190708.txt\n"
          ]
        }
      ],
      "source": [
        "## load dataframe \n",
        "with open(f\"/data/Dcode/gaetano/repos/AI4Genomic/data/ld/ld_df_{data_['name']}.pkl\", \"rb\") as pickle_file:\n",
        "    df = pickle.load(pickle_file)\n",
        "\n",
        "print(f\"Loaded LD dataframe for {data_['name']}\")"
      ]
    },
    {
      "cell_type": "markdown",
      "metadata": {},
      "source": [
        "### Get Preditions"
      ]
    },
    {
      "cell_type": "markdown",
      "metadata": {},
      "source": [
        "### Load models and tokenizers"
      ]
    },
    {
      "cell_type": "code",
      "execution_count": 9,
      "metadata": {},
      "outputs": [
        {
          "name": "stderr",
          "output_type": "stream",
          "text": [
            "The argument `trust_remote_code` is to be used with Auto classes. It has no effect here and is ignored.\n"
          ]
        },
        {
          "name": "stdout",
          "output_type": "stream",
          "text": [
            "Loading model and tokenizer for: tanoManzo/dnabert2_ft_BioS74_1kbpHG19_DHSs_H3K27AC\n",
            "Loading model and tokenizer for: tanoManzo/nucleotide-transformer-v2-50m-multi-species_ft_BioS74_1kbpHG19_DHSs_H3K27AC\n",
            "Loading model and tokenizer for: tanoManzo/nucleotide-transformer-v2-100m-multi-species_ft_BioS74_1kbpHG19_DHSs_H3K27AC\n",
            "Loading model and tokenizer for: tanoManzo/nucleotide-transformer-v2-250m-multi-species_ft_BioS74_1kbpHG19_DHSs_H3K27AC\n",
            "Loading model and tokenizer for: tanoManzo/nucleotide-transformer-v2-500m-multi-species_ft_BioS74_1kbpHG19_DHSs_H3K27AC\n",
            "Loading model and tokenizer for: tanoManzo/nucleotide-transformer-500m-1000g_ft_BioS74_1kbpHG19_DHSs_H3K27AC\n",
            "Loading model and tokenizer for: tanoManzo/nucleotide-transformer-500m-human-ref_ft_BioS74_1kbpHG19_DHSs_H3K27AC\n",
            "Loading model and tokenizer for: tanoManzo/nucleotide-transformer-2.5b-1000g_ft_BioS74_1kbpHG19_DHSs_H3K27AC\n"
          ]
        },
        {
          "data": {
            "application/vnd.jupyter.widget-view+json": {
              "model_id": "1dea3ef9f6b749899f5ba7af74f9fd05",
              "version_major": 2,
              "version_minor": 0
            },
            "text/plain": [
              "Loading checkpoint shards:   0%|          | 0/3 [00:00<?, ?it/s]"
            ]
          },
          "metadata": {},
          "output_type": "display_data"
        },
        {
          "name": "stdout",
          "output_type": "stream",
          "text": [
            "Loading model and tokenizer for: tanoManzo/nucleotide-transformer-2.5b-multi-species_ft_BioS74_1kbpHG19_DHSs_H3K27AC\n"
          ]
        },
        {
          "data": {
            "application/vnd.jupyter.widget-view+json": {
              "model_id": "cd1f12e3bb08441997160eb235ee14a0",
              "version_major": 2,
              "version_minor": 0
            },
            "text/plain": [
              "Loading checkpoint shards:   0%|          | 0/3 [00:00<?, ?it/s]"
            ]
          },
          "metadata": {},
          "output_type": "display_data"
        },
        {
          "name": "stdout",
          "output_type": "stream",
          "text": [
            "Loading model and tokenizer for: tanoManzo/Geneformer_ft_BioS74_1kbpHG19_DHSs_H3K27AC\n",
            "Loading model and tokenizer for: tanoManzo/gena-lm-bert-base-t2t_ft_BioS74_1kbpHG19_DHSs_H3K27AC\n"
          ]
        },
        {
          "name": "stderr",
          "output_type": "stream",
          "text": [
            "Some weights of BertForMaskedLM were not initialized from the model checkpoint at tanoManzo/gena-lm-bert-base-t2t_ft_BioS74_1kbpHG19_DHSs_H3K27AC and are newly initialized: ['cls.predictions.bias', 'cls.predictions.transform.LayerNorm.bias', 'cls.predictions.transform.LayerNorm.weight', 'cls.predictions.transform.dense.bias', 'cls.predictions.transform.dense.weight']\n",
            "You should probably TRAIN this model on a down-stream task to be able to use it for predictions and inference.\n"
          ]
        },
        {
          "name": "stdout",
          "output_type": "stream",
          "text": [
            "Loading model and tokenizer for: tanoManzo/gena-lm-bert-large-t2t_ft_BioS74_1kbpHG19_DHSs_H3K27AC\n"
          ]
        },
        {
          "name": "stderr",
          "output_type": "stream",
          "text": [
            "Some weights of BertForMaskedLM were not initialized from the model checkpoint at tanoManzo/gena-lm-bert-large-t2t_ft_BioS74_1kbpHG19_DHSs_H3K27AC and are newly initialized: ['cls.predictions.bias', 'cls.predictions.transform.LayerNorm.bias', 'cls.predictions.transform.LayerNorm.weight', 'cls.predictions.transform.dense.bias', 'cls.predictions.transform.dense.weight']\n",
            "You should probably TRAIN this model on a down-stream task to be able to use it for predictions and inference.\n"
          ]
        },
        {
          "name": "stdout",
          "output_type": "stream",
          "text": [
            "Loading model and tokenizer for: tanoManzo/gena-lm-bert-base-t2t-multi_ft_BioS74_1kbpHG19_DHSs_H3K27AC\n"
          ]
        },
        {
          "name": "stderr",
          "output_type": "stream",
          "text": [
            "Some weights of BertForMaskedLM were not initialized from the model checkpoint at tanoManzo/gena-lm-bert-base-t2t-multi_ft_BioS74_1kbpHG19_DHSs_H3K27AC and are newly initialized: ['cls.predictions.bias', 'cls.predictions.transform.LayerNorm.bias', 'cls.predictions.transform.LayerNorm.weight', 'cls.predictions.transform.dense.bias', 'cls.predictions.transform.dense.weight']\n",
            "You should probably TRAIN this model on a down-stream task to be able to use it for predictions and inference.\n"
          ]
        },
        {
          "name": "stdout",
          "output_type": "stream",
          "text": [
            "Loading model and tokenizer for: tanoManzo/gena-lm-bigbird-base-t2t_ft_BioS74_1kbpHG19_DHSs_H3K27AC\n",
            "Loading model and tokenizer for: tanoManzo/hyenadna-small-32k-seqlen-hf_ft_BioS74_1kbpHG19_DHSs_H3K27AC\n",
            "Loading model and tokenizer for: tanoManzo/hyenadna-medium-160k-seqlen-hf_ft_BioS74_1kbpHG19_DHSs_H3K27AC\n",
            "Loading model and tokenizer for: tanoManzo/hyenadna-medium-450k-seqlen-hf_ft_BioS74_1kbpHG19_DHSs_H3K27AC\n",
            "Loading model and tokenizer for: tanoManzo/hyenadna-large-1m-seqlen-hf_ft_BioS74_1kbpHG19_DHSs_H3K27AC\n"
          ]
        }
      ],
      "source": [
        "models_tokenizers_dict = uf.load_models_and_tokenizers(models_names, data_['BioS'], ft_model_type)"
      ]
    },
    {
      "cell_type": "markdown",
      "metadata": {},
      "source": [
        "### prediction"
      ]
    },
    {
      "cell_type": "code",
      "execution_count": 10,
      "metadata": {},
      "outputs": [
        {
          "data": {
            "text/plain": [
              "Chromosome\n",
              "chr1     23684\n",
              "chr3     23487\n",
              "chr2     23044\n",
              "chr4     22106\n",
              "chr6     21163\n",
              "chr5     19186\n",
              "chr11    18195\n",
              "chr10    17987\n",
              "chr8     17877\n",
              "chr7     16889\n",
              "chr12    15635\n",
              "chrX     13803\n",
              "chr9     12516\n",
              "chr14     9582\n",
              "chr15     9535\n",
              "chr13     9259\n",
              "chr20     7881\n",
              "chr19     7756\n",
              "chr18     7286\n",
              "chr17     6835\n",
              "chr16     6687\n",
              "chr22     3468\n",
              "chr21     3019\n",
              "Name: count, dtype: int64"
            ]
          },
          "execution_count": 10,
          "metadata": {},
          "output_type": "execute_result"
        }
      ],
      "source": [
        "condition = (df['Chromosome']!='chrHSCHR22_1_CTG7') & (df['Chromosome']!='chrHSCHR11_3_CTG1') & (df['Chromosome']!='chrHG1651_PATCH')\n",
        "\n",
        "df_filtered = df[condition]\n",
        "df_filtered.Chromosome.value_counts()"
      ]
    },
    {
      "cell_type": "code",
      "execution_count": 11,
      "metadata": {},
      "outputs": [
        {
          "name": "stdout",
          "output_type": "stream",
          "text": [
            "Processing model: dnabert2_ft_BioS74\n",
            "Processing model: nucleotide-transformer-v2-50m-multi-species_ft_BioS74\n",
            "Processing model: nucleotide-transformer-v2-100m-multi-species_ft_BioS74\n",
            "Processing model: nucleotide-transformer-v2-250m-multi-species_ft_BioS74\n",
            "Processing model: nucleotide-transformer-v2-500m-multi-species_ft_BioS74\n",
            "Processing model: nucleotide-transformer-500m-1000g_ft_BioS74\n",
            "Processing model: nucleotide-transformer-500m-human-ref_ft_BioS74\n",
            "Processing model: nucleotide-transformer-2.5b-1000g_ft_BioS74\n",
            "Processing model: nucleotide-transformer-2.5b-multi-species_ft_BioS74\n"
          ]
        }
      ],
      "source": [
        "# Extract sequences\n",
        "data_df = uf.extract_SNPsequences_from_df(df_filtered, chrom2seqHG38)\n",
        "\n",
        "# Display the DataFrame\n",
        "models_predictions = uf.get_predictions_raw(models_tokenizers_dict, data_df['Seq_Reference'].to_list(), data_df['Seq_Alternative'].to_list() , batch_size=8)\n",
        "\n",
        "  \n",
        "# Save dictionary to a pickle file\n",
        "with open(f\"/data/Dcode/gaetano/repos/AI4Genomic/data/predictions/tmp_ld_predictions_{data_['name']}.pkl\", \"wb\") as pickle_file:    \n",
        "    pickle.dump(models_predictions, pickle_file)\n",
        "\n",
        "print(f\"Done - ld prediction {data_['name']} saved\")"
      ]
    },
    {
      "cell_type": "code",
      "execution_count": null,
      "metadata": {},
      "outputs": [],
      "source": []
    }
  ],
  "metadata": {
    "colab": {
      "provenance": []
    },
    "kernelspec": {
      "display_name": "Python 3 (ipykernel)",
      "language": "python",
      "name": "python3"
    },
    "language_info": {
      "codemirror_mode": {
        "name": "ipython",
        "version": 3
      },
      "file_extension": ".py",
      "mimetype": "text/x-python",
      "name": "python",
      "nbconvert_exporter": "python",
      "pygments_lexer": "ipython3",
      "version": "3.10.8"
    }
  },
  "nbformat": 4,
  "nbformat_minor": 0
}
