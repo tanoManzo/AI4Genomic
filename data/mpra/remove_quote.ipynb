{
 "cells": [
  {
   "cell_type": "code",
   "execution_count": 3,
   "metadata": {},
   "outputs": [
    {
     "name": "stdout",
     "output_type": "stream",
     "text": [
      "CSV file saved without quotations and commas removed from 'Position' values as 'SORT1_updated.csv'.\n"
     ]
    }
   ],
   "source": [
    "import csv\n",
    "\n",
    "# Input and output file paths\n",
    "input_file = 'SORT1.csv'\n",
    "output_file = 'SORT1_updated.csv'\n",
    "\n",
    "\n",
    "# Open the input CSV file and read its content\n",
    "with open(input_file, 'r', newline='') as infile:\n",
    "    reader = csv.reader(infile)\n",
    "    \n",
    "    # Open the output CSV file to write the modified content\n",
    "    with open(output_file, 'w', newline='') as outfile:\n",
    "        writer = csv.writer(outfile)\n",
    "        \n",
    "        # Iterate over the rows in the CSV\n",
    "        for row in reader:\n",
    "            # Remove quotes from all fields in the row\n",
    "            row = [col.replace('\"', '') for col in row]\n",
    "            \n",
    "            # Remove commas from the \"Position\" field (second column)\n",
    "            if row[1].isdigit() or ',' in row[1]:  # If the \"Position\" column contains a numeric value or commas\n",
    "                row[1] = row[1].replace(',', '')  # Remove commas from Position\n",
    "            \n",
    "            # Write the modified row to the new CSV file\n",
    "            writer.writerow(row)\n",
    "\n",
    "print(f\"CSV file saved without quotations and commas removed from 'Position' values as '{output_file}'.\")"
   ]
  }
 ],
 "metadata": {
  "kernelspec": {
   "display_name": "venv",
   "language": "python",
   "name": "python3"
  },
  "language_info": {
   "codemirror_mode": {
    "name": "ipython",
    "version": 3
   },
   "file_extension": ".py",
   "mimetype": "text/x-python",
   "name": "python",
   "nbconvert_exporter": "python",
   "pygments_lexer": "ipython3",
   "version": "3.10.8"
  }
 },
 "nbformat": 4,
 "nbformat_minor": 2
}
